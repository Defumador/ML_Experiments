{
  "nbformat": 4,
  "nbformat_minor": 0,
  "metadata": {
    "colab": {
      "name": "pytorch basic experiment autoencoder myself",
      "provenance": [],
      "collapsed_sections": [],
      "machine_shape": "hm",
      "include_colab_link": true
    },
    "kernelspec": {
      "name": "python3",
      "display_name": "Python 3"
    },
    "accelerator": "GPU"
  },
  "cells": [
    {
      "cell_type": "markdown",
      "metadata": {
        "id": "view-in-github",
        "colab_type": "text"
      },
      "source": [
        "<a href=\"https://colab.research.google.com/github/manishiitg/ML_Experiments/blob/master/autoencoder/pytorch_basic_experiment_autoencoder_myself.ipynb\" target=\"_parent\"><img src=\"https://colab.research.google.com/assets/colab-badge.svg\" alt=\"Open In Colab\"/></a>"
      ]
    },
    {
      "cell_type": "markdown",
      "metadata": {
        "id": "dtG1b7UWHSK5",
        "colab_type": "text"
      },
      "source": [
        "# Autoencoder in pytorch\n",
        "\n",
        "just trying to simple FF autoencoder using pytorch"
      ]
    },
    {
      "cell_type": "code",
      "metadata": {
        "id": "Sv7z92ycAP1I",
        "colab_type": "code",
        "outputId": "b7348500-b673-4b53-ffe0-9925bf139522",
        "colab": {
          "base_uri": "https://localhost:8080/",
          "height": 34
        }
      },
      "source": [
        "import torch\n",
        "import torch.nn as nn\n",
        "import torchvision  \n",
        "import torchvision.transforms as transforms\n",
        "import numpy as np\n",
        "import matplotlib.pyplot as plt\n",
        "%matplotlib inline  \n",
        "\n",
        "device = torch.device('cuda' if torch.cuda.is_available() else 'cpu')\n",
        "print(device)\n",
        "\n"
      ],
      "execution_count": 3,
      "outputs": [
        {
          "output_type": "stream",
          "text": [
            "cuda\n"
          ],
          "name": "stdout"
        }
      ]
    },
    {
      "cell_type": "code",
      "metadata": {
        "id": "PVuYJlnXM_ES",
        "colab_type": "code",
        "colab": {}
      },
      "source": [
        "Simple Encoder/Decoder Network"
      ],
      "execution_count": 0,
      "outputs": []
    },
    {
      "cell_type": "code",
      "metadata": {
        "id": "97QcSO9JAXtO",
        "colab_type": "code",
        "colab": {}
      },
      "source": [
        "class AutoEncoderNN(nn.Module):\n",
        "    def __init__(self, input_size = 784, encoding_dim = 10):\n",
        "        super(AutoEncoderNN, self).__init__()\n",
        "        self.encoder = nn.Sequential(\n",
        "            nn.Linear(input_size, 500),\n",
        "            nn.ReLU(),\n",
        "            nn.Linear(500, 500),\n",
        "            nn.ReLU(),\n",
        "            nn.Linear(500, 2000),\n",
        "            nn.ReLU(),\n",
        "            nn.Linear(2000, encoding_dim),\n",
        "            nn.ReLU()\n",
        "        )   \n",
        "\n",
        "        self.decoder = nn.Sequential(\n",
        "            nn.Linear(encoding_dim, 2000),\n",
        "            nn.ReLU(),\n",
        "            nn.Linear(2000, 500),\n",
        "            nn.ReLU(),\n",
        "            nn.Linear(500, 500),\n",
        "            nn.ReLU(),\n",
        "            nn.Linear(500, input_size),\n",
        "            nn.Tanh()\n",
        "        )\n",
        "\n",
        "    \n",
        "    def forward(self, x):\n",
        "        out = self.encoder(x)\n",
        "        out = self.decoder(out)\n",
        "        return out\n",
        "\n",
        "    def encode(self, x):\n",
        "      return self.encoder(x)\n",
        "\n",
        "    def decode(self, x):\n",
        "      return self.decoder(x)\n",
        "\n",
        "model = AutoEncoderNN().to(device)\n",
        "\n"
      ],
      "execution_count": 0,
      "outputs": []
    },
    {
      "cell_type": "markdown",
      "metadata": {
        "id": "eIfZ1xhzNCfu",
        "colab_type": "text"
      },
      "source": [
        "MNIST Dataset"
      ]
    },
    {
      "cell_type": "code",
      "metadata": {
        "id": "2WOZMa6hEXS_",
        "colab_type": "code",
        "outputId": "fe2c676b-82b9-4d73-9626-a13fbba2f95f",
        "colab": {
          "base_uri": "https://localhost:8080/",
          "height": 331
        }
      },
      "source": [
        "\n",
        "# Hyper-parameters \n",
        "batch_size = 250\n",
        "\n",
        "transform = transforms.Compose([transforms.ToTensor(),\n",
        "                              transforms.Normalize((0.5,), (0.5,)),\n",
        "                              ])\n",
        "\n",
        "# MNIST dataset \n",
        "train_dataset = torchvision.datasets.MNIST(root='data',\n",
        "                                           train=True,\n",
        "                                           transform=transform,  \n",
        "                                           download=True)\n",
        "\n",
        "\n",
        "test_dataset = torchvision.datasets.MNIST(root='data', \n",
        "                                          train=False, \n",
        "                                          transform=transform)\n",
        "\n",
        "combine_dataset = torch.utils.data.ConcatDataset([train_dataset, test_dataset])\n",
        "\n",
        "\n",
        "# Data loader\n",
        "train_loader = torch.utils.data.DataLoader(dataset=train_dataset, \n",
        "                                           batch_size=batch_size, \n",
        "                                           shuffle=True)\n",
        "\n",
        "test_loader = torch.utils.data.DataLoader(dataset=test_dataset, \n",
        "                                          batch_size=20, \n",
        "                                          shuffle=False)\n",
        "\n",
        "combin_dataloader = torch.utils.data.DataLoader(dataset=combine_dataset, batch_size=batch_size, \n",
        "                                          shuffle=False)\n",
        "\n",
        "\n",
        "print(len(combine_dataset))\n",
        "\n",
        "print(len(combine_dataset)/batch_size)\n",
        "\n",
        "print(combine_dataset[0][0].shape)\n",
        "\n",
        "# # for epoch in range(1):\n",
        "# for i, (images, labels) in enumerate(combin_dataloader):  \n",
        "#     # Move tensors to the configured device\n",
        "#     images = images.reshape(-1, 28*28)\n",
        "#     labels = labels\n",
        "\n",
        "#     print(images.data.numpy())\n",
        "\n",
        "#     if i > 1:\n",
        "#       break\n"
      ],
      "execution_count": 5,
      "outputs": [
        {
          "output_type": "stream",
          "text": [
            "  0%|          | 0/9912422 [00:00<?, ?it/s]"
          ],
          "name": "stderr"
        },
        {
          "output_type": "stream",
          "text": [
            "Downloading http://yann.lecun.com/exdb/mnist/train-images-idx3-ubyte.gz to data/MNIST/raw/train-images-idx3-ubyte.gz\n"
          ],
          "name": "stdout"
        },
        {
          "output_type": "stream",
          "text": [
            "9920512it [00:00, 28048425.68it/s]                            \n"
          ],
          "name": "stderr"
        },
        {
          "output_type": "stream",
          "text": [
            "Extracting data/MNIST/raw/train-images-idx3-ubyte.gz to data/MNIST/raw\n"
          ],
          "name": "stdout"
        },
        {
          "output_type": "stream",
          "text": [
            "32768it [00:00, 448051.67it/s]\n",
            "  1%|          | 16384/1648877 [00:00<00:11, 145431.58it/s]"
          ],
          "name": "stderr"
        },
        {
          "output_type": "stream",
          "text": [
            "Downloading http://yann.lecun.com/exdb/mnist/train-labels-idx1-ubyte.gz to data/MNIST/raw/train-labels-idx1-ubyte.gz\n",
            "Extracting data/MNIST/raw/train-labels-idx1-ubyte.gz to data/MNIST/raw\n",
            "Downloading http://yann.lecun.com/exdb/mnist/t10k-images-idx3-ubyte.gz to data/MNIST/raw/t10k-images-idx3-ubyte.gz\n"
          ],
          "name": "stdout"
        },
        {
          "output_type": "stream",
          "text": [
            "1654784it [00:00, 7180800.29it/s]                            \n",
            "8192it [00:00, 184386.78it/s]\n"
          ],
          "name": "stderr"
        },
        {
          "output_type": "stream",
          "text": [
            "Extracting data/MNIST/raw/t10k-images-idx3-ubyte.gz to data/MNIST/raw\n",
            "Downloading http://yann.lecun.com/exdb/mnist/t10k-labels-idx1-ubyte.gz to data/MNIST/raw/t10k-labels-idx1-ubyte.gz\n",
            "Extracting data/MNIST/raw/t10k-labels-idx1-ubyte.gz to data/MNIST/raw\n",
            "Processing...\n",
            "Done!\n",
            "70000\n",
            "280.0\n",
            "torch.Size([1, 28, 28])\n"
          ],
          "name": "stdout"
        }
      ]
    },
    {
      "cell_type": "code",
      "metadata": {
        "id": "Z3wivifdFNZy",
        "colab_type": "code",
        "outputId": "85a408c2-a966-473b-c905-83b68fbd3bd7",
        "colab": {
          "base_uri": "https://localhost:8080/",
          "height": 129
        }
      },
      "source": [
        "n = 10\n",
        "plt.figure(figsize=(20, 4))\n",
        "for i in range(n):\n",
        "    # display original\n",
        "    ax = plt.subplot(2, n, i + 1)\n",
        "    plt.imshow(combine_dataset[i][0].numpy().squeeze())\n",
        "    plt.gray()\n",
        "    ax.get_xaxis().set_visible(False)\n",
        "    ax.get_yaxis().set_visible(False)\n",
        "\n",
        "plt.show()"
      ],
      "execution_count": 6,
      "outputs": [
        {
          "output_type": "display_data",
          "data": {
            "image/png": "[encoded data removed]",
            "text/plain": [
              "<Figure size 1440x288 with 10 Axes>"
            ]
          },
          "metadata": {
            "tags": []
          }
        }
      ]
    },
    {
      "cell_type": "markdown",
      "metadata": {
        "id": "OtRGd9XUNFeY",
        "colab_type": "text"
      },
      "source": [
        "Training the network"
      ]
    },
    {
      "cell_type": "code",
      "metadata": {
        "id": "Ve8sWKodi3Ud",
        "colab_type": "code",
        "outputId": "e3eb990c-a0ab-4309-fbca-96f64ef2504b",
        "colab": {
          "base_uri": "https://localhost:8080/",
          "height": 363
        }
      },
      "source": [
        "# Train the model\n",
        "total_step = len(combin_dataloader)\n",
        "num_epochs = 10\n",
        "\n",
        "learning_rate = .0005\n",
        "\n",
        "# Loss and optimizer\n",
        "# optimizer = torch.optim.SGD(model.parameters(), lr=learning_rate, momentum=.9)\n",
        "optimizer = torch.optim.Adam(\n",
        "    model.parameters(), lr=learning_rate, weight_decay=1e-5)\n",
        "\n",
        "criterion = nn.MSELoss() \n",
        "\n",
        "for epoch in range(num_epochs):\n",
        "    for i, (images, labels) in enumerate(combin_dataloader):  \n",
        "        # Move tensors to the configured device\n",
        "        images = images.reshape(-1, 28*28).to(device)\n",
        "        \n",
        "        # Forward pass\n",
        "        outputs = model(images)\n",
        "        loss = criterion(outputs, images)\n",
        "        \n",
        "        # Backward and optimize\n",
        "        optimizer.zero_grad()\n",
        "        loss.backward()\n",
        "        optimizer.step()\n",
        "        \n",
        "        if (i+1) % 100 == 0:\n",
        "            print ('Epoch [{}/{}], Step [{}/{}], Loss: {:.4f}' \n",
        "                   .format(epoch+1, num_epochs, i+1, total_step, loss.item()))"
      ],
      "execution_count": 7,
      "outputs": [
        {
          "output_type": "stream",
          "text": [
            "Epoch [1/10], Step [100/280], Loss: 0.2194\n",
            "Epoch [1/10], Step [200/280], Loss: 0.2086\n",
            "Epoch [2/10], Step [100/280], Loss: 0.1684\n",
            "Epoch [2/10], Step [200/280], Loss: 0.1676\n",
            "Epoch [3/10], Step [100/280], Loss: 0.1350\n",
            "Epoch [3/10], Step [200/280], Loss: 0.1479\n",
            "Epoch [4/10], Step [100/280], Loss: 0.1231\n",
            "Epoch [4/10], Step [200/280], Loss: 0.1379\n",
            "Epoch [5/10], Step [100/280], Loss: 0.1160\n",
            "Epoch [5/10], Step [200/280], Loss: 0.1307\n",
            "Epoch [6/10], Step [100/280], Loss: 0.1104\n",
            "Epoch [6/10], Step [200/280], Loss: 0.1268\n",
            "Epoch [7/10], Step [100/280], Loss: 0.1076\n",
            "Epoch [7/10], Step [200/280], Loss: 0.1236\n",
            "Epoch [8/10], Step [100/280], Loss: 0.1046\n",
            "Epoch [8/10], Step [200/280], Loss: 0.1219\n",
            "Epoch [9/10], Step [100/280], Loss: 0.1028\n",
            "Epoch [9/10], Step [200/280], Loss: 0.1194\n",
            "Epoch [10/10], Step [100/280], Loss: 0.1010\n",
            "Epoch [10/10], Step [200/280], Loss: 0.1182\n"
          ],
          "name": "stdout"
        }
      ]
    },
    {
      "cell_type": "code",
      "metadata": {
        "id": "S2TreyF0rajJ",
        "colab_type": "code",
        "colab": {}
      },
      "source": [
        "import os.path\n",
        "if os.path.isfile('basic_autoencoer_pytorch_25_epoch.json'):\n",
        "  model.load_state_dict(torch.load(\"basic_autoencoer_pytorch_25_epoch.json\"))\n",
        "  model.eval()\n",
        "else:\n",
        "  torch.save(model.state_dict(), \"basic_autoencoer_pytorch_25_epoch.json\")"
      ],
      "execution_count": 0,
      "outputs": []
    },
    {
      "cell_type": "markdown",
      "metadata": {
        "id": "o-76Sd6uNb9_",
        "colab_type": "text"
      },
      "source": [
        "Comparing encoded images with original images"
      ]
    },
    {
      "cell_type": "code",
      "metadata": {
        "id": "EdxQhIPtto01",
        "colab_type": "code",
        "outputId": "2978d47d-1508-477c-8aec-bbd8aa0c3398",
        "colab": {
          "base_uri": "https://localhost:8080/",
          "height": 200
        }
      },
      "source": [
        "with torch.no_grad():\n",
        "  for i, (images, labels) in enumerate(test_loader):  \n",
        "    images = images.reshape(-1, 28*28).to(device)\n",
        "    outputs = model(images)\n",
        "\n",
        "    \n",
        "    n = len(images)\n",
        "    plt.figure(figsize=(20, 4))\n",
        "    for i in range(n):\n",
        "        # display original\n",
        "        ax = plt.subplot(2, n, i + 1)\n",
        "        plt.imshow(images[i].reshape(28,28).cpu().data.numpy())\n",
        "        plt.gray()\n",
        "        ax.get_xaxis().set_visible(False)\n",
        "        ax.get_yaxis().set_visible(False)\n",
        "\n",
        "        # display reconstruction\n",
        "        ax = plt.subplot(2, n, i + 1 + n)\n",
        "        plt.imshow(outputs[i].reshape(28, 28).cpu().data.numpy())\n",
        "        plt.gray()\n",
        "        ax.get_xaxis().set_visible(False)\n",
        "        ax.get_yaxis().set_visible(False)\n",
        "    plt.show()\n",
        "\n",
        "    break\n",
        "\n"
      ],
      "execution_count": 10,
      "outputs": [
        {
          "output_type": "display_data",
          "data": {
            "image/png": "[encoded data removed]",
            "text/plain": [
              "<Figure size 1440x288 with 40 Axes>"
            ]
          },
          "metadata": {
            "tags": []
          }
        }
      ]
    },
    {
      "cell_type": "code",
      "metadata": {
        "id": "tp6lpsl8zvRQ",
        "colab_type": "code",
        "outputId": "38ef068c-2392-4274-a534-c38df00a0ce8",
        "colab": {
          "base_uri": "https://localhost:8080/",
          "height": 34
        }
      },
      "source": [
        "encoded_data = None\n",
        "Y = None\n",
        "with torch.no_grad():\n",
        "  for i, (images, labels) in enumerate(combin_dataloader):  \n",
        "    images = images.reshape(-1, 28*28).to(device)\n",
        "    outputs = model.encode(images)\n",
        "    if encoded_data is None:\n",
        "      encoded_data = outputs.cpu().data.numpy()\n",
        "      Y = labels\n",
        "    else:\n",
        "      encoded_data = np.append(encoded_data, outputs.cpu().data.numpy(), axis = 0)\n",
        "      Y = np.append(Y, labels)\n",
        "\n",
        "    # if i > 10:\n",
        "    #   break\n",
        "\n",
        "\n",
        "print(encoded_data.shape)\n",
        "\n"
      ],
      "execution_count": 11,
      "outputs": [
        {
          "output_type": "stream",
          "text": [
            "(70000, 10)\n"
          ],
          "name": "stdout"
        }
      ]
    },
    {
      "cell_type": "code",
      "metadata": {
        "id": "HEv48W4RI3LK",
        "colab_type": "code",
        "colab": {}
      },
      "source": [
        "def acc(y_true, y_pred):\n",
        "    \"\"\"\n",
        "    Calculate clustering accuracy. Require scikit-learn installed\n",
        "    # Arguments\n",
        "        y: true labels, numpy.array with shape `(n_samples,)`\n",
        "        y_pred: predicted labels, numpy.array with shape `(n_samples,)`\n",
        "    # Return\n",
        "        accuracy, in [0,1]\n",
        "    \"\"\"\n",
        "    y_true = y_true.astype(np.int64)\n",
        "    assert y_pred.size == y_true.size\n",
        "    D = max(y_pred.max(), y_true.max()) + 1\n",
        "    w = np.zeros((D, D), dtype=np.int64)\n",
        "    for i in range(y_pred.size):\n",
        "        w[y_pred[i], y_true[i]] += 1\n",
        "    from sklearn.utils.linear_assignment_ import linear_assignment\n",
        "    ind = linear_assignment(w.max() - w)\n",
        "    return sum([w[i, j] for i, j in ind]) * 1.0 / y_pred.size"
      ],
      "execution_count": 0,
      "outputs": []
    },
    {
      "cell_type": "markdown",
      "metadata": {
        "id": "AHx3Ej4YNfpq",
        "colab_type": "text"
      },
      "source": [
        "Clustering of Data"
      ]
    },
    {
      "cell_type": "code",
      "metadata": {
        "id": "PocuKYOM1PZT",
        "colab_type": "code",
        "outputId": "c197098f-bd36-4104-c3e5-2e9864cc2129",
        "colab": {
          "base_uri": "https://localhost:8080/",
          "height": 357
        }
      },
      "source": [
        "from sklearn.cluster import KMeans\n",
        "X = encoded_data\n",
        "kmeans = KMeans(n_clusters=10, random_state=0).fit(X)\n",
        "Y_pred = kmeans.predict(X)\n",
        "\n",
        "print(\"kmean accuracy \" ,  acc(Y, Y_pred))\n",
        "\n",
        "plt.scatter(X[:, 0], X[:, 1], c=Y, cmap='viridis')\n",
        "\n",
        "centers = kmeans.cluster_centers_\n",
        "plt.scatter(centers[:, 0], centers[:, 1], c='black', s=100, alpha=0.5);\n",
        "\n",
        "print(centers.shape)\n"
      ],
      "execution_count": 18,
      "outputs": [
        {
          "output_type": "stream",
          "text": [
            "/usr/local/lib/python3.6/dist-packages/sklearn/utils/linear_assignment_.py:127: DeprecationWarning: The linear_assignment function is deprecated in 0.21 and will be removed from 0.23. Use scipy.optimize.linear_sum_assignment instead.\n",
            "  DeprecationWarning)\n"
          ],
          "name": "stderr"
        },
        {
          "output_type": "stream",
          "text": [
            "kmean accuracy  0.45015714285714287\n",
            "(10, 10)\n"
          ],
          "name": "stdout"
        },
        {
          "output_type": "display_data",
          "data": {
            "image/png": "[encoded data removed]",
            "text/plain": [
              "<Figure size 432x288 with 1 Axes>"
            ]
          },
          "metadata": {
            "tags": []
          }
        }
      ]
    },
    {
      "cell_type": "code",
      "metadata": {
        "id": "So-eELsT6atW",
        "colab_type": "code",
        "outputId": "c0075605-008e-46eb-c41d-de539b5dde91",
        "colab": {
          "base_uri": "https://localhost:8080/",
          "height": 129
        }
      },
      "source": [
        "n = len(centers)\n",
        "\n",
        "outputs = model.decode(torch.from_numpy(centers).to(device))\n",
        "plt.figure(figsize=(20, 4))\n",
        "for i in range(n):\n",
        "    # display original\n",
        "    ax = plt.subplot(2, n, i + 1)\n",
        "    \n",
        "    plt.imshow(outputs[i].reshape(28, 28).cpu().data.numpy())\n",
        "    plt.gray()\n",
        "    ax.get_xaxis().set_visible(False)\n",
        "    ax.get_yaxis().set_visible(False)\n"
      ],
      "execution_count": 16,
      "outputs": [
        {
          "output_type": "display_data",
          "data": {
            "image/png": "[encoded data removed]",
            "text/plain": [
              "<Figure size 1440x288 with 10 Axes>"
            ]
          },
          "metadata": {
            "tags": []
          }
        }
      ]
    },
    {
      "cell_type": "markdown",
      "metadata": {
        "id": "OBDZGXz_N6tS",
        "colab_type": "text"
      },
      "source": [
        "Accuracy is very low for clustering. This is was just an experiment, for images its better to go with CNN"
      ]
    }
  ]
}