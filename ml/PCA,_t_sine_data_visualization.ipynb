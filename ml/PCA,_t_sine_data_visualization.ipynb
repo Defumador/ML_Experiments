{
  "nbformat": 4,
  "nbformat_minor": 0,
  "metadata": {
    "colab": {
      "name": "PCA, t-sine data visualization",
      "provenance": [],
      "include_colab_link": true
    },
    "kernelspec": {
      "name": "python3",
      "display_name": "Python 3"
    }
  },
  "cells": [
    {
      "cell_type": "markdown",
      "metadata": {
        "id": "view-in-github",
        "colab_type": "text"
      },
      "source": [
        "<a href=\"https://colab.research.google.com/github/manishiitg/ML_Experments/blob/master/ml/PCA%2C_t_sine_data_visualization.ipynb\" target=\"_parent\"><img src=\"https://colab.research.google.com/assets/colab-badge.svg\" alt=\"Open In Colab\"/></a>"
      ]
    },
    {
      "cell_type": "markdown",
      "metadata": {
        "id": "P3cBlJYicC1x",
        "colab_type": "text"
      },
      "source": [
        "PCA and t-sine are different methods to reduce dimentions of data but still trying to keep the original meaning. When working with deep learning models or even word embeddings in NLP we are dealing with large vectors. It's not possible to visualize this data, our brain is not capable of visualizing in more than 3 dimention vector space but with ML we are working on much large vector space like 100D or 300D as well. Hence we need methods to reduce the dimenstions of data but still able to keep the intrensic meaning of the data intarct. PCA/t-sine are same of the basic and easy to use methods for doing so.\n",
        "Lets see them in practice  "
      ]
    },
    {
      "cell_type": "code",
      "metadata": {
        "id": "4odzqxPUC3Rb",
        "colab_type": "code",
        "outputId": "f4bb3961-5c5e-4029-d7fc-64eb30620f11",
        "colab": {
          "base_uri": "https://localhost:8080/",
          "height": 86
        }
      },
      "source": [
        "import spacy \n",
        "nlp = spacy.load(\"en_core_web_sm\")\n",
        "\n",
        "from sklearn.feature_extraction.text import TfidfVectorizer\n",
        "\n",
        "import matplotlib.pyplot as plt\n",
        "\n",
        "\n",
        "from sklearn.datasets import fetch_20newsgroups\n",
        "\n",
        "def normalize(comment, lowercase=True, remove_stopwords=True):\n",
        "    if lowercase:\n",
        "        comment = comment.lower()\n",
        "    lines = comment.splitlines()\n",
        "    lines = [x.strip(' ') for x in lines]\n",
        "    lines = [x.replace('\"', '') for x in lines]\n",
        "    lines = [x.replace('\\\\\"', '') for x in lines]\n",
        "    lines = [x.replace(u'\\xa0', u'') for x in lines]\n",
        "    comment = \" \".join(lines)\n",
        "    doc = nlp(comment)\n",
        "\n",
        "    # for token in doc:\n",
        "    #   print(token.text, token.lemma_, token.pos_, token.tag_, token.dep_,\n",
        "    #     token.shape_, token.is_alpha, token.is_stop)\n",
        "\n",
        "    words = [token for token in doc if token.is_stop !=\n",
        "             True and token.is_punct != True]\n",
        "    # return \" \".join(words)\n",
        "    lemmatized = list()\n",
        "    for word in words:\n",
        "        lemma = word.lemma_.strip()\n",
        "        if lemma:\n",
        "            lemmatized.append(lemma)\n",
        "    return \" \".join(lemmatized)\n",
        "\n",
        "news = fetch_20newsgroups(subset=\"train\")\n",
        "\n",
        "print(\"size of data: \" , len(news[\"data\"]))\n",
        "\n",
        "data_to_process = news[\"data\"][:100]\n",
        "\n",
        "clean_data  = []\n",
        "\n",
        "\n",
        "print(\"cleaning data\")\n",
        "for row in data_to_process:\n",
        "  clean_data.append(normalize(row))\n",
        "\n",
        "print(\"data cleaned\")\n",
        "\n",
        "tfidf_vectorizer = TfidfVectorizer()  \n",
        "\n",
        "tfidf_vectorizer.fit(clean_data)\n",
        "\n",
        "Xtr = tfidf_vectorizer.transform(clean_data)\n",
        "\n",
        "features = tfidf_vectorizer.get_feature_names()\n",
        "\n",
        "print(\"vector space size :\", Xtr.todense().shape[0],\"D\")\n",
        "\n"
      ],
      "execution_count": 5,
      "outputs": [
        {
          "output_type": "stream",
          "text": [
            "size of data:  11314\n",
            "cleaning data\n",
            "data cleaned\n",
            "vector space size : 100 D\n"
          ],
          "name": "stdout"
        }
      ]
    },
    {
      "cell_type": "code",
      "metadata": {
        "id": "uOH-fdBzEG5O",
        "colab_type": "code",
        "outputId": "015733bf-ab60-49df-da5b-ac15d910742d",
        "colab": {
          "base_uri": "https://localhost:8080/",
          "height": 286
        }
      },
      "source": [
        "# https://stackoverflow.com/questions/28160335/plot-a-document-tfidf-2d-graph\n",
        "\n",
        "from sklearn.decomposition import PCA\n",
        "\n",
        "X = Xtr.todense()\n",
        "\n",
        "pca = PCA(n_components=2).fit(X)\n",
        "data2D = pca.transform(X)\n",
        "\n",
        "plt.scatter(data2D[:,0], data2D[:,1])\n",
        "# plt.show()              #not required if using ipython notebook\n"
      ],
      "execution_count": 0,
      "outputs": [
        {
          "output_type": "execute_result",
          "data": {
            "text/plain": [
              "<matplotlib.collections.PathCollection at 0x7fd96f136d30>"
            ]
          },
          "metadata": {
            "tags": []
          },
          "execution_count": 3
        },
        {
          "output_type": "display_data",
          "data": {
            "image/png": "[encoded data removed]",
            "text/plain": [
              "<Figure size 432x288 with 1 Axes>"
            ]
          },
          "metadata": {
            "tags": []
          }
        }
      ]
    },
    {
      "cell_type": "markdown",
      "metadata": {
        "id": "_25J5RLodzP_",
        "colab_type": "text"
      },
      "source": [
        "Reducing 100D to 2D and plotting it "
      ]
    },
    {
      "cell_type": "code",
      "metadata": {
        "id": "MZjj7X5BEag6",
        "colab_type": "code",
        "outputId": "0af296ea-23c9-4240-a32d-342ff7414a16",
        "colab": {
          "base_uri": "https://localhost:8080/",
          "height": 286
        }
      },
      "source": [
        "\n",
        "from sklearn.cluster import KMeans\n",
        "\n",
        "kmeans = KMeans(n_clusters=2).fit(X)\n",
        "centers2D = pca.transform(kmeans.cluster_centers_)\n",
        "\n",
        "plt.scatter(centers2D[:,0], centers2D[:,1], \n",
        "            marker='x', s=200, linewidths=3, c='r')"
      ],
      "execution_count": 0,
      "outputs": [
        {
          "output_type": "execute_result",
          "data": {
            "text/plain": [
              "<matplotlib.collections.PathCollection at 0x7fd96868f358>"
            ]
          },
          "metadata": {
            "tags": []
          },
          "execution_count": 4
        },
        {
          "output_type": "display_data",
          "data": {
            "image/png": "[encoded data removed]",
            "text/plain": [
              "<Figure size 432x288 with 1 Axes>"
            ]
          },
          "metadata": {
            "tags": []
          }
        }
      ]
    },
    {
      "cell_type": "code",
      "metadata": {
        "id": "KL-8DV0XGIzZ",
        "colab_type": "code",
        "outputId": "a72b0999-15e9-4327-bb18-6621d7b20b56",
        "colab": {
          "base_uri": "https://localhost:8080/",
          "height": 286
        }
      },
      "source": [
        "# t-SNE plot\n",
        "from sklearn.manifold import TSNE\n",
        "\n",
        "embeddings = TSNE(n_components=2)\n",
        "Y = embeddings.fit_transform(X)\n",
        "plt.scatter(Y[:, 0], Y[:, 1], cmap=plt.cm.Spectral)\n",
        "# plt.show()"
      ],
      "execution_count": 0,
      "outputs": [
        {
          "output_type": "execute_result",
          "data": {
            "text/plain": [
              "<matplotlib.collections.PathCollection at 0x7fd9685ad048>"
            ]
          },
          "metadata": {
            "tags": []
          },
          "execution_count": 5
        },
        {
          "output_type": "display_data",
          "data": {
            "image/png": "[encoded data removed]",
            "text/plain": [
              "<Figure size 432x288 with 1 Axes>"
            ]
          },
          "metadata": {
            "tags": []
          }
        }
      ]
    },
    {
      "cell_type": "code",
      "metadata": {
        "id": "wboWoK5IF2H5",
        "colab_type": "code",
        "outputId": "862a69db-721e-4358-a246-14120109862a",
        "colab": {
          "base_uri": "https://localhost:8080/",
          "height": 269
        }
      },
      "source": [
        "# https://stackoverflow.com/questions/27494202/how-do-i-visualize-data-points-of-tf-idf-vectors-for-kmeans-clustering\n",
        "\n",
        "\n",
        "\n",
        "num_clusters = 10\n",
        "num_seeds = 10\n",
        "max_iterations = 300\n",
        "labels_color_map = {\n",
        "    0: '#20b2aa', 1: '#ff7373', 2: '#ffe4e1', 3: '#005073', 4: '#4d0404',\n",
        "    5: '#ccc0ba', 6: '#4700f9', 7: '#f6f900', 8: '#00f91d', 9: '#da8c49'\n",
        "}\n",
        "pca_num_components = 2\n",
        "tsne_num_components = 2\n",
        "\n",
        "# tf_idf_vectorizer = TfidfVectorizer(analyzer=\"word\", use_idf=True, smooth_idf=True, ngram_range=(2, 3))\n",
        "# tf_idf_matrix = tf_idf_vectorizer.fit_transform(texts_list)\n",
        "\n",
        "\n",
        "# create k-means model with custom config\n",
        "clustering_model = KMeans(\n",
        "    n_clusters=num_clusters,\n",
        "    max_iter=max_iterations,\n",
        "    precompute_distances=\"auto\",\n",
        "    n_jobs=-1\n",
        ")\n",
        "\n",
        "labels = clustering_model.fit_predict(Xtr)\n",
        "# print labels\n",
        "\n",
        "# ----------------------------------------------------------------------------------------------------------------------\n",
        "\n",
        "reduced_data = PCA(n_components=pca_num_components).fit_transform(X)\n",
        "# print reduced_data\n",
        "\n",
        "fig, ax = plt.subplots()\n",
        "for index, instance in enumerate(reduced_data):\n",
        "    # print instance, index, labels[index]\n",
        "    pca_comp_1, pca_comp_2 = reduced_data[index]\n",
        "    color = labels_color_map[labels[index]]\n",
        "    ax.scatter(pca_comp_1, pca_comp_2, c=color)\n",
        "# plt.show()\n",
        "\n"
      ],
      "execution_count": 0,
      "outputs": [
        {
          "output_type": "display_data",
          "data": {
            "image/png": "[encoded data removed]",
            "text/plain": [
              "<Figure size 432x288 with 1 Axes>"
            ]
          },
          "metadata": {
            "tags": []
          }
        }
      ]
    }
  ]
}