{
  "nbformat": 4,
  "nbformat_minor": 0,
  "metadata": {
    "colab": {
      "name": "pytorch getting start LR 101",
      "provenance": [],
      "collapsed_sections": [],
      "include_colab_link": true
    },
    "kernelspec": {
      "name": "python3",
      "display_name": "Python 3"
    }
  },
  "cells": [
    {
      "cell_type": "markdown",
      "metadata": {
        "id": "view-in-github",
        "colab_type": "text"
      },
      "source": [
        "<a href=\"https://colab.research.google.com/github/manishiitg/ML_Experiments/blob/master/pytorch/101/pytorch_getting_start_LR_101.ipynb\" target=\"_parent\"><img src=\"https://colab.research.google.com/assets/colab-badge.svg\" alt=\"Open In Colab\"/></a>"
      ]
    },
    {
      "cell_type": "markdown",
      "metadata": {
        "id": "3FYDfPPpK-5S",
        "colab_type": "text"
      },
      "source": [
        "# This code is to learn basic of pytoch and getting started with ML/Deep Learning"
      ]
    },
    {
      "cell_type": "code",
      "metadata": {
        "id": "eQ52HwjeHk1R",
        "colab_type": "code",
        "colab": {}
      },
      "source": [
        "#https://towardsdatascience.com/understanding-pytorch-with-an-example-a-step-by-step-tutorial-81fc5f8c4e8e\n",
        "\n",
        "import numpy as np\n",
        "%matplotlib inline\n",
        "import matplotlib.pyplot as plt\n",
        "plt.style.use('seaborn-whitegrid')\n"
      ],
      "execution_count": 0,
      "outputs": []
    },
    {
      "cell_type": "markdown",
      "metadata": {
        "id": "odiU8XhzLjhy",
        "colab_type": "text"
      },
      "source": [
        "Setting up some random data to solve a linear regression problem "
      ]
    },
    {
      "cell_type": "code",
      "metadata": {
        "id": "wpbictYiGnZq",
        "colab_type": "code",
        "outputId": "6f18a4ca-b006-473e-8d7b-3e09ab2c3aaf",
        "colab": {
          "base_uri": "https://localhost:8080/",
          "height": 279
        }
      },
      "source": [
        "\n",
        "np.random.seed(69)\n",
        "\n",
        "x = np.random.rand(100, 1)\n",
        "y = 1 + 2 * x + .1 * np.random.randn(100, 1)\n",
        "\n",
        "# Shuffles the indices\n",
        "idx = np.arange(100)\n",
        "np.random.shuffle(idx)\n",
        "\n",
        "# Uses first 80 random indices for train\n",
        "train_idx = idx[:80]\n",
        "# Uses the remaining indices for validation\n",
        "val_idx = idx[80:]\n",
        "\n",
        "# Generates train and validation sets\n",
        "x_train, y_train = x[train_idx], y[train_idx]\n",
        "x_val, y_val = x[val_idx], y[val_idx]\n",
        "\n",
        "plt.plot(x_train, y_train, 'o', color='red')\n",
        "\n",
        "\n",
        "\n",
        "\n"
      ],
      "execution_count": 3,
      "outputs": [
        {
          "output_type": "execute_result",
          "data": {
            "text/plain": [
              "[<matplotlib.lines.Line2D at 0x7fb86e838978>]"
            ]
          },
          "metadata": {
            "tags": []
          },
          "execution_count": 3
        },
        {
          "output_type": "display_data",
          "data": {
            "image/png": "[encoded data removed]",
            "text/plain": [
              "<Figure size 432x288 with 1 Axes>"
            ]
          },
          "metadata": {
            "tags": []
          }
        }
      ]
    },
    {
      "cell_type": "code",
      "metadata": {
        "id": "i2EdDJZ9IJpR",
        "colab_type": "code",
        "outputId": "876a1498-f764-4dc8-96bd-21f69d071a2d",
        "colab": {
          "base_uri": "https://localhost:8080/",
          "height": 279
        }
      },
      "source": [
        "plt.plot(x_val, y_val, 'o', color='blue')"
      ],
      "execution_count": 4,
      "outputs": [
        {
          "output_type": "execute_result",
          "data": {
            "text/plain": [
              "[<matplotlib.lines.Line2D at 0x7fb86e38f748>]"
            ]
          },
          "metadata": {
            "tags": []
          },
          "execution_count": 4
        },
        {
          "output_type": "display_data",
          "data": {
            "image/png": "[encoded data removed]",
            "text/plain": [
              "<Figure size 432x288 with 1 Axes>"
            ]
          },
          "metadata": {
            "tags": []
          }
        }
      ]
    },
    {
      "cell_type": "markdown",
      "metadata": {
        "id": "u-KVy1cgL7ZT",
        "colab_type": "text"
      },
      "source": [
        "Solving LR with simply numpy array and math"
      ]
    },
    {
      "cell_type": "code",
      "metadata": {
        "id": "eDDM0Ky-IU8G",
        "colab_type": "code",
        "outputId": "441f7f8f-a0bb-4d10-a4a3-205e420d20f4",
        "colab": {
          "base_uri": "https://localhost:8080/",
          "height": 69
        }
      },
      "source": [
        "np.random.seed(69)\n",
        "\n",
        "a = np.random.randn(1)\n",
        "b = np.random.randn(1)\n",
        "\n",
        "print(a, b)\n",
        "# Sets learning rate\n",
        "lr = 1e-1\n",
        "# Defines number of epochs\n",
        "n_epochs = 1000\n",
        "\n",
        "for epoch in range(n_epochs):\n",
        "    # Computes our model's predicted output\n",
        "    yhat = a + b * x_train\n",
        "    \n",
        "    # How wrong is our model? That's the error! \n",
        "    error = (y_train - yhat)\n",
        "    # It is a regression, so it computes mean squared error (MSE)\n",
        "    loss = (error ** 2).mean()\n",
        "\n",
        "    # Computes gradients for both \"a\" and \"b\" parameters\n",
        "    a_grad = -2 * error.mean()\n",
        "    b_grad = -2 * (x_train * error).mean()\n",
        "\n",
        "    # Updates parameters using gradients and the learning rate\n",
        "    a = a - lr * a_grad\n",
        "    b = b - lr * b_grad\n",
        "\n",
        "print(a, b)\n",
        "\n",
        "\n",
        "# Sanity Check: do we get the same results as our gradient descent?\n",
        "from sklearn.linear_model import LinearRegression\n",
        "linr = LinearRegression()\n",
        "linr.fit(x_train, y_train)\n",
        "print(linr.intercept_, linr.coef_[0])"
      ],
      "execution_count": 5,
      "outputs": [
        {
          "output_type": "stream",
          "text": [
            "[0.9155071] [-0.60354197]\n",
            "[1.00907371] [2.00651272]\n",
            "[1.00906796] [2.00652444]\n"
          ],
          "name": "stdout"
        }
      ]
    },
    {
      "cell_type": "code",
      "metadata": {
        "id": "FuKdofMmON1-",
        "colab_type": "code",
        "colab": {
          "base_uri": "https://localhost:8080/",
          "height": 242
        },
        "outputId": "2306476b-ef8d-4a24-b8f3-1c3c5a06d7fd"
      },
      "source": [
        "!pip install torchviz"
      ],
      "execution_count": 7,
      "outputs": [
        {
          "output_type": "stream",
          "text": [
            "Collecting torchviz\n",
            "\u001b[?25l  Downloading https://files.pythonhosted.org/packages/8f/8e/a9630c7786b846d08b47714dd363a051f5e37b4ea0e534460d8cdfc1644b/torchviz-0.0.1.tar.gz (41kB)\n",
            "\r\u001b[K     |████████                        | 10kB 18.5MB/s eta 0:00:01\r\u001b[K     |████████████████                | 20kB 1.7MB/s eta 0:00:01\r\u001b[K     |███████████████████████▉        | 30kB 2.4MB/s eta 0:00:01\r\u001b[K     |███████████████████████████████▉| 40kB 1.6MB/s eta 0:00:01\r\u001b[K     |████████████████████████████████| 51kB 1.6MB/s \n",
            "\u001b[?25hRequirement already satisfied: torch in /usr/local/lib/python3.6/dist-packages (from torchviz) (1.3.0+cu100)\n",
            "Requirement already satisfied: graphviz in /usr/local/lib/python3.6/dist-packages (from torchviz) (0.10.1)\n",
            "Requirement already satisfied: numpy in /usr/local/lib/python3.6/dist-packages (from torch->torchviz) (1.17.3)\n",
            "Building wheels for collected packages: torchviz\n",
            "  Building wheel for torchviz (setup.py) ... \u001b[?25l\u001b[?25hdone\n",
            "  Created wheel for torchviz: filename=torchviz-0.0.1-cp36-none-any.whl size=3520 sha256=9a824201876bae20c8ed6b925a09105f727ea936b9117fca1b9cdae9d471c104\n",
            "  Stored in directory: /root/.cache/pip/wheels/2a/c2/c5/b8b4d0f7992c735f6db5bfa3c5f354cf36502037ca2b585667\n",
            "Successfully built torchviz\n",
            "Installing collected packages: torchviz\n",
            "Successfully installed torchviz-0.0.1\n"
          ],
          "name": "stdout"
        }
      ]
    },
    {
      "cell_type": "code",
      "metadata": {
        "id": "NHeEot40KrEa",
        "colab_type": "code",
        "outputId": "da9e264e-13ad-4d29-c505-0764ebb5cdd7",
        "colab": {
          "base_uri": "https://localhost:8080/",
          "height": 1000
        }
      },
      "source": [
        "import torch\n",
        "import torch.optim as optim\n",
        "import torch.nn as nn\n",
        "from torchviz import make_dot\n",
        "\n",
        "device = 'cuda' if torch.cuda.is_available() else 'cpu'\n",
        "print(device)\n",
        "\n",
        "# Our data was in Numpy arrays, but we need to transform them into PyTorch's Tensors\n",
        "# and then we send them to the chosen device\n",
        "x_train_tensor = torch.from_numpy(x_train).float().to(device)\n",
        "y_train_tensor = torch.from_numpy(y_train).float().to(device)\n",
        "\n",
        "# Here we can see the difference - notice that .type() is more useful\n",
        "# since it also tells us WHERE the tensor is (device)\n",
        "print(type(x_train), type(x_train_tensor), x_train_tensor.type())\n",
        "\n",
        "torch.manual_seed(69)\n",
        "a = torch.randn(1, requires_grad=True, dtype=torch.float, device=device)\n",
        "b = torch.randn(1, requires_grad=True, dtype=torch.float, device=device)\n",
        "print(\"initial values of a,b\")\n",
        "print(a, b)\n",
        "\n",
        "n_epochs = 100\n",
        "\n",
        "for epoch in range(n_epochs):\n",
        "    yhat = a + b * x_train_tensor\n",
        "    error = y_train_tensor - yhat\n",
        "    loss = (error ** 2).mean()\n",
        "\n",
        "    print(\"gradient before: \", a.grad,b.grad)\n",
        "\n",
        "    # We just tell PyTorch to work its way BACKWARDS from the specified loss!\n",
        "    # backward() function automatically calculates gradients for all variables which has requires_grad=True set\n",
        "    # loss is a variable which is associated to a,b using the loss we defined above\n",
        "    # loss => error => yhat => a,b\n",
        "    loss.backward()\n",
        "    # Let's check the computed gradients...\n",
        "    print(\"gradient after:\", a.grad,b.grad)\n",
        "\n",
        "    with torch.no_grad():  # doing this i.e no_grad because we don't want to pytorch to store the gradients again \n",
        "      a -= lr * a.grad\n",
        "      b -= lr * b.grad\n",
        "      # we update the variables \n",
        "\n",
        "    a.grad.zero_()\n",
        "    b.grad.zero_()\n",
        "    # setting gradients to zero again\n",
        "    \n",
        "print(\"final values\", a, b)\n",
        "\n",
        "# this is one of the most critical and fundamental packages of pytorch https://pytorch.org/tutorials/beginner/blitz/autograd_tutorial.html \n",
        "# called \"autograd\""
      ],
      "execution_count": 12,
      "outputs": [
        {
          "output_type": "stream",
          "text": [
            "cpu\n",
            "<class 'numpy.ndarray'> <class 'torch.Tensor'> torch.FloatTensor\n",
            "initial values of a,b\n",
            "tensor([-0.5259], requires_grad=True) tensor([-2.6043], requires_grad=True)\n",
            "gradient before:  None None\n",
            "gradient after: tensor([-7.3181]) tensor([-4.0500])\n",
            "gradient before:  tensor([0.]) tensor([0.])\n",
            "gradient after: tensor([-5.4814]) tensor([-3.1442])\n",
            "gradient before:  tensor([0.]) tensor([0.])\n",
            "gradient after: tensor([-4.0954]) tensor([-2.4594])\n",
            "gradient before:  tensor([0.]) tensor([0.])\n",
            "gradient after: tensor([-3.0497]) tensor([-1.9415])\n",
            "gradient before:  tensor([0.]) tensor([0.])\n",
            "gradient after: tensor([-2.2609]) tensor([-1.5495])\n",
            "gradient before:  tensor([0.]) tensor([0.])\n",
            "gradient after: tensor([-1.6659]) tensor([-1.2527])\n",
            "gradient before:  tensor([0.]) tensor([0.])\n",
            "gradient after: tensor([-1.2173]) tensor([-1.0276])\n",
            "gradient before:  tensor([0.]) tensor([0.])\n",
            "gradient after: tensor([-0.8792]) tensor([-0.8567])\n",
            "gradient before:  tensor([0.]) tensor([0.])\n",
            "gradient after: tensor([-0.6244]) tensor([-0.7267])\n",
            "gradient before:  tensor([0.]) tensor([0.])\n",
            "gradient after: tensor([-0.4326]) tensor([-0.6276])\n",
            "gradient before:  tensor([0.]) tensor([0.])\n",
            "gradient after: tensor([-0.2882]) tensor([-0.5519])\n",
            "gradient before:  tensor([0.]) tensor([0.])\n",
            "gradient after: tensor([-0.1797]) tensor([-0.4938])\n",
            "gradient before:  tensor([0.]) tensor([0.])\n",
            "gradient after: tensor([-0.0983]) tensor([-0.4490])\n",
            "gradient before:  tensor([0.]) tensor([0.])\n",
            "gradient after: tensor([-0.0373]) tensor([-0.4143])\n",
            "gradient before:  tensor([0.]) tensor([0.])\n",
            "gradient after: tensor([0.0083]) tensor([-0.3871])\n",
            "gradient before:  tensor([0.]) tensor([0.])\n",
            "gradient after: tensor([0.0423]) tensor([-0.3658])\n",
            "gradient before:  tensor([0.]) tensor([0.])\n",
            "gradient after: tensor([0.0676]) tensor([-0.3488])\n",
            "gradient before:  tensor([0.]) tensor([0.])\n",
            "gradient after: tensor([0.0862]) tensor([-0.3351])\n",
            "gradient before:  tensor([0.]) tensor([0.])\n",
            "gradient after: tensor([0.0998]) tensor([-0.3238])\n",
            "gradient before:  tensor([0.]) tensor([0.])\n",
            "gradient after: tensor([0.1097]) tensor([-0.3145])\n",
            "gradient before:  tensor([0.]) tensor([0.])\n",
            "gradient after: tensor([0.1167]) tensor([-0.3067])\n",
            "gradient before:  tensor([0.]) tensor([0.])\n",
            "gradient after: tensor([0.1216]) tensor([-0.2999])\n",
            "gradient before:  tensor([0.]) tensor([0.])\n",
            "gradient after: tensor([0.1249]) tensor([-0.2940])\n",
            "gradient before:  tensor([0.]) tensor([0.])\n",
            "gradient after: tensor([0.1270]) tensor([-0.2887])\n",
            "gradient before:  tensor([0.]) tensor([0.])\n",
            "gradient after: tensor([0.1282]) tensor([-0.2839])\n",
            "gradient before:  tensor([0.]) tensor([0.])\n",
            "gradient after: tensor([0.1287]) tensor([-0.2795])\n",
            "gradient before:  tensor([0.]) tensor([0.])\n",
            "gradient after: tensor([0.1287]) tensor([-0.2753])\n",
            "gradient before:  tensor([0.]) tensor([0.])\n",
            "gradient after: tensor([0.1284]) tensor([-0.2715])\n",
            "gradient before:  tensor([0.]) tensor([0.])\n",
            "gradient after: tensor([0.1277]) tensor([-0.2678])\n",
            "gradient before:  tensor([0.]) tensor([0.])\n",
            "gradient after: tensor([0.1268]) tensor([-0.2642])\n",
            "gradient before:  tensor([0.]) tensor([0.])\n",
            "gradient after: tensor([0.1258]) tensor([-0.2608])\n",
            "gradient before:  tensor([0.]) tensor([0.])\n",
            "gradient after: tensor([0.1247]) tensor([-0.2575])\n",
            "gradient before:  tensor([0.]) tensor([0.])\n",
            "gradient after: tensor([0.1235]) tensor([-0.2543])\n",
            "gradient before:  tensor([0.]) tensor([0.])\n",
            "gradient after: tensor([0.1222]) tensor([-0.2511])\n",
            "gradient before:  tensor([0.]) tensor([0.])\n",
            "gradient after: tensor([0.1209]) tensor([-0.2480])\n",
            "gradient before:  tensor([0.]) tensor([0.])\n",
            "gradient after: tensor([0.1196]) tensor([-0.2450])\n",
            "gradient before:  tensor([0.]) tensor([0.])\n",
            "gradient after: tensor([0.1182]) tensor([-0.2420])\n",
            "gradient before:  tensor([0.]) tensor([0.])\n",
            "gradient after: tensor([0.1169]) tensor([-0.2390])\n",
            "gradient before:  tensor([0.]) tensor([0.])\n",
            "gradient after: tensor([0.1155]) tensor([-0.2361])\n",
            "gradient before:  tensor([0.]) tensor([0.])\n",
            "gradient after: tensor([0.1142]) tensor([-0.2333])\n",
            "gradient before:  tensor([0.]) tensor([0.])\n",
            "gradient after: tensor([0.1128]) tensor([-0.2305])\n",
            "gradient before:  tensor([0.]) tensor([0.])\n",
            "gradient after: tensor([0.1115]) tensor([-0.2277])\n",
            "gradient before:  tensor([0.]) tensor([0.])\n",
            "gradient after: tensor([0.1102]) tensor([-0.2250])\n",
            "gradient before:  tensor([0.]) tensor([0.])\n",
            "gradient after: tensor([0.1089]) tensor([-0.2222])\n",
            "gradient before:  tensor([0.]) tensor([0.])\n",
            "gradient after: tensor([0.1076]) tensor([-0.2196])\n",
            "gradient before:  tensor([0.]) tensor([0.])\n",
            "gradient after: tensor([0.1063]) tensor([-0.2169])\n",
            "gradient before:  tensor([0.]) tensor([0.])\n",
            "gradient after: tensor([0.1050]) tensor([-0.2143])\n",
            "gradient before:  tensor([0.]) tensor([0.])\n",
            "gradient after: tensor([0.1038]) tensor([-0.2117])\n",
            "gradient before:  tensor([0.]) tensor([0.])\n",
            "gradient after: tensor([0.1025]) tensor([-0.2092])\n",
            "gradient before:  tensor([0.]) tensor([0.])\n",
            "gradient after: tensor([0.1013]) tensor([-0.2067])\n",
            "gradient before:  tensor([0.]) tensor([0.])\n",
            "gradient after: tensor([0.1001]) tensor([-0.2042])\n",
            "gradient before:  tensor([0.]) tensor([0.])\n",
            "gradient after: tensor([0.0989]) tensor([-0.2018])\n",
            "gradient before:  tensor([0.]) tensor([0.])\n",
            "gradient after: tensor([0.0977]) tensor([-0.1993])\n",
            "gradient before:  tensor([0.]) tensor([0.])\n",
            "gradient after: tensor([0.0965]) tensor([-0.1969])\n",
            "gradient before:  tensor([0.]) tensor([0.])\n",
            "gradient after: tensor([0.0954]) tensor([-0.1946])\n",
            "gradient before:  tensor([0.]) tensor([0.])\n",
            "gradient after: tensor([0.0942]) tensor([-0.1922])\n",
            "gradient before:  tensor([0.]) tensor([0.])\n",
            "gradient after: tensor([0.0931]) tensor([-0.1899])\n",
            "gradient before:  tensor([0.]) tensor([0.])\n",
            "gradient after: tensor([0.0920]) tensor([-0.1876])\n",
            "gradient before:  tensor([0.]) tensor([0.])\n",
            "gradient after: tensor([0.0909]) tensor([-0.1854])\n",
            "gradient before:  tensor([0.]) tensor([0.])\n",
            "gradient after: tensor([0.0898]) tensor([-0.1832])\n",
            "gradient before:  tensor([0.]) tensor([0.])\n",
            "gradient after: tensor([0.0887]) tensor([-0.1810])\n",
            "gradient before:  tensor([0.]) tensor([0.])\n",
            "gradient after: tensor([0.0876]) tensor([-0.1788])\n",
            "gradient before:  tensor([0.]) tensor([0.])\n",
            "gradient after: tensor([0.0866]) tensor([-0.1766])\n",
            "gradient before:  tensor([0.]) tensor([0.])\n",
            "gradient after: tensor([0.0855]) tensor([-0.1745])\n",
            "gradient before:  tensor([0.]) tensor([0.])\n",
            "gradient after: tensor([0.0845]) tensor([-0.1724])\n",
            "gradient before:  tensor([0.]) tensor([0.])\n",
            "gradient after: tensor([0.0835]) tensor([-0.1704])\n",
            "gradient before:  tensor([0.]) tensor([0.])\n",
            "gradient after: tensor([0.0825]) tensor([-0.1683])\n",
            "gradient before:  tensor([0.]) tensor([0.])\n",
            "gradient after: tensor([0.0815]) tensor([-0.1663])\n",
            "gradient before:  tensor([0.]) tensor([0.])\n",
            "gradient after: tensor([0.0805]) tensor([-0.1643])\n",
            "gradient before:  tensor([0.]) tensor([0.])\n",
            "gradient after: tensor([0.0796]) tensor([-0.1623])\n",
            "gradient before:  tensor([0.]) tensor([0.])\n",
            "gradient after: tensor([0.0786]) tensor([-0.1604])\n",
            "gradient before:  tensor([0.]) tensor([0.])\n",
            "gradient after: tensor([0.0777]) tensor([-0.1584])\n",
            "gradient before:  tensor([0.]) tensor([0.])\n",
            "gradient after: tensor([0.0767]) tensor([-0.1565])\n",
            "gradient before:  tensor([0.]) tensor([0.])\n",
            "gradient after: tensor([0.0758]) tensor([-0.1547])\n",
            "gradient before:  tensor([0.]) tensor([0.])\n",
            "gradient after: tensor([0.0749]) tensor([-0.1528])\n",
            "gradient before:  tensor([0.]) tensor([0.])\n",
            "gradient after: tensor([0.0740]) tensor([-0.1510])\n",
            "gradient before:  tensor([0.]) tensor([0.])\n",
            "gradient after: tensor([0.0731]) tensor([-0.1492])\n",
            "gradient before:  tensor([0.]) tensor([0.])\n",
            "gradient after: tensor([0.0722]) tensor([-0.1474])\n",
            "gradient before:  tensor([0.]) tensor([0.])\n",
            "gradient after: tensor([0.0714]) tensor([-0.1456])\n",
            "gradient before:  tensor([0.]) tensor([0.])\n",
            "gradient after: tensor([0.0705]) tensor([-0.1439])\n",
            "gradient before:  tensor([0.]) tensor([0.])\n",
            "gradient after: tensor([0.0697]) tensor([-0.1421])\n",
            "gradient before:  tensor([0.]) tensor([0.])\n",
            "gradient after: tensor([0.0688]) tensor([-0.1404])\n",
            "gradient before:  tensor([0.]) tensor([0.])\n",
            "gradient after: tensor([0.0680]) tensor([-0.1387])\n",
            "gradient before:  tensor([0.]) tensor([0.])\n",
            "gradient after: tensor([0.0672]) tensor([-0.1371])\n",
            "gradient before:  tensor([0.]) tensor([0.])\n",
            "gradient after: tensor([0.0664]) tensor([-0.1354])\n",
            "gradient before:  tensor([0.]) tensor([0.])\n",
            "gradient after: tensor([0.0656]) tensor([-0.1338])\n",
            "gradient before:  tensor([0.]) tensor([0.])\n",
            "gradient after: tensor([0.0648]) tensor([-0.1322])\n",
            "gradient before:  tensor([0.]) tensor([0.])\n",
            "gradient after: tensor([0.0640]) tensor([-0.1306])\n",
            "gradient before:  tensor([0.]) tensor([0.])\n",
            "gradient after: tensor([0.0632]) tensor([-0.1290])\n",
            "gradient before:  tensor([0.]) tensor([0.])\n",
            "gradient after: tensor([0.0625]) tensor([-0.1275])\n",
            "gradient before:  tensor([0.]) tensor([0.])\n",
            "gradient after: tensor([0.0617]) tensor([-0.1260])\n",
            "gradient before:  tensor([0.]) tensor([0.])\n",
            "gradient after: tensor([0.0610]) tensor([-0.1244])\n",
            "gradient before:  tensor([0.]) tensor([0.])\n",
            "gradient after: tensor([0.0603]) tensor([-0.1229])\n",
            "gradient before:  tensor([0.]) tensor([0.])\n",
            "gradient after: tensor([0.0595]) tensor([-0.1215])\n",
            "gradient before:  tensor([0.]) tensor([0.])\n",
            "gradient after: tensor([0.0588]) tensor([-0.1200])\n",
            "gradient before:  tensor([0.]) tensor([0.])\n",
            "gradient after: tensor([0.0581]) tensor([-0.1186])\n",
            "gradient before:  tensor([0.]) tensor([0.])\n",
            "gradient after: tensor([0.0574]) tensor([-0.1171])\n",
            "gradient before:  tensor([0.]) tensor([0.])\n",
            "gradient after: tensor([0.0567]) tensor([-0.1157])\n",
            "gradient before:  tensor([0.]) tensor([0.])\n",
            "gradient after: tensor([0.0560]) tensor([-0.1143])\n",
            "gradient before:  tensor([0.]) tensor([0.])\n",
            "gradient after: tensor([0.0554]) tensor([-0.1130])\n",
            "final values tensor([1.4646], requires_grad=True) tensor([1.0770], requires_grad=True)\n"
          ],
          "name": "stdout"
        }
      ]
    },
    {
      "cell_type": "markdown",
      "metadata": {
        "id": "ngEdpx-VP-d3",
        "colab_type": "text"
      },
      "source": [
        "Pytorch Dynamic Computations Graphs\n",
        "\n",
        "https://ai.stackexchange.com/questions/3801/what-is-a-dynamic-computational-graph"
      ]
    },
    {
      "cell_type": "code",
      "metadata": {
        "id": "A23GnvHvM4K7",
        "colab_type": "code",
        "colab": {}
      },
      "source": [
        "torch.manual_seed(42)\n",
        "a = torch.randn(1, requires_grad=True, dtype=torch.float, device=device)\n",
        "b = torch.randn(1, requires_grad=True, dtype=torch.float, device=device)\n",
        "\n",
        "yhat = a + b * x_train_tensor\n",
        "error = y_train_tensor - yhat\n",
        "loss = (error ** 2).mean()"
      ],
      "execution_count": 0,
      "outputs": []
    },
    {
      "cell_type": "code",
      "metadata": {
        "id": "vArhzmMPNNnk",
        "colab_type": "code",
        "outputId": "dda79ae2-49db-4505-a31d-6c2b6a49969b",
        "colab": {
          "base_uri": "https://localhost:8080/",
          "height": 249
        }
      },
      "source": [
        "make_dot(yhat) "
      ],
      "execution_count": 0,
      "outputs": [
        {
          "output_type": "execute_result",
          "data": {
            "text/plain": [
              "<graphviz.dot.Digraph at 0x7fe6e9616f28>"
            ],
            "image/svg+xml": "<?xml version=\"1.0\" encoding=\"UTF-8\" standalone=\"no\"?>\n<!DOCTYPE svg PUBLIC \"-//W3C//DTD SVG 1.1//EN\"\n \"http://www.w3.org/Graphics/SVG/1.1/DTD/svg11.dtd\">\n<!-- Generated by graphviz version 2.40.1 (20161225.0304)\n -->\n<!-- Title: %3 Pages: 1 -->\n<svg width=\"172pt\" height=\"171pt\"\n viewBox=\"0.00 0.00 171.50 171.00\" xmlns=\"http://www.w3.org/2000/svg\" xmlns:xlink=\"http://www.w3.org/1999/xlink\">\n<g id=\"graph0\" class=\"graph\" transform=\"scale(1 1) rotate(0) translate(4 167)\">\n<title>%3</title>\n<polygon fill=\"#ffffff\" stroke=\"transparent\" points=\"-4,4 -4,-167 167.5,-167 167.5,4 -4,4\"/>\n<!-- 140629734678992 -->\n<g id=\"node1\" class=\"node\">\n<title>140629734678992</title>\n<polygon fill=\"#caff70\" stroke=\"#000000\" points=\"118,-21 26,-21 26,0 118,0 118,-21\"/>\n<text text-anchor=\"middle\" x=\"72\" y=\"-7.4\" font-family=\"Times,serif\" font-size=\"12.00\" fill=\"#000000\">AddBackward0</text>\n</g>\n<!-- 140629734679272 -->\n<g id=\"node2\" class=\"node\">\n<title>140629734679272</title>\n<polygon fill=\"#add8e6\" stroke=\"#000000\" points=\"54,-92 0,-92 0,-57 54,-57 54,-92\"/>\n<text text-anchor=\"middle\" x=\"27\" y=\"-64.4\" font-family=\"Times,serif\" font-size=\"12.00\" fill=\"#000000\"> (1)</text>\n</g>\n<!-- 140629734679272&#45;&gt;140629734678992 -->\n<g id=\"edge1\" class=\"edge\">\n<title>140629734679272&#45;&gt;140629734678992</title>\n<path fill=\"none\" stroke=\"#000000\" d=\"M39.535,-56.6724C45.4798,-48.2176 52.5878,-38.1085 58.6352,-29.5078\"/>\n<polygon fill=\"#000000\" stroke=\"#000000\" points=\"61.5714,-31.4169 64.4601,-21.2234 55.8452,-27.3906 61.5714,-31.4169\"/>\n</g>\n<!-- 140629734679384 -->\n<g id=\"node3\" class=\"node\">\n<title>140629734679384</title>\n<polygon fill=\"#d3d3d3\" stroke=\"#000000\" points=\"163.5,-85 72.5,-85 72.5,-64 163.5,-64 163.5,-85\"/>\n<text text-anchor=\"middle\" x=\"118\" y=\"-71.4\" font-family=\"Times,serif\" font-size=\"12.00\" fill=\"#000000\">MulBackward0</text>\n</g>\n<!-- 140629734679384&#45;&gt;140629734678992 -->\n<g id=\"edge2\" class=\"edge\">\n<title>140629734679384&#45;&gt;140629734678992</title>\n<path fill=\"none\" stroke=\"#000000\" d=\"M110.404,-63.9317C103.7191,-54.6309 93.821,-40.8597 85.7479,-29.6276\"/>\n<polygon fill=\"#000000\" stroke=\"#000000\" points=\"88.4395,-27.3753 79.761,-21.2979 82.7553,-31.4608 88.4395,-27.3753\"/>\n</g>\n<!-- 140629734679216 -->\n<g id=\"node4\" class=\"node\">\n<title>140629734679216</title>\n<polygon fill=\"#add8e6\" stroke=\"#000000\" points=\"145,-163 91,-163 91,-128 145,-128 145,-163\"/>\n<text text-anchor=\"middle\" x=\"118\" y=\"-135.4\" font-family=\"Times,serif\" font-size=\"12.00\" fill=\"#000000\"> (1)</text>\n</g>\n<!-- 140629734679216&#45;&gt;140629734679384 -->\n<g id=\"edge3\" class=\"edge\">\n<title>140629734679216&#45;&gt;140629734679384</title>\n<path fill=\"none\" stroke=\"#000000\" d=\"M118,-127.9494C118,-118.058 118,-105.6435 118,-95.2693\"/>\n<polygon fill=\"#000000\" stroke=\"#000000\" points=\"121.5001,-95.0288 118,-85.0288 114.5001,-95.0289 121.5001,-95.0288\"/>\n</g>\n</g>\n</svg>\n"
          },
          "metadata": {
            "tags": []
          },
          "execution_count": 25
        }
      ]
    },
    {
      "cell_type": "code",
      "metadata": {
        "id": "z7sQqlwuNPMF",
        "colab_type": "code",
        "outputId": "8a91cd9a-46c2-4cc6-82ee-3edb5bdee265",
        "colab": {
          "base_uri": "https://localhost:8080/",
          "height": 325
        }
      },
      "source": [
        "make_dot(error) "
      ],
      "execution_count": 0,
      "outputs": [
        {
          "output_type": "execute_result",
          "data": {
            "text/plain": [
              "<graphviz.dot.Digraph at 0x7fe6e9616198>"
            ],
            "image/svg+xml": "<?xml version=\"1.0\" encoding=\"UTF-8\" standalone=\"no\"?>\n<!DOCTYPE svg PUBLIC \"-//W3C//DTD SVG 1.1//EN\"\n \"http://www.w3.org/Graphics/SVG/1.1/DTD/svg11.dtd\">\n<!-- Generated by graphviz version 2.40.1 (20161225.0304)\n -->\n<!-- Title: %3 Pages: 1 -->\n<svg width=\"172pt\" height=\"228pt\"\n viewBox=\"0.00 0.00 171.50 228.00\" xmlns=\"http://www.w3.org/2000/svg\" xmlns:xlink=\"http://www.w3.org/1999/xlink\">\n<g id=\"graph0\" class=\"graph\" transform=\"scale(1 1) rotate(0) translate(4 224)\">\n<title>%3</title>\n<polygon fill=\"#ffffff\" stroke=\"transparent\" points=\"-4,4 -4,-224 167.5,-224 167.5,4 -4,4\"/>\n<!-- 140629734678600 -->\n<g id=\"node1\" class=\"node\">\n<title>140629734678600</title>\n<polygon fill=\"#caff70\" stroke=\"#000000\" points=\"117,-21 27,-21 27,0 117,0 117,-21\"/>\n<text text-anchor=\"middle\" x=\"72\" y=\"-7.4\" font-family=\"Times,serif\" font-size=\"12.00\" fill=\"#000000\">SubBackward0</text>\n</g>\n<!-- 140629734678992 -->\n<g id=\"node2\" class=\"node\">\n<title>140629734678992</title>\n<polygon fill=\"#d3d3d3\" stroke=\"#000000\" points=\"118,-78 26,-78 26,-57 118,-57 118,-78\"/>\n<text text-anchor=\"middle\" x=\"72\" y=\"-64.4\" font-family=\"Times,serif\" font-size=\"12.00\" fill=\"#000000\">AddBackward0</text>\n</g>\n<!-- 140629734678992&#45;&gt;140629734678600 -->\n<g id=\"edge1\" class=\"edge\">\n<title>140629734678992&#45;&gt;140629734678600</title>\n<path fill=\"none\" stroke=\"#000000\" d=\"M72,-56.7787C72,-49.6134 72,-39.9517 72,-31.3097\"/>\n<polygon fill=\"#000000\" stroke=\"#000000\" points=\"75.5001,-31.1732 72,-21.1732 68.5001,-31.1732 75.5001,-31.1732\"/>\n</g>\n<!-- 140629734679272 -->\n<g id=\"node3\" class=\"node\">\n<title>140629734679272</title>\n<polygon fill=\"#add8e6\" stroke=\"#000000\" points=\"54,-149 0,-149 0,-114 54,-114 54,-149\"/>\n<text text-anchor=\"middle\" x=\"27\" y=\"-121.4\" font-family=\"Times,serif\" font-size=\"12.00\" fill=\"#000000\"> (1)</text>\n</g>\n<!-- 140629734679272&#45;&gt;140629734678992 -->\n<g id=\"edge2\" class=\"edge\">\n<title>140629734679272&#45;&gt;140629734678992</title>\n<path fill=\"none\" stroke=\"#000000\" d=\"M39.535,-113.6724C45.4798,-105.2176 52.5878,-95.1085 58.6352,-86.5078\"/>\n<polygon fill=\"#000000\" stroke=\"#000000\" points=\"61.5714,-88.4169 64.4601,-78.2234 55.8452,-84.3906 61.5714,-88.4169\"/>\n</g>\n<!-- 140629734679384 -->\n<g id=\"node4\" class=\"node\">\n<title>140629734679384</title>\n<polygon fill=\"#d3d3d3\" stroke=\"#000000\" points=\"163.5,-142 72.5,-142 72.5,-121 163.5,-121 163.5,-142\"/>\n<text text-anchor=\"middle\" x=\"118\" y=\"-128.4\" font-family=\"Times,serif\" font-size=\"12.00\" fill=\"#000000\">MulBackward0</text>\n</g>\n<!-- 140629734679384&#45;&gt;140629734678992 -->\n<g id=\"edge3\" class=\"edge\">\n<title>140629734679384&#45;&gt;140629734678992</title>\n<path fill=\"none\" stroke=\"#000000\" d=\"M110.404,-120.9317C103.7191,-111.6309 93.821,-97.8597 85.7479,-86.6276\"/>\n<polygon fill=\"#000000\" stroke=\"#000000\" points=\"88.4395,-84.3753 79.761,-78.2979 82.7553,-88.4608 88.4395,-84.3753\"/>\n</g>\n<!-- 140629734679216 -->\n<g id=\"node5\" class=\"node\">\n<title>140629734679216</title>\n<polygon fill=\"#add8e6\" stroke=\"#000000\" points=\"145,-220 91,-220 91,-185 145,-185 145,-220\"/>\n<text text-anchor=\"middle\" x=\"118\" y=\"-192.4\" font-family=\"Times,serif\" font-size=\"12.00\" fill=\"#000000\"> (1)</text>\n</g>\n<!-- 140629734679216&#45;&gt;140629734679384 -->\n<g id=\"edge4\" class=\"edge\">\n<title>140629734679216&#45;&gt;140629734679384</title>\n<path fill=\"none\" stroke=\"#000000\" d=\"M118,-184.9494C118,-175.058 118,-162.6435 118,-152.2693\"/>\n<polygon fill=\"#000000\" stroke=\"#000000\" points=\"121.5001,-152.0288 118,-142.0288 114.5001,-152.0289 121.5001,-152.0288\"/>\n</g>\n</g>\n</svg>\n"
          },
          "metadata": {
            "tags": []
          },
          "execution_count": 26
        }
      ]
    },
    {
      "cell_type": "code",
      "metadata": {
        "id": "2d2tk8HNNTAP",
        "colab_type": "code",
        "outputId": "6e478d82-d035-4b51-f71f-dad35aa507aa",
        "colab": {
          "base_uri": "https://localhost:8080/",
          "height": 477
        }
      },
      "source": [
        "make_dot(loss) "
      ],
      "execution_count": 0,
      "outputs": [
        {
          "output_type": "execute_result",
          "data": {
            "text/plain": [
              "<graphviz.dot.Digraph at 0x7fe6e960b6d8>"
            ],
            "image/svg+xml": "<?xml version=\"1.0\" encoding=\"UTF-8\" standalone=\"no\"?>\n<!DOCTYPE svg PUBLIC \"-//W3C//DTD SVG 1.1//EN\"\n \"http://www.w3.org/Graphics/SVG/1.1/DTD/svg11.dtd\">\n<!-- Generated by graphviz version 2.40.1 (20161225.0304)\n -->\n<!-- Title: %3 Pages: 1 -->\n<svg width=\"172pt\" height=\"342pt\"\n viewBox=\"0.00 0.00 171.50 342.00\" xmlns=\"http://www.w3.org/2000/svg\" xmlns:xlink=\"http://www.w3.org/1999/xlink\">\n<g id=\"graph0\" class=\"graph\" transform=\"scale(1 1) rotate(0) translate(4 338)\">\n<title>%3</title>\n<polygon fill=\"#ffffff\" stroke=\"transparent\" points=\"-4,4 -4,-338 167.5,-338 167.5,4 -4,4\"/>\n<!-- 140629734634216 -->\n<g id=\"node1\" class=\"node\">\n<title>140629734634216</title>\n<polygon fill=\"#caff70\" stroke=\"#000000\" points=\"121,-21 23,-21 23,0 121,0 121,-21\"/>\n<text text-anchor=\"middle\" x=\"72\" y=\"-7.4\" font-family=\"Times,serif\" font-size=\"12.00\" fill=\"#000000\">MeanBackward0</text>\n</g>\n<!-- 140629734635168 -->\n<g id=\"node2\" class=\"node\">\n<title>140629734635168</title>\n<polygon fill=\"#d3d3d3\" stroke=\"#000000\" points=\"118.5,-78 25.5,-78 25.5,-57 118.5,-57 118.5,-78\"/>\n<text text-anchor=\"middle\" x=\"72\" y=\"-64.4\" font-family=\"Times,serif\" font-size=\"12.00\" fill=\"#000000\">PowBackward0</text>\n</g>\n<!-- 140629734635168&#45;&gt;140629734634216 -->\n<g id=\"edge1\" class=\"edge\">\n<title>140629734635168&#45;&gt;140629734634216</title>\n<path fill=\"none\" stroke=\"#000000\" d=\"M72,-56.7787C72,-49.6134 72,-39.9517 72,-31.3097\"/>\n<polygon fill=\"#000000\" stroke=\"#000000\" points=\"75.5001,-31.1732 72,-21.1732 68.5001,-31.1732 75.5001,-31.1732\"/>\n</g>\n<!-- 140629734635560 -->\n<g id=\"node3\" class=\"node\">\n<title>140629734635560</title>\n<polygon fill=\"#d3d3d3\" stroke=\"#000000\" points=\"117,-135 27,-135 27,-114 117,-114 117,-135\"/>\n<text text-anchor=\"middle\" x=\"72\" y=\"-121.4\" font-family=\"Times,serif\" font-size=\"12.00\" fill=\"#000000\">SubBackward0</text>\n</g>\n<!-- 140629734635560&#45;&gt;140629734635168 -->\n<g id=\"edge2\" class=\"edge\">\n<title>140629734635560&#45;&gt;140629734635168</title>\n<path fill=\"none\" stroke=\"#000000\" d=\"M72,-113.7787C72,-106.6134 72,-96.9517 72,-88.3097\"/>\n<polygon fill=\"#000000\" stroke=\"#000000\" points=\"75.5001,-88.1732 72,-78.1732 68.5001,-88.1732 75.5001,-88.1732\"/>\n</g>\n<!-- 140629734635448 -->\n<g id=\"node4\" class=\"node\">\n<title>140629734635448</title>\n<polygon fill=\"#d3d3d3\" stroke=\"#000000\" points=\"118,-192 26,-192 26,-171 118,-171 118,-192\"/>\n<text text-anchor=\"middle\" x=\"72\" y=\"-178.4\" font-family=\"Times,serif\" font-size=\"12.00\" fill=\"#000000\">AddBackward0</text>\n</g>\n<!-- 140629734635448&#45;&gt;140629734635560 -->\n<g id=\"edge3\" class=\"edge\">\n<title>140629734635448&#45;&gt;140629734635560</title>\n<path fill=\"none\" stroke=\"#000000\" d=\"M72,-170.7787C72,-163.6134 72,-153.9517 72,-145.3097\"/>\n<polygon fill=\"#000000\" stroke=\"#000000\" points=\"75.5001,-145.1732 72,-135.1732 68.5001,-145.1732 75.5001,-145.1732\"/>\n</g>\n<!-- 140629734634104 -->\n<g id=\"node5\" class=\"node\">\n<title>140629734634104</title>\n<polygon fill=\"#add8e6\" stroke=\"#000000\" points=\"54,-263 0,-263 0,-228 54,-228 54,-263\"/>\n<text text-anchor=\"middle\" x=\"27\" y=\"-235.4\" font-family=\"Times,serif\" font-size=\"12.00\" fill=\"#000000\"> (1)</text>\n</g>\n<!-- 140629734634104&#45;&gt;140629734635448 -->\n<g id=\"edge4\" class=\"edge\">\n<title>140629734634104&#45;&gt;140629734635448</title>\n<path fill=\"none\" stroke=\"#000000\" d=\"M39.535,-227.6724C45.4798,-219.2176 52.5878,-209.1085 58.6352,-200.5078\"/>\n<polygon fill=\"#000000\" stroke=\"#000000\" points=\"61.5714,-202.4169 64.4601,-192.2234 55.8452,-198.3906 61.5714,-202.4169\"/>\n</g>\n<!-- 140629734634944 -->\n<g id=\"node6\" class=\"node\">\n<title>140629734634944</title>\n<polygon fill=\"#d3d3d3\" stroke=\"#000000\" points=\"163.5,-256 72.5,-256 72.5,-235 163.5,-235 163.5,-256\"/>\n<text text-anchor=\"middle\" x=\"118\" y=\"-242.4\" font-family=\"Times,serif\" font-size=\"12.00\" fill=\"#000000\">MulBackward0</text>\n</g>\n<!-- 140629734634944&#45;&gt;140629734635448 -->\n<g id=\"edge5\" class=\"edge\">\n<title>140629734634944&#45;&gt;140629734635448</title>\n<path fill=\"none\" stroke=\"#000000\" d=\"M110.404,-234.9317C103.7191,-225.6309 93.821,-211.8597 85.7479,-200.6276\"/>\n<polygon fill=\"#000000\" stroke=\"#000000\" points=\"88.4395,-198.3753 79.761,-192.2979 82.7553,-202.4608 88.4395,-198.3753\"/>\n</g>\n<!-- 140629734636064 -->\n<g id=\"node7\" class=\"node\">\n<title>140629734636064</title>\n<polygon fill=\"#add8e6\" stroke=\"#000000\" points=\"145,-334 91,-334 91,-299 145,-299 145,-334\"/>\n<text text-anchor=\"middle\" x=\"118\" y=\"-306.4\" font-family=\"Times,serif\" font-size=\"12.00\" fill=\"#000000\"> (1)</text>\n</g>\n<!-- 140629734636064&#45;&gt;140629734634944 -->\n<g id=\"edge6\" class=\"edge\">\n<title>140629734636064&#45;&gt;140629734634944</title>\n<path fill=\"none\" stroke=\"#000000\" d=\"M118,-298.9494C118,-289.058 118,-276.6435 118,-266.2693\"/>\n<polygon fill=\"#000000\" stroke=\"#000000\" points=\"121.5001,-266.0288 118,-256.0288 114.5001,-266.0289 121.5001,-266.0288\"/>\n</g>\n</g>\n</svg>\n"
          },
          "metadata": {
            "tags": []
          },
          "execution_count": 27
        }
      ]
    },
    {
      "cell_type": "markdown",
      "metadata": {
        "id": "ebhydRPPQpdI",
        "colab_type": "text"
      },
      "source": [
        "LR => Optmizer"
      ]
    },
    {
      "cell_type": "code",
      "metadata": {
        "id": "i1-VmFlEOKek",
        "colab_type": "code",
        "outputId": "4a349502-68c0-42cf-af18-b38cb979ed38",
        "colab": {
          "base_uri": "https://localhost:8080/",
          "height": 51
        }
      },
      "source": [
        "torch.manual_seed(42)\n",
        "a = torch.randn(1, requires_grad=True, dtype=torch.float, device=device)\n",
        "b = torch.randn(1, requires_grad=True, dtype=torch.float, device=device)\n",
        "print(a, b)\n",
        "\n",
        "lr = 1e-1\n",
        "n_epochs = 1000\n",
        "\n",
        "# Defines a SGD optimizer to update the parameters\n",
        "optimizer = optim.SGD([a, b], lr=lr)\n",
        "\n",
        "for epoch in range(n_epochs):\n",
        "    yhat = a + b * x_train_tensor\n",
        "    error = y_train_tensor - yhat\n",
        "    loss = (error ** 2).mean()\n",
        "\n",
        "    loss.backward()    \n",
        "    \n",
        "    # No more manual update!\n",
        "    # with torch.no_grad():\n",
        "    #     a -= lr * a.grad\n",
        "    #     b -= lr * b.grad\n",
        "    optimizer.step() \n",
        "    \n",
        "    # No more telling PyTorch to let gradients go!\n",
        "    # a.grad.zero_()\n",
        "    # b.grad.zero_()\n",
        "    optimizer.zero_grad()\n",
        "    \n",
        "print(a, b)"
      ],
      "execution_count": 0,
      "outputs": [
        {
          "output_type": "stream",
          "text": [
            "tensor([0.3367], requires_grad=True) tensor([0.1288], requires_grad=True)\n",
            "tensor([1.0091], requires_grad=True) tensor([2.0065], requires_grad=True)\n"
          ],
          "name": "stdout"
        }
      ]
    },
    {
      "cell_type": "markdown",
      "metadata": {
        "id": "W2QGDvY6Q3m6",
        "colab_type": "text"
      },
      "source": [
        "LR => Loss Function"
      ]
    },
    {
      "cell_type": "code",
      "metadata": {
        "id": "izpvkGz_OyGP",
        "colab_type": "code",
        "outputId": "0c5fdb61-6714-4e6f-a36e-1f037b30230d",
        "colab": {
          "base_uri": "https://localhost:8080/",
          "height": 51
        }
      },
      "source": [
        "torch.manual_seed(42)\n",
        "a = torch.randn(1, requires_grad=True, dtype=torch.float, device=device)\n",
        "b = torch.randn(1, requires_grad=True, dtype=torch.float, device=device)\n",
        "print(a, b)\n",
        "\n",
        "lr = 1e-1\n",
        "n_epochs = 1000\n",
        "\n",
        "# Defines a MSE loss function\n",
        "loss_fn = nn.MSELoss(reduction='mean')\n",
        "\n",
        "optimizer = optim.SGD([a, b], lr=lr)\n",
        "\n",
        "for epoch in range(n_epochs):\n",
        "    yhat = a + b * x_train_tensor\n",
        "    \n",
        "    # No more manual loss!\n",
        "    # error = y_tensor - yhat\n",
        "    # loss = (error ** 2).mean()\n",
        "    loss = loss_fn(y_train_tensor, yhat)\n",
        "\n",
        "    loss.backward()    \n",
        "    optimizer.step()\n",
        "    optimizer.zero_grad()\n",
        "    \n",
        "print(a, b)"
      ],
      "execution_count": 0,
      "outputs": [
        {
          "output_type": "stream",
          "text": [
            "tensor([0.3367], requires_grad=True) tensor([0.1288], requires_grad=True)\n",
            "tensor([1.0091], requires_grad=True) tensor([2.0065], requires_grad=True)\n"
          ],
          "name": "stdout"
        }
      ]
    },
    {
      "cell_type": "markdown",
      "metadata": {
        "id": "iSf335lDRr1d",
        "colab_type": "text"
      },
      "source": [
        "At this stage we have covered the very basics of pytorch and also solved LR problem using it "
      ]
    }
  ]
}