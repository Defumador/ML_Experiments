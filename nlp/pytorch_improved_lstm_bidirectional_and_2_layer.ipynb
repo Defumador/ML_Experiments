{
  "nbformat": 4,
  "nbformat_minor": 0,
  "metadata": {
    "colab": {
      "name": "pytorch improved lstm bidirectional and 2 layer",
      "provenance": [],
      "include_colab_link": true
    },
    "kernelspec": {
      "name": "python3",
      "display_name": "Python 3"
    },
    "accelerator": "GPU"
  },
  "cells": [
    {
      "cell_type": "markdown",
      "metadata": {
        "id": "view-in-github",
        "colab_type": "text"
      },
      "source": [
        "<a href=\"https://colab.research.google.com/github/manishiitg/ML_Experiments/blob/master/nlp/pytorch_improved_lstm_bidirectional_and_2_layer.ipynb\" target=\"_parent\"><img src=\"https://colab.research.google.com/assets/colab-badge.svg\" alt=\"Open In Colab\"/></a>"
      ]
    },
    {
      "cell_type": "markdown",
      "metadata": {
        "id": "Kub0k_oNFN2P",
        "colab_type": "text"
      },
      "source": [
        "using spacy for token\n",
        "\n",
        "include_lengths=True. this basically sets set length of the string as well when we fetch the batch data. Hence it will return tuple of actual vector / length.\n",
        "\n",
        "this is mainly done so that in our NN module we have length's and we can pad/pack the sequence \n",
        "\n",
        "most code taken from https://github.com/bentrevett/pytorch-sentiment-analysis/blob/master/2%20-%20Upgraded%20Sentiment%20Analysis.ipynb\n",
        "\n",
        "\n"
      ]
    },
    {
      "cell_type": "code",
      "metadata": {
        "id": "6Uwe4kW2Eu0K",
        "colab_type": "code",
        "colab": {}
      },
      "source": [
        "import torch\n",
        "from torchtext import data\n",
        "from torchtext import datasets\n",
        "\n",
        "SEED = 1234\n",
        "\n",
        "torch.manual_seed(SEED)\n",
        "torch.backends.cudnn.deterministic = True\n",
        "\n",
        "TEXT = data.Field(tokenize = 'spacy', include_lengths = True)\n",
        "LABEL = data.LabelField(dtype = torch.float)"
      ],
      "execution_count": 0,
      "outputs": []
    },
    {
      "cell_type": "code",
      "metadata": {
        "id": "uBAxGCVJGZqY",
        "colab_type": "code",
        "outputId": "2e670088-c659-419b-f059-aecfc605e8f9",
        "colab": {
          "base_uri": "https://localhost:8080/",
          "height": 51
        }
      },
      "source": [
        "from torchtext import datasets\n",
        "\n",
        "train_data, test_data = datasets.IMDB.splits(TEXT, LABEL)"
      ],
      "execution_count": 0,
      "outputs": [
        {
          "output_type": "stream",
          "text": [
            "downloading aclImdb_v1.tar.gz\n"
          ],
          "name": "stdout"
        },
        {
          "output_type": "stream",
          "text": [
            "aclImdb_v1.tar.gz: 100%|██████████| 84.1M/84.1M [00:07<00:00, 11.1MB/s]\n"
          ],
          "name": "stderr"
        }
      ]
    },
    {
      "cell_type": "code",
      "metadata": {
        "id": "tov0dkWiGn0G",
        "colab_type": "code",
        "outputId": "9f6da9c8-c053-40a2-eee4-10bac019f870",
        "colab": {
          "base_uri": "https://localhost:8080/",
          "height": 141
        }
      },
      "source": [
        "import random\n",
        "\n",
        "train_data, valid_data = train_data.split(random_state = random.seed(SEED))\n",
        "\n",
        "\n",
        "print(f'Number of training examples: {len(train_data)}')\n",
        "print(f'Number of testing examples: {len(test_data)}')\n",
        "\n",
        "print(vars(train_data.examples[0]))\n",
        "\n",
        "train_data, valid_data = train_data.split(random_state = random.seed(SEED))\n",
        "\n",
        "\n",
        "print(f'Number of training examples: {len(train_data)}')\n",
        "print(f'Number of validation examples: {len(valid_data)}')\n",
        "print(f'Number of testing examples: {len(test_data)}')"
      ],
      "execution_count": 0,
      "outputs": [
        {
          "output_type": "stream",
          "text": [
            "Number of training examples: 17500\n",
            "Number of testing examples: 25000\n",
            "{'text': ['What', \"'s\", 'in', 'here', '?', '!', 'Let', 'me', 'tell', 'you', '.', 'It', \"'s\", 'the', 'presence', 'of', '(', 'Alec', 'Baldwin', ')', '.', 'He', \"'s\", 'not', 'a', 'great', 'actor', 'but', 'maybe', 'a', 'nice', 'star', 'with', 'some', 'good', 'movies', 'which', 'this', 'is', 'not', 'one', 'of', 'them', '.', 'He', 'did', 'nothing', 'here', 'more', 'than', 'anything', 'he', 'did', 'before', 'or', 'after', '.', 'So', 'not', 'to', 'mention', '(', 'literally', '!', ')', 'the', 'matter', 'of', '(', 'Steve', 'McQueen', ')', 'being', 'at', 'the', 'same', 'role', 'in', 'the', 'original', 'because', 'I', 'do', \"n't\", 'want', 'to', 'make', 'that', 'comparison', 'in', 'the', 'first', 'place', '.', 'I', \"'m\", 'not', 'a', 'big', 'fan', 'or', 'even', 'a', 'fan', 'of', '(', 'Kim', 'Basinger', ')', ',', 'she', 'got', 'a', 'lot', 'of', 'bad', 'movies', 'on', 'her', 'and', 'even', 'at', 'her', 'best', 'she', 'looks', 'average', '!', 'And', 'it', 'gets', 'on', 'my', 'nerve', 'indeed', 'whenever', 'they', 'talk', 'about', 'her', 'seductive', 'rare', 'beauty', '!', '!', '?', '?', 'Well', ',', 'if', 'being', 'a', 'blond', 'would', 'make', 'anyone', 'captivating', 'then', 'I', \"'ll\", 'dye', 'my', 'hair', 'in', 'yellow', 'as', 'soon', 'as', 'possible', '!', 'And', 'what', 'is', 'it', 'with', 'all', 'the', 'craziness', 'over', 'miss', 'Basinger', \"'s\", 'Legs', '?', '?', '!', '!', 'It', \"'s\", 'surely', 'insanity', 'or', 'bad', 'tasting', '?', 'As', 'I', 'do', \"n't\", 'see', 'them', 'both', 'as', 'not', 'sexy', 'only', ',', 'but', 'UGLY', 'too', '!', 'And', 'if', 'you', 'hate', 'that', 'so', 'shoot', 'me', 'down', 'but', 'you', 'know', 'what', '?', '!', 'I', \"'ve\", 'just', 'watched', 'this', 'movie', 'so', 'I', \"'m\", 'dead', 'already', '!', '.', 'Yet', ',', 'what', 'would', 'make', 'you', 'really', 'suffer', 'in', 'unbearable', 'way', 'is', 'that', 'nothing', 'of', 'the', 'credits', 'goes', 'to', 'the', 'one', 'she', 'deserves', 'the', 'most', '\\x85', 'And', 'of', 'course', 'I', 'mean', '(', 'Jennifer', 'Tilly)', '..', 'Now', 'we', \"'re\", 'talking', 'about', 'a', 'true', 'genuine', 'seductive', 'chick', 'with', 'such', 'unforgettable', 'body', 'and', 'one', 'unique', 'sense', 'of', 'allurement', 'like', 'a', 'nasty', 'brunette', '(', 'Marilyn', 'Monroe', ')', 'however', 'much', 'more', 'healthier', '!', '!', '(', 'I', 'ca', \"n't\", 'help', 'it', ',', 'she', 'was', 'the', 'only', 'new', 'and', 'watchable', 'thing', 'in', 'here', '!', ')', '.', '(', 'Michael', 'Madsen', ')', 'as', 'the', 'bad', 'guy', 'was', 'much', 'appealing', 'as', 'well', 'as', 'effective', 'more', 'than', 'the', 'good', 'guys', ',', '(', 'James', 'Woods', ')', 'is', 'here', 'to', 'summarize', 'the', 'early', 'events', 'beside', 'the', 'pool', '(', 'so', 'the', 'trailer', 'would', 'be', 'by', 'his', 'voice', 'later', '!', ')', 'and', 'he', 'knew', 'before', 'all', 'that', 'this', 'is', 'a', 'whole', 'Hollywood', \"'s\", 'stuff', 'so', '\"', 'Do', 'your', 'thing', ',', 'take', 'your', 'cash', ',', 'and', 'good', 'luck', 'as', 'an', 'actor', 'in', 'other', 'movies', '!', '\"', ',', 'the', 'editing', 'gave', 'the', 'movie', 'a', 'serious', 'personality', 'along', 'with', 'violent', 'atmosphere', 'done', 'by', 'suitable', 'shining', 'cinematography', ',', 'so', 'the', 'main', 'goods', 'of', 'it', '(', 'The', 'action', ',', 'The', 'thrill', ',', '..', ')', 'are', 'here', 'and', 'fairly', 'well', '-', 'made', ',', 'though', 'any', 'echo', 'for', 'deep', 'meanings', 'about', '(', 'the', 'kinds', 'of', 'betrayal', ')', 'as', 'the', 'main', 'dramatic', 'motif', 'of', 'the', 'whole', 'thing', 'is', 'not', 'that', 'strong', 'so', 'do', \"n't\", 'wait', 'for', 'it', '.', 'OK', ',', 'it', \"'s\", 'all', 'in', 'all', 'another', 'remake', 'without', 'anything', 'special', '(', 'Except', 'Jennifer', 'Tilly', \"'s\", 'spicy', 'moments', '!', ')', 'so', 'I', 'think', 'I', 'tried', 'to', 'be', 'objective', 'as', 'much', 'as', 'I', 'could', 'therefore', 'I', 'should', \"n't\", 'end', 'my', 'review', 'saying', 'that', '(', 'Basinger', ')', 'or', 'anyone', 'here', 'did', 'better', 'than', 'this', 'movie', '..', 'It', 'would', 'be', 'an', 'insult', 'because', 'frankly', '..', 'Anything', 'is', 'better', 'than', 'this', 'movie', '!'], 'label': 'neg'}\n",
            "Number of training examples: 12250\n",
            "Number of validation examples: 5250\n",
            "Number of testing examples: 25000\n"
          ],
          "name": "stdout"
        }
      ]
    },
    {
      "cell_type": "code",
      "metadata": {
        "id": "plC-VposHoYd",
        "colab_type": "code",
        "outputId": "2f380dbe-aed9-43f9-9051-a234d2a1f8e8",
        "colab": {
          "base_uri": "https://localhost:8080/",
          "height": 51
        }
      },
      "source": [
        "from torchtext.vocab import Vectors, GloVe\n",
        "\n",
        "\n",
        "TEXT.build_vocab(train_data, vectors=GloVe(name='6B', dim=300))\n",
        "LABEL.build_vocab(train_data)"
      ],
      "execution_count": 0,
      "outputs": [
        {
          "output_type": "stream",
          "text": [
            ".vector_cache/glove.6B.zip: 862MB [06:30, 2.21MB/s]                          \n",
            "100%|█████████▉| 399800/400000 [00:46<00:00, 8737.95it/s]"
          ],
          "name": "stderr"
        }
      ]
    },
    {
      "cell_type": "code",
      "metadata": {
        "id": "w0iqoAvuNeic",
        "colab_type": "code",
        "colab": {}
      },
      "source": [
        "BATCH_SIZE = 64\n",
        "\n",
        "device = torch.device('cuda' if torch.cuda.is_available() else 'cpu')\n",
        "\n",
        "train_iterator, valid_iterator, test_iterator = data.BucketIterator.splits(\n",
        "    (train_data, valid_data, test_data), \n",
        "    batch_size = BATCH_SIZE,\n",
        "    sort_within_batch = True,\n",
        "    device = device)"
      ],
      "execution_count": 0,
      "outputs": []
    },
    {
      "cell_type": "code",
      "metadata": {
        "id": "L64aOnNmNypo",
        "colab_type": "code",
        "colab": {}
      },
      "source": [
        "import torch.nn as nn\n",
        "\n",
        "class RNN(nn.Module):\n",
        "    def __init__(self, vocab_size, embedding_dim, hidden_dim, output_dim, n_layers, \n",
        "                 bidirectional, dropout, pad_idx, weights):\n",
        "        \n",
        "        super().__init__()\n",
        "        \n",
        "        self.embedding = nn.Embedding(vocab_size, embedding_dim, padding_idx = pad_idx)\n",
        "\n",
        "        self.embedding.weight = nn.Parameter(weights, requires_grad=False)\n",
        "        \n",
        "        self.rnn = nn.LSTM(embedding_dim, \n",
        "                           hidden_dim, \n",
        "                           num_layers=n_layers, \n",
        "                           bidirectional=bidirectional, \n",
        "                           dropout=dropout)\n",
        "        \n",
        "        self.fc = nn.Linear(hidden_dim * 2, output_dim)\n",
        "        \n",
        "        self.dropout = nn.Dropout(dropout)\n",
        "        \n",
        "    def forward(self, text, text_lengths):\n",
        "        \n",
        "        #text = [sent len, batch size]\n",
        "        \n",
        "        embedded = self.dropout(self.embedding(text))\n",
        "        \n",
        "        #embedded = [sent len, batch size, emb dim]\n",
        "        \n",
        "        #pack sequence\n",
        "        packed_embedded = nn.utils.rnn.pack_padded_sequence(embedded, text_lengths)\n",
        "        \n",
        "        packed_output, (hidden, cell) = self.rnn(packed_embedded)\n",
        "        \n",
        "        #unpack sequence\n",
        "        output, output_lengths = nn.utils.rnn.pad_packed_sequence(packed_output)\n",
        "\n",
        "        #output = [sent len, batch size, hid dim * num directions]\n",
        "        #output over padding tokens are zero tensors\n",
        "        \n",
        "        #hidden = [num layers * num directions, batch size, hid dim]\n",
        "        #cell = [num layers * num directions, batch size, hid dim]\n",
        "        \n",
        "        #concat the final forward (hidden[-2,:,:]) and backward (hidden[-1,:,:]) hidden layers\n",
        "        #and apply dropout\n",
        "        \n",
        "        hidden = self.dropout(torch.cat((hidden[-2,:,:], hidden[-1,:,:]), dim = 1))\n",
        "                \n",
        "        #hidden = [batch size, hid dim * num directions]\n",
        "            \n",
        "        return self.fc(hidden)"
      ],
      "execution_count": 0,
      "outputs": []
    },
    {
      "cell_type": "code",
      "metadata": {
        "id": "HdKw4RmMPlCN",
        "colab_type": "code",
        "outputId": "e949afa3-d801-46bf-9045-0061d29cb6f3",
        "colab": {
          "base_uri": "https://localhost:8080/",
          "height": 34
        }
      },
      "source": [
        "INPUT_DIM = len(TEXT.vocab)\n",
        "EMBEDDING_DIM = 300\n",
        "HIDDEN_DIM = 256\n",
        "OUTPUT_DIM = 1\n",
        "N_LAYERS = 2\n",
        "BIDIRECTIONAL = True\n",
        "DROPOUT = 0.5\n",
        "PAD_IDX = TEXT.vocab.stoi[TEXT.pad_token]\n",
        "\n",
        "pretrained_embeddings = TEXT.vocab.vectors\n",
        "\n",
        "print(pretrained_embeddings.shape)\n",
        "\n",
        "UNK_IDX = TEXT.vocab.stoi[TEXT.unk_token]\n",
        "\n",
        "\n",
        "\n",
        "model = RNN(INPUT_DIM, \n",
        "            EMBEDDING_DIM, \n",
        "            HIDDEN_DIM, \n",
        "            OUTPUT_DIM, \n",
        "            N_LAYERS, \n",
        "            BIDIRECTIONAL, \n",
        "            DROPOUT, \n",
        "            PAD_IDX,\n",
        "            TEXT.vocab.vectors)\n",
        "\n",
        "model.embedding.weight.data[UNK_IDX] = torch.zeros(EMBEDDING_DIM)\n",
        "model.embedding.weight.data[PAD_IDX] = torch.zeros(EMBEDDING_DIM)"
      ],
      "execution_count": 0,
      "outputs": [
        {
          "output_type": "stream",
          "text": [
            "torch.Size([84794, 300])\n"
          ],
          "name": "stdout"
        }
      ]
    },
    {
      "cell_type": "code",
      "metadata": {
        "id": "H5jo4ZL1P2LZ",
        "colab_type": "code",
        "outputId": "c60f7c64-770b-4012-dfd8-f8ad70f9fa76",
        "colab": {
          "base_uri": "https://localhost:8080/",
          "height": 34
        }
      },
      "source": [
        "def count_parameters(model):\n",
        "    return sum(p.numel() for p in model.parameters() if p.requires_grad)\n",
        "\n",
        "print(f'The model has {count_parameters(model):,} trainable parameters')"
      ],
      "execution_count": 0,
      "outputs": [
        {
          "output_type": "stream",
          "text": [
            "The model has 2,720,257 trainable parameters\n"
          ],
          "name": "stdout"
        }
      ]
    },
    {
      "cell_type": "code",
      "metadata": {
        "id": "ptXZs5veGzIT",
        "colab_type": "code",
        "colab": {}
      },
      "source": [
        "import torch.optim as optim\n",
        "\n",
        "optimizer = optim.Adam(model.parameters())\n",
        "\n",
        "criterion = nn.BCEWithLogitsLoss()\n",
        "\n",
        "model = model.to(device)\n",
        "criterion = criterion.to(device)\n",
        "\n",
        "\n",
        "def binary_accuracy(preds, y):\n",
        "    \"\"\"\n",
        "    Returns accuracy per batch, i.e. if you get 8/10 right, this returns 0.8, NOT 8\n",
        "    \"\"\"\n",
        "\n",
        "    #round predictions to the closest integer\n",
        "    rounded_preds = torch.round(torch.sigmoid(preds))\n",
        "    correct = (rounded_preds == y).float() #convert into float for division \n",
        "    acc = correct.sum() / len(correct)\n",
        "    return acc"
      ],
      "execution_count": 0,
      "outputs": []
    },
    {
      "cell_type": "code",
      "metadata": {
        "id": "Mee-dmixWosJ",
        "colab_type": "code",
        "outputId": "b503777b-eb95-4f5c-82ab-2469d425dd60",
        "colab": {
          "base_uri": "https://localhost:8080/",
          "height": 34
        }
      },
      "source": [
        "def train(model, iterator, optimizer, criterion):\n",
        "    \n",
        "    epoch_loss = 0\n",
        "    epoch_acc = 0\n",
        "    \n",
        "    model.train()\n",
        "    \n",
        "    for batch in iterator:\n",
        "        \n",
        "        optimizer.zero_grad()\n",
        "        text, text_lengths = batch.text\n",
        "        \n",
        "        text = text.to(device)\n",
        "        text_lengths = text_lengths.to(device)\n",
        "        \n",
        "        predictions = model(text, text_lengths).squeeze(1)\n",
        "        \n",
        "        loss = criterion(predictions, batch.label)\n",
        "        \n",
        "        acc = binary_accuracy(predictions, batch.label)\n",
        "        \n",
        "        loss.backward()\n",
        "        \n",
        "        optimizer.step()\n",
        "        \n",
        "        epoch_loss += loss.item()\n",
        "        epoch_acc += acc.item()\n",
        "        \n",
        "    return epoch_loss / len(iterator), epoch_acc / len(iterator)\n",
        "\n",
        "train(model, train_iterator, optimizer, criterion)"
      ],
      "execution_count": 0,
      "outputs": [
        {
          "output_type": "execute_result",
          "data": {
            "text/plain": [
              "(0.6254015802405775, 0.6559933396056294)"
            ]
          },
          "metadata": {
            "tags": []
          },
          "execution_count": 12
        }
      ]
    },
    {
      "cell_type": "code",
      "metadata": {
        "id": "btzxeKvMWt1G",
        "colab_type": "code",
        "outputId": "9bd46352-c516-4392-d3cf-cd394fdd0c24",
        "colab": {
          "base_uri": "https://localhost:8080/",
          "height": 34
        }
      },
      "source": [
        "def evaluate(model, iterator, criterion):\n",
        "    \n",
        "    epoch_loss = 0\n",
        "    epoch_acc = 0\n",
        "    \n",
        "    model.eval()\n",
        "    \n",
        "    with torch.no_grad():\n",
        "    \n",
        "        for batch in iterator:\n",
        "\n",
        "            text, text_lengths = batch.text\n",
        "            \n",
        "            predictions = model(text, text_lengths).squeeze(1)\n",
        "            \n",
        "            loss = criterion(predictions, batch.label)\n",
        "            \n",
        "            acc = binary_accuracy(predictions, batch.label)\n",
        "\n",
        "            epoch_loss += loss.item()\n",
        "            epoch_acc += acc.item()\n",
        "        \n",
        "    return epoch_loss / len(iterator), epoch_acc / len(iterator)\n",
        "\n",
        "evaluate(model, valid_iterator, criterion)"
      ],
      "execution_count": 0,
      "outputs": [
        {
          "output_type": "execute_result",
          "data": {
            "text/plain": [
              "(0.6087991142847452, 0.6893825301204819)"
            ]
          },
          "metadata": {
            "tags": []
          },
          "execution_count": 14
        }
      ]
    },
    {
      "cell_type": "code",
      "metadata": {
        "id": "18aHv1zDWvtB",
        "colab_type": "code",
        "colab": {}
      },
      "source": [
        "import time\n",
        "\n",
        "def epoch_time(start_time, end_time):\n",
        "    elapsed_time = end_time - start_time\n",
        "    elapsed_mins = int(elapsed_time / 60)\n",
        "    elapsed_secs = int(elapsed_time - (elapsed_mins * 60))\n",
        "    return elapsed_mins, elapsed_secs"
      ],
      "execution_count": 0,
      "outputs": []
    },
    {
      "cell_type": "code",
      "metadata": {
        "id": "oVPnNiqhWygA",
        "colab_type": "code",
        "outputId": "812e9a4d-56ef-47a7-b999-ab8780b1c2ac",
        "colab": {
          "base_uri": "https://localhost:8080/",
          "height": 277
        }
      },
      "source": [
        "N_EPOCHS = 5\n",
        "\n",
        "best_valid_loss = float('inf')\n",
        "\n",
        "for epoch in range(N_EPOCHS):\n",
        "\n",
        "    start_time = time.time()\n",
        "    \n",
        "    train_loss, train_acc = train(model, train_iterator, optimizer, criterion)\n",
        "    valid_loss, valid_acc = evaluate(model, valid_iterator, criterion)\n",
        "    \n",
        "    end_time = time.time()\n",
        "\n",
        "    epoch_mins, epoch_secs = epoch_time(start_time, end_time)\n",
        "    \n",
        "    if valid_loss < best_valid_loss:\n",
        "        best_valid_loss = valid_loss\n",
        "        torch.save(model.state_dict(), 'tut2-model.pt')\n",
        "    \n",
        "    print(f'Epoch: {epoch+1:02} | Epoch Time: {epoch_mins}m {epoch_secs}s')\n",
        "    print(f'\\tTrain Loss: {train_loss:.3f} | Train Acc: {train_acc*100:.2f}%')\n",
        "    print(f'\\t Val. Loss: {valid_loss:.3f} |  Val. Acc: {valid_acc*100:.2f}%')"
      ],
      "execution_count": 0,
      "outputs": [
        {
          "output_type": "stream",
          "text": [
            "Epoch: 01 | Epoch Time: 1m 12s\n",
            "\tTrain Loss: 0.603 | Train Acc: 66.53%\n",
            "\t Val. Loss: 0.681 |  Val. Acc: 54.27%\n",
            "Epoch: 02 | Epoch Time: 1m 12s\n",
            "\tTrain Loss: 0.616 | Train Acc: 64.94%\n",
            "\t Val. Loss: 0.426 |  Val. Acc: 83.08%\n",
            "Epoch: 03 | Epoch Time: 1m 12s\n",
            "\tTrain Loss: 0.424 | Train Acc: 81.96%\n",
            "\t Val. Loss: 0.351 |  Val. Acc: 85.22%\n",
            "Epoch: 04 | Epoch Time: 1m 12s\n",
            "\tTrain Loss: 0.381 | Train Acc: 84.14%\n",
            "\t Val. Loss: 0.320 |  Val. Acc: 86.54%\n",
            "Epoch: 05 | Epoch Time: 1m 12s\n",
            "\tTrain Loss: 0.357 | Train Acc: 84.97%\n",
            "\t Val. Loss: 0.311 |  Val. Acc: 86.71%\n"
          ],
          "name": "stdout"
        }
      ]
    }
  ]
}