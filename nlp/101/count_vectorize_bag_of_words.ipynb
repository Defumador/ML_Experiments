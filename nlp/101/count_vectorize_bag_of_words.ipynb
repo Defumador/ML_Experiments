{
  "nbformat": 4,
  "nbformat_minor": 0,
  "metadata": {
    "colab": {
      "name": "count vectorize - bag of words",
      "provenance": [],
      "collapsed_sections": [],
      "include_colab_link": true
    },
    "kernelspec": {
      "name": "python3",
      "display_name": "Python 3"
    }
  },
  "cells": [
    {
      "cell_type": "markdown",
      "metadata": {
        "id": "view-in-github",
        "colab_type": "text"
      },
      "source": [
        "<a href=\"https://colab.research.google.com/github/manishiitg/ML_Experments/blob/master/nlp/101/count_vectorize_bag_of_words.ipynb\" target=\"_parent\"><img src=\"https://colab.research.google.com/assets/colab-badge.svg\" alt=\"Open In Colab\"/></a>"
      ]
    },
    {
      "cell_type": "markdown",
      "metadata": {
        "id": "JRm79lY8uy2q",
        "colab_type": "text"
      },
      "source": [
        "**Trying out bag of words representation **"
      ]
    },
    {
      "cell_type": "code",
      "metadata": {
        "id": "vWxNhWwllU16",
        "colab_type": "code",
        "colab": {}
      },
      "source": [
        "import spacy \n",
        "nlp = spacy.load(\"en_core_web_sm\")\n",
        "\n",
        "from sklearn.feature_extraction.text import CountVectorizer"
      ],
      "execution_count": 0,
      "outputs": []
    },
    {
      "cell_type": "code",
      "metadata": {
        "id": "3TRrLjGJlbja",
        "colab_type": "code",
        "outputId": "44489093-8660-4f5f-aae9-b403c837adb4",
        "colab": {
          "base_uri": "https://localhost:8080/",
          "height": 69
        }
      },
      "source": [
        "# bag of words very simple example \n",
        "\n",
        "sentence = \"NLP is awesome\"\n",
        "count_vectorizer = CountVectorizer()  \n",
        "count_vectorizer.fit(sentence.split())\n",
        "matrix = count_vectorizer.transform(sentence.split())\n",
        "print(matrix.todense())"
      ],
      "execution_count": 2,
      "outputs": [
        {
          "output_type": "stream",
          "text": [
            "[[0 0 1]\n",
            " [0 1 0]\n",
            " [1 0 0]]\n"
          ],
          "name": "stdout"
        }
      ]
    },
    {
      "cell_type": "code",
      "metadata": {
        "id": "dC3GsdngnOYe",
        "colab_type": "code",
        "outputId": "563335e7-acb5-45a9-b167-6f167584888b",
        "colab": {
          "base_uri": "https://localhost:8080/",
          "height": 86
        }
      },
      "source": [
        "# bag of words very simple example \n",
        "\n",
        "sentences = [\"NLP is awesome\",\"I want to learn NLP\"]\n",
        "count_vectorizer = CountVectorizer()  \n",
        "count_vectorizer.fit(sentences)\n",
        "\n",
        "new_sentense = \"How to learn NLP?\"\n",
        "\n",
        "matrix = count_vectorizer.transform(new_sentense.split())\n",
        "print(matrix.todense())"
      ],
      "execution_count": 3,
      "outputs": [
        {
          "output_type": "stream",
          "text": [
            "[[0 0 0 0 0 0]\n",
            " [0 0 0 0 1 0]\n",
            " [0 0 1 0 0 0]\n",
            " [0 0 0 1 0 0]]\n"
          ],
          "name": "stdout"
        }
      ]
    },
    {
      "cell_type": "code",
      "metadata": {
        "id": "Qxe5Iiz1n58H",
        "colab_type": "code",
        "outputId": "588d2ded-960f-47b8-c87b-bae92def83dc",
        "colab": {
          "base_uri": "https://localhost:8080/",
          "height": 262
        }
      },
      "source": [
        "\n",
        "import nltk\n",
        "nltk.download('punkt')\n",
        "\n",
        "import pandas as pd\n",
        "import numpy as np\n",
        "\n",
        "from sklearn.datasets import fetch_20newsgroups\n",
        "\n",
        "news = fetch_20newsgroups(subset=\"train\")\n",
        "\n",
        "print(news.keys())\n",
        "\n",
        "df = pd.DataFrame(news['data'])\n",
        "print(df.head())\n",
        "\n",
        "\n",
        "count_vectorizer = CountVectorizer(\n",
        "    analyzer=\"word\", tokenizer=nltk.word_tokenize,\n",
        "    preprocessor=None, stop_words='english', max_features=1000, max_df=.9)  \n",
        "count_vectorizer.fit(news[\"data\"])\n",
        "\n",
        "# matrix = count_vectorizer.transform(new_sentense.split())\n",
        "# print(matrix.todense())\n",
        "print(count_vectorizer.get_feature_names())\n",
        "print(count_vectorizer.vocabulary_)\n"
      ],
      "execution_count": 4,
      "outputs": [
        {
          "output_type": "stream",
          "text": [
            "[nltk_data] Downloading package punkt to /root/nltk_data...\n",
            "[nltk_data]   Unzipping tokenizers/punkt.zip.\n"
          ],
          "name": "stdout"
        },
        {
          "output_type": "stream",
          "text": [
            "Downloading 20news dataset. This may take a few minutes.\n",
            "Downloading dataset from https://ndownloader.figshare.com/files/5975967 (14 MB)\n"
          ],
          "name": "stderr"
        },
        {
          "output_type": "stream",
          "text": [
            "dict_keys(['data', 'filenames', 'target_names', 'target', 'DESCR'])\n",
            "                                                   0\n",
            "0  From: lerxst@wam.umd.edu (where's my thing)\\nS...\n",
            "1  From: guykuo@carson.u.washington.edu (Guy Kuo)...\n",
            "2  From: twillis@ec.ecn.purdue.edu (Thomas E Will...\n",
            "3  From: jgreen@amber (Joe Green)\\nSubject: Re: W...\n",
            "4  From: jcm@head-cfa.harvard.edu (Jonathan McDow...\n",
            "['!', '#', '$', '%', '&', \"'\", \"''\", \"'ax\", \"'d\", \"'ll\", \"'m\", \"'re\", \"'s\", \"'ve\", '*', '**', '***', '*/', '+', '-', '-+', '--', '..', '...', '/', '/*', '/3t', '0', '0d', '0t-', '1', '1.', '1.1', '10', '100', '11', '12', '13', '14', '145', '15', '16', '17', '18', '19', '1992', '1993', '1d9', '2', '2.', '20', '21', '22', '23', '24', '25', '26', '27', '28', '29', '3', '3.1', '30', '31', '32', '33', '34', '35', '4', '40', '45', '5', '50', '6', '60', '7', '8', '80', '9', '93', ';', '<', '=', '>', '?', '[', '\\\\', ']', '^', '_', '_/', '`', '``', '`p', 'a.', 'a86', 'able', 'accept', 'access', 'according', 'act', 'action', 'actually', 'add', 'address', 'administration', 'advance', 'advice', 'age', 'ago', 'agree', 'ah', 'air', 'al', 'algorithm', 'allow', 'allowed', 'america', 'american', 'andrew', 'anonymous', 'answer', 'anybody', 'apparently', 'appears', 'apple', 'application', 'applications', 'appreciated', 'apr', 'april', 'area', 'argument', 'armenia', 'armenian', 'armenians', 'arms', 'article', 'article-i.d', 'ask', 'asked', 'asking', 'assume', 'atheists', 'attack', 'author', 'authority', 'available', 'average', 'avoid', 'away', 'b', 'b8f', 'bad', 'banks', 'base', 'baseball', 'based', 'basic', 'basis', 'bbs', 'belief', 'believe', 'best', 'better', 'bible', 'big', 'bike', 'bit', 'bits', 'black', 'blood', 'board', 'bob', 'body', 'book', 'books', 'boston', 'bought', 'box', 'break', 'brian', 'build', 'building', 'built', 'bus', 'business', 'buy', 'c', 'c.', 'ca', 'cable', 'california', 'called', 'came', 'canada', 'car', 'card', 'cards', 'care', 'carry', 'cars', 'case', 'cases', 'cause', 'center', 'certain', 'certainly', 'chance', 'change', 'changed', 'cheap', 'check', 'chicago', 'child', 'children', 'chip', 'chips', 'choice', 'chris', 'christ', 'christian', 'christianity', 'christians', 'church', 'citizens', 'city', 'claim', 'claims', 'class', 'clear', 'clearly', 'clinton', 'clipper', 'close', 'code', 'college', 'color', 'colorado', 'come', 'comes', 'coming', 'command', 'comments', 'commercial', 'common', 'communications', 'community', 'company', 'complete', 'completely', 'computer', 'computing', 'condition', 'congress', 'consider', 'considered', 'contact', 'continue', 'control', 'controller', 'copy', 'corporation', 'correct', 'cost', 'country', 'couple', 'course', 'court', 'cover', 'create', 'created', 'crime', 'current', 'currently', 'cut', 'd', 'd.', 'dan', 'data', 'date', 'dave', 'david', 'day', 'days', 'db', 'dead', 'deal', 'death', 'decided', 'defense', 'deleted', 'department', 'dept', 'des', 'design', 'designed', 'details', 'development', 'device', 'devices', 'did', 'die', 'difference', 'different', 'difficult', 'digital', 'directly', 'directory', 'disclaimer', 'discussion', 'disk', 'display', 'distribution', 'division', 'dod', 'does', 'doing', 'dos', 'doubt', 'doug', 'dr.', 'drive', 'driver', 'drivers', 'drives', 'drugs', 'e', 'e-mail', 'e.', 'early', 'earth', 'easily', 'east', 'easy', 'ed', 'education', 'effect', 'electronic', 'email', 'encryption', 'end', 'enforcement', 'engine', 'engineering', 'entire', 'entry', 'eric', 'error', 'especially', 'event', 'events', 'evidence', 'exactly', 'example', 'excellent', 'exist', 'existence', 'exists', 'expect', 'experience', 'explain', 'f', 'face', 'fact', 'faith', 'family', 'fan', 'faq', 'far', 'fast', 'faster', 'father', 'fax', 'fbi', 'federal', 'feel', 'field', 'figure', 'file', 'files', 'final', 'finally', 'fine', 'firearms', 'folks', 'follow', 'following', 'food', 'force', 'form', 'format', 'frank', 'free', 'freedom', 'friend', 'ftp', 'function', 'future', 'g', 'game', 'games', 'gary', 'gas', 'gave', 'general', 'generally', 'george', 'germany', 'gets', 'getting', 'given', 'gives', 'giz', 'gm', 'gmt', 'goal', 'god', 'goes', 'going', 'good', 'gordon', 'got', 'government', 'graphics', 'great', 'greek', 'ground', 'group', 'groups', 'guess', 'gun', 'guns', 'guy', 'h', 'half', 'hand', 'happen', 'happened', 'happy', 'hard', 'hardware', 'having', 'head', 'health', 'hear', 'heard', 'hell', 'help', 'henry', 'hi', 'high', 'higher', 'history', 'hit', 'hockey', 'hold', 'home', 'hope', 'house', 'hp', 'human', 'ibm', 'ide', 'idea', 'ideas', 'ii', 'illinois', 'image', 'images', 'imagine', 'important', 'in-reply-to', 'inc.', 'include', 'included', 'includes', 'including', 'individual', 'info', 'information', 'input', 'inside', 'installed', 'instead', 'institute', 'insurance', 'interested', 'interesting', 'interface', 'internal', 'international', 'internet', 'involved', 'israel', 'israeli', 'issue', 'issues', 'j', 'j.', 'james', 'jesus', 'jewish', 'jews', 'jim', 'job', 'joe', 'john', 'jon', 'just', 'k', 'keith', 'key', 'keyboard', 'keys', 'keywords', 'kill', 'killed', 'kind', 'knew', 'know', 'knowledge', 'known', 'knows', 'l', 'l.', 'la', 'laboratory', 'land', 'language', 'large', 'later', 'launch', 'law', 'laws', 'league', 'learn', 'leave', 'left', 'legal', 'let', 'level', 'library', 'life', 'light', 'like', 'likely', 'limited', 'line', 'list', 'little', 'live', 'living', 'local', 'long', 'longer', 'look', 'looked', 'looking', 'looks', 'lord', 'los', 'lost', 'lot', 'lots', 'love', 'low', 'm', 'm.', 'ma', 'mac', 'machine', 'machines', 'mail', 'main', 'major', 'make', 'makes', 'making', 'man', 'manager', 'manual', 'mark', 'market', 'matter', 'matthew', 'max', 'maybe', 'mean', 'means', 'media', 'medical', 'members', 'memory', 'men', 'mention', 'mentioned', 'message', 'michael', 'mike', 'military', 'million', 'mind', 'mode', 'model', 'modem', 'money', 'monitor', 'months', 'moon', 'moral', 'morality', 'motif', 'mouse', 'mr.', 'msg', 'n', \"n't\", 'na', 'nasa', 'national', 'nature', 'near', 'necessarily', 'necessary', 'need', 'needed', 'needs', 'net', 'netcom.com', 'network', 'new', 'news', 'newsgroup', 'nhl', 'nice', 'night', 'nntp-posting-host', 'normal', 'north', 'note', 'number', 'numbers', 'ny', 'o', 'objective', 'obvious', 'obviously', 'offer', 'office', 'oh', 'ok', 'old', 'ones', 'open', 'opinion', 'opinions', 'order', 'original', 'originator', 'output', 'outside', 'p', 'p.', 'package', 'page', 'paper', 'particular', 'parts', 'past', 'pat', 'paul', 'pay', 'pc', 'peace', 'people', 'performance', 'period', 'person', 'personal', 'peter', 'phone', 'pick', 'pittsburgh', 'pl+', 'place', 'places', 'plan', 'play', 'player', 'players', 'plus', 'point', 'points', 'police', 'policy', 'political', 'population', 'port', 'position', 'possible', 'post', 'posted', 'posting', 'power', 'present', 'president', 'press', 'pretty', 'previous', 'price', 'printer', 'privacy', 'private', 'probably', 'problem', 'problems', 'process', 'product', 'products', 'program', 'programs', 'project', 'protect', 'provide', 'public', 'purpose', 'q', 'q,3', 'quality', 'question', 'questions', 'quite', 'r', 'r.', 'radio', 'ram', 'rate', 'read', 'reading', 'real', 'really', 'reason', 'reasonable', 'reasons', 'received', 'recent', 'recently', 'record', 'red', 'reference', 'related', 'release', 'religion', 'religious', 'remember', 'reply', 'reply-to', 'report', 'request', 'require', 'required', 'research', 'response', 'rest', 'result', 'results', 'return', 'richard', 'right', 'rights', 'road', 'robert', 'roger', 'room', 'rule', 'rules', 'run', 'running', 'runs', 'russian', 's', 's.', 'safety', 'said', 'sale', 'san', 'save', 'saw', 'say', 'saying', 'says', 'school', 'science', 'scientific', 'scott', 'screen', 'scsi', 'season', 'second', 'secret', 'section', 'secure', 'security', 'seen', 'sell', 'send', 'sense', 'sent', 'serial', 'series', 'server', 'service', 'services', 'set', 'shall', 'short', 'shot', 'similar', 'simple', 'simply', 'single', 'site', 'situation', 'size', 'small', 'smith', 'society', 'software', 'solution', 'somebody', 'son', 'soon', 'sorry', 'sort', 'sound', 'sounds', 'source', 'sources', 'south', 'space', 'speak', 'special', 'specific', 'speed', 'st.', 'standard', 'start', 'started', 'state', 'statement', 'states', 'station', 'stephanopoulos', 'steve', 'stop', 'story', 'street', 'strong', 'studies', 'study', 'stuff', 'stupid', 'suggest', 'summary', 'sun', 'support', 'supposed', 'sure', 'systems', 't', 'taken', 'takes', 'taking', 'talk', 'talking', 'tape', 'tax', 'team', 'teams', 'technical', 'technology', 'tell', 'test', 'texas', 'text', 'thank', 'thanks', 'theory', 'thing', 'things', 'think', 'thinking', 'thomas', 'thought', 'tim', 'time', 'times', 'tin', 'title', 'today', 'told', 'tom', 'took', 'toronto', 'total', 'tried', 'true', 'truth', 'try', 'trying', 'turkey', 'turkish', 'turks', 'turn', 'tv', 'type', 'u', 'u.s.', 'uk', 'understand', 'unfortunately', 'unit', 'united', 'univ', 'university', 'unix', 'unless', 'usa', 'use', 'used', 'useful', 'usenet', 'user', 'users', 'uses', 'using', 'usually', 'uunet', 'v', 'value', 'values', 'various', 'version', 'video', 'view', 'views', 'voice', 'vs', 'w', 'want', 'wanted', 'wants', 'war', 'washington', 'water', 'way', 'ways', 'weapons', 'week', 'weeks', 'went', 'west', 'western', 'white', 'widget', 'willing', 'win', 'window', 'windows', 'wish', 'wo', 'women', 'wondering', 'word', 'words', 'work', 'working', 'works', 'world', 'worse', 'worth', 'write', 'writes', 'written', 'wrong', 'wrote', 'x', 'x-newsreader', 'y', 'year', 'years', 'yes', 'york', 'young', 'z', '{', '|', '||', '}']\n",
            "{\"'s\": 12, 'thing': 889, 'car': 196, '!': 0, '?': 84, 'nntp-posting-host': 637, 'university': 925, 'college': 236, '15': 40, 'wondering': 973, 'saw': 788, 'day': 283, 'looked': 557, 'early': 330, 'called': 193, 'really': 741, 'small': 825, 'rest': 764, 'body': 174, 'know': 520, 'model': 604, 'engine': 343, 'years': 991, 'history': 453, 'info': 479, 'looking': 558, 'e-mail': 328, 'thanks': 887, '-': 19, '--': 21, 'guy': 433, 'final': 381, 'summary': 864, 'keywords': 515, 'article-i.d': 138, 'washington': 954, '11': 35, 'number': 641, 'send': 806, 'message': 597, 'speed': 844, 'add': 103, 'cards': 198, 'disk': 311, 'm': 567, 'especially': 349, 'days': 284, 'network': 630, 'knowledge': 521, 'base': 155, \"n't\": 617, '<': 81, '>': 83, 'thomas': 893, 'e': 327, 'questions': 731, '...': 23, 'engineering': 344, 'computer': 251, 'distribution': 313, 'usa': 928, 'folks': 385, 'mac': 570, 'plus': 691, 'finally': 382, 'gave': 404, 'life': 543, 'way': 956, \"'m\": 10, 'market': 583, 'new': 631, 'machine': 571, 'bit': 168, 'maybe': 587, 'somebody': 830, 'answer': 121, '*': 14, 'does': 316, 'anybody': 122, \"'d\": 8, 'heard': 446, 'supposed': 867, 'make': 576, '``': 92, \"''\": 6, 'access': 98, 'price': 710, 'line': 548, 'like': 545, 'ones': 653, 'just': 509, 'went': 961, 'recently': 747, 'display': 312, 'probably': 714, 'got': 422, 'feel': 376, 'better': 164, 'looks': 559, 'great': 425, 'good': 420, 'opinions': 656, 'people': 675, 'use': 929, 'worth': 981, 'taking': 873, 'size': 824, 'money': 606, 'hit': 454, 'real': 740, 'question': 730, \"'ve\": 13, 'machines': 572, 'actually': 102, 'uses': 935, ';': 80, 'advance': 106, 'email': 339, \"'ll\": 9, 'post': 701, 'news': 632, 'reading': 739, 'time': 896, 'tom': 902, '\\\\': 86, 'truth': 908, 'joe': 506, 'systems': 869, 'division': 314, '14': 38, 'world': 979, 'x-newsreader': 988, 'tin': 898, '[': 85, 'version': 943, '1.1': 32, ']': 87, 'robert': 772, 'wrote': 986, 'writes': 983, 'article': 137, 'graphics': 424, 'chip': 216, 'far': 369, 'stuff': 861, 'goes': 418, 'pretty': 708, 'nice': 635, 'command': 242, 'points': 693, 'information': 480, 'corporation': 262, 'person': 678, 'sense': 807, 'launch': 532, 'ma': 569, '23': 53, 'clear': 230, '&': 4, 'memory': 593, 'error': 348, 'sorry': 833, 'known': 522, 'yes': 992, 'knew': 519, \"'\": 5, 'software': 828, 'things': 890, 'right': 769, 'values': 941, 'set': 814, 'code': 235, 'tell': 882, 'second': 799, 'ideas': 465, '$': 2, 'c.': 189, 'd.': 277, 'john': 507, 'power': 704, 'weapons': 958, 'makes': 577, 'cost': 264, 'need': 625, 'control': 259, 'government': 423, 'individual': 478, 'result': 765, \"'re\": 11, 'coming': 241, 'say': 789, 'believe': 162, 'hard': 440, 'support': 866, 'gas': 403, 'agree': 110, 'hope': 458, 'course': 267, 'doug': 320, 'says': 791, 'means': 589, 'street': 857, 'doubt': 319, 'using': 936, 'killed': 517, 'year': 990, 'easily': 332, 'reasonable': 743, 'mean': 588, 'read': 738, 'argument': 132, 'point': 692, 'allowed': 116, 'later': 531, 'given': 411, 'consider': 255, 'class': 229, 'speak': 841, 'company': 248, 'write': 982, 'today': 900, 'special': 842, 'brian': 181, 'reply-to': 757, 'chicago': 213, '12': 36, 'request': 759, 'thank': 886, 'directly': 307, 'thought': 894, 'sure': 868, 'instead': 484, 'trying': 910, 'file': 379, 'ide': 463, 'vs': 948, 'scsi': 797, 'state': 849, 'pc': 673, 'april': 130, '27': 57, '20': 50, '%': 3, 'faster': 371, '7': 75, 'devices': 300, 'long': 554, 'problems': 716, 'love': 565, 'stupid': 862, 'performance': 676, 'numbers': 642, 'list': 549, 'statement': 850, '{': 996, '}': 999, 'controller': 260, 'note': 640, 'exist': 356, 'mode': 603, 'fast': 370, 'data': 279, 'correct': 263, 'posted': 702, 'newsgroup': 633, 'ibm': 462, 'available': 147, 'ftp': 396, '#': 1, 'problem': 715, 'apple': 125, 'said': 784, 'interface': 489, 'think': 891, 'true': 907, 'understand': 920, 'going': 419, 'reference': 750, 'digital': 306, '21': 51, '1': 30, 'win': 967, 'help': 448, '10': 33, 'ca': 190, 'figure': 378, 'change': 209, 'appreciated': 128, 'illinois': 467, '29': 59, 'a.': 94, 'board': 172, 'hardware': 441, 'works': 978, 'work': 976, 'technology': 881, 'lost': 562, 'wrong': 985, 'usually': 937, 'mentioned': 596, 'unless': 927, 'installed': 483, 'product': 718, 'related': 751, 'buy': 187, 'computing': 252, 'communications': 246, 'services': 813, 'office': 649, 'u': 917, 'phone': 681, '1993': 46, 'gmt': 415, 'inc.': 473, '13': 37, 'runs': 779, 'bike': 167, 'want': 950, 'thinking': 892, 'dod': 315, 'david': 282, 'morality': 611, 'james': 500, 'previous': 709, 'hold': 456, 'end': 341, 'different': 304, 'look': 556, 'posting': 703, 'moral': 610, 'god': 417, 'main': 574, 'saying': 790, 'jewish': 502, 'jews': 503, 'case': 202, 'follow': 386, 'required': 761, 'man': 579, 'christian': 221, 'necessarily': 623, 'outside': 661, 'comes': 240, 'mind': 602, 'created': 271, 'image': 468, 'live': 551, 'christ': 220, 'example': 354, 'kind': 518, 'come': 239, 'wants': 952, 'living': 552, 'little': 550, 'jesus': 501, 'worse': 980, 'christianity': 222, 'bible': 165, 'guess': 430, 'faith': 365, 'child': 214, 'assume': 142, 'simply': 820, 'told': 901, 'children': 215, 'quite': 732, 'happy': 439, 'water': 955, 'knows': 523, 'type': 916, 'young': 994, 'gets': 409, 'religion': 753, 'oh': 650, '/': 24, 'east': 333, 'space': 840, 'station': 852, '4': 68, 'nasa': 619, 'research': 762, 'center': 205, 'deleted': 291, 'mark': 582, 'design': 295, 'city': 226, 'received': 745, 'hear': 445, 'based': 157, 'likely': 546, 'let': 540, 'york': 993, 'times': 897, 'used': 930, 'building': 183, 'currently': 274, 'considered': 256, 'low': 566, 'team': 878, 'teams': 879, 'key': 512, 'bus': 185, 'c': 188, 'air': 112, 'force': 389, '3': 60, 'provide': 724, 'source': 837, '30': 62, 'human': 461, 'old': 652, 'common': 245, 'international': 491, 'place': 685, '60': 74, 'u.s.': 918, 'return': 767, 'b': 151, 'freedom': 394, 'mike': 599, 'language': 529, '8': 76, '24': 54, 'major': 575, 'single': 821, 'complete': 249, 'ground': 427, '2': 48, 'l': 524, 'sale': 785, 'offer': 648, 'black': 170, 'hand': 436, '32': 64, 'player': 689, 'high': 451, 'sound': 835, '80': 77, '25': 55, 'includes': 476, '50': 72, 'head': 443, 'ask': 139, '5': 71, '6': 73, '9': 78, 'contact': 257, 'reply': 756, 'included': 475, 'political': 696, 'atheists': 143, 'uk': 919, '22': 52, 'keith': 511, 'm.': 568, 'death': 288, 'form': 390, 'groups': 429, 'happened': 438, 'citizens': 225, 'war': 953, 'ii': 466, 'short': 816, 'solution': 829, 'run': 777, 'total': 905, 'generally': 406, 'library': 542, 'files': 380, 'took': 903, 'start': 847, 'certainly': 207, 'programs': 721, 'making': 578, 'images': 469, 'save': 787, 'general': 405, 'fact': 364, 'big': 166, 'format': 391, 'words': 975, 'g': 399, 'page': 665, 'sort': 834, 'designed': 296, 'takes': 872, 'application': 126, 'job': 505, 'able': 96, 'applications': 127, 'program': 720, 'deal': 287, 'insurance': 486, 'cars': 201, 'asking': 141, 'drivers': 324, 'close': 234, '1992': 45, 'house': 459, 'taken': 871, 'security': 803, '100': 34, 'policy': 695, 'standard': 846, 'bought': 178, 'steve': 854, '45': 70, 'asked': 140, 'similar': 818, 'situation': 823, 'age': 108, 'record': 748, 'turn': 914, 'higher': 452, 'rate': 737, 'couple': 266, 'pay': 672, 'dan': 278, 'group': 428, 'drive': 322, 'claim': 227, 'stop': 855, '18': 43, 'months': 608, 'light': 544, '35': 67, 'did': 301, 'p.': 663, 'law': 533, 'disclaimer': 309, 'play': 688, 'hell': 447, 'away': 150, 'na': 618, 'experience': 360, 'ago': 109, 'interesting': 488, 'decided': 289, 'personal': 679, 'happen': 437, 'continue': 258, 'story': 856, 'cover': 269, 'book': 175, 'reason': 742, 'reasons': 744, 'interested': 487, 'room': 774, 'longer': 555, '|': 997, 'opinion': 655, 'important': 471, '26': 56, 'california': 192, '28': 58, 'san': 786, 'getting': 410, 'institute': 485, 'studies': 859, 'univ': 924, 'date': 280, 'view': 945, 'possible': 700, 'difference': 303, 'best': 163, 'boston': 177, '93': 79, 'try': 909, 'places': 686, 'changed': 210, '17': 42, 'output': 660, 'card': 197, 'seen': 804, 'simple': 819, '19': 44, 'entry': 346, 'unix': 926, '1.': 31, 't': 870, 'running': 778, '2.': 49, 'sun': 865, 'window': 968, 'tried': 906, 'matter': 584, '16': 41, 'jon': 508, 'germany': 408, 'clearly': 231, 'population': 697, 'gary': 402, 'nhl': 634, 'toronto': 904, 'scott': 795, 'pittsburgh': 683, 'season': 798, 'ed': 335, 'school': 792, 'free': 393, 'copy': 261, 's.': 782, 'address': 104, 'cheap': 211, 'sell': 805, 'mail': 573, 'appears': 124, 'fax': 373, 'products': 719, 'service': 812, 'chris': 219, 'dos': 318, 'windows': 969, 'normal': 638, 'monitor': 607, 'include': 474, 'h': 434, 'w': 949, 'box': 179, 'left': 538, 'x': 987, 'laboratory': 527, 'science': 793, 'specific': 843, 'drives': 325, 'involved': 493, 'voice': 947, 'input': 481, 'needed': 626, 'user': 933, 'care': 199, 'avoid': 149, 'netcom.com': 629, 'site': 822, '..': 22, 'apr': 129, 'present': 705, 'purpose': 726, 'cases': 203, 'al': 113, 'game': 400, 'current': 273, 'wish': 970, 'attack': 144, 'half': 435, 'earth': 331, 'health': 444, 'future': 398, 'leave': 537, 'response': 763, 'paul': 671, 'men': 594, 'jim': 504, 'safety': 783, 'lot': 563, 'lots': 564, 'michael': 598, 'r': 733, 'radio': 735, 'value': 940, 'check': 212, 'local': 553, 'serial': 809, 'face': 363, 'came': 194, 'pat': 670, 'son': 831, 'father': 372, 'condition': 253, 'shall': 815, 'tv': 915, 'cause': 204, 'past': 669, 'y': 989, 'israeli': 495, 'started': 848, 'israel': 494, 'land': 528, 'wanted': 951, 'peace': 674, 'easy': 334, 'south': 839, 'western': 963, 'cut': 275, 'near': 622, 'members': 592, 'road': 771, 'week': 959, 'north': 639, 'society': 827, 'views': 946, 'mention': 595, 'effect': 337, 'national': 620, 'internet': 492, 'obviously': 647, 'ah': 111, 'clipper': 233, 'remember': 755, 'encryption': 340, 'goal': 416, 'strong': 858, 'privacy': 712, 'public': 725, 'large': 530, 'gun': 431, 'word': 974, 'legal': 539, 'clinton': 232, 'federal': 375, 'administration': 105, 'congress': 254, 'tax': 877, 'enforcement': 342, 'court': 268, 'drugs': 326, 'act': 100, 'richard': 768, 'having': 442, 'driver': 323, 'willing': 966, 'red': 749, 'needs': 627, 'american': 118, 'commercial': 244, 'technical': 880, 'imagine': 470, 'doing': 317, 'action': 101, 'allow': 115, 'users': 934, 'require': 760, 'function': 397, 'police': 694, 'carry': 200, 'series': 810, 'shot': 817, 'open': 654, 'parts': 668, 'quality': 729, 'smith': 826, 'rule': 775, 'defense': 290, 'excellent': 355, 'necessary': 624, 'firearms': 384, 'department': 292, 'issue': 496, 'limited': 547, 'pick': 682, 'advice': 107, 'ok': 651, 'white': 964, 'roger': 773, 'baseball': 156, 'basis': 159, 'dave': 281, 'modem': 605, 'home': 457, '0': 27, 'originator': 659, 'bad': 153, 'games': 401, 'sent': 808, 'tim': 895, 'certain': 206, 'in-reply-to': 472, 'dept': 293, 'net': 628, 'project': 722, 's': 781, 'max': 586, '=': 82, 'dr.': 321, 'working': 977, 'nature': 621, 'completely': 250, 'process': 717, 'following': 387, 'create': 270, 'talk': 874, 'christians': 223, 'obvious': 646, 'hi': 450, 'printer': 711, '3.1': 61, 'die': 302, 'talking': 875, 'medical': 591, 'night': 636, 'armenians': 135, 'military': 600, 'armenian': 134, 'million': 601, 'turkish': 912, 'women': 972, 'lord': 560, 'states': 851, 'section': 801, 'church': 224, 'russian': 780, 'authority': 146, 'order': 657, 'ways': 957, 'turks': 913, 'armenia': 133, 'exists': 358, 'protect': 723, 'des': 294, 'country': 265, 'manual': 581, '40': 69, 'idea': 464, 'r.': 734, 'gives': 412, 'exactly': 353, 'faq': 368, 'sources': 838, 'press': 707, 'release': 752, 'plan': 687, 'original': 658, 'moon': 609, 'entire': 345, 'including': 477, 'objective': 645, 'level': 541, 'study': 860, 'various': 942, 'results': 766, 'o': 644, 'los': 561, 'development': 298, 'j': 498, 'unit': 922, 'scientific': 794, 'canada': 195, 'test': 883, '+': 18, '-+': 20, 'p': 662, 'internal': 490, 'area': 131, 'uunet': 938, 'break': 180, 'explain': 361, 'texas': 884, 'mr.': 614, 'evidence': 352, 'west': 962, 'belief': 161, 'america': 117, 'kill': 516, 'religious': 754, '**': 15, 'text': 885, 'unfortunately': 921, 'particular': 667, 'crime': 272, 'event': 350, 'weeks': 960, 'turkey': 911, 'j.': 499, 'president': 706, 'blood': 171, 'arms': 136, 'st.': 845, 'position': 699, 'dead': 286, '31': 63, '34': 66, 'built': 184, 'private': 713, 'matthew': 585, 'build': 182, 'n': 616, 'wo': 971, 'bbs': 160, 'usenet': 932, 'cable': 191, 'peter': 680, 'friend': 395, 'secret': 800, 'keys': 514, 'secure': 802, 'ny': 643, 'screen': 796, 'period': 677, 'video': 944, 'manager': 580, 'hp': 460, 'mouse': 613, 'laws': 534, 'author': 145, 'books': 176, 'media': 590, 'rights': 770, 'andrew': 119, 'fbi': 374, '***': 16, 'details': 297, 'paper': 666, 'v': 939, 'directory': 308, 'sounds': 836, 'fine': 383, 'fan': 367, 'color': 237, 'algorithm': 114, 'inside': 482, 'family': 366, 'chips': 217, 'ram': 736, 'eric': 347, 'written': 984, 'package': 664, 'apparently': 123, 'colorado': 238, 'united': 923, 'l.': 525, 'community': 247, '_/': 90, 'server': 811, 'according': 99, '^': 88, 'events': 351, 'useful': 931, 'e.': 329, '33': 65, 'port': 698, 'device': 299, 'accept': 97, 'choice': 218, 'henry': 449, 'expect': 359, 'business': 186, 'soon': 832, 'recent': 746, '_': 89, 'bob': 173, 'issues': 497, 'guns': 432, 'chance': 208, 'discussion': 310, 'z': 995, 'claims': 228, 'learn': 536, 'players': 690, 'comments': 243, 'league': 535, '145': 39, \"'ax\": 7, 'giz': 413, '`': 91, 'q': 727, 'd': 276, 'k': 510, '1d9': 47, 'f': 362, '/3t': 26, 'q,3': 728, '`p': 93, '0d': 28, 'pl+': 684, 'a86': 95, '0t-': 29, 'b8f': 152, 'suggest': 863, 'theory': 888, 'basic': 158, 'difficult': 305, 'george': 407, 'existence': 357, 'keyboard': 513, 'frank': 392, 'hockey': 455, 'gordon': 421, 'banks': 154, 'gm': 414, 'food': 388, 'bits': 169, 'msg': 615, 'motif': 612, 'title': 899, 'report': 758, '||': 998, 'education': 336, 'tape': 876, 'la': 526, 'rules': 776, 'greek': 426, 'average': 148, 'widget': 965, 'db': 285, 'electronic': 338, 'anonymous': 120, 'field': 377, '/*': 25, '*/': 17, 'stephanopoulos': 853}\n"
          ],
          "name": "stdout"
        }
      ]
    },
    {
      "cell_type": "code",
      "metadata": {
        "id": "wFAtifCbpPx_",
        "colab_type": "code",
        "colab": {}
      },
      "source": [
        ""
      ],
      "execution_count": 0,
      "outputs": []
    }
  ]
}