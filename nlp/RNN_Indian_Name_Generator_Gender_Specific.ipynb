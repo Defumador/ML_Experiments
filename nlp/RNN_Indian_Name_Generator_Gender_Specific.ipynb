{
  "nbformat": 4,
  "nbformat_minor": 0,
  "metadata": {
    "colab": {
      "name": " RNN Indian Name Generator Gender Specific",
      "provenance": [],
      "collapsed_sections": [],
      "include_colab_link": true
    },
    "kernelspec": {
      "name": "python3",
      "display_name": "Python 3"
    },
    "accelerator": "GPU"
  },
  "cells": [
    {
      "cell_type": "markdown",
      "metadata": {
        "id": "view-in-github",
        "colab_type": "text"
      },
      "source": [
        "<a href=\"https://colab.research.google.com/github/manishiitg/ML_Experiments/blob/master/nlp/RNN_Indian_Name_Generator_Gender_Specific.ipynb\" target=\"_parent\"><img src=\"https://colab.research.google.com/assets/colab-badge.svg\" alt=\"Open In Colab\"/></a>"
      ]
    },
    {
      "cell_type": "markdown",
      "metadata": {
        "id": "4oUs_i8ku0G7",
        "colab_type": "text"
      },
      "source": [
        "**Generate Indian Names Randomly via Character RNNs**\n",
        "\n",
        "\n",
        "Purpose of this NN is to use character RNNs to be able to generate randome names.\n",
        "\n",
        "The NN will train on indian names data from kaggle.\n",
        "\n",
        "Network is designed to predict the next character based a sequence of previous characters\n"
      ]
    },
    {
      "cell_type": "code",
      "metadata": {
        "id": "f9NVDW3TGyBU",
        "colab_type": "code",
        "outputId": "2d4fd087-eb72-44a9-f60d-8e9b437268d9",
        "colab": {
          "base_uri": "https://localhost:8080/",
          "height": 34
        }
      },
      "source": [
        "# Let's make sure the kaggle.json file is present.\n",
        "!ls -lha kaggle.json\n",
        "# Next, install the Kaggle API client.\n",
        "!pip install -q kaggle\n",
        "# The Kaggle API client expects this file to be in ~/.kaggle,\n",
        "# so move it there.\n",
        "!mkdir -p ~/.kaggle\n",
        "!cp kaggle.json ~/.kaggle/\n",
        "\n",
        "# This permissions change avoids a warning on Kaggle tool startup.\n",
        "!chmod 600 ~/.kaggle/kaggle.json"
      ],
      "execution_count": 1,
      "outputs": [
        {
          "output_type": "stream",
          "text": [
            "-rw-r--r-- 1 root root 66 Nov 27 05:12 kaggle.json\n"
          ],
          "name": "stdout"
        }
      ]
    },
    {
      "cell_type": "code",
      "metadata": {
        "id": "kFs2lA8uUze_",
        "colab_type": "code",
        "outputId": "506f734f-fd16-4429-c572-a4c5536f5fc6",
        "colab": {
          "base_uri": "https://localhost:8080/",
          "height": 69
        }
      },
      "source": [
        "!kaggle datasets download -d chaitanyapatil7/indian-names"
      ],
      "execution_count": 2,
      "outputs": [
        {
          "output_type": "stream",
          "text": [
            "Downloading indian-names.zip to /content\n",
            "\r  0% 0.00/131k [00:00<?, ?B/s]\n",
            "\r100% 131k/131k [00:00<00:00, 39.9MB/s]\n"
          ],
          "name": "stdout"
        }
      ]
    },
    {
      "cell_type": "code",
      "metadata": {
        "id": "JYP4VH_pVuYY",
        "colab_type": "code",
        "outputId": "b6c5ee22-0ee9-4098-b1bd-0077bcd33492",
        "colab": {
          "base_uri": "https://localhost:8080/",
          "height": 69
        }
      },
      "source": [
        "!unzip indian-names.zip"
      ],
      "execution_count": 3,
      "outputs": [
        {
          "output_type": "stream",
          "text": [
            "Archive:  indian-names.zip\n",
            "  inflating: Indian-Female-Names.csv  \n",
            "  inflating: Indian-Male-Names.csv   \n"
          ],
          "name": "stdout"
        }
      ]
    },
    {
      "cell_type": "markdown",
      "metadata": {
        "id": "EoxORepk5T84",
        "colab_type": "text"
      },
      "source": [
        "Till now we have downloaded and setup our data"
      ]
    },
    {
      "cell_type": "code",
      "metadata": {
        "id": "eiRgKDk3qpng",
        "colab_type": "code",
        "outputId": "878fba19-97b7-4e46-85e0-a92fa96607db",
        "colab": {
          "base_uri": "https://localhost:8080/",
          "height": 34
        }
      },
      "source": [
        "import torch\n",
        "from torch import nn\n",
        "\n",
        "import torch.nn.functional as F\n",
        "\n",
        "import numpy as np\n",
        "\n",
        "from sklearn.metrics import accuracy_score\n",
        "\n",
        "device = torch.device(\"cuda\" if torch.cuda.is_available() else \"cpu\")\n",
        "device"
      ],
      "execution_count": 4,
      "outputs": [
        {
          "output_type": "execute_result",
          "data": {
            "text/plain": [
              "device(type='cuda')"
            ]
          },
          "metadata": {
            "tags": []
          },
          "execution_count": 4
        }
      ]
    },
    {
      "cell_type": "code",
      "metadata": {
        "id": "23mLDiUNWmoh",
        "colab_type": "code",
        "outputId": "b0843949-b335-4b28-8c35-022f65faf1b9",
        "colab": {
          "base_uri": "https://localhost:8080/",
          "height": 51
        }
      },
      "source": [
        "import unicodedata\n",
        "import string\n",
        "\n",
        "all_letters = string.ascii_letters + \" .,;'-\"\n",
        "\n",
        "def findFiles(path): return glob.glob(path)\n",
        "# Read a file and split into lines\n",
        "\n",
        "def unicodeToAscii(s):\n",
        "    return ''.join(\n",
        "        c for c in unicodedata.normalize('NFD', s)\n",
        "        if unicodedata.category(c) != 'Mn'\n",
        "        and c in all_letters\n",
        "    )\n",
        "\n",
        "def readLines(filename):\n",
        "    lines = open(filename, encoding='utf-8').read().strip().split('\\n')\n",
        "    lines = [line.split(\",\")[0].strip() for line in lines]\n",
        "    return [unicodeToAscii(line) for line in lines]\n",
        "\n",
        "# Build the category_lines dictionary, a list of lines per category\n",
        "\n",
        "lines1 = readLines(\"Indian-Female-Names.csv\")\n",
        "lines2 = readLines(\"Indian-Male-Names.csv\")\n",
        "\n",
        "print(\"female names\", len(lines1))\n",
        "print(\"male names\", len(lines2))\n",
        "\n",
        "\n",
        "lines = lines1 + lines2"
      ],
      "execution_count": 5,
      "outputs": [
        {
          "output_type": "stream",
          "text": [
            "female names 15383\n",
            "male names 14846\n"
          ],
          "name": "stdout"
        }
      ]
    },
    {
      "cell_type": "markdown",
      "metadata": {
        "id": "6KvgRKpn5iSf",
        "colab_type": "text"
      },
      "source": [
        "Read the names from the csv files "
      ]
    },
    {
      "cell_type": "code",
      "metadata": {
        "id": "RetauFpiYjKx",
        "colab_type": "code",
        "outputId": "55b9b038-24f3-48b2-bae6-6c643034f6ec",
        "colab": {
          "base_uri": "https://localhost:8080/",
          "height": 71
        }
      },
      "source": [
        "data = []\n",
        "for l in lines:\n",
        "   data += list(l)\n",
        "\n",
        "chars = list(set(data))\n",
        "\n",
        "m_char = \"<\"\n",
        "f_char = \">\"\n",
        "\n",
        "\n",
        "cats_dict = {\n",
        "    m_char : lines1,\n",
        "    f_char : lines2\n",
        "}\n",
        "\n",
        "chars.append(m_char)\n",
        "chars.append(f_char)\n",
        "\n",
        "data_size, vocab_size = len(data), len(chars)\n",
        "\n",
        "print('data has %d characters, %d unique.' % (data_size, vocab_size))\n",
        "\n",
        "n_chars = len(chars)\n",
        "\n",
        "print(chars)"
      ],
      "execution_count": 6,
      "outputs": [
        {
          "output_type": "stream",
          "text": [
            "data has 274545 characters, 31 unique.\n",
            "['l', 'n', 'v', 'm', '-', 'a', 'u', 'c', 'b', 'w', 'g', 'h', 'o', 'f', 'i', 'p', 'k', 'x', 't', ' ', 's', 'z', 'j', 'q', '.', 'd', 'r', 'y', 'e', '<', '>']\n"
          ],
          "name": "stdout"
        }
      ]
    },
    {
      "cell_type": "code",
      "metadata": {
        "id": "0sl2WMeWZlK7",
        "colab_type": "code",
        "outputId": "f024843e-bb9f-434e-b5d8-72da59f2da4a",
        "colab": {
          "base_uri": "https://localhost:8080/",
          "height": 71
        }
      },
      "source": [
        "char_to_ix = {ch:i for i, ch in enumerate(chars)}\n",
        "ix_to_char = {i:ch for i, ch in enumerate(chars)}\n",
        "print('char_to_ix', char_to_ix)\n",
        "print('ix_to_char', ix_to_char)"
      ],
      "execution_count": 7,
      "outputs": [
        {
          "output_type": "stream",
          "text": [
            "char_to_ix {'l': 0, 'n': 1, 'v': 2, 'm': 3, '-': 4, 'a': 5, 'u': 6, 'c': 7, 'b': 8, 'w': 9, 'g': 10, 'h': 11, 'o': 12, 'f': 13, 'i': 14, 'p': 15, 'k': 16, 'x': 17, 't': 18, ' ': 19, 's': 20, 'z': 21, 'j': 22, 'q': 23, '.': 24, 'd': 25, 'r': 26, 'y': 27, 'e': 28, '<': 29, '>': 30}\n",
            "ix_to_char {0: 'l', 1: 'n', 2: 'v', 3: 'm', 4: '-', 5: 'a', 6: 'u', 7: 'c', 8: 'b', 9: 'w', 10: 'g', 11: 'h', 12: 'o', 13: 'f', 14: 'i', 15: 'p', 16: 'k', 17: 'x', 18: 't', 19: ' ', 20: 's', 21: 'z', 22: 'j', 23: 'q', 24: '.', 25: 'd', 26: 'r', 27: 'y', 28: 'e', 29: '<', 30: '>'}\n"
          ],
          "name": "stdout"
        }
      ]
    },
    {
      "cell_type": "code",
      "metadata": {
        "id": "9DDWHPOcoJD0",
        "colab_type": "code",
        "colab": {}
      },
      "source": [
        "# cats = [\"male\", \"female\"]\n",
        "\n",
        "# n_cats = len(cats)\n",
        "\n",
        "# def one_hot_encode_cat(cat, n_cats):\n",
        "#   tensor = torch.zeros(n_cats)\n",
        "#   tensor[cats.index(cat)] = 1\n",
        "#   return tensor\n",
        "\n",
        "# print(one_hot_encode_cat(\"male\", n_cats))\n",
        "# print(one_hot_encode_cat(\"female\", n_cats))"
      ],
      "execution_count": 0,
      "outputs": []
    },
    {
      "cell_type": "code",
      "metadata": {
        "id": "e-Cbg-2MtU4A",
        "colab_type": "code",
        "colab": {}
      },
      "source": [
        "class Model(nn.Module):\n",
        "    def __init__(self, input_size, output_size, hidden_dim, n_layers, max_seq_length):\n",
        "        super(Model, self).__init__()\n",
        "\n",
        "        # Defining some parameters\n",
        "        self.hidden_dim = hidden_dim\n",
        "        self.n_layers = n_layers\n",
        "\n",
        "        #Defining the layers\n",
        "        # RNN Layer\n",
        "        self.rnn = nn.RNN(input_size, hidden_dim, n_layers, batch_first=True)   \n",
        "\n",
        "        # https://discuss.pytorch.org/t/could-someone-explain-batch-first-true-in-lstm/15402\n",
        "\n",
        "        # Fully connected layer\n",
        "        self.fc = nn.Linear(hidden_dim * max_seq_length, output_size)\n",
        "\n",
        "        self.dropout = nn.Dropout(0.1)\n",
        "        self.softmax = nn.LogSoftmax(dim=1)\n",
        "    \n",
        "    def forward(self, x):\n",
        "        \n",
        "        batch_size = x.size(0)\n",
        "\n",
        "        #Initializing hidden state for first input using method defined below\n",
        "        hidden = self.init_hidden(batch_size)\n",
        "\n",
        "        # Passing in the input and hidden state into the model and obtaining outputs\n",
        "        out, hidden = self.rnn(x, hidden)\n",
        "        # print(out.shape, 'rnn output snape')\n",
        "        # Reshaping the outputs such that it can be fit into the fully connected layer\n",
        "        # basically we are concating all the letters together. \n",
        "        # the size would be hidden_dim * max_seq_length\n",
        "        # since our purpose to predect the next character i.e a single character \n",
        "        # our network should output only a single character\n",
        "        out = out.contiguous().view(batch_size, -1)\n",
        "        # print(out.shape, \" new out shape\")\n",
        "        \n",
        "        \n",
        "        out = self.dropout(out)\n",
        "        out = self.fc(out)\n",
        "\n",
        "        # print(out.shape, 'single layer output shape')\n",
        "        \n",
        "        \n",
        "        out = self.softmax(out)\n",
        "\n",
        "        return out, hidden\n",
        "    \n",
        "    def init_hidden(self, batch_size):\n",
        "        # This method generates the first hidden state of zeros which we'll use in the forward pass\n",
        "        hidden = torch.zeros(self.n_layers, batch_size, self.hidden_dim).to(device)\n",
        "         # We'll send the tensor holding the hidden state to the device we specified earlier as well\n",
        "        return hidden"
      ],
      "execution_count": 0,
      "outputs": []
    },
    {
      "cell_type": "code",
      "metadata": {
        "id": "02086pDptYiz",
        "colab_type": "code",
        "colab": {}
      },
      "source": [
        "max_seq_length = 20\n",
        "# this will maximum length of a name\n",
        "# this is required to define the network\n",
        "\n",
        "model = Model(input_size=n_chars, output_size=n_chars, hidden_dim=12, n_layers=1, max_seq_length=max_seq_length)\n",
        "\n",
        "# We'll also set the model to the device that we defined earlier (default is CPU)\n",
        "model = model.to(device)\n",
        "\n",
        "# Define hyperparameters\n",
        "n_epochs = 1000\n",
        "lr=0.001\n",
        "\n",
        "# Define Loss, Optimizer\n",
        "criterion = nn.NLLLoss()\n",
        "optimizer = torch.optim.Adam(model.parameters(), lr=lr)"
      ],
      "execution_count": 0,
      "outputs": []
    },
    {
      "cell_type": "code",
      "metadata": {
        "id": "M9hiEzA3coj7",
        "colab_type": "code",
        "colab": {}
      },
      "source": [
        "def one_hot_encode_batch(sequence, dict_size, seq_len, batch_size):\n",
        "    # Creating a multi-dimensional array of zeros with the desired output shape\n",
        "\n",
        "    # we need to have all seq of same length or else cannot create this array\n",
        "    # if we don't have batch_size i.e if we process one input at a time. we \n",
        "    # don't need to have sequence of same length\n",
        "\n",
        "    tensor = torch.zeros(batch_size, seq_len, dict_size)\n",
        "\n",
        "    # len(sequence) and seq_len will be same in case when we are standaring the lenght!\n",
        "\n",
        "    # features = np.zeros((batch_size, seq_len, dict_size), dtype=np.float32)\n",
        "    \n",
        "    # Replacing the 0 at the relevant character index with a 1 to represent that character\n",
        "    for i in range(batch_size):\n",
        "        for li in range(len(sequence[i])):\n",
        "          tensor[i][li][sequence[i][li]] = 1\n",
        "    return tensor"
      ],
      "execution_count": 0,
      "outputs": []
    },
    {
      "cell_type": "code",
      "metadata": {
        "id": "g0XY_7rKbAZY",
        "colab_type": "code",
        "colab": {}
      },
      "source": [
        "# general utility function but not used as such\n",
        "def one_hot_encode(line, dict_size):\n",
        "    tensor = torch.zeros(len(line), dict_size)\n",
        "    for li in range(len(line)):\n",
        "        tensor[li][line[li]] = 1\n",
        "    return tensor"
      ],
      "execution_count": 0,
      "outputs": []
    },
    {
      "cell_type": "code",
      "metadata": {
        "id": "Us7FsaDDrYyR",
        "colab_type": "code",
        "colab": {}
      },
      "source": [
        "def targetTensor(seq):\n",
        "  tensor = torch.zeros(len(seq))\n",
        "  for i in range(len(seq)):\n",
        "    line = seq[i]\n",
        "    tensor[i] = line\n",
        "  return tensor.long()"
      ],
      "execution_count": 0,
      "outputs": []
    },
    {
      "cell_type": "markdown",
      "metadata": {
        "id": "IzRBVmXW7hd0",
        "colab_type": "text"
      },
      "source": [
        "Target tensor is a simple tensor of indexes.\n",
        "The reason for this because we are use NN Loss, and for we need to provide indexes of character. Its basically is a classification problem with characters a label. \n",
        "\n",
        "So our network will output software of possible charaters and we need to compare that with index's of the actual character \n",
        "\n",
        "This is important to understand"
      ]
    },
    {
      "cell_type": "code",
      "metadata": {
        "id": "un74TM8vj04w",
        "colab_type": "code",
        "outputId": "2b22731e-339e-4fd2-d2c0-2580fdaf9f64",
        "colab": {
          "base_uri": "https://localhost:8080/",
          "height": 589
        }
      },
      "source": [
        "def train(epoch = -1):\n",
        "  tloss = 0\n",
        "  itrloss = 0\n",
        "\n",
        "  for key, lines in cats_dict.items():\n",
        "    for line_no in range(len(lines)):\n",
        "      name = lines[line_no]\n",
        "      name = name.strip()\n",
        "\n",
        "      if len(name) <= 1:\n",
        "        continue\n",
        "\n",
        "      input_seq_idx = []\n",
        "      target_char_idx = []\n",
        "      if len(name) >= max_seq_length: \n",
        "        # print(name , \" bigger than max seq length FYI\")\n",
        "        name = name[0:max_seq_length - 1]\n",
        "\n",
        "      name = key + name\n",
        "      \n",
        "      for i in range(1, len(name)):\n",
        "        # input_seq = name[0:i] if i != 0 else start_char\n",
        "        input_seq = name[0:i]\n",
        "        target_char = name[i]\n",
        "\n",
        "        # input_seq = input_seq + end_char\n",
        "        input_seq = input_seq\n",
        "\n",
        "        # print(input_seq,\" ==== \", target_char)\n",
        "\n",
        "        input_seq_idx.append([char_to_ix[ch] for ch in input_seq])\n",
        "        target_char_idx.append(char_to_ix[target_char])\n",
        "\n",
        "      input_encoded = one_hot_encode_batch(input_seq_idx, n_chars, max_seq_length, len(input_seq_idx))\n",
        "      target_encoded = targetTensor(target_char_idx)\n",
        "\n",
        "      input_encoded = input_encoded.to(device)\n",
        "      target_encoded = target_encoded.to(device)\n",
        "      # print(input_encoded.shape, \"input shape\")\n",
        "      \n",
        "\n",
        "      optimizer.zero_grad()\n",
        "      output, hidden = model(input_encoded)\n",
        "      output = output.to(device)\n",
        "      # output = output\n",
        "\n",
        "      # print(output.shape, 'final nn ouput shape')\n",
        "      # print(target_encoded.shape, \"target shape\")\n",
        "      # print(target_encoded, \"target\")\n",
        "\n",
        "      # The input is expected to contain scores for each class.\n",
        "      # input has to be a 2D Tensor of size (minibatch, C).\n",
        "      # This criterion expects a class index (0 to C-1) as the target for each value of a 1D tensor of size minibatch\n",
        "\n",
        "      loss = criterion(output, target_encoded)\n",
        "      loss.backward() # Does backpropagation and calculates gradients\n",
        "      optimizer.step() # Updates the weights accordingly\n",
        "      tloss += loss \n",
        "      itrloss += loss\n",
        "\n",
        "      \n",
        "\n",
        "      if line_no%1000 == 0 and epoch == -1:\n",
        "        print(\"Iteration Loss: {}/{}...\".format(line_no, itrloss/1000))\n",
        "        prediction = output.argmax(dim=1)\n",
        "        itrloss = 0\n",
        "\n",
        "  print(\"Epoch: {}/ Loss: {}\".format(epoch, tloss / len(lines)))\n",
        "  return tloss\n",
        "\n",
        "train()\n",
        "\n",
        "\n"
      ],
      "execution_count": 14,
      "outputs": [
        {
          "output_type": "stream",
          "text": [
            "Iteration Loss: 0/0.003416462102904916...\n",
            "Iteration Loss: 1000/2.821967840194702...\n",
            "Iteration Loss: 2000/2.6630442142486572...\n",
            "Iteration Loss: 3000/2.5244359970092773...\n",
            "Iteration Loss: 4000/2.3408658504486084...\n",
            "Iteration Loss: 5000/2.314293384552002...\n",
            "Iteration Loss: 6000/2.2525391578674316...\n",
            "Iteration Loss: 7000/2.238591432571411...\n",
            "Iteration Loss: 8000/2.2567570209503174...\n",
            "Iteration Loss: 9000/2.227295160293579...\n",
            "Iteration Loss: 10000/2.220383644104004...\n",
            "Iteration Loss: 11000/2.1699678897857666...\n",
            "Iteration Loss: 12000/2.1516005992889404...\n",
            "Iteration Loss: 13000/2.156041383743286...\n",
            "Iteration Loss: 14000/2.1162173748016357...\n",
            "Iteration Loss: 15000/2.1084890365600586...\n",
            "Iteration Loss: 0/0.8259483575820923...\n",
            "Iteration Loss: 1000/2.519371271133423...\n",
            "Iteration Loss: 2000/2.330448865890503...\n",
            "Iteration Loss: 3000/2.318242073059082...\n",
            "Iteration Loss: 4000/2.2764854431152344...\n",
            "Iteration Loss: 5000/2.225952625274658...\n",
            "Iteration Loss: 6000/2.2224717140197754...\n",
            "Iteration Loss: 7000/2.244568109512329...\n",
            "Iteration Loss: 8000/2.210829973220825...\n",
            "Iteration Loss: 9000/2.2020645141601562...\n",
            "Iteration Loss: 10000/2.185424566268921...\n",
            "Iteration Loss: 11000/2.1621639728546143...\n",
            "Iteration Loss: 12000/2.1773786544799805...\n",
            "Iteration Loss: 13000/2.1291861534118652...\n",
            "Iteration Loss: 14000/2.153308153152466...\n",
            "Epoch: -1/ Loss: 4.6163201332092285\n"
          ],
          "name": "stdout"
        },
        {
          "output_type": "execute_result",
          "data": {
            "text/plain": [
              "tensor(68533.8906, device='cuda:0', grad_fn=<AddBackward0>)"
            ]
          },
          "metadata": {
            "tags": []
          },
          "execution_count": 14
        }
      ]
    },
    {
      "cell_type": "code",
      "metadata": {
        "id": "NcGzmpcuPkSv",
        "colab_type": "code",
        "outputId": "2b7f6c44-ef24-4ded-ba25-15a4249b15fa",
        "colab": {
          "base_uri": "https://localhost:8080/",
          "height": 34
        }
      },
      "source": [
        "import random\n",
        "\n",
        "def eval():\n",
        "  x = random.randrange(100,500)\n",
        "  # print(\"index\" , x)\n",
        "  eval_lines = lines[x:x+200]\n",
        "\n",
        "  input_seq_idx = []\n",
        "  target_char_idx = []\n",
        "  for line_no in range(len(eval_lines)):\n",
        "      name = lines[line_no]\n",
        "      name = name.strip()\n",
        "\n",
        "      if len(name) == 0:\n",
        "        continue\n",
        "\n",
        "      if len(name) >= max_seq_length: \n",
        "        name = name[0:max_seq_length - 1]\n",
        "      \n",
        "      for i in range(1, len(name)):\n",
        "        input_seq = name[0:i]\n",
        "        target_char = name[i]\n",
        "\n",
        "        # input_seq = input_seq + end_char\n",
        "        input_seq = input_seq\n",
        "\n",
        "        input_seq_idx.append([char_to_ix[ch] for ch in input_seq])\n",
        "        target_char_idx.append(char_to_ix[target_char])\n",
        "\n",
        "  input_encoded = one_hot_encode_batch(input_seq_idx, n_chars, max_seq_length, len(input_seq_idx))\n",
        "  target_encoded = targetTensor(target_char_idx)\n",
        "\n",
        "  input_encoded = input_encoded.to(device)\n",
        "  target_encoded = target_encoded.to(device)\n",
        "\n",
        "  # print(input_encoded.shape, \"input shape\")\n",
        "  # print(target_encoded.shape, \"target shape\")\n",
        "\n",
        "  with torch.no_grad():\n",
        "\n",
        "    output, _ = model(input_encoded)\n",
        "\n",
        "    output = output.to(device)\n",
        "\n",
        "    prediction = output.argmax(dim=1).cpu()\n",
        "    acc = accuracy_score(target_encoded.cpu(), prediction)\n",
        "    print(\"Accuracy {}\".format(acc))\n",
        "\n",
        "\n",
        "eval()"
      ],
      "execution_count": 15,
      "outputs": [
        {
          "output_type": "stream",
          "text": [
            "Accuracy 0.1866096866096866\n"
          ],
          "name": "stdout"
        }
      ]
    },
    {
      "cell_type": "code",
      "metadata": {
        "id": "a73RyzVgPgMY",
        "colab_type": "code",
        "outputId": "02c21a84-ee7c-40c1-b0b8-f6b21e4565d4",
        "colab": {
          "base_uri": "https://localhost:8080/",
          "height": 363
        }
      },
      "source": [
        "epochs = 20\n",
        "for epoch in range(epochs):\n",
        "  train(epoch)\n",
        "  # eval()"
      ],
      "execution_count": 16,
      "outputs": [
        {
          "output_type": "stream",
          "text": [
            "Epoch: 0/ Loss: 4.286904811859131\n",
            "Epoch: 1/ Loss: 4.184067249298096\n",
            "Epoch: 2/ Loss: 4.130712032318115\n",
            "Epoch: 3/ Loss: 4.097538471221924\n",
            "Epoch: 4/ Loss: 4.073625564575195\n",
            "Epoch: 5/ Loss: 4.057404518127441\n",
            "Epoch: 6/ Loss: 4.044101715087891\n",
            "Epoch: 7/ Loss: 4.034395694732666\n",
            "Epoch: 8/ Loss: 4.0260491371154785\n",
            "Epoch: 9/ Loss: 4.017147541046143\n",
            "Epoch: 10/ Loss: 4.007729530334473\n",
            "Epoch: 11/ Loss: 4.00342321395874\n",
            "Epoch: 12/ Loss: 3.9968605041503906\n",
            "Epoch: 13/ Loss: 3.9957475662231445\n",
            "Epoch: 14/ Loss: 3.9902591705322266\n",
            "Epoch: 15/ Loss: 3.9878318309783936\n",
            "Epoch: 16/ Loss: 3.984039068222046\n",
            "Epoch: 17/ Loss: 3.9872138500213623\n",
            "Epoch: 18/ Loss: 3.9813859462738037\n",
            "Epoch: 19/ Loss: 3.980846881866455\n"
          ],
          "name": "stdout"
        }
      ]
    },
    {
      "cell_type": "code",
      "metadata": {
        "id": "7kTZ-4IVjakH",
        "colab_type": "code",
        "outputId": "11d8b863-64d6-4601-c1aa-ebabcd69964e",
        "colab": {
          "base_uri": "https://localhost:8080/",
          "height": 797
        }
      },
      "source": [
        "def generate(input_seq_sample):\n",
        "  # input_seq_sample = input_seq_sample + end_char\n",
        "  input_seq_sample = input_seq_sample\n",
        "  # print(input_seq_sample)\n",
        "  input_seq_idx = []\n",
        "  input_seq_idx.append([char_to_ix[ch] for ch in input_seq_sample])\n",
        "  input_encoded = one_hot_encode_batch(input_seq_idx, n_chars, max_seq_length, len(input_seq_idx))\n",
        "\n",
        "  input_encoded = input_encoded.to(device)\n",
        "\n",
        "  output, _ = model(input_encoded)\n",
        "\n",
        "  prediction = output.argmax(dim=1).cpu().numpy().data\n",
        "\n",
        "  text = [ix_to_char[idx] for idx in prediction ]\n",
        "  # print(text)\n",
        "\n",
        "  return \"\".join(text)\n",
        "\n",
        "\n",
        "def generate_name(input_seq_sample, name_length):\n",
        "  print(\"generate name with starting seq '{}' and of size '{}'\".format(input_seq_sample, name_length))\n",
        "\n",
        "  for i in range(name_length):\n",
        "    ret = generate(input_seq_sample)\n",
        "    # print(input_seq_sample, \" :::: \", ret)\n",
        "    input_seq_sample += ret\n",
        "\n",
        "  print(\"Name Generated {}\".format(input_seq_sample))\n",
        "\n",
        "  return input_seq_sample\n",
        "\n",
        "def run_random_generation(cat):\n",
        "  init_seq_size = random.randrange(0,2)\n",
        "  init_seq_index = random.randrange(0, len(chars) - init_seq_size)\n",
        "  init_seq = chars[init_seq_index: init_seq_index + init_seq_size]\n",
        "\n",
        "  input_seq_sample = cat + \"\".join(init_seq)\n",
        "  name_length = random.randrange(1, max_seq_length-len(input_seq_sample))\n",
        "\n",
        "  generate_name(input_seq_sample,name_length)\n",
        "\n",
        "  \n",
        "\n",
        "for i in range(10):\n",
        "  run_random_generation(m_char)\n",
        "  run_random_generation(f_char)\n",
        "\n",
        "generate_name(m_char, 10)\n",
        "generate_name(f_char, 10)"
      ],
      "execution_count": 21,
      "outputs": [
        {
          "output_type": "stream",
          "text": [
            "generate name with starting seq '<a' and of size '16'\n",
            "Name Generated <ankit singharingi\n",
            "generate name with starting seq '>h' and of size '10'\n",
            "Name Generated >haresh sing\n",
            "generate name with starting seq '<b' and of size '5'\n",
            "Name Generated <bhar k\n",
            "generate name with starting seq '>' and of size '1'\n",
            "Name Generated >s\n",
            "generate name with starting seq '<' and of size '14'\n",
            "Name Generated <sharman singhh\n",
            "generate name with starting seq '>v' and of size '3'\n",
            "Name Generated >vino\n",
            "generate name with starting seq '<s' and of size '11'\n",
            "Name Generated <shiv kumarar\n",
            "generate name with starting seq '>' and of size '12'\n",
            "Name Generated >shand kumarr\n",
            "generate name with starting seq '<m' and of size '14'\n",
            "Name Generated <mohonum kumarir\n",
            "generate name with starting seq '>' and of size '5'\n",
            "Name Generated >shara\n",
            "generate name with starting seq '<k' and of size '7'\n",
            "Name Generated <karender\n",
            "generate name with starting seq '>c' and of size '6'\n",
            "Name Generated >chand k\n",
            "generate name with starting seq '<.' and of size '8'\n",
            "Name Generated <.lilal si\n",
            "generate name with starting seq '>j' and of size '5'\n",
            "Name Generated >jitesh\n",
            "generate name with starting seq '<q' and of size '2'\n",
            "Name Generated <qap\n",
            "generate name with starting seq '>' and of size '15'\n",
            "Name Generated >shivan kumarrar\n",
            "generate name with starting seq '<-' and of size '10'\n",
            "Name Generated <-ram nandar\n",
            "generate name with starting seq '>' and of size '15'\n",
            "Name Generated >sharum singhali\n",
            "generate name with starting seq '<z' and of size '9'\n",
            "Name Generated <zajesh kum\n",
            "generate name with starting seq '>d' and of size '5'\n",
            "Name Generated >deepak\n",
            "generate name with starting seq '<' and of size '10'\n",
            "Name Generated <shital kum\n",
            "generate name with starting seq '>' and of size '10'\n",
            "Name Generated >sharam  bh\n"
          ],
          "name": "stdout"
        },
        {
          "output_type": "execute_result",
          "data": {
            "text/plain": [
              "'>sharam  bh'"
            ]
          },
          "metadata": {
            "tags": []
          },
          "execution_count": 21
        }
      ]
    },
    {
      "cell_type": "markdown",
      "metadata": {
        "id": "1cLRUOxziUsb",
        "colab_type": "text"
      },
      "source": [
        "\">\" means Male names\n",
        "\n",
        "\"<\" means Female *names*\n"
      ]
    },
    {
      "cell_type": "code",
      "metadata": {
        "id": "jMtQivVM9_Su",
        "colab_type": "code",
        "colab": {}
      },
      "source": [
        "# criterion = nn.NLLLoss()\n",
        "\n",
        "# output = torch.randn(10, 120).float()\n",
        "# target = torch.FloatTensor(10).uniform_(0, 120).long()\n",
        "\n",
        "# print(output.shape)\n",
        "# print(target.shape)\n",
        "# print(target)\n",
        "\n",
        "# loss = criterion(output, target)"
      ],
      "execution_count": 0,
      "outputs": []
    }
  ]
}