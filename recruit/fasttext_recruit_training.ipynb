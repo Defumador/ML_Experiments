{
  "nbformat": 4,
  "nbformat_minor": 0,
  "metadata": {
    "colab": {
      "name": "fasttext -- recruit training",
      "provenance": [],
      "collapsed_sections": [],
      "include_colab_link": true
    },
    "kernelspec": {
      "name": "python3",
      "display_name": "Python 3"
    }
  },
  "cells": [
    {
      "cell_type": "markdown",
      "metadata": {
        "id": "view-in-github",
        "colab_type": "text"
      },
      "source": [
        "<a href=\"https://colab.research.google.com/github/manishiitg/ML_Experiments/blob/master/recruit/fasttext_recruit_training.ipynb\" target=\"_parent\"><img src=\"https://colab.research.google.com/assets/colab-badge.svg\" alt=\"Open In Colab\"/></a>"
      ]
    },
    {
      "cell_type": "code",
      "metadata": {
        "id": "5yh9iimbZVy5",
        "colab_type": "code",
        "outputId": "244af316-ed1a-4352-f68d-b49df0fecd45",
        "colab": {
          "base_uri": "https://localhost:8080/",
          "height": 330
        }
      },
      "source": [
        "!pip install Flask\n",
        "!pip install flask_pymongo"
      ],
      "execution_count": 0,
      "outputs": [
        {
          "output_type": "stream",
          "text": [
            "Requirement already satisfied: Flask in /usr/local/lib/python3.6/dist-packages (1.1.1)\n",
            "Requirement already satisfied: click>=5.1 in /usr/local/lib/python3.6/dist-packages (from Flask) (7.0)\n",
            "Requirement already satisfied: Jinja2>=2.10.1 in /usr/local/lib/python3.6/dist-packages (from Flask) (2.10.3)\n",
            "Requirement already satisfied: Werkzeug>=0.15 in /usr/local/lib/python3.6/dist-packages (from Flask) (0.16.0)\n",
            "Requirement already satisfied: itsdangerous>=0.24 in /usr/local/lib/python3.6/dist-packages (from Flask) (1.1.0)\n",
            "Requirement already satisfied: MarkupSafe>=0.23 in /usr/local/lib/python3.6/dist-packages (from Jinja2>=2.10.1->Flask) (1.1.1)\n",
            "Collecting flask_pymongo\n",
            "  Downloading https://files.pythonhosted.org/packages/67/b8/0322016b9ce09a64fba9018211e7c35fd51380527ffd9ea248744f389239/Flask_PyMongo-2.3.0-py2.py3-none-any.whl\n",
            "Requirement already satisfied: Flask>=0.11 in /usr/local/lib/python3.6/dist-packages (from flask_pymongo) (1.1.1)\n",
            "Requirement already satisfied: PyMongo>=3.3 in /usr/local/lib/python3.6/dist-packages (from flask_pymongo) (3.10.0)\n",
            "Requirement already satisfied: itsdangerous>=0.24 in /usr/local/lib/python3.6/dist-packages (from Flask>=0.11->flask_pymongo) (1.1.0)\n",
            "Requirement already satisfied: click>=5.1 in /usr/local/lib/python3.6/dist-packages (from Flask>=0.11->flask_pymongo) (7.0)\n",
            "Requirement already satisfied: Werkzeug>=0.15 in /usr/local/lib/python3.6/dist-packages (from Flask>=0.11->flask_pymongo) (0.16.0)\n",
            "Requirement already satisfied: Jinja2>=2.10.1 in /usr/local/lib/python3.6/dist-packages (from Flask>=0.11->flask_pymongo) (2.10.3)\n",
            "Requirement already satisfied: MarkupSafe>=0.23 in /usr/local/lib/python3.6/dist-packages (from Jinja2>=2.10.1->Flask>=0.11->flask_pymongo) (1.1.1)\n",
            "Installing collected packages: flask-pymongo\n",
            "Successfully installed flask-pymongo-2.3.0\n"
          ],
          "name": "stdout"
        }
      ]
    },
    {
      "cell_type": "code",
      "metadata": {
        "id": "1TkLQAc8r92s",
        "colab_type": "code",
        "outputId": "5c487489-d977-41c0-8cbb-9ad85e8d7d06",
        "colab": {
          "base_uri": "https://localhost:8080/",
          "height": 138
        }
      },
      "source": [
        "!rm -rf fastText\n",
        "!git clone https://github.com/facebookresearch/fastText.git\n",
        "!cd fastText && sudo pip install . > /dev/null 2>&1 && sudo python setup.py install > /dev/null 2>&1"
      ],
      "execution_count": 0,
      "outputs": [
        {
          "output_type": "stream",
          "text": [
            "Cloning into 'fastText'...\n",
            "remote: Enumerating objects: 54, done.\u001b[K\n",
            "remote: Counting objects: 100% (54/54), done.\u001b[K\n",
            "remote: Compressing objects: 100% (47/47), done.\u001b[K\n",
            "remote: Total 3585 (delta 23), reused 18 (delta 4), pack-reused 3531\u001b[K\n",
            "Receiving objects: 100% (3585/3585), 8.10 MiB | 26.00 MiB/s, done.\n",
            "Resolving deltas: 100% (2247/2247), done.\n"
          ],
          "name": "stdout"
        }
      ]
    },
    {
      "cell_type": "code",
      "metadata": {
        "id": "lgbrhQt2dcHt",
        "colab_type": "code",
        "colab": {}
      },
      "source": [
        "#!wget wget https://dl.fbaipublicfiles.com/fasttext/data/cooking.stackexchange.tar.gz\n",
        "#!tar xvzf cooking.stackexchange.tar.gz\n",
        "# !head cooking.stackexchange.txt\n",
        "\n",
        "# !rm -rf data\n",
        "# !mkdir data\n",
        "# !wget -c http://mattmahoney.net/dc/enwik9.zip -P data\n",
        "# !unzip data/enwik9.zip -d data     \n",
        "# !head -c 200 data/fil9 "
      ],
      "execution_count": 0,
      "outputs": []
    },
    {
      "cell_type": "code",
      "metadata": {
        "id": "VNYs38-RRv5-",
        "colab_type": "code",
        "colab": {}
      },
      "source": [
        "from flask import Flask\n",
        "from flask_pymongo import PyMongo\n",
        "from bs4 import BeautifulSoup\n",
        "from nltk.tokenize import ToktokTokenizer\n",
        "from nltk import sent_tokenize, word_tokenize"
      ],
      "execution_count": 0,
      "outputs": []
    },
    {
      "cell_type": "code",
      "metadata": {
        "id": "W44FxHWMR_0S",
        "colab_type": "code",
        "outputId": "1fa9cacf-87ad-4a8c-8c3f-d372116db9c6",
        "colab": {
          "base_uri": "https://localhost:8080/",
          "height": 88
        }
      },
      "source": [
        "#__label__sauce __label__cheese How much does potato starch affect a cheese sauce recipe?\n",
        "# __label__food-safety __label__acidity Dangerous pathogens capable of growing in acidic environments\n",
        "# __label__cast-iron __label__stove How do I cover up the white spots on my cast iron stove?\n",
        "# __label__restaurant Michelin Three Star Restaurant; but if the chef is not there\n",
        "# sample format needed\n",
        "\n",
        "\n",
        "app = Flask(__name__)\n",
        "app.config[\"MONGO_URI\"] = \"\"\n",
        "mongo = PyMongo(app)\n",
        "\n",
        "\n",
        "def cleanMe(html):\n",
        "    # create a new bs4 object from the html data loaded\n",
        "    \n",
        "    # print(html)\n",
        "    soup = BeautifulSoup(html, \"html.parser\")\n",
        "    # remove all javascript and stylesheet code\n",
        "    for script in soup([\"script\", \"style\"]):\n",
        "        script.extract()\n",
        "    # get text\n",
        "    text = soup.get_text(separator=' ')\n",
        "\n",
        "    # break into lines and remove leading and trailing space on each\n",
        "    # lines = (line.strip() for line in text.splitlines())\n",
        "    lines = text.splitlines()\n",
        "    # break multi-headlines into a line each\n",
        "    chunks = (phrase.strip() for line in lines for phrase in line.split(\"  \"))\n",
        "    # drop blank lines\n",
        "    # text = '\\n'.join(chunk for chunk in chunks if chunk)\n",
        "    chunks = filter(None, chunks)\n",
        "    return \" \".join(chunks)\n",
        "\n",
        "ret = mongo.db.naukri_candidates.find({})\n",
        "\n",
        "all_lines = []\n",
        "\n",
        "\n",
        "for row in ret:\n",
        "  education = row[\"education\"]\n",
        "  workExperiance = row[\"workExperiance\"]\n",
        "  summary = row['summary']\n",
        "  key_skills = row[\"key_skills\"]\n",
        "  projects = row[\"projects\"]\n",
        "  # extra_data = row[\"extra_data\"]\n",
        "\n",
        "  summary_str = summary.splitlines()\n",
        "\n",
        "  education_string = []\n",
        "  for edu in education:\n",
        "      education_string.append(edu[\"type\"]  + \" \" + edu[\"degree\"] + \" \" + edu[\"specific\"] + \" \" + edu[\"university\"] + \" \" + edu[\"year\"])\n",
        "\n",
        "  work_exp_string = []\n",
        "  for work in workExperiance:\n",
        "      work_exp_string.append(work[\"company_name\"]  + \" \" + work[\"designation\"] + \" \" + work[\"date\"] + \" \" + cleanMe(work[\"desc\"]))\n",
        "\n",
        "  key_skills_str =  \" \".join(key_skills.split(\",\")).replace(\"Key Skills:\",\"\")\n",
        "\n",
        "  project_str = []\n",
        "  for project in projects:\n",
        "      project_str.append(cleanMe(project))\n",
        "\n",
        "  all_lines.extend(summary_str)\n",
        "  all_lines.extend(education_string)\n",
        "  all_lines.extend(work_exp_string)\n",
        "  all_lines.append(key_skills_str)\n",
        "  all_lines.extend(project_str)\n",
        "\n",
        "      # print(row)\n",
        "\n",
        "print(\"total lines \", len(all_lines))\n",
        "            "
      ],
      "execution_count": 0,
      "outputs": [
        {
          "output_type": "stream",
          "text": [
            "/usr/local/lib/python3.6/dist-packages/bs4/__init__.py:273: UserWarning: \"b'.'\" looks like a filename, not markup. You should probably open this file and pass the filehandle into Beautiful Soup.\n",
            "  ' Beautiful Soup.' % markup)\n"
          ],
          "name": "stderr"
        },
        {
          "output_type": "stream",
          "text": [
            "total lines  369931\n"
          ],
          "name": "stdout"
        }
      ]
    },
    {
      "cell_type": "code",
      "metadata": {
        "id": "GbVkzNFInsOA",
        "colab_type": "code",
        "outputId": "07e338c7-5f02-4e13-d85c-2048cc3dfcec",
        "colab": {
          "base_uri": "https://localhost:8080/",
          "height": 51
        }
      },
      "source": [
        "import nltk\n",
        "nltk.download('punkt')\n",
        "\n",
        "toktok = ToktokTokenizer()\n",
        "\n",
        "\n",
        "open('fastText.train', 'w').close()\n",
        "\n",
        "with open(\"fastText.train\", 'a') as the_file:\n",
        "  for line in all_lines:\n",
        "    tokens = [toktok.tokenize(sent) for sent in sent_tokenize(line)]\n",
        "    for sent in tokens:\n",
        "      the_file.write(\" \".join(sent) + '\\n')"
      ],
      "execution_count": 0,
      "outputs": [
        {
          "output_type": "stream",
          "text": [
            "[nltk_data] Downloading package punkt to /root/nltk_data...\n",
            "[nltk_data]   Package punkt is already up-to-date!\n"
          ],
          "name": "stdout"
        }
      ]
    },
    {
      "cell_type": "code",
      "metadata": {
        "id": "a8d6u8RSh4zJ",
        "colab_type": "code",
        "outputId": "ef6bf9dd-4d5c-4bfc-abdc-117fd3c3a847",
        "colab": {
          "base_uri": "https://localhost:8080/",
          "height": 382
        }
      },
      "source": [
        "!head -n 20 fastText.train"
      ],
      "execution_count": 0,
      "outputs": [
        {
          "output_type": "stream",
          "text": [
            "Offering 3.5 years of experience in IT , including 1.5 years of experience as Admin &amp; Developer - ServiceNow in Pradyumna\n",
            "Infotech ( P ) Ltd. ; skilled in System Administration , Automation , Build Engineering , Configuration Management , Monitoring ,\n",
            "Debugging issues of large scale systems .\n",
            "Undergone training in configuring ServiceNow tool for various IT Service Management processes like Incident , Problem , Service\n",
            "Request , Change Management , CMDB and Knowledge Management .\n",
            "A self motivated person with willingness to learn new skills .\n",
            "Adept in analyzing information system needs , evaluating end-user\n",
            "requirements &amp; custom designing solutions .\n",
            "Expert in serving as the single point of contact between the customer community ( internal and external customers ) and the\n",
            "software development team through which requirements flow .\n",
            "Nimble- fingered in monitoring and controlling data security within guidelines to ensure compliance and report on possible\n",
            "improvements .\n",
            "UG : B.Com ( Commerce ) Dayal Singh College , New Delhi 1997\n",
            "Pradyumna Infotech Pvt Ltd. , Software Engineer- Admin &amp; Developer -ServiceNow Jun 2016 to Till Date Growth Path : Software Engineer- Admin &amp; Developer - ServiceNow &#124; &#124; Since 11 Apr ' 18 Associate QA Engineer- Test Engineer ( Manual Testing ) &#124; &#124; 11 th Apr ' 17 - 11 th Apr ' 18 Quality Trainee - Test Engineer ( Manual Testing ) &#124; &#124; 6 th Jun ' 16 to 11 Apr ' 17 Key Deliverables : Responsible for Service Now User Interface and User administration operations .\n",
            "Accountable for the Service Now Scripting , ITIL Process and ITSM best practices Creating groups and users along with their mapping , involve in working with Reference fields , lists and filter as well as the Service Catalog Liable for importing data via Import sets and also have exposure in creation , updating Knowledge base Responsible for the platform based scripting : business rules , client scripts , UI scripts , script include , UI Policies , UI actions , ACLs , Workflows , and Inbound Actions ; involve in the ServiceNow CMDB Integration Handling the REST API Integrations with different tools and creating Scoped Application .\n",
            "Ensuring the System Properties , Email notifications , Reports , Scheduled jobs , Access controls , Import sets , Inbounds .\n",
            "Interacting with functional/process owners to understand the business processes and new requirements .\n",
            "Project Handled Implemented the : o Change Management , Incident Management and Knowledge Management o Workflows for automating the Service Request fulfillment process o Template based Email Integration for creating the incidents automatically Notably , created : o Client Scripts , Script Includes and UI Policies .\n",
            "o Used Glide Scripting for creating Business rules o Buttons and context menus both on form and lists using UI actions Custom Tables , Fields , Choices , Application Menus , Modules and List Controls .\n",
            "data sources and used it for data loading by creating transform maps Email Inbound and Customized Email Notifications , Events , UI Messages and Email Templates as per client requirement Customized roles and ACL ' s to provide a controlled access to data\n"
          ],
          "name": "stdout"
        }
      ]
    },
    {
      "cell_type": "code",
      "metadata": {
        "id": "Hz9gMj39FWPw",
        "colab_type": "code",
        "outputId": "980c1b4b-9c9a-4fba-95dd-fddac31787d2",
        "colab": {
          "base_uri": "https://localhost:8080/",
          "height": 589
        }
      },
      "source": [
        "!git clone https://github.com/facebookresearch/fastText.git\n",
        "!cd fastText && mkdir build \n",
        "!cd fastText/build && cmake .. && make && make install"
      ],
      "execution_count": 0,
      "outputs": [
        {
          "output_type": "stream",
          "text": [
            "fatal: destination path 'fastText' already exists and is not an empty directory.\n",
            "mkdir: cannot create directory ‘build’: File exists\n",
            "-- Configuring done\n",
            "-- Generating done\n",
            "-- Build files have been written to: /content/fastText/build\n",
            "[ 31%] Built target fasttext-static_pic\n",
            "[ 63%] Built target fasttext-static\n",
            "[ 68%] Built target fasttext-bin\n",
            "[100%] Built target fasttext-shared\n",
            "[ 31%] Built target fasttext-static_pic\n",
            "[ 63%] Built target fasttext-static\n",
            "[ 68%] Built target fasttext-bin\n",
            "[100%] Built target fasttext-shared\n",
            "\u001b[36mInstall the project...\u001b[0m\n",
            "-- Install configuration: \"\"\n",
            "-- Up-to-date: /usr/local/lib/libfasttext.so\n",
            "-- Up-to-date: /usr/local/lib/libfasttext.a\n",
            "-- Up-to-date: /usr/local/lib/libfasttext_pic.a\n",
            "-- Up-to-date: /usr/local/bin/fasttext\n",
            "-- Up-to-date: /usr/local/include/fasttext/args.h\n",
            "-- Up-to-date: /usr/local/include/fasttext/autotune.h\n",
            "-- Up-to-date: /usr/local/include/fasttext/densematrix.h\n",
            "-- Up-to-date: /usr/local/include/fasttext/dictionary.h\n",
            "-- Up-to-date: /usr/local/include/fasttext/fasttext.h\n",
            "-- Up-to-date: /usr/local/include/fasttext/loss.h\n",
            "-- Up-to-date: /usr/local/include/fasttext/matrix.h\n",
            "-- Up-to-date: /usr/local/include/fasttext/meter.h\n",
            "-- Up-to-date: /usr/local/include/fasttext/model.h\n",
            "-- Up-to-date: /usr/local/include/fasttext/productquantizer.h\n",
            "-- Up-to-date: /usr/local/include/fasttext/quantmatrix.h\n",
            "-- Up-to-date: /usr/local/include/fasttext/real.h\n",
            "-- Up-to-date: /usr/local/include/fasttext/utils.h\n",
            "-- Up-to-date: /usr/local/include/fasttext/vector.h\n"
          ],
          "name": "stdout"
        }
      ]
    },
    {
      "cell_type": "code",
      "metadata": {
        "id": "oQENLDfP-Vtd",
        "colab_type": "code",
        "outputId": "a1b6e276-bd24-4c78-fd6c-b7ff9fd34c88",
        "colab": {
          "base_uri": "https://localhost:8080/",
          "height": 86
        }
      },
      "source": [
        "!fasttext skipgram -input fastText.train -output recruit_fasttext_nosub -dim 300 --minCount 5"
      ],
      "execution_count": 0,
      "outputs": [
        {
          "output_type": "stream",
          "text": [
            "Read 22M words\n",
            "Number of words:  64168\n",
            "Number of labels: 0\n",
            "Progress: 100.0% words/sec/thread:    6396 lr:  0.000000 avg.loss:  1.621207 ETA:   0h 0m 0s\n"
          ],
          "name": "stdout"
        }
      ]
    },
    {
      "cell_type": "code",
      "metadata": {
        "id": "Q_8t42TuR7Xu",
        "colab_type": "code",
        "colab": {}
      },
      "source": [
        "# model = fasttext.train_unsupervised('fastText.train',verbose=True, dim=300)"
      ],
      "execution_count": 0,
      "outputs": []
    },
    {
      "cell_type": "code",
      "metadata": {
        "id": "dkZUdR72HFoR",
        "colab_type": "code",
        "colab": {}
      },
      "source": [
        "# model.save_model(\"recruit_fasttext.bin\")"
      ],
      "execution_count": 0,
      "outputs": []
    },
    {
      "cell_type": "code",
      "metadata": {
        "id": "3XwtQBwiQe3Q",
        "colab_type": "code",
        "outputId": "bb77c332-7e5c-46eb-de53-e267eba68f8d",
        "colab": {
          "base_uri": "https://localhost:8080/",
          "height": 123
        }
      },
      "source": [
        "from google.colab import drive\n",
        "drive.mount('/content/drive')"
      ],
      "execution_count": 0,
      "outputs": [
        {
          "output_type": "stream",
          "text": [
            "Go to this URL in a browser: https://accounts.google.com/o/oauth2/auth?client_id=947318989803-6bn6qk8qdgf4n4g3pfee6491hc0brc4i.apps.googleusercontent.com&redirect_uri=urn%3aietf%3awg%3aoauth%3a2.0%3aoob&response_type=code&scope=email%20https%3a%2f%2fwww.googleapis.com%2fauth%2fdocs.test%20https%3a%2f%2fwww.googleapis.com%2fauth%2fdrive%20https%3a%2f%2fwww.googleapis.com%2fauth%2fdrive.photos.readonly%20https%3a%2f%2fwww.googleapis.com%2fauth%2fpeopleapi.readonly\n",
            "\n",
            "Enter your authorization code:\n",
            "··········\n",
            "Mounted at /content/drive\n"
          ],
          "name": "stdout"
        }
      ]
    },
    {
      "cell_type": "code",
      "metadata": {
        "id": "IiKF30UNQ1QJ",
        "colab_type": "code",
        "colab": {}
      },
      "source": [
        "!cp -f recruit_fasttext_nosub.bin /content/drive/My\\ Drive/Colab\\ Notebooks\n",
        "!cp -f recruit_fasttext_nosub.vec /content/drive/My\\ Drive/Colab\\ Notebooks"
      ],
      "execution_count": 0,
      "outputs": []
    },
    {
      "cell_type": "code",
      "metadata": {
        "id": "6jx2Sg-7pvFc",
        "colab_type": "code",
        "colab": {}
      },
      "source": [
        "!cp -f /content/drive/My\\ Drive/Colab\\ Notebooks/recruit_fasttext.vec ."
      ],
      "execution_count": 0,
      "outputs": []
    },
    {
      "cell_type": "code",
      "metadata": {
        "id": "5wJWHaLRSsv3",
        "colab_type": "code",
        "outputId": "e00ccd36-b00e-460a-b17d-1d78cdb405be",
        "colab": {
          "base_uri": "https://localhost:8080/",
          "height": 158
        }
      },
      "source": [
        "# print(model)\n",
        "import fasttext\n",
        "\n",
        "model = fasttext.load_model(\"recruit_fasttext.bin\")\n",
        "\n",
        "print(\"printing similar objects\")\n",
        "\n",
        "print(model.get_nearest_neighbors('excel'))\n",
        "\n",
        "print(model.get_nearest_neighbors('php'))\n",
        "\n",
        "print(model.get_nearest_neighbors('delhi'))\n",
        "\n",
        "print(model.get_nearest_neighbors('seo'))\n",
        "\n",
        "print(model.get_nearest_neighbors('software developer'))"
      ],
      "execution_count": 0,
      "outputs": [
        {
          "output_type": "stream",
          "text": [
            "Warning : `load_model` does not return WordVectorModel or SupervisedModel any more, but a `FastText` object which is very similar.\n"
          ],
          "name": "stderr"
        },
        {
          "output_type": "stream",
          "text": [
            "printing similar objects\n",
            "[(0.8056473731994629, 'MS-excel'), (0.654314398765564, 'Ms-Excel'), (0.6364229321479797, 'Excel'), (0.6213842034339905, 'excels'), (0.57978755235672, 'MS-Excel'), (0.5385661721229553, 'ppt'), (0.5291121602058411, 'spreadsheet'), (0.5128776431083679, 'VBA'), (0.5106975436210632, 'macros'), (0.5082531571388245, 'spreadsheets')]\n",
            "[(0.7756870985031128, 'html5'), (0.7689679861068726, 'wpf'), (0.7643250823020935, 'mvvm'), (0.7609511017799377, 'ajax'), (0.7583292722702026, 'jquery'), (0.7557974457740784, 'mq'), (0.7542688250541687, 'sdk'), (0.7525045871734619, 'css3'), (0.7523747682571411, 'mysql'), (0.7513596415519714, 'angularjs')]\n",
            "[(0.7052754759788513, 'MUmbai'), (0.6987090110778809, 'IIT-Delhi'), (0.689082145690918, 'Delhi'), (0.6754801273345947, 'mumbai'), (0.6582303047180176, 'bahadur'), (0.6568752527236938, 'maharshi'), (0.6520175933837891, 'icfai'), (0.6500081419944763, 'jaipuria'), (0.6487504243850708, 'punjabi'), (0.6473240852355957, 'guru')]\n",
            "[(0.7727921009063721, 'sem'), (0.7320190072059631, 'atl'), (0.7217026948928833, 'ppc'), (0.71406489610672, 'smo'), (0.6994736790657043, 'btl'), (0.6809955835342407, 'adwords'), (0.6517434120178223, 'google+'), (0.6345622539520264, 'csr'), (0.6335554122924805, 'gcp'), (0.6319712996482849, 'html5')]\n",
            "[(0.8610216975212097, 'Jdeveloper'), (0.845978856086731, 'developer'), (0.8137322664260864, 'developer('), (0.7750390768051147, 'JDeveloper'), (0.7699880599975586, 'software'), (0.7561241984367371, 'software('), (0.7478061318397522, 'devloper'), (0.7448656558990479, '-Developer'), (0.7385666966438293, 'software-'), (0.7337074875831604, 'software?s')]\n"
          ],
          "name": "stdout"
        }
      ]
    },
    {
      "cell_type": "code",
      "metadata": {
        "id": "83ilftxBpoK_",
        "colab_type": "code",
        "outputId": "cf6aecf5-f0f3-4dce-c626-87df174327a8",
        "colab": {
          "base_uri": "https://localhost:8080/",
          "height": 165
        }
      },
      "source": [
        " model.get_analogies(\"php\", \"react\", \"nodejs\")"
      ],
      "execution_count": 0,
      "outputs": [
        {
          "output_type": "error",
          "ename": "NameError",
          "evalue": "ignored",
          "traceback": [
            "\u001b[0;31m---------------------------------------------------------------------------\u001b[0m",
            "\u001b[0;31mNameError\u001b[0m                                 Traceback (most recent call last)",
            "\u001b[0;32m<ipython-input-2-7209a0193b8a>\u001b[0m in \u001b[0;36m<module>\u001b[0;34m()\u001b[0m\n\u001b[0;32m----> 1\u001b[0;31m \u001b[0mmodel\u001b[0m\u001b[0;34m.\u001b[0m\u001b[0mget_analogies\u001b[0m\u001b[0;34m(\u001b[0m\u001b[0;34m\"php\"\u001b[0m\u001b[0;34m,\u001b[0m \u001b[0;34m\"react\"\u001b[0m\u001b[0;34m,\u001b[0m \u001b[0;34m\"nodejs\"\u001b[0m\u001b[0;34m)\u001b[0m\u001b[0;34m\u001b[0m\u001b[0;34m\u001b[0m\u001b[0m\n\u001b[0m",
            "\u001b[0;31mNameError\u001b[0m: name 'model' is not defined"
          ]
        }
      ]
    },
    {
      "cell_type": "code",
      "metadata": {
        "id": "OAwEZJKz-ggk",
        "colab_type": "code",
        "outputId": "4cbf73da-28df-4bc0-8156-49824e2ea0f8",
        "colab": {
          "base_uri": "https://localhost:8080/",
          "height": 209
        }
      },
      "source": [
        "!pip install pymagnitude"
      ],
      "execution_count": 0,
      "outputs": [
        {
          "output_type": "stream",
          "text": [
            "Collecting pymagnitude\n",
            "\u001b[?25l  Downloading https://files.pythonhosted.org/packages/0a/a3/b9a34d22ed8c0ed59b00ff55092129641cdfa09d82f9abdc5088051a5b0c/pymagnitude-0.1.120.tar.gz (5.4MB)\n",
            "\u001b[K     |████████████████████████████████| 5.4MB 2.8MB/s \n",
            "\u001b[?25hBuilding wheels for collected packages: pymagnitude\n",
            "  Building wheel for pymagnitude (setup.py) ... \u001b[?25l\u001b[?25hdone\n",
            "  Created wheel for pymagnitude: filename=pymagnitude-0.1.120-cp36-cp36m-linux_x86_64.whl size=135918205 sha256=78c2736e101904cbf8a994464626ea0d8933fe4eb6018a5a420306572f1f6ed3\n",
            "  Stored in directory: /root/.cache/pip/wheels/a2/c7/98/cb48b9db35f8d1a7827b764dc36c5515179dc116448a47c8a1\n",
            "Successfully built pymagnitude\n",
            "Installing collected packages: pymagnitude\n",
            "Successfully installed pymagnitude-0.1.120\n"
          ],
          "name": "stdout"
        }
      ]
    },
    {
      "cell_type": "code",
      "metadata": {
        "id": "bSZ1xSZZ-mfQ",
        "colab_type": "code",
        "outputId": "bc787caa-ce8d-41fa-c74e-f8100a6d3a7b",
        "colab": {
          "base_uri": "https://localhost:8080/",
          "height": 1000
        }
      },
      "source": [
        "!python -m pymagnitude.converter -i recruit_fasttext.vec -o recruit_fasttext.magnitude"
      ],
      "execution_count": 0,
      "outputs": [
        {
          "output_type": "stream",
          "text": [
            "Loading vectors... (this may take some time)\n",
            "Found 63983 key(s)\n",
            "Each vector has 300 dimension(s)\n",
            "Creating magnitude format...\n",
            "Writing vectors... (this may take some time)\n",
            "0% completed\n",
            "1% completed\n",
            "2% completed\n",
            "3% completed\n",
            "4% completed\n",
            "5% completed\n",
            "6% completed\n",
            "7% completed\n",
            "8% completed\n",
            "9% completed\n",
            "10% completed\n",
            "11% completed\n",
            "12% completed\n",
            "13% completed\n",
            "14% completed\n",
            "15% completed\n",
            "16% completed\n",
            "17% completed\n",
            "18% completed\n",
            "19% completed\n",
            "20% completed\n",
            "21% completed\n",
            "22% completed\n",
            "23% completed\n",
            "24% completed\n",
            "25% completed\n",
            "26% completed\n",
            "27% completed\n",
            "28% completed\n",
            "29% completed\n",
            "30% completed\n",
            "31% completed\n",
            "32% completed\n",
            "33% completed\n",
            "34% completed\n",
            "35% completed\n",
            "36% completed\n",
            "37% completed\n",
            "38% completed\n",
            "39% completed\n",
            "40% completed\n",
            "41% completed\n",
            "42% completed\n",
            "43% completed\n",
            "44% completed\n",
            "45% completed\n",
            "46% completed\n",
            "47% completed\n",
            "48% completed\n",
            "49% completed\n",
            "50% completed\n",
            "51% completed\n",
            "52% completed\n",
            "53% completed\n",
            "54% completed\n",
            "55% completed\n",
            "56% completed\n",
            "57% completed\n",
            "58% completed\n",
            "59% completed\n",
            "60% completed\n",
            "61% completed\n",
            "62% completed\n",
            "63% completed\n",
            "64% completed\n",
            "65% completed\n",
            "66% completed\n",
            "67% completed\n",
            "68% completed\n",
            "69% completed\n",
            "70% completed\n",
            "71% completed\n",
            "72% completed\n",
            "73% completed\n",
            "74% completed\n",
            "75% completed\n",
            "76% completed\n",
            "77% completed\n",
            "78% completed\n",
            "79% completed\n",
            "80% completed\n",
            "81% completed\n",
            "82% completed\n",
            "83% completed\n",
            "84% completed\n",
            "85% completed\n",
            "86% completed\n",
            "87% completed\n",
            "88% completed\n",
            "89% completed\n",
            "90% completed\n",
            "91% completed\n",
            "92% completed\n",
            "93% completed\n",
            "94% completed\n",
            "95% completed\n",
            "96% completed\n",
            "97% completed\n",
            "98% completed\n",
            "99% completed\n",
            "Committing written vectors... (this may take some time)\n",
            "Entropy of dimension 120 is 4.602980\n",
            "Entropy of dimension 108 is 4.579244\n",
            "Entropy of dimension 145 is 4.546056\n",
            "Entropy of dimension 275 is 4.538306\n",
            "Entropy of dimension 125 is 4.536624\n",
            "Entropy of dimension 209 is 4.529311\n",
            "Entropy of dimension 52 is 4.525117\n",
            "Entropy of dimension 240 is 4.515522\n",
            "Entropy of dimension 221 is 4.505819\n",
            "Entropy of dimension 6 is 4.502421\n",
            "Entropy of dimension 211 is 4.483148\n",
            "Entropy of dimension 81 is 4.477206\n",
            "Entropy of dimension 281 is 4.472094\n",
            "Entropy of dimension 76 is 4.451844\n",
            "Entropy of dimension 64 is 4.450819\n",
            "Entropy of dimension 55 is 4.449582\n",
            "Entropy of dimension 176 is 4.446407\n",
            "Entropy of dimension 49 is 4.446099\n",
            "Entropy of dimension 116 is 4.438381\n",
            "Entropy of dimension 142 is 4.433361\n",
            "Entropy of dimension 239 is 4.432131\n",
            "Entropy of dimension 265 is 4.430778\n",
            "Entropy of dimension 195 is 4.428395\n",
            "Entropy of dimension 203 is 4.428270\n",
            "Entropy of dimension 43 is 4.425903\n",
            "Entropy of dimension 220 is 4.415824\n",
            "Entropy of dimension 286 is 4.415664\n",
            "Entropy of dimension 63 is 4.414751\n",
            "Entropy of dimension 95 is 4.413384\n",
            "Entropy of dimension 137 is 4.411020\n",
            "Entropy of dimension 298 is 4.409254\n",
            "Entropy of dimension 121 is 4.407938\n",
            "Entropy of dimension 73 is 4.407771\n",
            "Entropy of dimension 104 is 4.403879\n",
            "Entropy of dimension 75 is 4.399160\n",
            "Entropy of dimension 263 is 4.398394\n",
            "Entropy of dimension 37 is 4.397944\n",
            "Entropy of dimension 26 is 4.396708\n",
            "Entropy of dimension 148 is 4.394770\n",
            "Entropy of dimension 4 is 4.390377\n",
            "Entropy of dimension 123 is 4.390103\n",
            "Entropy of dimension 30 is 4.389982\n",
            "Entropy of dimension 274 is 4.385223\n",
            "Entropy of dimension 278 is 4.383051\n",
            "Entropy of dimension 97 is 4.381795\n",
            "Entropy of dimension 194 is 4.381782\n",
            "Entropy of dimension 267 is 4.376429\n",
            "Entropy of dimension 28 is 4.372911\n",
            "Entropy of dimension 126 is 4.371062\n",
            "Entropy of dimension 168 is 4.370351\n",
            "Entropy of dimension 9 is 4.369462\n",
            "Entropy of dimension 252 is 4.369387\n",
            "Entropy of dimension 196 is 4.368381\n",
            "Entropy of dimension 111 is 4.364339\n",
            "Entropy of dimension 200 is 4.364154\n",
            "Entropy of dimension 231 is 4.363825\n",
            "Entropy of dimension 280 is 4.361820\n",
            "Entropy of dimension 163 is 4.358914\n",
            "Entropy of dimension 225 is 4.357429\n",
            "Entropy of dimension 251 is 4.357084\n",
            "Entropy of dimension 272 is 4.356615\n",
            "Entropy of dimension 88 is 4.355606\n",
            "Entropy of dimension 290 is 4.353996\n",
            "Entropy of dimension 11 is 4.353341\n",
            "Entropy of dimension 147 is 4.353329\n",
            "Entropy of dimension 264 is 4.353303\n",
            "Entropy of dimension 237 is 4.351704\n",
            "Entropy of dimension 110 is 4.350691\n",
            "Entropy of dimension 296 is 4.349539\n",
            "Entropy of dimension 186 is 4.349194\n",
            "Entropy of dimension 297 is 4.349067\n",
            "Entropy of dimension 138 is 4.348467\n",
            "Entropy of dimension 34 is 4.345865\n",
            "Entropy of dimension 249 is 4.345804\n",
            "Entropy of dimension 39 is 4.345768\n",
            "Entropy of dimension 254 is 4.342799\n",
            "Entropy of dimension 1 is 4.341634\n",
            "Entropy of dimension 118 is 4.337558\n",
            "Entropy of dimension 135 is 4.336808\n",
            "Entropy of dimension 289 is 4.336094\n",
            "Entropy of dimension 44 is 4.331415\n",
            "Entropy of dimension 223 is 4.327802\n",
            "Entropy of dimension 51 is 4.326777\n",
            "Entropy of dimension 273 is 4.326540\n",
            "Entropy of dimension 144 is 4.325163\n",
            "Entropy of dimension 47 is 4.324023\n",
            "Entropy of dimension 32 is 4.323377\n",
            "Entropy of dimension 154 is 4.321223\n",
            "Entropy of dimension 27 is 4.318770\n",
            "Entropy of dimension 31 is 4.317137\n",
            "Entropy of dimension 102 is 4.315597\n",
            "Entropy of dimension 171 is 4.315494\n",
            "Entropy of dimension 62 is 4.313496\n",
            "Entropy of dimension 166 is 4.312564\n",
            "Entropy of dimension 294 is 4.311273\n",
            "Entropy of dimension 14 is 4.308431\n",
            "Entropy of dimension 170 is 4.308030\n",
            "Entropy of dimension 91 is 4.308023\n",
            "Entropy of dimension 106 is 4.307738\n",
            "Entropy of dimension 112 is 4.307113\n",
            "Entropy of dimension 150 is 4.307110\n",
            "Entropy of dimension 53 is 4.306748\n",
            "Entropy of dimension 29 is 4.306690\n",
            "Entropy of dimension 230 is 4.306286\n",
            "Entropy of dimension 266 is 4.304072\n",
            "Entropy of dimension 179 is 4.303910\n",
            "Entropy of dimension 219 is 4.303030\n",
            "Entropy of dimension 205 is 4.302912\n",
            "Entropy of dimension 214 is 4.302781\n",
            "Entropy of dimension 206 is 4.300419\n",
            "Entropy of dimension 114 is 4.299956\n",
            "Entropy of dimension 40 is 4.299564\n",
            "Entropy of dimension 160 is 4.299047\n",
            "Entropy of dimension 140 is 4.297702\n",
            "Entropy of dimension 193 is 4.296583\n",
            "Entropy of dimension 188 is 4.295432\n",
            "Entropy of dimension 287 is 4.294859\n",
            "Entropy of dimension 261 is 4.293714\n",
            "Entropy of dimension 156 is 4.292931\n",
            "Entropy of dimension 255 is 4.291619\n",
            "Entropy of dimension 24 is 4.289343\n",
            "Entropy of dimension 17 is 4.288952\n",
            "Entropy of dimension 202 is 4.288870\n",
            "Entropy of dimension 3 is 4.288799\n",
            "Entropy of dimension 234 is 4.288691\n",
            "Entropy of dimension 57 is 4.287882\n",
            "Entropy of dimension 282 is 4.287344\n",
            "Entropy of dimension 143 is 4.287128\n",
            "Entropy of dimension 134 is 4.286203\n",
            "Entropy of dimension 67 is 4.286050\n",
            "Entropy of dimension 288 is 4.283264\n",
            "Entropy of dimension 84 is 4.283247\n",
            "Entropy of dimension 184 is 4.282371\n",
            "Entropy of dimension 132 is 4.281087\n",
            "Entropy of dimension 107 is 4.280453\n",
            "Entropy of dimension 165 is 4.280382\n",
            "Entropy of dimension 36 is 4.278384\n",
            "Entropy of dimension 271 is 4.277674\n",
            "Entropy of dimension 46 is 4.277660\n",
            "Entropy of dimension 78 is 4.277140\n",
            "Entropy of dimension 253 is 4.276431\n",
            "Entropy of dimension 136 is 4.276423\n",
            "Entropy of dimension 13 is 4.275262\n",
            "Entropy of dimension 124 is 4.274886\n",
            "Entropy of dimension 133 is 4.273410\n",
            "Entropy of dimension 109 is 4.272242\n",
            "Entropy of dimension 292 is 4.270918\n",
            "Entropy of dimension 284 is 4.269886\n",
            "Entropy of dimension 33 is 4.269550\n",
            "Entropy of dimension 283 is 4.269432\n",
            "Entropy of dimension 12 is 4.267006\n",
            "Entropy of dimension 8 is 4.266059\n",
            "Entropy of dimension 58 is 4.265699\n",
            "Entropy of dimension 260 is 4.265598\n",
            "Entropy of dimension 98 is 4.264852\n",
            "Entropy of dimension 250 is 4.264724\n",
            "Entropy of dimension 215 is 4.260973\n",
            "Entropy of dimension 198 is 4.260810\n",
            "Entropy of dimension 48 is 4.260621\n",
            "Entropy of dimension 262 is 4.260561\n",
            "Entropy of dimension 42 is 4.259089\n",
            "Entropy of dimension 92 is 4.257636\n",
            "Entropy of dimension 236 is 4.255873\n",
            "Entropy of dimension 56 is 4.255711\n",
            "Entropy of dimension 182 is 4.255081\n",
            "Entropy of dimension 256 is 4.254768\n",
            "Entropy of dimension 162 is 4.254123\n",
            "Entropy of dimension 68 is 4.253303\n",
            "Entropy of dimension 22 is 4.249549\n",
            "Entropy of dimension 41 is 4.249245\n",
            "Entropy of dimension 228 is 4.248093\n",
            "Entropy of dimension 232 is 4.246337\n",
            "Entropy of dimension 229 is 4.245790\n",
            "Entropy of dimension 65 is 4.244303\n",
            "Entropy of dimension 2 is 4.242524\n",
            "Entropy of dimension 105 is 4.242423\n",
            "Entropy of dimension 72 is 4.241472\n",
            "Entropy of dimension 18 is 4.240534\n",
            "Entropy of dimension 82 is 4.239481\n",
            "Entropy of dimension 181 is 4.238296\n",
            "Entropy of dimension 175 is 4.238135\n",
            "Entropy of dimension 146 is 4.236556\n",
            "Entropy of dimension 66 is 4.235978\n",
            "Entropy of dimension 149 is 4.233330\n",
            "Entropy of dimension 235 is 4.233310\n",
            "Entropy of dimension 87 is 4.233128\n",
            "Entropy of dimension 38 is 4.232871\n",
            "Entropy of dimension 258 is 4.232838\n",
            "Entropy of dimension 173 is 4.232327\n",
            "Entropy of dimension 103 is 4.232220\n",
            "Entropy of dimension 226 is 4.231571\n",
            "Entropy of dimension 153 is 4.230699\n",
            "Entropy of dimension 192 is 4.229767\n",
            "Entropy of dimension 122 is 4.229681\n",
            "Entropy of dimension 161 is 4.229410\n",
            "Entropy of dimension 139 is 4.229322\n",
            "Entropy of dimension 16 is 4.229125\n",
            "Entropy of dimension 185 is 4.228752\n",
            "Entropy of dimension 295 is 4.228460\n",
            "Entropy of dimension 217 is 4.227731\n",
            "Entropy of dimension 246 is 4.225917\n",
            "Entropy of dimension 208 is 4.225455\n",
            "Entropy of dimension 128 is 4.225093\n",
            "Entropy of dimension 233 is 4.224088\n",
            "Entropy of dimension 59 is 4.223119\n",
            "Entropy of dimension 96 is 4.222536\n",
            "Entropy of dimension 117 is 4.222216\n",
            "Entropy of dimension 189 is 4.221706\n",
            "Entropy of dimension 54 is 4.220832\n",
            "Entropy of dimension 80 is 4.220423\n",
            "Entropy of dimension 130 is 4.218650\n",
            "Entropy of dimension 177 is 4.218418\n",
            "Entropy of dimension 0 is 4.217890\n",
            "Entropy of dimension 178 is 4.216658\n",
            "Entropy of dimension 89 is 4.216513\n",
            "Entropy of dimension 243 is 4.215950\n",
            "Entropy of dimension 277 is 4.215866\n",
            "Entropy of dimension 50 is 4.215386\n",
            "Entropy of dimension 169 is 4.212387\n",
            "Entropy of dimension 10 is 4.208466\n",
            "Entropy of dimension 285 is 4.207007\n",
            "Entropy of dimension 279 is 4.204851\n",
            "Entropy of dimension 86 is 4.204426\n",
            "Entropy of dimension 269 is 4.199463\n",
            "Entropy of dimension 71 is 4.198919\n",
            "Entropy of dimension 74 is 4.197745\n",
            "Entropy of dimension 257 is 4.197452\n",
            "Entropy of dimension 224 is 4.197349\n",
            "Entropy of dimension 141 is 4.197209\n",
            "Entropy of dimension 242 is 4.195858\n",
            "Entropy of dimension 7 is 4.193457\n",
            "Entropy of dimension 83 is 4.192772\n",
            "Entropy of dimension 212 is 4.192410\n",
            "Entropy of dimension 238 is 4.190181\n",
            "Entropy of dimension 174 is 4.190080\n",
            "Entropy of dimension 190 is 4.189993\n",
            "Entropy of dimension 115 is 4.189698\n",
            "Entropy of dimension 247 is 4.189441\n",
            "Entropy of dimension 79 is 4.187934\n",
            "Entropy of dimension 259 is 4.187172\n",
            "Entropy of dimension 244 is 4.186546\n",
            "Entropy of dimension 35 is 4.182694\n",
            "Entropy of dimension 210 is 4.181703\n",
            "Entropy of dimension 191 is 4.181567\n",
            "Entropy of dimension 159 is 4.177087\n",
            "Entropy of dimension 180 is 4.175831\n",
            "Entropy of dimension 167 is 4.175459\n",
            "Entropy of dimension 268 is 4.175291\n",
            "Entropy of dimension 19 is 4.174449\n",
            "Entropy of dimension 187 is 4.170777\n",
            "Entropy of dimension 157 is 4.169738\n",
            "Entropy of dimension 204 is 4.168209\n",
            "Entropy of dimension 207 is 4.166161\n",
            "Entropy of dimension 23 is 4.166125\n",
            "Entropy of dimension 216 is 4.165709\n",
            "Entropy of dimension 151 is 4.164581\n",
            "Entropy of dimension 99 is 4.162019\n",
            "Entropy of dimension 241 is 4.161540\n",
            "Entropy of dimension 222 is 4.159613\n",
            "Entropy of dimension 155 is 4.158498\n",
            "Entropy of dimension 69 is 4.158427\n",
            "Entropy of dimension 172 is 4.158269\n",
            "Entropy of dimension 100 is 4.156829\n",
            "Entropy of dimension 213 is 4.156385\n",
            "Entropy of dimension 199 is 4.155616\n",
            "Entropy of dimension 218 is 4.153734\n",
            "Entropy of dimension 60 is 4.152973\n",
            "Entropy of dimension 45 is 4.152355\n",
            "Entropy of dimension 5 is 4.152090\n",
            "Entropy of dimension 93 is 4.148509\n",
            "Entropy of dimension 227 is 4.147574\n",
            "Entropy of dimension 90 is 4.146734\n",
            "Entropy of dimension 152 is 4.146124\n",
            "Entropy of dimension 293 is 4.140894\n",
            "Entropy of dimension 94 is 4.135852\n",
            "Entropy of dimension 119 is 4.135260\n",
            "Entropy of dimension 276 is 4.134877\n",
            "Entropy of dimension 21 is 4.129776\n",
            "Entropy of dimension 245 is 4.128444\n",
            "Entropy of dimension 15 is 4.127115\n",
            "Entropy of dimension 299 is 4.121472\n",
            "Entropy of dimension 61 is 4.120581\n",
            "Entropy of dimension 270 is 4.120402\n",
            "Entropy of dimension 131 is 4.119735\n",
            "Entropy of dimension 25 is 4.119498\n",
            "Entropy of dimension 248 is 4.117280\n",
            "Entropy of dimension 85 is 4.115168\n",
            "Entropy of dimension 201 is 4.114503\n",
            "Entropy of dimension 127 is 4.114129\n",
            "Entropy of dimension 77 is 4.113025\n",
            "Entropy of dimension 20 is 4.108639\n",
            "Entropy of dimension 129 is 4.102024\n",
            "Entropy of dimension 291 is 4.100229\n",
            "Entropy of dimension 101 is 4.096768\n",
            "Entropy of dimension 113 is 4.095001\n",
            "Entropy of dimension 158 is 4.093780\n",
            "Entropy of dimension 164 is 4.069737\n",
            "Entropy of dimension 183 is 4.056557\n",
            "Entropy of dimension 70 is 4.038318\n",
            "Entropy of dimension 197 is 4.019199\n",
            "Creating search index... (this may take some time)\n",
            "Creating spatial search index for dimension 120 (it has high entropy)... (this may take some time)\n",
            "Finding duplicate keys... (this may take some time)\n",
            "Found 7 as the maximum number of duplicate key(s)\n",
            "Vacuuming to save space... (this may take some time)\n",
            "Cleaning up temporary files...\n",
            "Successfully converted 'recruit_fasttext.vec' to 'recruit_fasttext.magnitude'!\n"
          ],
          "name": "stdout"
        }
      ]
    },
    {
      "cell_type": "code",
      "metadata": {
        "id": "qpQz2-jJ-wKZ",
        "colab_type": "code",
        "colab": {}
      },
      "source": [
        "from pymagnitude import *\n",
        "vectors = Magnitude(\"recruit_fasttext.magnitude\")"
      ],
      "execution_count": 0,
      "outputs": []
    },
    {
      "cell_type": "code",
      "metadata": {
        "id": "t1iJcOZdYdkH",
        "colab_type": "code",
        "outputId": "05d10b28-5a88-40be-9417-8553d671d3b3",
        "colab": {
          "base_uri": "https://localhost:8080/",
          "height": 34
        }
      },
      "source": [
        "vectors.distance(\"php\", \"react\")"
      ],
      "execution_count": 0,
      "outputs": [
        {
          "output_type": "execute_result",
          "data": {
            "text/plain": [
              "1.0368235"
            ]
          },
          "metadata": {
            "tags": []
          },
          "execution_count": 6
        }
      ]
    },
    {
      "cell_type": "code",
      "metadata": {
        "id": "sxvI7IRIYeWD",
        "colab_type": "code",
        "outputId": "620f6811-0af8-4aa8-844d-4ec93f06a6f9",
        "colab": {
          "base_uri": "https://localhost:8080/",
          "height": 34
        }
      },
      "source": [
        "vectors.distance(\"php\", \"laravel\")"
      ],
      "execution_count": 0,
      "outputs": [
        {
          "output_type": "execute_result",
          "data": {
            "text/plain": [
              "0.86367863"
            ]
          },
          "metadata": {
            "tags": []
          },
          "execution_count": 7
        }
      ]
    },
    {
      "cell_type": "code",
      "metadata": {
        "id": "59EMaYFNYjyU",
        "colab_type": "code",
        "outputId": "49e76de4-f359-4b16-a6bf-b8d772d33cc4",
        "colab": {
          "base_uri": "https://localhost:8080/",
          "height": 34
        }
      },
      "source": [
        "vectors.distance(\"php\", \"html\")"
      ],
      "execution_count": 0,
      "outputs": [
        {
          "output_type": "execute_result",
          "data": {
            "text/plain": [
              "0.78127366"
            ]
          },
          "metadata": {
            "tags": []
          },
          "execution_count": 8
        }
      ]
    },
    {
      "cell_type": "code",
      "metadata": {
        "id": "G2Yhg_nIYmP7",
        "colab_type": "code",
        "outputId": "abec8d5a-bb92-4c99-b140-e91ed33862ff",
        "colab": {
          "base_uri": "https://localhost:8080/",
          "height": 34
        }
      },
      "source": [
        "vectors.distance(\"reactjs\", \"angularjs\")"
      ],
      "execution_count": 0,
      "outputs": [
        {
          "output_type": "execute_result",
          "data": {
            "text/plain": [
              "0.76597524"
            ]
          },
          "metadata": {
            "tags": []
          },
          "execution_count": 9
        }
      ]
    },
    {
      "cell_type": "code",
      "metadata": {
        "id": "Ef-asizKYoes",
        "colab_type": "code",
        "outputId": "5252e67d-bfe0-4d28-cf82-494f89079232",
        "colab": {
          "base_uri": "https://localhost:8080/",
          "height": 189
        }
      },
      "source": [
        "vectors.most_similar(\"php\", topn = 10) "
      ],
      "execution_count": 0,
      "outputs": [
        {
          "output_type": "execute_result",
          "data": {
            "text/plain": [
              "[('html5', 0.7756865),\n",
              " ('wpf', 0.7689677),\n",
              " ('mvvm', 0.7643254),\n",
              " ('ajax', 0.76095116),\n",
              " ('jquery', 0.75832915),\n",
              " ('mq', 0.75579786),\n",
              " ('sdk', 0.7542695),\n",
              " ('css3', 0.7525043),\n",
              " ('mysql', 0.7523744),\n",
              " ('angularjs', 0.75135964)]"
            ]
          },
          "metadata": {
            "tags": []
          },
          "execution_count": 10
        }
      ]
    },
    {
      "cell_type": "code",
      "metadata": {
        "id": "IlNAbazrYq3i",
        "colab_type": "code",
        "outputId": "336ae378-4874-45eb-a587-ee2706a30aa6",
        "colab": {
          "base_uri": "https://localhost:8080/",
          "height": 189
        }
      },
      "source": [
        "vectors.most_similar(\"smm\", topn = 10) "
      ],
      "execution_count": 0,
      "outputs": [
        {
          "output_type": "execute_result",
          "data": {
            "text/plain": [
              "[('SMM', 0.7502389560987464),\n",
              " ('SM', 0.7483717703957413),\n",
              " ('SMO', 0.5689362523627867),\n",
              " ('SEO/SEM', 0.5539700271959749),\n",
              " ('SEO', 0.5234724338375396),\n",
              " ('SMI', 0.5186737307009426),\n",
              " ('SM9', 0.5104172533923532),\n",
              " ('SEM', 0.5103022570687503),\n",
              " ('CSMM', 0.5002657639189045),\n",
              " ('Marketing/SEM', 0.4977302609256824)]"
            ]
          },
          "metadata": {
            "tags": []
          },
          "execution_count": 11
        }
      ]
    },
    {
      "cell_type": "code",
      "metadata": {
        "id": "OgQKYD2sYs0q",
        "colab_type": "code",
        "outputId": "6137797a-6a6f-4117-87e1-e1e09d160db1",
        "colab": {
          "base_uri": "https://localhost:8080/",
          "height": 189
        }
      },
      "source": [
        "vectors.most_similar(\"consultant\", topn = 10) "
      ],
      "execution_count": 0,
      "outputs": [
        {
          "output_type": "execute_result",
          "data": {
            "text/plain": [
              "[('consultant/client', 0.84090364),\n",
              " ('client/consultant', 0.8016337),\n",
              " ('consultants/', 0.7588308),\n",
              " ('Consultant', 0.75776714),\n",
              " ('consultants', 0.7199213),\n",
              " ('Consultant(', 0.71790504),\n",
              " ('Consultant/', 0.7045239),\n",
              " ('Consultant-ERP', 0.67827797),\n",
              " ('Architect/Consultant', 0.67308253),\n",
              " ('Consultant-SAP', 0.67237467)]"
            ]
          },
          "metadata": {
            "tags": []
          },
          "execution_count": 12
        }
      ]
    },
    {
      "cell_type": "code",
      "metadata": {
        "id": "shFqJdtqYvCk",
        "colab_type": "code",
        "outputId": "b7a1659e-9a3a-43fa-8e14-c9cdbb2990fa",
        "colab": {
          "base_uri": "https://localhost:8080/",
          "height": 189
        }
      },
      "source": [
        "vectors.most_similar_cosmul(\"infosys\", topn = 10) "
      ],
      "execution_count": 0,
      "outputs": [
        {
          "output_type": "execute_result",
          "data": {
            "text/plain": [
              "[('Infosys', 0.9373685),\n",
              " ('Infosystem', 0.8866384),\n",
              " ('Infosystems', 0.86907554),\n",
              " ('Infosoft', 0.84773844),\n",
              " ('INFOSYS', 0.83583313),\n",
              " ('Infosol', 0.8247505),\n",
              " ('infosystem', 0.817755),\n",
              " ('infosystems', 0.807857),\n",
              " ('WIPRO', 0.80352575),\n",
              " ('Infostretch', 0.7980992)]"
            ]
          },
          "metadata": {
            "tags": []
          },
          "execution_count": 14
        }
      ]
    },
    {
      "cell_type": "code",
      "metadata": {
        "id": "AuFpulihYxk9",
        "colab_type": "code",
        "outputId": "eb3cbf15-848a-4181-a3a5-1e04fbe1c358",
        "colab": {
          "base_uri": "https://localhost:8080/",
          "height": 883
        }
      },
      "source": [
        "vectors.most_similar(\"mca\", topn = 50) "
      ],
      "execution_count": 0,
      "outputs": [
        {
          "output_type": "execute_result",
          "data": {
            "text/plain": [
              "[('MCA', 0.9168030113845977),\n",
              " ('YMCA', 0.6532520722240681),\n",
              " ('BCA', 0.6135635671880891),\n",
              " ('Bio-Chemistry/Bio-Technology', 0.5848759111725454),\n",
              " ('Computers', 0.5783263504821089),\n",
              " ('M.Tech', 0.5625866122195022),\n",
              " ('Electronics/Telecommunication', 0.5547224362843186),\n",
              " ('Bio-Chemistry', 0.5490236222235825),\n",
              " ('M.Com.', 0.5439897946051826),\n",
              " ('B.El.Ed', 0.5362615401939946),\n",
              " ('LLB', 0.531547636758143),\n",
              " ('Production/Industrial', 0.5309321105845726),\n",
              " ('M.Com', 0.5296752590383729),\n",
              " ('B.N', 0.5246129448612419),\n",
              " ('B.Pharma', 0.5240113452281342),\n",
              " ('M.C.A', 0.5191827885479195),\n",
              " ('HR/Industrial', 0.5176870969145939),\n",
              " ('MCAD', 0.5170587691422704),\n",
              " ('Arts&Humanities', 0.5156220360600348),\n",
              " ('B.Sc.', 0.5145124367967958),\n",
              " ('M.Pharma', 0.5085329181150453),\n",
              " ('3CA', 0.5056585208638642),\n",
              " ('B.Ed', 0.5054883267850967),\n",
              " ('B.SC', 0.5029315069602465),\n",
              " ('B.I.T', 0.5025359706191423),\n",
              " ('23ACA', 0.5023474850642082),\n",
              " ('MS/M.Sc(', 0.5015636205404442),\n",
              " ('LLM', 0.5007666371872305),\n",
              " ('B.P.U.T', 0.5003587319012477),\n",
              " ('M.Pharm', 0.4985812582837328),\n",
              " ('Bio-Technology', 0.4983334596496678),\n",
              " ('B.R', 0.49691533155125556),\n",
              " ('M.Ed', 0.4962257052792855),\n",
              " ('MCRP', 0.4954897009029705),\n",
              " ('Hons', 0.4943704051046719),\n",
              " ('M.D.U', 0.4931426881070805),\n",
              " ('SJCE', 0.4926232505634488),\n",
              " ('MPHIL', 0.4916122825305043),\n",
              " ('BioTechnology', 0.4906985238293733),\n",
              " ('NIET', 0.4895029933272795),\n",
              " ('PGDCA', 0.48910485565922174),\n",
              " ('M.A', 0.4873629832750238),\n",
              " ('EEE', 0.4852988554149151),\n",
              " ('B.Arch', 0.48529601899619945),\n",
              " ('LL.B', 0.4849389166071184),\n",
              " ('B.L', 0.4848468206971359),\n",
              " ('B.Com', 0.48416191664373737),\n",
              " ('IT/Telecom', 0.4836121897843958),\n",
              " ('GBTU', 0.48338225582777594),\n",
              " ('B.M', 0.48210066670061436)]"
            ]
          },
          "metadata": {
            "tags": []
          },
          "execution_count": 18
        }
      ]
    },
    {
      "cell_type": "code",
      "metadata": {
        "id": "819tSHKJYzwk",
        "colab_type": "code",
        "outputId": "a0d6014c-be81-4166-b1e4-c8d668490a34",
        "colab": {
          "base_uri": "https://localhost:8080/",
          "height": 883
        }
      },
      "source": [
        "vectors.most_similar([\"technical\",\"writing\"], topn = 50) "
      ],
      "execution_count": 0,
      "outputs": [
        {
          "output_type": "execute_result",
          "data": {
            "text/plain": [
              "[('technical/non-technical', 0.7444383),\n",
              " ('technical/functional', 0.736218),\n",
              " ('technical/', 0.7193762),\n",
              " ('functional/technical', 0.71644646),\n",
              " ('project/technical', 0.71449804),\n",
              " ('writings', 0.7117934),\n",
              " ('writing/', 0.70930135),\n",
              " ('nontechnical', 0.7023362),\n",
              " ('technicality', 0.69422936),\n",
              " ('technicalities', 0.6856699),\n",
              " ('educational/technical', 0.67780983),\n",
              " ('handwriting', 0.67652273),\n",
              " ('technical/commercial', 0.66872233),\n",
              " ('*Writing', 0.6616802),\n",
              " ('business/technical', 0.66013163),\n",
              " ('customizing/technical', 0.6555693),\n",
              " ('copywriting', 0.6412802),\n",
              " ('rewriting', 0.6273825),\n",
              " ('non-technical', 0.6215545),\n",
              " ('proof-reading', 0.6120782),\n",
              " ('Non-technical', 0.61027217),\n",
              " ('writting', 0.60148203),\n",
              " ('operational/functional', 0.594646),\n",
              " ('copy-editing', 0.5912042),\n",
              " ('proofreading', 0.5899374),\n",
              " ('Technical/Functional', 0.5889574),\n",
              " ('Functional/Technical', 0.580129),\n",
              " ('technically', 0.5794834),\n",
              " ('Proof-reading', 0.57773095),\n",
              " ('business/functional', 0.5727279),\n",
              " ('Write/review/execute', 0.56986403),\n",
              " ('requirements/specifications', 0.56820154),\n",
              " ('programming/coding', 0.56573266),\n",
              " ('Writing', 0.565182),\n",
              " ('unit/functional', 0.56454563),\n",
              " ('functional/non-functional', 0.5643797),\n",
              " ('writs', 0.5632707),\n",
              " ('inheriting', 0.56005055),\n",
              " ('geotechnical', 0.5588467),\n",
              " ('editing', 0.557057),\n",
              " ('preparing/reviewing', 0.55580366),\n",
              " ('Proofreading', 0.5556761),\n",
              " ('specifications/codes', 0.5540196),\n",
              " ('specifications', 0.5539105),\n",
              " ('Technical/', 0.5534162),\n",
              " ('Copywriting', 0.55279744),\n",
              " ('nonfunctional', 0.55181044),\n",
              " ('writes', 0.5486591),\n",
              " ('design/engineering', 0.5477054),\n",
              " ('write-ups', 0.5467224)]"
            ]
          },
          "metadata": {
            "tags": []
          },
          "execution_count": 19
        }
      ]
    }
  ]
}