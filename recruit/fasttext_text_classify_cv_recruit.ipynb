{
  "nbformat": 4,
  "nbformat_minor": 0,
  "metadata": {
    "colab": {
      "name": "fasttext -- text classify cv recruit",
      "provenance": [],
      "collapsed_sections": [],
      "include_colab_link": true
    },
    "kernelspec": {
      "name": "python3",
      "display_name": "Python 3"
    }
  },
  "cells": [
    {
      "cell_type": "markdown",
      "metadata": {
        "id": "view-in-github",
        "colab_type": "text"
      },
      "source": [
        "<a href=\"https://colab.research.google.com/github/manishiitg/ML_Experiments/blob/master/recruit/fasttext_text_classify_cv_recruit.ipynb\" target=\"_parent\"><img src=\"https://colab.research.google.com/assets/colab-badge.svg\" alt=\"Open In Colab\"/></a>"
      ]
    },
    {
      "cell_type": "markdown",
      "metadata": {
        "id": "9RDAbzophZ-s",
        "colab_type": "text"
      },
      "source": [
        "Training fastText for classification.\n",
        "\n",
        "This is just to establish a baseline data source for classification"
      ]
    },
    {
      "cell_type": "code",
      "metadata": {
        "id": "5yh9iimbZVy5",
        "colab_type": "code",
        "outputId": "f1837819-012e-423a-f078-504e22223089",
        "colab": {
          "base_uri": "https://localhost:8080/",
          "height": 331
        }
      },
      "source": [
        "!pip install Flask\n",
        "!pip install flask_pymongo"
      ],
      "execution_count": 0,
      "outputs": [
        {
          "output_type": "stream",
          "text": [
            "Requirement already satisfied: Flask in /usr/local/lib/python3.6/dist-packages (1.1.1)\n",
            "Requirement already satisfied: Werkzeug>=0.15 in /usr/local/lib/python3.6/dist-packages (from Flask) (0.16.0)\n",
            "Requirement already satisfied: Jinja2>=2.10.1 in /usr/local/lib/python3.6/dist-packages (from Flask) (2.10.3)\n",
            "Requirement already satisfied: click>=5.1 in /usr/local/lib/python3.6/dist-packages (from Flask) (7.0)\n",
            "Requirement already satisfied: itsdangerous>=0.24 in /usr/local/lib/python3.6/dist-packages (from Flask) (1.1.0)\n",
            "Requirement already satisfied: MarkupSafe>=0.23 in /usr/local/lib/python3.6/dist-packages (from Jinja2>=2.10.1->Flask) (1.1.1)\n",
            "Collecting flask_pymongo\n",
            "  Downloading https://files.pythonhosted.org/packages/67/b8/0322016b9ce09a64fba9018211e7c35fd51380527ffd9ea248744f389239/Flask_PyMongo-2.3.0-py2.py3-none-any.whl\n",
            "Requirement already satisfied: PyMongo>=3.3 in /usr/local/lib/python3.6/dist-packages (from flask_pymongo) (3.10.0)\n",
            "Requirement already satisfied: Flask>=0.11 in /usr/local/lib/python3.6/dist-packages (from flask_pymongo) (1.1.1)\n",
            "Requirement already satisfied: click>=5.1 in /usr/local/lib/python3.6/dist-packages (from Flask>=0.11->flask_pymongo) (7.0)\n",
            "Requirement already satisfied: Werkzeug>=0.15 in /usr/local/lib/python3.6/dist-packages (from Flask>=0.11->flask_pymongo) (0.16.0)\n",
            "Requirement already satisfied: Jinja2>=2.10.1 in /usr/local/lib/python3.6/dist-packages (from Flask>=0.11->flask_pymongo) (2.10.3)\n",
            "Requirement already satisfied: itsdangerous>=0.24 in /usr/local/lib/python3.6/dist-packages (from Flask>=0.11->flask_pymongo) (1.1.0)\n",
            "Requirement already satisfied: MarkupSafe>=0.23 in /usr/local/lib/python3.6/dist-packages (from Jinja2>=2.10.1->Flask>=0.11->flask_pymongo) (1.1.1)\n",
            "Installing collected packages: flask-pymongo\n",
            "Successfully installed flask-pymongo-2.3.0\n"
          ],
          "name": "stdout"
        }
      ]
    },
    {
      "cell_type": "code",
      "metadata": {
        "id": "1TkLQAc8r92s",
        "colab_type": "code",
        "outputId": "9ab188f4-ae4d-46f1-9bd4-7de239def802",
        "colab": {
          "base_uri": "https://localhost:8080/",
          "height": 1000
        }
      },
      "source": [
        "!rm -rf fastText\n",
        "!git clone https://github.com/facebookresearch/fastText.git\n",
        "!cd fastText && sudo pip install . && sudo python setup.py install"
      ],
      "execution_count": 0,
      "outputs": [
        {
          "output_type": "stream",
          "text": [
            "Cloning into 'fastText'...\n",
            "remote: Enumerating objects: 54, done.\u001b[K\n",
            "remote: Counting objects: 100% (54/54), done.\u001b[K\n",
            "remote: Compressing objects: 100% (47/47), done.\u001b[K\n",
            "remote: Total 3585 (delta 23), reused 18 (delta 4), pack-reused 3531\u001b[K\n",
            "Receiving objects: 100% (3585/3585), 8.10 MiB | 10.01 MiB/s, done.\n",
            "Resolving deltas: 100% (2248/2248), done.\n",
            "Processing /content/fastText\n",
            "Requirement already satisfied: pybind11>=2.2 in /usr/local/lib/python3.6/dist-packages (from fasttext==0.9.1) (2.4.3)\n",
            "Requirement already satisfied: setuptools>=0.7.0 in /usr/local/lib/python3.6/dist-packages (from fasttext==0.9.1) (42.0.2)\n",
            "Requirement already satisfied: numpy in /usr/local/lib/python3.6/dist-packages (from fasttext==0.9.1) (1.17.4)\n",
            "Building wheels for collected packages: fasttext\n",
            "  Building wheel for fasttext (setup.py) ... \u001b[?25l\u001b[?25hdone\n",
            "  Created wheel for fasttext: filename=fasttext-0.9.1-cp36-cp36m-linux_x86_64.whl size=2829938 sha256=9570f81e1dcd4794eb478939be7119a9cb39a14fbba204351cde73ef4fb8fa31\n",
            "  Stored in directory: /tmp/pip-ephem-wheel-cache-mt_9v47i/wheels/a1/9f/52/696ce6c5c46325e840c76614ee5051458c0df10306987e7443\n",
            "Successfully built fasttext\n",
            "Installing collected packages: fasttext\n",
            "Successfully installed fasttext-0.9.1\n",
            "running install\n",
            "running bdist_egg\n",
            "running egg_info\n",
            "creating python/fasttext_module/fasttext.egg-info\n",
            "writing python/fasttext_module/fasttext.egg-info/PKG-INFO\n",
            "writing dependency_links to python/fasttext_module/fasttext.egg-info/dependency_links.txt\n",
            "writing requirements to python/fasttext_module/fasttext.egg-info/requires.txt\n",
            "writing top-level names to python/fasttext_module/fasttext.egg-info/top_level.txt\n",
            "writing manifest file 'python/fasttext_module/fasttext.egg-info/SOURCES.txt'\n",
            "reading manifest template 'MANIFEST.in'\n",
            "warning: no files found matching 'PATENTS'\n",
            "writing manifest file 'python/fasttext_module/fasttext.egg-info/SOURCES.txt'\n",
            "installing library code to build/bdist.linux-x86_64/egg\n",
            "running install_lib\n",
            "running build_py\n",
            "creating build\n",
            "creating build/lib.linux-x86_64-3.6\n",
            "creating build/lib.linux-x86_64-3.6/fasttext\n",
            "copying python/fasttext_module/fasttext/__init__.py -> build/lib.linux-x86_64-3.6/fasttext\n",
            "copying python/fasttext_module/fasttext/FastText.py -> build/lib.linux-x86_64-3.6/fasttext\n",
            "creating build/lib.linux-x86_64-3.6/fasttext/util\n",
            "copying python/fasttext_module/fasttext/util/__init__.py -> build/lib.linux-x86_64-3.6/fasttext/util\n",
            "copying python/fasttext_module/fasttext/util/util.py -> build/lib.linux-x86_64-3.6/fasttext/util\n",
            "creating build/lib.linux-x86_64-3.6/fasttext/tests\n",
            "copying python/fasttext_module/fasttext/tests/__init__.py -> build/lib.linux-x86_64-3.6/fasttext/tests\n",
            "copying python/fasttext_module/fasttext/tests/test_script.py -> build/lib.linux-x86_64-3.6/fasttext/tests\n",
            "copying python/fasttext_module/fasttext/tests/test_configurations.py -> build/lib.linux-x86_64-3.6/fasttext/tests\n",
            "running build_ext\n",
            "creating tmp\n",
            "x86_64-linux-gnu-gcc -pthread -DNDEBUG -g -fwrapv -O2 -Wall -g -fstack-protector-strong -Wformat -Werror=format-security -Wdate-time -D_FORTIFY_SOURCE=2 -fPIC -I/usr/include/python3.6m -c /tmp/tmp5w1jwkay.cpp -o tmp/tmp5w1jwkay.o -std=c++14\n",
            "x86_64-linux-gnu-gcc -pthread -DNDEBUG -g -fwrapv -O2 -Wall -g -fstack-protector-strong -Wformat -Werror=format-security -Wdate-time -D_FORTIFY_SOURCE=2 -fPIC -I/usr/include/python3.6m -c /tmp/tmp5ksgopsq.cpp -o tmp/tmp5ksgopsq.o -fvisibility=hidden\n",
            "building 'fasttext_pybind' extension\n",
            "creating build/temp.linux-x86_64-3.6\n",
            "creating build/temp.linux-x86_64-3.6/python\n",
            "creating build/temp.linux-x86_64-3.6/python/fasttext_module\n",
            "creating build/temp.linux-x86_64-3.6/python/fasttext_module/fasttext\n",
            "creating build/temp.linux-x86_64-3.6/python/fasttext_module/fasttext/pybind\n",
            "creating build/temp.linux-x86_64-3.6/src\n",
            "x86_64-linux-gnu-gcc -pthread -DNDEBUG -g -fwrapv -O2 -Wall -g -fstack-protector-strong -Wformat -Werror=format-security -Wdate-time -D_FORTIFY_SOURCE=2 -fPIC -I/usr/local/include/python3.6 -I/root/.local/include/python3.6m -Isrc -I/usr/include/python3.6m -c python/fasttext_module/fasttext/pybind/fasttext_pybind.cc -o build/temp.linux-x86_64-3.6/python/fasttext_module/fasttext/pybind/fasttext_pybind.o -DVERSION_INFO=\"0.9.1\" -std=c++14 -fvisibility=hidden\n",
            "\u001b[01m\u001b[Kpython/fasttext_module/fasttext/pybind/fasttext_pybind.cc:\u001b[m\u001b[K In lambda function:\n",
            "\u001b[01m\u001b[Kpython/fasttext_module/fasttext/pybind/fasttext_pybind.cc:259:35:\u001b[m\u001b[K \u001b[01;35m\u001b[Kwarning: \u001b[m\u001b[Kcomparison between signed and unsigned integer expressions [\u001b[01;35m\u001b[K-Wsign-compare\u001b[m\u001b[K]\n",
            "             for (int32_t i = 0; \u001b[01;35m\u001b[Ki < vocab_freq.size()\u001b[m\u001b[K; i++) {\n",
            "                                 \u001b[01;35m\u001b[K~~^~~~~~~~~~~~~~~~~~~\u001b[m\u001b[K\n",
            "\u001b[01m\u001b[Kpython/fasttext_module/fasttext/pybind/fasttext_pybind.cc:\u001b[m\u001b[K In lambda function:\n",
            "\u001b[01m\u001b[Kpython/fasttext_module/fasttext/pybind/fasttext_pybind.cc:273:35:\u001b[m\u001b[K \u001b[01;35m\u001b[Kwarning: \u001b[m\u001b[Kcomparison between signed and unsigned integer expressions [\u001b[01;35m\u001b[K-Wsign-compare\u001b[m\u001b[K]\n",
            "             for (int32_t i = 0; \u001b[01;35m\u001b[Ki < labels_freq.size()\u001b[m\u001b[K; i++) {\n",
            "                                 \u001b[01;35m\u001b[K~~^~~~~~~~~~~~~~~~~~~~\u001b[m\u001b[K\n",
            "x86_64-linux-gnu-gcc -pthread -DNDEBUG -g -fwrapv -O2 -Wall -g -fstack-protector-strong -Wformat -Werror=format-security -Wdate-time -D_FORTIFY_SOURCE=2 -fPIC -I/usr/local/include/python3.6 -I/root/.local/include/python3.6m -Isrc -I/usr/include/python3.6m -c src/vector.cc -o build/temp.linux-x86_64-3.6/src/vector.o -DVERSION_INFO=\"0.9.1\" -std=c++14 -fvisibility=hidden\n",
            "x86_64-linux-gnu-gcc -pthread -DNDEBUG -g -fwrapv -O2 -Wall -g -fstack-protector-strong -Wformat -Werror=format-security -Wdate-time -D_FORTIFY_SOURCE=2 -fPIC -I/usr/local/include/python3.6 -I/root/.local/include/python3.6m -Isrc -I/usr/include/python3.6m -c src/loss.cc -o build/temp.linux-x86_64-3.6/src/loss.o -DVERSION_INFO=\"0.9.1\" -std=c++14 -fvisibility=hidden\n",
            "\u001b[01m\u001b[Ksrc/loss.cc:\u001b[m\u001b[K In member function ‘\u001b[01m\u001b[Kvoid fasttext::Loss::findKBest(int32_t, fasttext::real, fasttext::Predictions&, const fasttext::Vector&) const\u001b[m\u001b[K’:\n",
            "\u001b[01m\u001b[Ksrc/loss.cc:83:21:\u001b[m\u001b[K \u001b[01;35m\u001b[Kwarning: \u001b[m\u001b[Kcomparison between signed and unsigned integer expressions [\u001b[01;35m\u001b[K-Wsign-compare\u001b[m\u001b[K]\n",
            "     if (\u001b[01;35m\u001b[Kheap.size() == k\u001b[m\u001b[K && std_log(output[i]) < heap.front().first) {\n",
            "         \u001b[01;35m\u001b[K~~~~~~~~~~~~^~~~\u001b[m\u001b[K\n",
            "\u001b[01m\u001b[Ksrc/loss.cc:88:21:\u001b[m\u001b[K \u001b[01;35m\u001b[Kwarning: \u001b[m\u001b[Kcomparison between signed and unsigned integer expressions [\u001b[01;35m\u001b[K-Wsign-compare\u001b[m\u001b[K]\n",
            "     if (\u001b[01;35m\u001b[Kheap.size() > k\u001b[m\u001b[K) {\n",
            "         \u001b[01;35m\u001b[K~~~~~~~~~~~~^~~\u001b[m\u001b[K\n",
            "\u001b[01m\u001b[Ksrc/loss.cc:\u001b[m\u001b[K In member function ‘\u001b[01m\u001b[Kvirtual fasttext::real fasttext::HierarchicalSoftmaxLoss::forward(const std::vector<int>&, int32_t, fasttext::Model::State&, fasttext::real, bool)\u001b[m\u001b[K’:\n",
            "\u001b[01m\u001b[Ksrc/loss.cc:257:25:\u001b[m\u001b[K \u001b[01;35m\u001b[Kwarning: \u001b[m\u001b[Kcomparison between signed and unsigned integer expressions [\u001b[01;35m\u001b[K-Wsign-compare\u001b[m\u001b[K]\n",
            "   for (int32_t i = 0; \u001b[01;35m\u001b[Ki < pathToRoot.size()\u001b[m\u001b[K; i++) {\n",
            "                       \u001b[01;35m\u001b[K~~^~~~~~~~~~~~~~~~~~~\u001b[m\u001b[K\n",
            "\u001b[01m\u001b[Ksrc/loss.cc:\u001b[m\u001b[K In member function ‘\u001b[01m\u001b[Kvoid fasttext::HierarchicalSoftmaxLoss::dfs(int32_t, fasttext::real, int32_t, fasttext::real, fasttext::Predictions&, const fasttext::Vector&) const\u001b[m\u001b[K’:\n",
            "\u001b[01m\u001b[Ksrc/loss.cc:282:19:\u001b[m\u001b[K \u001b[01;35m\u001b[Kwarning: \u001b[m\u001b[Kcomparison between signed and unsigned integer expressions [\u001b[01;35m\u001b[K-Wsign-compare\u001b[m\u001b[K]\n",
            "   if (\u001b[01;35m\u001b[Kheap.size() == k\u001b[m\u001b[K && score < heap.front().first) {\n",
            "       \u001b[01;35m\u001b[K~~~~~~~~~~~~^~~~\u001b[m\u001b[K\n",
            "\u001b[01m\u001b[Ksrc/loss.cc:289:21:\u001b[m\u001b[K \u001b[01;35m\u001b[Kwarning: \u001b[m\u001b[Kcomparison between signed and unsigned integer expressions [\u001b[01;35m\u001b[K-Wsign-compare\u001b[m\u001b[K]\n",
            "     if (\u001b[01;35m\u001b[Kheap.size() > k\u001b[m\u001b[K) {\n",
            "         \u001b[01;35m\u001b[K~~~~~~~~~~~~^~~\u001b[m\u001b[K\n",
            "x86_64-linux-gnu-gcc -pthread -DNDEBUG -g -fwrapv -O2 -Wall -g -fstack-protector-strong -Wformat -Werror=format-security -Wdate-time -D_FORTIFY_SOURCE=2 -fPIC -I/usr/local/include/python3.6 -I/root/.local/include/python3.6m -Isrc -I/usr/include/python3.6m -c src/fasttext.cc -o build/temp.linux-x86_64-3.6/src/fasttext.o -DVERSION_INFO=\"0.9.1\" -std=c++14 -fvisibility=hidden\n",
            "\u001b[01m\u001b[Ksrc/fasttext.cc:\u001b[m\u001b[K In member function ‘\u001b[01m\u001b[Kvoid fasttext::FastText::getWordVector(fasttext::Vector&, const string&) const\u001b[m\u001b[K’:\n",
            "\u001b[01m\u001b[Ksrc/fasttext.cc:93:21:\u001b[m\u001b[K \u001b[01;35m\u001b[Kwarning: \u001b[m\u001b[Kcomparison between signed and unsigned integer expressions [\u001b[01;35m\u001b[K-Wsign-compare\u001b[m\u001b[K]\n",
            "   for (int i = 0; \u001b[01;35m\u001b[Ki < ngrams.size()\u001b[m\u001b[K; i++) {\n",
            "                   \u001b[01;35m\u001b[K~~^~~~~~~~~~~~~~~\u001b[m\u001b[K\n",
            "\u001b[01m\u001b[Ksrc/fasttext.cc:\u001b[m\u001b[K In lambda function:\n",
            "\u001b[01m\u001b[Ksrc/fasttext.cc:281:12:\u001b[m\u001b[K \u001b[01;35m\u001b[Kwarning: \u001b[m\u001b[Kcomparison between signed and unsigned integer expressions [\u001b[01;35m\u001b[K-Wsign-compare\u001b[m\u001b[K]\n",
            "     if (\u001b[01;35m\u001b[Ki1 == eosid\u001b[m\u001b[K && i2 == eosid) { // satisfy strict weak ordering\n",
            "         \u001b[01;35m\u001b[K~~~^~~~~~~~\u001b[m\u001b[K\n",
            "\u001b[01m\u001b[Ksrc/fasttext.cc:281:27:\u001b[m\u001b[K \u001b[01;35m\u001b[Kwarning: \u001b[m\u001b[Kcomparison between signed and unsigned integer expressions [\u001b[01;35m\u001b[K-Wsign-compare\u001b[m\u001b[K]\n",
            "     if (i1 == eosid && \u001b[01;35m\u001b[Ki2 == eosid\u001b[m\u001b[K) { // satisfy strict weak ordering\n",
            "                        \u001b[01;35m\u001b[K~~~^~~~~~~~\u001b[m\u001b[K\n",
            "\u001b[01m\u001b[Ksrc/fasttext.cc:284:18:\u001b[m\u001b[K \u001b[01;35m\u001b[Kwarning: \u001b[m\u001b[Kcomparison between signed and unsigned integer expressions [\u001b[01;35m\u001b[K-Wsign-compare\u001b[m\u001b[K]\n",
            "     return \u001b[01;35m\u001b[Keosid == i1\u001b[m\u001b[K || (eosid != i2 && norms[i1] > norms[i2]);\n",
            "            \u001b[01;35m\u001b[K~~~~~~^~~~~\u001b[m\u001b[K\n",
            "\u001b[01m\u001b[Ksrc/fasttext.cc:284:34:\u001b[m\u001b[K \u001b[01;35m\u001b[Kwarning: \u001b[m\u001b[Kcomparison between signed and unsigned integer expressions [\u001b[01;35m\u001b[K-Wsign-compare\u001b[m\u001b[K]\n",
            "     return eosid == i1 || (\u001b[01;35m\u001b[Keosid != i2\u001b[m\u001b[K && norms[i1] > norms[i2]);\n",
            "                            \u001b[01;35m\u001b[K~~~~~~^~~~~\u001b[m\u001b[K\n",
            "\u001b[01m\u001b[Ksrc/fasttext.cc:\u001b[m\u001b[K In member function ‘\u001b[01m\u001b[Kvoid fasttext::FastText::quantize(const fasttext::Args&)\u001b[m\u001b[K’:\n",
            "\u001b[01m\u001b[Ksrc/fasttext.cc:304:40:\u001b[m\u001b[K \u001b[01;35m\u001b[Kwarning: \u001b[m\u001b[Kcomparison between signed and unsigned integer expressions [\u001b[01;35m\u001b[K-Wsign-compare\u001b[m\u001b[K]\n",
            "   if (qargs.cutoff > 0 && \u001b[01;35m\u001b[Kqargs.cutoff < input->size(0)\u001b[m\u001b[K) {\n",
            "                           \u001b[01;35m\u001b[K~~~~~~~~~~~~~^~~~~~~~~~~~~~~~\u001b[m\u001b[K\n",
            "\u001b[01m\u001b[Ksrc/fasttext.cc:309:24:\u001b[m\u001b[K \u001b[01;35m\u001b[Kwarning: \u001b[m\u001b[Kcomparison between signed and unsigned integer expressions [\u001b[01;35m\u001b[K-Wsign-compare\u001b[m\u001b[K]\n",
            "     for (auto i = 0; \u001b[01;35m\u001b[Ki < idx.size()\u001b[m\u001b[K; i++) {\n",
            "                      \u001b[01;35m\u001b[K~~^~~~~~~~~~~~\u001b[m\u001b[K\n",
            "\u001b[01m\u001b[Ksrc/fasttext.cc:\u001b[m\u001b[K In member function ‘\u001b[01m\u001b[Kvoid fasttext::FastText::cbow(fasttext::Model::State&, fasttext::real, const std::vector<int>&)\u001b[m\u001b[K’:\n",
            "\u001b[01m\u001b[Ksrc/fasttext.cc:362:25:\u001b[m\u001b[K \u001b[01;35m\u001b[Kwarning: \u001b[m\u001b[Kcomparison between signed and unsigned integer expressions [\u001b[01;35m\u001b[K-Wsign-compare\u001b[m\u001b[K]\n",
            "   for (int32_t w = 0; \u001b[01;35m\u001b[Kw < line.size()\u001b[m\u001b[K; w++) {\n",
            "                       \u001b[01;35m\u001b[K~~^~~~~~~~~~~~~\u001b[m\u001b[K\n",
            "\u001b[01m\u001b[Ksrc/fasttext.cc:366:41:\u001b[m\u001b[K \u001b[01;35m\u001b[Kwarning: \u001b[m\u001b[Kcomparison between signed and unsigned integer expressions [\u001b[01;35m\u001b[K-Wsign-compare\u001b[m\u001b[K]\n",
            "       if (c != 0 && w + c >= 0 && \u001b[01;35m\u001b[Kw + c < line.size()\u001b[m\u001b[K) {\n",
            "                                   \u001b[01;35m\u001b[K~~~~~~^~~~~~~~~~~~~\u001b[m\u001b[K\n",
            "\u001b[01m\u001b[Ksrc/fasttext.cc:\u001b[m\u001b[K In member function ‘\u001b[01m\u001b[Kvoid fasttext::FastText::skipgram(fasttext::Model::State&, fasttext::real, const std::vector<int>&)\u001b[m\u001b[K’:\n",
            "\u001b[01m\u001b[Ksrc/fasttext.cc:380:25:\u001b[m\u001b[K \u001b[01;35m\u001b[Kwarning: \u001b[m\u001b[Kcomparison between signed and unsigned integer expressions [\u001b[01;35m\u001b[K-Wsign-compare\u001b[m\u001b[K]\n",
            "   for (int32_t w = 0; \u001b[01;35m\u001b[Kw < line.size()\u001b[m\u001b[K; w++) {\n",
            "                       \u001b[01;35m\u001b[K~~^~~~~~~~~~~~~\u001b[m\u001b[K\n",
            "\u001b[01m\u001b[Ksrc/fasttext.cc:384:41:\u001b[m\u001b[K \u001b[01;35m\u001b[Kwarning: \u001b[m\u001b[Kcomparison between signed and unsigned integer expressions [\u001b[01;35m\u001b[K-Wsign-compare\u001b[m\u001b[K]\n",
            "       if (c != 0 && w + c >= 0 && \u001b[01;35m\u001b[Kw + c < line.size()\u001b[m\u001b[K) {\n",
            "                                   \u001b[01;35m\u001b[K~~~~~~^~~~~~~~~~~~~\u001b[m\u001b[K\n",
            "\u001b[01m\u001b[Ksrc/fasttext.cc:\u001b[m\u001b[K In member function ‘\u001b[01m\u001b[Kvoid fasttext::FastText::getSentenceVector(std::istream&, fasttext::Vector&)\u001b[m\u001b[K’:\n",
            "\u001b[01m\u001b[Ksrc/fasttext.cc:464:27:\u001b[m\u001b[K \u001b[01;35m\u001b[Kwarning: \u001b[m\u001b[Kcomparison between signed and unsigned integer expressions [\u001b[01;35m\u001b[K-Wsign-compare\u001b[m\u001b[K]\n",
            "     for (int32_t i = 0; \u001b[01;35m\u001b[Ki < line.size()\u001b[m\u001b[K; i++) {\n",
            "                         \u001b[01;35m\u001b[K~~^~~~~~~~~~~~~\u001b[m\u001b[K\n",
            "\u001b[01m\u001b[Ksrc/fasttext.cc:\u001b[m\u001b[K In member function ‘\u001b[01m\u001b[Kstd::vector<std::pair<std::__cxx11::basic_string<char>, fasttext::Vector> > fasttext::FastText::getNgramVectors(const string&) const\u001b[m\u001b[K’:\n",
            "\u001b[01m\u001b[Ksrc/fasttext.cc:499:25:\u001b[m\u001b[K \u001b[01;35m\u001b[Kwarning: \u001b[m\u001b[Kcomparison between signed and unsigned integer expressions [\u001b[01;35m\u001b[K-Wsign-compare\u001b[m\u001b[K]\n",
            "   for (int32_t i = 0; \u001b[01;35m\u001b[Ki < ngrams.size()\u001b[m\u001b[K; i++) {\n",
            "                       \u001b[01;35m\u001b[K~~^~~~~~~~~~~~~~~\u001b[m\u001b[K\n",
            "\u001b[01m\u001b[Ksrc/fasttext.cc:\u001b[m\u001b[K In member function ‘\u001b[01m\u001b[Kstd::vector<std::pair<float, std::__cxx11::basic_string<char> > > fasttext::FastText::getNN(const fasttext::DenseMatrix&, const fasttext::Vector&, int32_t, const std::set<std::__cxx11::basic_string<char> >&)\u001b[m\u001b[K’:\n",
            "\u001b[01m\u001b[Ksrc/fasttext.cc:560:23:\u001b[m\u001b[K \u001b[01;35m\u001b[Kwarning: \u001b[m\u001b[Kcomparison between signed and unsigned integer expressions [\u001b[01;35m\u001b[K-Wsign-compare\u001b[m\u001b[K]\n",
            "       if (\u001b[01;35m\u001b[Kheap.size() == k\u001b[m\u001b[K && similarity < heap.front().first) {\n",
            "           \u001b[01;35m\u001b[K~~~~~~~~~~~~^~~~\u001b[m\u001b[K\n",
            "\u001b[01m\u001b[Ksrc/fasttext.cc:565:23:\u001b[m\u001b[K \u001b[01;35m\u001b[Kwarning: \u001b[m\u001b[Kcomparison between signed and unsigned integer expressions [\u001b[01;35m\u001b[K-Wsign-compare\u001b[m\u001b[K]\n",
            "       if (\u001b[01;35m\u001b[Kheap.size() > k\u001b[m\u001b[K) {\n",
            "           \u001b[01;35m\u001b[K~~~~~~~~~~~~^~~\u001b[m\u001b[K\n",
            "\u001b[01m\u001b[Ksrc/fasttext.cc:\u001b[m\u001b[K In member function ‘\u001b[01m\u001b[Kstd::shared_ptr<fasttext::Matrix> fasttext::FastText::getInputMatrixFromFile(const string&) const\u001b[m\u001b[K’:\n",
            "\u001b[01m\u001b[Ksrc/fasttext.cc:656:24:\u001b[m\u001b[K \u001b[01;35m\u001b[Kwarning: \u001b[m\u001b[Kcomparison between signed and unsigned integer expressions [\u001b[01;35m\u001b[K-Wsign-compare\u001b[m\u001b[K]\n",
            "   for (size_t i = 0; \u001b[01;35m\u001b[Ki < n\u001b[m\u001b[K; i++) {\n",
            "                      \u001b[01;35m\u001b[K~~^~~\u001b[m\u001b[K\n",
            "\u001b[01m\u001b[Ksrc/fasttext.cc:661:26:\u001b[m\u001b[K \u001b[01;35m\u001b[Kwarning: \u001b[m\u001b[Kcomparison between signed and unsigned integer expressions [\u001b[01;35m\u001b[K-Wsign-compare\u001b[m\u001b[K]\n",
            "     for (size_t j = 0; \u001b[01;35m\u001b[Kj < dim\u001b[m\u001b[K; j++) {\n",
            "                        \u001b[01;35m\u001b[K~~^~~~~\u001b[m\u001b[K\n",
            "\u001b[01m\u001b[Ksrc/fasttext.cc:673:24:\u001b[m\u001b[K \u001b[01;35m\u001b[Kwarning: \u001b[m\u001b[Kcomparison between signed and unsigned integer expressions [\u001b[01;35m\u001b[K-Wsign-compare\u001b[m\u001b[K]\n",
            "   for (size_t i = 0; \u001b[01;35m\u001b[Ki < n\u001b[m\u001b[K; i++) {\n",
            "                      \u001b[01;35m\u001b[K~~^~~\u001b[m\u001b[K\n",
            "\u001b[01m\u001b[Ksrc/fasttext.cc:678:26:\u001b[m\u001b[K \u001b[01;35m\u001b[Kwarning: \u001b[m\u001b[Kcomparison between signed and unsigned integer expressions [\u001b[01;35m\u001b[K-Wsign-compare\u001b[m\u001b[K]\n",
            "     for (size_t j = 0; \u001b[01;35m\u001b[Kj < dim\u001b[m\u001b[K; j++) {\n",
            "                        \u001b[01;35m\u001b[K~~^~~~~\u001b[m\u001b[K\n",
            "x86_64-linux-gnu-gcc -pthread -DNDEBUG -g -fwrapv -O2 -Wall -g -fstack-protector-strong -Wformat -Werror=format-security -Wdate-time -D_FORTIFY_SOURCE=2 -fPIC -I/usr/local/include/python3.6 -I/root/.local/include/python3.6m -Isrc -I/usr/include/python3.6m -c src/matrix.cc -o build/temp.linux-x86_64-3.6/src/matrix.o -DVERSION_INFO=\"0.9.1\" -std=c++14 -fvisibility=hidden\n",
            "x86_64-linux-gnu-gcc -pthread -DNDEBUG -g -fwrapv -O2 -Wall -g -fstack-protector-strong -Wformat -Werror=format-security -Wdate-time -D_FORTIFY_SOURCE=2 -fPIC -I/usr/local/include/python3.6 -I/root/.local/include/python3.6m -Isrc -I/usr/include/python3.6m -c src/args.cc -o build/temp.linux-x86_64-3.6/src/args.o -DVERSION_INFO=\"0.9.1\" -std=c++14 -fvisibility=hidden\n",
            "\u001b[01m\u001b[Ksrc/args.cc:\u001b[m\u001b[K In member function ‘\u001b[01m\u001b[Kvoid fasttext::Args::parseArgs(const std::vector<std::__cxx11::basic_string<char> >&)\u001b[m\u001b[K’:\n",
            "\u001b[01m\u001b[Ksrc/args.cc:111:23:\u001b[m\u001b[K \u001b[01;35m\u001b[Kwarning: \u001b[m\u001b[Kcomparison between signed and unsigned integer expressions [\u001b[01;35m\u001b[K-Wsign-compare\u001b[m\u001b[K]\n",
            "   for (int ai = 2; \u001b[01;35m\u001b[Kai < args.size()\u001b[m\u001b[K; ai += 2) {\n",
            "                    \u001b[01;35m\u001b[K~~~^~~~~~~~~~~~~\u001b[m\u001b[K\n",
            "x86_64-linux-gnu-gcc -pthread -DNDEBUG -g -fwrapv -O2 -Wall -g -fstack-protector-strong -Wformat -Werror=format-security -Wdate-time -D_FORTIFY_SOURCE=2 -fPIC -I/usr/local/include/python3.6 -I/root/.local/include/python3.6m -Isrc -I/usr/include/python3.6m -c src/utils.cc -o build/temp.linux-x86_64-3.6/src/utils.o -DVERSION_INFO=\"0.9.1\" -std=c++14 -fvisibility=hidden\n",
            "x86_64-linux-gnu-gcc -pthread -DNDEBUG -g -fwrapv -O2 -Wall -g -fstack-protector-strong -Wformat -Werror=format-security -Wdate-time -D_FORTIFY_SOURCE=2 -fPIC -I/usr/local/include/python3.6 -I/root/.local/include/python3.6m -Isrc -I/usr/include/python3.6m -c src/dictionary.cc -o build/temp.linux-x86_64-3.6/src/dictionary.o -DVERSION_INFO=\"0.9.1\" -std=c++14 -fvisibility=hidden\n",
            "\u001b[01m\u001b[Ksrc/dictionary.cc:\u001b[m\u001b[K In member function ‘\u001b[01m\u001b[Kvoid fasttext::Dictionary::computeSubwords(const string&, std::vector<int>&, std::vector<std::__cxx11::basic_string<char> >*) const\u001b[m\u001b[K’:\n",
            "\u001b[01m\u001b[Ksrc/dictionary.cc:181:52:\u001b[m\u001b[K \u001b[01;35m\u001b[Kwarning: \u001b[m\u001b[Kcomparison between signed and unsigned integer expressions [\u001b[01;35m\u001b[K-Wsign-compare\u001b[m\u001b[K]\n",
            "     for (size_t j = i, n = 1; j < word.size() && \u001b[01;35m\u001b[Kn <= args_->maxn\u001b[m\u001b[K; n++) {\n",
            "                                                  \u001b[01;35m\u001b[K~~^~~~~~~~~~~~~~\u001b[m\u001b[K\n",
            "\u001b[01m\u001b[Ksrc/dictionary.cc:186:13:\u001b[m\u001b[K \u001b[01;35m\u001b[Kwarning: \u001b[m\u001b[Kcomparison between signed and unsigned integer expressions [\u001b[01;35m\u001b[K-Wsign-compare\u001b[m\u001b[K]\n",
            "       if (\u001b[01;35m\u001b[Kn >= args_->minn\u001b[m\u001b[K && !(n == 1 && (i == 0 || j == word.size()))) {\n",
            "           \u001b[01;35m\u001b[K~~^~~~~~~~~~~~~~\u001b[m\u001b[K\n",
            "\u001b[01m\u001b[Ksrc/dictionary.cc:\u001b[m\u001b[K In member function ‘\u001b[01m\u001b[Kvoid fasttext::Dictionary::initNgrams()\u001b[m\u001b[K’:\n",
            "\u001b[01m\u001b[Ksrc/dictionary.cc:198:24:\u001b[m\u001b[K \u001b[01;35m\u001b[Kwarning: \u001b[m\u001b[Kcomparison between signed and unsigned integer expressions [\u001b[01;35m\u001b[K-Wsign-compare\u001b[m\u001b[K]\n",
            "   for (size_t i = 0; \u001b[01;35m\u001b[Ki < size_\u001b[m\u001b[K; i++) {\n",
            "                      \u001b[01;35m\u001b[K~~^~~~~~~\u001b[m\u001b[K\n",
            "\u001b[01m\u001b[Ksrc/dictionary.cc:\u001b[m\u001b[K In member function ‘\u001b[01m\u001b[Kvoid fasttext::Dictionary::initTableDiscard()\u001b[m\u001b[K’:\n",
            "\u001b[01m\u001b[Ksrc/dictionary.cc:296:24:\u001b[m\u001b[K \u001b[01;35m\u001b[Kwarning: \u001b[m\u001b[Kcomparison between signed and unsigned integer expressions [\u001b[01;35m\u001b[K-Wsign-compare\u001b[m\u001b[K]\n",
            "   for (size_t i = 0; \u001b[01;35m\u001b[Ki < size_\u001b[m\u001b[K; i++) {\n",
            "                      \u001b[01;35m\u001b[K~~^~~~~~~\u001b[m\u001b[K\n",
            "\u001b[01m\u001b[Ksrc/dictionary.cc:\u001b[m\u001b[K In member function ‘\u001b[01m\u001b[Kvoid fasttext::Dictionary::addWordNgrams(std::vector<int>&, const std::vector<int>&, int32_t) const\u001b[m\u001b[K’:\n",
            "\u001b[01m\u001b[Ksrc/dictionary.cc:316:25:\u001b[m\u001b[K \u001b[01;35m\u001b[Kwarning: \u001b[m\u001b[Kcomparison between signed and unsigned integer expressions [\u001b[01;35m\u001b[K-Wsign-compare\u001b[m\u001b[K]\n",
            "   for (int32_t i = 0; \u001b[01;35m\u001b[Ki < hashes.size()\u001b[m\u001b[K; i++) {\n",
            "                       \u001b[01;35m\u001b[K~~^~~~~~~~~~~~~~~\u001b[m\u001b[K\n",
            "\u001b[01m\u001b[Ksrc/dictionary.cc:318:31:\u001b[m\u001b[K \u001b[01;35m\u001b[Kwarning: \u001b[m\u001b[Kcomparison between signed and unsigned integer expressions [\u001b[01;35m\u001b[K-Wsign-compare\u001b[m\u001b[K]\n",
            "     for (int32_t j = i + 1; \u001b[01;35m\u001b[Kj < hashes.size()\u001b[m\u001b[K && j < i + n; j++) {\n",
            "                             \u001b[01;35m\u001b[K~~^~~~~~~~~~~~~~~\u001b[m\u001b[K\n",
            "\u001b[01m\u001b[Ksrc/dictionary.cc:\u001b[m\u001b[K In member function ‘\u001b[01m\u001b[Kvoid fasttext::Dictionary::prune(std::vector<int>&)\u001b[m\u001b[K’:\n",
            "\u001b[01m\u001b[Ksrc/dictionary.cc:515:25:\u001b[m\u001b[K \u001b[01;35m\u001b[Kwarning: \u001b[m\u001b[Kcomparison between signed and unsigned integer expressions [\u001b[01;35m\u001b[K-Wsign-compare\u001b[m\u001b[K]\n",
            "   for (int32_t i = 0; \u001b[01;35m\u001b[Ki < words_.size()\u001b[m\u001b[K; i++) {\n",
            "                       \u001b[01;35m\u001b[K~~^~~~~~~~~~~~~~~\u001b[m\u001b[K\n",
            "\u001b[01m\u001b[Ksrc/dictionary.cc:517:12:\u001b[m\u001b[K \u001b[01;35m\u001b[Kwarning: \u001b[m\u001b[Kcomparison between signed and unsigned integer expressions [\u001b[01;35m\u001b[K-Wsign-compare\u001b[m\u001b[K]\n",
            "         (\u001b[01;35m\u001b[Kj < words.size()\u001b[m\u001b[K && words[j] == i)) {\n",
            "          \u001b[01;35m\u001b[K~~^~~~~~~~~~~~~~\u001b[m\u001b[K\n",
            "x86_64-linux-gnu-gcc -pthread -DNDEBUG -g -fwrapv -O2 -Wall -g -fstack-protector-strong -Wformat -Werror=format-security -Wdate-time -D_FORTIFY_SOURCE=2 -fPIC -I/usr/local/include/python3.6 -I/root/.local/include/python3.6m -Isrc -I/usr/include/python3.6m -c src/autotune.cc -o build/temp.linux-x86_64-3.6/src/autotune.o -DVERSION_INFO=\"0.9.1\" -std=c++14 -fvisibility=hidden\n",
            "x86_64-linux-gnu-gcc -pthread -DNDEBUG -g -fwrapv -O2 -Wall -g -fstack-protector-strong -Wformat -Werror=format-security -Wdate-time -D_FORTIFY_SOURCE=2 -fPIC -I/usr/local/include/python3.6 -I/root/.local/include/python3.6m -Isrc -I/usr/include/python3.6m -c src/meter.cc -o build/temp.linux-x86_64-3.6/src/meter.o -DVERSION_INFO=\"0.9.1\" -std=c++14 -fvisibility=hidden\n",
            "x86_64-linux-gnu-gcc -pthread -DNDEBUG -g -fwrapv -O2 -Wall -g -fstack-protector-strong -Wformat -Werror=format-security -Wdate-time -D_FORTIFY_SOURCE=2 -fPIC -I/usr/local/include/python3.6 -I/root/.local/include/python3.6m -Isrc -I/usr/include/python3.6m -c src/quantmatrix.cc -o build/temp.linux-x86_64-3.6/src/quantmatrix.o -DVERSION_INFO=\"0.9.1\" -std=c++14 -fvisibility=hidden\n",
            "x86_64-linux-gnu-gcc -pthread -DNDEBUG -g -fwrapv -O2 -Wall -g -fstack-protector-strong -Wformat -Werror=format-security -Wdate-time -D_FORTIFY_SOURCE=2 -fPIC -I/usr/local/include/python3.6 -I/root/.local/include/python3.6m -Isrc -I/usr/include/python3.6m -c src/productquantizer.cc -o build/temp.linux-x86_64-3.6/src/productquantizer.o -DVERSION_INFO=\"0.9.1\" -std=c++14 -fvisibility=hidden\n",
            "\u001b[01m\u001b[Ksrc/productquantizer.cc:\u001b[m\u001b[K In member function ‘\u001b[01m\u001b[Kvoid fasttext::ProductQuantizer::load(std::istream&)\u001b[m\u001b[K’:\n",
            "\u001b[01m\u001b[Ksrc/productquantizer.cc:246:22:\u001b[m\u001b[K \u001b[01;35m\u001b[Kwarning: \u001b[m\u001b[Kcomparison between signed and unsigned integer expressions [\u001b[01;35m\u001b[K-Wsign-compare\u001b[m\u001b[K]\n",
            "   for (auto i = 0; \u001b[01;35m\u001b[Ki < centroids_.size()\u001b[m\u001b[K; i++) {\n",
            "                    \u001b[01;35m\u001b[K~~^~~~~~~~~~~~~~~~~~~\u001b[m\u001b[K\n",
            "x86_64-linux-gnu-gcc -pthread -DNDEBUG -g -fwrapv -O2 -Wall -g -fstack-protector-strong -Wformat -Werror=format-security -Wdate-time -D_FORTIFY_SOURCE=2 -fPIC -I/usr/local/include/python3.6 -I/root/.local/include/python3.6m -Isrc -I/usr/include/python3.6m -c src/densematrix.cc -o build/temp.linux-x86_64-3.6/src/densematrix.o -DVERSION_INFO=\"0.9.1\" -std=c++14 -fvisibility=hidden\n",
            "\u001b[01m\u001b[Ksrc/densematrix.cc:\u001b[m\u001b[K In member function ‘\u001b[01m\u001b[Kvoid fasttext::DenseMatrix::uniform(fasttext::real, unsigned int, int32_t)\u001b[m\u001b[K’:\n",
            "\u001b[01m\u001b[Ksrc/densematrix.cc:44:21:\u001b[m\u001b[K \u001b[01;35m\u001b[Kwarning: \u001b[m\u001b[Kcomparison between signed and unsigned integer expressions [\u001b[01;35m\u001b[K-Wsign-compare\u001b[m\u001b[K]\n",
            "   for (int i = 0; \u001b[01;35m\u001b[Ki < thread\u001b[m\u001b[K; i++) {\n",
            "                   \u001b[01;35m\u001b[K~~^~~~~~~~\u001b[m\u001b[K\n",
            "\u001b[01m\u001b[Ksrc/densematrix.cc:47:25:\u001b[m\u001b[K \u001b[01;35m\u001b[Kwarning: \u001b[m\u001b[Kcomparison between signed and unsigned integer expressions [\u001b[01;35m\u001b[K-Wsign-compare\u001b[m\u001b[K]\n",
            "   for (int32_t i = 0; \u001b[01;35m\u001b[Ki < threads.size()\u001b[m\u001b[K; i++) {\n",
            "                       \u001b[01;35m\u001b[K~~^~~~~~~~~~~~~~~~\u001b[m\u001b[K\n",
            "x86_64-linux-gnu-gcc -pthread -DNDEBUG -g -fwrapv -O2 -Wall -g -fstack-protector-strong -Wformat -Werror=format-security -Wdate-time -D_FORTIFY_SOURCE=2 -fPIC -I/usr/local/include/python3.6 -I/root/.local/include/python3.6m -Isrc -I/usr/include/python3.6m -c src/model.cc -o build/temp.linux-x86_64-3.6/src/model.o -DVERSION_INFO=\"0.9.1\" -std=c++14 -fvisibility=hidden\n",
            "x86_64-linux-gnu-gcc -pthread -DNDEBUG -g -fwrapv -O2 -Wall -g -fstack-protector-strong -Wformat -Werror=format-security -Wdate-time -D_FORTIFY_SOURCE=2 -fPIC -I/usr/local/include/python3.6 -I/root/.local/include/python3.6m -Isrc -I/usr/include/python3.6m -c src/main.cc -o build/temp.linux-x86_64-3.6/src/main.o -DVERSION_INFO=\"0.9.1\" -std=c++14 -fvisibility=hidden\n",
            "x86_64-linux-gnu-g++ -pthread -shared -Wl,-O1 -Wl,-Bsymbolic-functions -Wl,-Bsymbolic-functions -Wl,-z,relro -Wl,-Bsymbolic-functions -Wl,-z,relro -g -fstack-protector-strong -Wformat -Werror=format-security -Wdate-time -D_FORTIFY_SOURCE=2 build/temp.linux-x86_64-3.6/python/fasttext_module/fasttext/pybind/fasttext_pybind.o build/temp.linux-x86_64-3.6/src/vector.o build/temp.linux-x86_64-3.6/src/loss.o build/temp.linux-x86_64-3.6/src/fasttext.o build/temp.linux-x86_64-3.6/src/matrix.o build/temp.linux-x86_64-3.6/src/args.o build/temp.linux-x86_64-3.6/src/utils.o build/temp.linux-x86_64-3.6/src/dictionary.o build/temp.linux-x86_64-3.6/src/autotune.o build/temp.linux-x86_64-3.6/src/meter.o build/temp.linux-x86_64-3.6/src/quantmatrix.o build/temp.linux-x86_64-3.6/src/productquantizer.o build/temp.linux-x86_64-3.6/src/densematrix.o build/temp.linux-x86_64-3.6/src/model.o build/temp.linux-x86_64-3.6/src/main.o -o build/lib.linux-x86_64-3.6/fasttext_pybind.cpython-36m-x86_64-linux-gnu.so\n",
            "creating build/bdist.linux-x86_64\n",
            "creating build/bdist.linux-x86_64/egg\n",
            "creating build/bdist.linux-x86_64/egg/fasttext\n",
            "creating build/bdist.linux-x86_64/egg/fasttext/tests\n",
            "copying build/lib.linux-x86_64-3.6/fasttext/tests/__init__.py -> build/bdist.linux-x86_64/egg/fasttext/tests\n",
            "copying build/lib.linux-x86_64-3.6/fasttext/tests/test_script.py -> build/bdist.linux-x86_64/egg/fasttext/tests\n",
            "copying build/lib.linux-x86_64-3.6/fasttext/tests/test_configurations.py -> build/bdist.linux-x86_64/egg/fasttext/tests\n",
            "copying build/lib.linux-x86_64-3.6/fasttext/__init__.py -> build/bdist.linux-x86_64/egg/fasttext\n",
            "copying build/lib.linux-x86_64-3.6/fasttext/FastText.py -> build/bdist.linux-x86_64/egg/fasttext\n",
            "creating build/bdist.linux-x86_64/egg/fasttext/util\n",
            "copying build/lib.linux-x86_64-3.6/fasttext/util/__init__.py -> build/bdist.linux-x86_64/egg/fasttext/util\n",
            "copying build/lib.linux-x86_64-3.6/fasttext/util/util.py -> build/bdist.linux-x86_64/egg/fasttext/util\n",
            "copying build/lib.linux-x86_64-3.6/fasttext_pybind.cpython-36m-x86_64-linux-gnu.so -> build/bdist.linux-x86_64/egg\n",
            "byte-compiling build/bdist.linux-x86_64/egg/fasttext/tests/__init__.py to __init__.cpython-36.pyc\n",
            "byte-compiling build/bdist.linux-x86_64/egg/fasttext/tests/test_script.py to test_script.cpython-36.pyc\n",
            "byte-compiling build/bdist.linux-x86_64/egg/fasttext/tests/test_configurations.py to test_configurations.cpython-36.pyc\n",
            "byte-compiling build/bdist.linux-x86_64/egg/fasttext/__init__.py to __init__.cpython-36.pyc\n",
            "byte-compiling build/bdist.linux-x86_64/egg/fasttext/FastText.py to FastText.cpython-36.pyc\n",
            "byte-compiling build/bdist.linux-x86_64/egg/fasttext/util/__init__.py to __init__.cpython-36.pyc\n",
            "byte-compiling build/bdist.linux-x86_64/egg/fasttext/util/util.py to util.cpython-36.pyc\n",
            "creating stub loader for fasttext_pybind.cpython-36m-x86_64-linux-gnu.so\n",
            "byte-compiling build/bdist.linux-x86_64/egg/fasttext_pybind.py to fasttext_pybind.cpython-36.pyc\n",
            "creating build/bdist.linux-x86_64/egg/EGG-INFO\n",
            "copying python/fasttext_module/fasttext.egg-info/PKG-INFO -> build/bdist.linux-x86_64/egg/EGG-INFO\n",
            "copying python/fasttext_module/fasttext.egg-info/SOURCES.txt -> build/bdist.linux-x86_64/egg/EGG-INFO\n",
            "copying python/fasttext_module/fasttext.egg-info/dependency_links.txt -> build/bdist.linux-x86_64/egg/EGG-INFO\n",
            "copying python/fasttext_module/fasttext.egg-info/not-zip-safe -> build/bdist.linux-x86_64/egg/EGG-INFO\n",
            "copying python/fasttext_module/fasttext.egg-info/requires.txt -> build/bdist.linux-x86_64/egg/EGG-INFO\n",
            "copying python/fasttext_module/fasttext.egg-info/top_level.txt -> build/bdist.linux-x86_64/egg/EGG-INFO\n",
            "writing build/bdist.linux-x86_64/egg/EGG-INFO/native_libs.txt\n",
            "creating dist\n",
            "creating 'dist/fasttext-0.9.1-py3.6-linux-x86_64.egg' and adding 'build/bdist.linux-x86_64/egg' to it\n",
            "removing 'build/bdist.linux-x86_64/egg' (and everything under it)\n",
            "Processing fasttext-0.9.1-py3.6-linux-x86_64.egg\n",
            "creating /usr/local/lib/python3.6/dist-packages/fasttext-0.9.1-py3.6-linux-x86_64.egg\n",
            "Extracting fasttext-0.9.1-py3.6-linux-x86_64.egg to /usr/local/lib/python3.6/dist-packages\n",
            "Adding fasttext 0.9.1 to easy-install.pth file\n",
            "\n",
            "Installed /usr/local/lib/python3.6/dist-packages/fasttext-0.9.1-py3.6-linux-x86_64.egg\n",
            "Processing dependencies for fasttext==0.9.1\n",
            "Searching for numpy==1.17.4\n",
            "Best match: numpy 1.17.4\n",
            "Adding numpy 1.17.4 to easy-install.pth file\n",
            "Installing f2py script to /usr/local/bin\n",
            "Installing f2py3 script to /usr/local/bin\n",
            "Installing f2py3.6 script to /usr/local/bin\n",
            "\n",
            "Using /usr/local/lib/python3.6/dist-packages\n",
            "Searching for setuptools==42.0.2\n",
            "Best match: setuptools 42.0.2\n",
            "Adding setuptools 42.0.2 to easy-install.pth file\n",
            "Installing easy_install script to /usr/local/bin\n",
            "Installing easy_install-3.8 script to /usr/local/bin\n",
            "\n",
            "Using /usr/local/lib/python3.6/dist-packages\n",
            "Searching for pybind11==2.4.3\n",
            "Best match: pybind11 2.4.3\n",
            "Adding pybind11 2.4.3 to easy-install.pth file\n",
            "\n",
            "Using /usr/local/lib/python3.6/dist-packages\n",
            "Finished processing dependencies for fasttext==0.9.1\n"
          ],
          "name": "stdout"
        }
      ]
    },
    {
      "cell_type": "code",
      "metadata": {
        "id": "lgbrhQt2dcHt",
        "colab_type": "code",
        "colab": {}
      },
      "source": [
        "#!wget wget https://dl.fbaipublicfiles.com/fasttext/data/cooking.stackexchange.tar.gz\n",
        "#!tar xvzf cooking.stackexchange.tar.gz\n",
        "# !head cooking.stackexchange.txt\n",
        "\n",
        "# !rm -rf data\n",
        "# !mkdir data\n",
        "# !wget -c http://mattmahoney.net/dc/enwik9.zip -P data\n",
        "# !unzip data/enwik9.zip -d data     \n",
        "# !head -c 200 data/fil9 "
      ],
      "execution_count": 0,
      "outputs": []
    },
    {
      "cell_type": "code",
      "metadata": {
        "id": "VNYs38-RRv5-",
        "colab_type": "code",
        "colab": {}
      },
      "source": [
        "from flask import Flask\n",
        "from flask_pymongo import PyMongo\n",
        "from bs4 import BeautifulSoup\n",
        "import re\n",
        "import random"
      ],
      "execution_count": 0,
      "outputs": []
    },
    {
      "cell_type": "code",
      "metadata": {
        "id": "W44FxHWMR_0S",
        "colab_type": "code",
        "outputId": "f4973400-0e6a-4693-e382-b0f19b2a1a8a",
        "colab": {
          "base_uri": "https://localhost:8080/",
          "height": 401
        }
      },
      "source": [
        "#__label__sauce __label__cheese How much does potato starch affect a cheese sauce recipe?\n",
        "# __label__food-safety __label__acidity Dangerous pathogens capable of growing in acidic environments\n",
        "# __label__cast-iron __label__stove How do I cover up the white spots on my cast iron stove?\n",
        "# __label__restaurant Michelin Three Star Restaurant; but if the chef is not there\n",
        "# sample format needed\n",
        "\n",
        "\n",
        "app = Flask(__name__)\n",
        "app.config[\"MONGO_URI\"] = \"\"\n",
        "mongo = PyMongo(app)\n",
        "\n",
        "\n",
        "def cleanMe(html):\n",
        "    # create a new bs4 object from the html data loaded\n",
        "    \n",
        "    # print(html)\n",
        "    soup = BeautifulSoup(html, \"html.parser\")\n",
        "    # remove all javascript and stylesheet code\n",
        "    for script in soup([\"script\", \"style\"]):\n",
        "        script.extract()\n",
        "    # get text\n",
        "    text = soup.get_text(separator=' ')\n",
        "\n",
        "    # break into lines and remove leading and trailing space on each\n",
        "    # lines = (line.strip() for line in text.splitlines())\n",
        "    lines = text.splitlines()\n",
        "    # break multi-headlines into a line each\n",
        "    chunks = (phrase.strip() for line in lines for phrase in line.split(\"  \"))\n",
        "    # drop blank lines\n",
        "    # text = '\\n'.join(chunk for chunk in chunks if chunk)\n",
        "    chunks = filter(None, chunks)\n",
        "    return \" \".join(chunks)\n",
        "\n",
        "ret = mongo.db.naukri_candidates.find({\"extra_data.functional_area\": {\"$exists\": True}})\n",
        "rows = []\n",
        "for row in ret:\n",
        "  rows.append(row)\n",
        "\n",
        "\n",
        "random.shuffle(rows)\n",
        "\n",
        "print(\"total candidates\" , len(rows))\n",
        "\n",
        "open('fastText_cv.train', 'w').close()\n",
        "open('fastText_functional_area.text', 'w').close()\n",
        "\n",
        "no_of_data_for_cv_classify = 10000\n",
        "cv_classify_lines_count = 0\n",
        "\n",
        "with open(\"fastText_cv.train\", 'a') as the_file:\n",
        "  with open(\"fastText_functional_area.text\", 'a') as the_file2:\n",
        "    for row in rows:\n",
        "      education = row[\"education\"]\n",
        "      workExperiance = row[\"workExperiance\"]\n",
        "      summary = row['summary']\n",
        "      key_skills = row[\"key_skills\"]\n",
        "      projects = row[\"projects\"]\n",
        "      if \"extra_data\" not in row:\n",
        "        continue\n",
        "\n",
        "      extra_data = row[\"extra_data\"]\n",
        "      functional_area = re.sub('[^A-Za-z0-9]+', '-', extra_data[\"functional_area\"])\n",
        "\n",
        "      summary_str = summary.splitlines()\n",
        "\n",
        "      education_string = []\n",
        "      for edu in education:\n",
        "          # education_string.append(edu[\"degree\"] + \" \" + edu[\"specific\"] + \" \" + edu[\"university\"] + \" \" + edu[\"year\"])\n",
        "          data = [edu[\"degree\"],edu[\"specific\"],edu[\"university\"],edu[\"year\"]]\n",
        "          random.shuffle(data)\n",
        "          education_string.append(\" \".join(data))\n",
        "\n",
        "      work_exp_string = []\n",
        "      for work in workExperiance:\n",
        "          # work_exp_string.append(work[\"company_name\"]  + \" \" + work[\"designation\"] + \" \" + work[\"date\"] + \" \" + cleanMe(work[\"desc\"]))\n",
        "          data = [work[\"company_name\"],work[\"designation\"],work[\"date\"],cleanMe(work[\"desc\"]) ]\n",
        "          random.shuffle(data) \n",
        "          work_exp_string.append(\" \".join(data))\n",
        "\n",
        "      key_skills_str =  \" \".join(key_skills.split(\",\")).replace(\"Key Skills:\",\"\")\n",
        "\n",
        "      project_str = []\n",
        "      for project in projects:\n",
        "          project_str.append(cleanMe(project))\n",
        "\n",
        "      all_lines = {}\n",
        "\n",
        "      all_lines[\"summary\"] = \" \".join(summary_str)\n",
        "      all_lines[\"education\"] = \" \".join(education_string)\n",
        "      all_lines[\"work-exp\"] = \" \".join(work_exp_string)\n",
        "      all_lines[\"key-skills\"] = key_skills_str\n",
        "      all_lines[\"project\"] = \" \".join(project_str)\n",
        "\n",
        "      for label in all_lines.keys():\n",
        "        if len(all_lines[label]) > 0:\n",
        "          if label == \"work-exp\" or label == \"summary\":\n",
        "            the_file2.write(\"__label__\"  + functional_area + \" \" + all_lines[label] + \"\\n\")\n",
        "\n",
        "          if (cv_classify_lines_count < no_of_data_for_cv_classify):\n",
        "            the_file.write(\"__label__\" + label + \" \"  + all_lines[label] + \"\\n\")\n",
        "          # fasttext alredy does tokenization internally\n",
        "\n",
        "      cv_classify_lines_count += 1\n",
        "\n",
        "!tail -n 1000 fastText_cv.train | head -n 20 "
      ],
      "execution_count": 0,
      "outputs": [
        {
          "output_type": "stream",
          "text": [
            "total candidates 20817\n",
            "__label__key-skills  Service Delivery Manager Program Manager IT Operations Project Management Program Management Quality Management Risk Management Requirement Gathering Business Analysis Client Relationship Management Data Center Management Effort Estimation\n",
            "__label__summary A performance-driven marketing professional with reputation to launch, grow & create mega brands with profitable & sustainable market leadership and implementation of innovative path-breaking initiatives. Possess experience in marketing brands at various levels of product life cycle such as launches, mature brands, brands on decline, premium priced brands & technologically high end brands. Key skills include Marketing Operations,Brand Management,Public Relation,Internal Communication ,Media Relations,Media monitoring,Advertisement Management,hospital management,Revenue Generation,Market Analysis \n",
            "__label__education Utkal University B.Com 1996  (Commerce) ICWA (CMA) 2001  (ICWA (CMA)) The Reputed Institute\n",
            "__label__work-exp Job Responsibility Ensuring all front office counters have manpower and are operational round the clock. Ensuring prompt and efficient service at the billing counter. Smooth and timely admission of patients Addressing queries from guests. Ensuring coordination with OPD coordinator, floor manager and report dispatch desk etc. Also co- ordination with IP team Co-ordination with various departments like Pharmacy, Purchase, HK, Maintenance, OT etc. Ensure maintenance of proper and adequate stock of OPD stationery. Coordinate with Corporate with Corporate and Mediclaim Help Desk (TPA) for special discounts. Ensure availability of desired Doctor and bed for the patient if required. Continuous rounds in the OPD, Emergency Deputy Manager Operations, Business Development Tata Steel Medica Multi-speciality hospital, Sep 2019 to Till Date Team Leader Vivo Kidney Care Dec 2015 to May 2019 Job Responsibilities: Marketing activities: *     Liasioning with Nephrologists to increase patient footfall in OPD and dialysis treatment *     Visited GPs, & specialist doctors for referring cases *     Organised health talk, CMEs, health camps *     Co-ordinating with Media & seeing the important press release / Advertisement of the hospital *     Branding in FM channel for important events of the hospital Besides as Unit head in Sanjeevani, I oversee : *     smooth conduct of OPD on the floor *     Handling Patient queries and being informative to patients / their relatives *     Preparing duty roaster for the floor staffs / deciding shifts *     Coordinating with Billing *     Ensuring operational efficiency of staffs through proper training *     IPD coordination Job responsibility Media Relations, Internal Communication materials like, Developing concepts for preparation of brochures, leaflets, newsletter for the hospitals, assist in conducting events on special occasions, liasioning with Consultants for branding activities etc. , conducting workshops at various corporate on a particular topic with the help of consultants Kalinga Hospital Ltd (B)     Executive (PR & Branding) Jun 2015 to Nov 2015\n",
            "__label__key-skills  Deputy Manager PR &Media Relations Manager  Marketing Operations Brand Management Public Relation Internal Communication  Media Relations Media monitoring Advertisement Management hospital management Revenue Generation Market Analysis\n",
            "__label__summary *     Performance-driven professional with 10 years of experience in Export & Import Operations, Dispatch Management and People Management *     Directing productive cross-functional teams using interactive and motivational leadership that spurs people to willingly give excellent results *     Hands-on experience in scrutinizing the checklist sent by C.H.A for finalization of shipping bill *     Swiftly coordinating projects with competent cross-functional skills and ensuring on time deliverables *     Sound knowledge of all necessary EXIM incentive schemes such as EPCG, SHIS and advance licence *     Deft in DGFT and SEZ formalities and procedures *     Expertise in interacting with regulatory authorities like Excise & Customs, Departments for obtaining necessary licenses / sanctions and ensuring compliance with various statutory obligations *     An enterprising leader with skills in leading personnel towards accomplishment of common goals \n",
            "__label__education Maharishi Dayanand University (MDU), Rohtak  (Commerce) B.Com 2004 Maharishi Dayanand University (MDU), Rohtak 2013 MBA/PGDM  (Finance)\n",
            "__label__work-exp Sep 2017 to Till Date Asst. Manager, logistics & Dispatch Jay ushin Ltd. (J.P Minda group) Job Responsibilities Preparing pre-shipment & shipment documents like Commercial invoice, Tax Invoice, generation of E-Way bill for all Shipments. Scrutinizing the checklist sent by C.H.A for finalization of shipping bill. Regular follow-up with freight forwarders/ Shipping lines for timely clearances of all Export consignments Regular follow-up with transporters regarding timely arrangement of vehicles for dispatch of goods Handling entire post-shipment documents like Airway Bill, GSP/certificate of Origin and Shipping bill Supervision and planning of domestic supplies viz. Honda 2W Gurgaon and Tapukera(Both O.E and SPD supplies, Honda CKD, Hero Gurgaon and neemrana (HERO SPD) Suzuki Gurgaon & SPD, Yamaha, Royal enfield etc. Executive (Commercial) Jul 2011 to Sep 2017 GKB Rx Lens Pvt. Ltd Job Responsibilities Preparing pre-shipment & shipment documents like Commercial invoice,Tax Invoice, generation of E-Way bill for all Air Shipments. Scrutinizing the checklist sent by C.H.A for finalization of shipping bill. Regular follow-up with freight forwarders/ Shipping lines for timely clearances of all Export consignments Regular follow-up with transporters regarding timely arrangement of vehicles for dispatch of goods Handling entire post-shipment documents like Airway Bill, GSP/certificate of Origin and Shipping bill Finalization of Export documents for the purpose of export payment realization at Head office Processing of bills of service providers like C.H.As and forwarders for payment Maintaining record of all export shipments in M.S Excel Preparing M.I.S for all internal stakeholders like logistics and C.S Junior Executive - Commercial Apr 2010 to Jul 2011  Omax Autos Ltd.\n",
            "__label__key-skills  Assistant Manager-Logistics & Dispatch Shipping Manager Export & Import Operations Dispatch Management Consignment Planning Logistics Management Freight Management Client Relationship Management Strategic Planning Custom Clearance Freight Forwarding\n",
            "__label__summary *     ITIL V3 Certified with 5.4 years of experience including 3.6 years in Application-Maintenance-Enhancement and Production-Support in Finance (Investment Banking) for Web Methods 9.8 and 10.0.1 *     Expertise in investigating any issues and incidents detected or reported in cooperation with infrastructure and development teams to determine any links to the webMethods infrastructure configuration and settings, and propose plans to repair & rectify issues *     Resourceful in developing & maintaining tools and processes to enable and operate effective & proactive monitoring of active webMethods integrations *     Experience in Web Methods Technology Administration, webMethods 9.8 and 10.0.1 Integration Server, MWS and Deployer *     Skilled in managing security infrastructure and components used by webMethods, including the installation and maintenance of certificates *     Exceptional interpersonal skills that involve internal and external contacts regarding complex policies, procedures or programs. \n",
            "__label__work-exp Senior Software Engineer Key Result Areas *     Administering the webMethods environments (individual developer terminal servers, development environment, test environment, stage environment, and production environment) *     Conducting routine inspection of all installed components in supported environments via Command Central, as well as monitoring transaction executions in My webMethods interface, and server level components and KPIs to ensure optimum performance of servers and integrations *     Providing support for installation and maintenance of the security components used by webMethods *     Acting as a liaison between the development team and the vendor with regard to opening incident cases as required, and related communications and acquiring fixes and periodic updates *     Maintaining a positive work atmosphere by communicating in a manner that encourages productive interactions with customers, co-workers and supervisors Major Projects Project:               webMethods Period:               Jan'16 - till date Role:               Build and Release Engineer Location:          Bangalore, India Summary:     CIF (Customer Information File) provides a 360o view of the customer across all lines of business. CIF acts as an ODS (Operational Data Store) with an advantage of accurate data and address standardization concept. Responsibilities: *     Deploying packages from development server to test, stage, production and DR servers through deployer or manual deployment (install inbound release) *     Ensuring availability of integration server and the environment for the clients without outage *     Keeping user & group access control and maintaining & tracking configuration changes *     Using: o     Broker and Pub-sub Model for document exchange between all the internal applications o     MWS for creating brokers, territories and territory gateways *     Engaged in creating web services, adapters and JDBC connections *     Configuring brokers, adapters, schedulers, ports and extended settings; resolving build and configuration issues *     Understanding and preparing process documentation for the implemented interfaces *     Facilitating code migrations between various environments and managing code maintenance & upgrades reviews *     Releasing the code to production *     Resolving environment related issues like log generation, wiring, connections, & so on *     Participating in upgrade to cutover from webMethods 9.8 to 10.1. set-up production/non-production servers from scratch; configuring ports, webservices, schedulers, extended settings, MQ/JDBC connections & so on *     Making sanity check of all servers every day to check disk space utilization and maintaining continuous availability of server Project:               US Bank Period:               Jan'16 - till date Location:          Bangalore, India Environment:          UNIX Shell Scripting, DB2, Site Scope, Remedy Role:               L2 and L3 Support for Client Summary:     CIF (Customer Information File) provides a 360o view of the customer across all lines of business. CIF acts as an ODS (Operational Data Store) with an advantage of accurate data and address standardization concept. Responsibilities: *     Gathered understanding and conducted analysis of the requirement and provided support to the client on application issues *     Evaluated daily reports and resolved issues in these reports covering debugging, enhancing / implementing health check reports, migrating reports script to new servers & so on *     Maintained & updated the client DB and studied its components, application and peculiarities *     Recorded documents of production server error log's reports *     Conducted investigation and recovery of production server issues like server load *     Managed remedy tickets such as incident management, problem management and change management *     Worked on required process and application related reports and documentation *     Worked on infrastructure issues, site scope monitoring and communicating with command centers, clients & other teams *     Coordinated and executed the Bi-annual Disaster Recovery Process *     Performed data analysis and identified inconsistency in the data Jan 2016 to Till Date SLK Software Services Pvt. Ltd Feb 2013 to Dec 2015 Student Coordinator Admissiongyan Education Consultancy \n",
            "__label__key-skills  Senior Software Engineer IT Project Management IT Incident Management Application Support webMethods Administration Integration Support IT Quality Assurance Transition Management IT Infrastructure Management  Message Broker MWS\n",
            "__label__education Indian Institute of Technology (IIT), Kharagpur 2015  (Physics) B.Sc\n",
            "__label__work-exp Basilcare Nov 2018 to Oct 2019 Basilcare was a healthy food consumer brand providing quality products with health knowledge to customers. Strategy, Product Development, Branding and Go to market a. Full ownership of product strategy, pricing, customer testing and launching each food product. (Total 15 SKUS) b. Performed Market & Competitive analysis to spot opportunities and whitespaces. c. Created a brand strategy with brand consultant and brand designer. d. Created Go to market strategy for soft launch and full market launch. Soft launch covering dtc company website and 5 retail stores, full market launch covering e-commerce website, 50 retail stores and 5 supermarket stores. Distribution, sales & marketing a. Successfully managed to place basilcare products on shelves of 4 offline retailers. Combined sales of 1.5 l per month b. Generated organic traffic to website to drive sales of upto 40k per month Operations a. Identified 8 agricultural producers from different states (Kashmir, Gujrat , Tamil Nadu, Uttar Pradesh & Haryana) and implemented systems of sourcing produce from them. This ensured access to best quality produce. b. Travelled to farmer site to authenticate the produce. c. Negotiated MOQ's and bulk costs with farmers. d. Setup Quality, stock and inventory control processes for each product resulting in increased customer satisfaction with reduced fulfillment times and reliable product standard . e. Hands on involvement in packaging & labelling of each SKUs Co-founder May 2014 to Apr 2018 Co-founder Transenigma Transenigma created software solutions like SaaS, Web and Mobile applications from large enterprises to small businesses, located in India and abroad. KEY ACHIEVEMENTS Built transenigma from scratch in final year college. idea to first business contract of 3 lacs. Grew Business to 6 figure yearly revenue in first year before passing out in college Hired a team of 5 fulltime developers Managed a team of 12 developers and designers across multiple software projects Generated leads and closed serviced contracts with drdo, Mjunction and salpg amongst major clients. Generated revenue from all the converted business leads over 90 lacs Project manager for over 30 web and mobile application development projects.\n",
            "__label__key-skills  Co-founder Marketing Manager Marketing Sales Business Development Brand Management Events Management Lead Generation Media Planning Product Strategy Go To Market Strategy Competitive Analysis Market Research Public Relations Marketing Communication\n",
            "__label__work-exp Na  Jun 2015 to Oct 2018 other\n",
            "__label__key-skills  ODI\n",
            "__label__summary A competent professional offering 3 years of rich cross-functional experience in all aspects of Administration Work,Administration,General Administration,Office Administration \n",
            "__label__education Madras University B.Sc  (Computers) 2010  (Marketing And Finance) Anna University MBA/PGDM 2012\n",
            "__label__work-exp Jan 2019 to Till Date JOB HIGHLIGHTS: *     Successfully updated Form V & Form III details in Government portal on a yearly & Quarterly basis for the Products produced in the company. *     Preparation of STN & Closing stock report of the Products on a Fortnightly basis. *     Preparation of Diagnostics Sales reports on a Monthly basis. *     Liaising with the stockist for Payment & updating of all the payments in our database. *     Liaising with HR & Accounts team for employee's settlements. Administration Executive Stedman Pharmaceuticals Private Limited Mar 2013 to May 2016 Fedby Information Services Data Analyst JOB HIGHLIGHTS: *     Successfully collected, validated analyzed and updated Fund data into our Main Database. *     Liaised with the Clients and the Fund Managers and tailor-made the Products as per their requirements. *     Handled client queries, resolved them to their satisfaction and consistently monitored Data quality Reports. Data inaccuracies were handled in a Prompt manner without any escalations.\n"
          ],
          "name": "stdout"
        }
      ]
    },
    {
      "cell_type": "code",
      "metadata": {
        "id": "X_Tn4hnBKY18",
        "colab_type": "code",
        "outputId": "4d600e8a-1d9f-487a-bc08-4331550352ff",
        "colab": {
          "base_uri": "https://localhost:8080/",
          "height": 903
        }
      },
      "source": [
        "ret = mongo.db.indeed_candidates.find({}).limit(1000)\n",
        "\n",
        "open('fastText_cv.dev', 'w').close()\n",
        "with open(\"fastText_cv.dev\", 'a') as the_file:\n",
        "  for row in ret:\n",
        "    education = row[\"education\"]\n",
        "    workExperiance = row[\"workExperience\"]\n",
        "    summary = row['summary']\n",
        "    skills = []\n",
        "    if \"skills_full_data\" in row:\n",
        "      skills_full_data = row[\"skills_full_data\"]\n",
        "      for skills_f in skills_full_data:\n",
        "        skills.extend(skills_f.split(\" \"))\n",
        "    else:\n",
        "      for skill in row[\"skills\"]:\n",
        "        skills.append(skill['skill'])\n",
        "\n",
        "    additional = row[\"additionalInformation\"]\n",
        "\n",
        "    summary_str = summary.splitlines()\n",
        "    additional_str = additional.splitlines()\n",
        "\n",
        "    summary_str.extend(additional_str)\n",
        "\n",
        "    education_string = []\n",
        "    for edu in education:\n",
        "        data = []\n",
        "        for key in edu.keys():\n",
        "          if edu[key] is not None and (len(edu[key])) != 0:\n",
        "            data.append(edu[key])\n",
        "\n",
        "        random.shuffle(data)\n",
        "        education_string.append(\" \".join(data))\n",
        "\n",
        "    work_exp_string = []\n",
        "    for work in workExperiance:\n",
        "      data = []\n",
        "      for key in work.keys():\n",
        "        if (len(work[key])) != 0:\n",
        "          data.append(work[key])\n",
        "          \n",
        "      random.shuffle(data) \n",
        "      work_exp_string.append(\" \".join(data))\n",
        "\n",
        "    key_skills_str =  \" \".join(skills)\n",
        "\n",
        "    all_lines = {}\n",
        "\n",
        "    all_lines[\"summary\"] = \" \".join(summary_str)\n",
        "    all_lines[\"education\"] = \" \".join(education_string)\n",
        "    all_lines[\"work-exp\"] = \" \".join(work_exp_string)\n",
        "    all_lines[\"key-skills\"] = key_skills_str\n",
        "\n",
        "    for label in all_lines.keys():\n",
        "      if len(all_lines[label]) > 0:\n",
        "        the_file.write(\"__label__\" + label + \" \"  + \" \".join(all_lines[label].splitlines()) + \"\\n\")\n",
        "\n",
        "!tail -n 1000 fastText_cv.dev | head -n 50 "
      ],
      "execution_count": 0,
      "outputs": [
        {
          "output_type": "stream",
          "text": [
            "__label__work-exp Currently I am working as a Software Engineer in the job portal of HT Media Ltd(Shine.com). I am in the recruiter team of shine. My profile is of a Backend developer. Most of my work is of python. Developing new features, enhancing existing features and optimizing the code as much as possible are some of my responsibilities.  Following are some of the work I have done:-  1) I have developed a side project of shine, Leads Management System(LMS).  2) Developed a system in which the job posted by recruiter would automatically predict whether the job posted is actual or fake. Used various machine learning algorithms and nltk libraries to develop this.  3) I also have the knowledge of scraping websites both statically and dynamically.  4) I have set up project's testing environment on docker  5) I have also set up Jenkins on a server which would work on pull request from GitHub. When the Jenkins job runs, the test environment on docker would run the unit test cases, thus giving me the report of how many test cases passed and how many failed. June 2018 to Present EelgN_S2gpqDGY3315ehxQ HT Media Software Engineer\n",
            "__label__key-skills Mysql Django Javascript Java Jenkins Data Structure Python Docker Jenkins Web Scraing Html Git\n",
            "__label__education MCA Uptu computers application Meerut, Uttar Pradesh EeoebBet0bOc5Yl9CyGZOw\n",
            "__label__work-exp have developed Api for International website .. Beachbody a USA Project.  have developed softwares like payment tracker , logistics tracker .   developed features on customer portal for Attero . EeoebEcZto6UeDDXwWt0zw December 2015 to November 2017 OSSCube Solutions Ltd Senior Software Engineer / Team Lead Noida, Uttar Pradesh Noida, Uttar Pradesh Software Engineer (Developer) level 2 Attero Recycling EeoebHDzq-yk3iuFMMJrjA June 2011 to November 2015\n",
            "__label__key-skills Python Linux Javascript AWS php mysql zend framework\n",
            "__label__summary Focused deep learning professional with diverse set of   experience, comfortable in using quantitative approaches,   creative data analysis, algorithm development and modeling in   python.Skilled in developing deep learning solutions for unique  problems by analyzing & interpreting large volumes of spatial   data such as high resolution satellite images or LiDAR point   cloud data and articulating insights from data visualization.  Experienced in managing projects including solo execution or networking with different departments for achieving   organizational goals/objectives.\n",
            "__label__education Indian Institute of Technology Kanpur Een-OE8bPvyADgvpqBazsQ July 2008 to June 2015 Kanpur, Uttar Pradesh B.Tech Civil Engineering\n",
            "__label__work-exp November 2018 to Present Een-OKwyuoiS3bAw6rDVFQ Application Developer · Developed end to end deep learning application in python to automate extraction of building footprints from satellite images  · Designed & developed machine learning based application to automate tree trunks extraction from forest LiDAR data  · Hands on experience with keras, opencv, numpy, scikit-learn, matplotlib, ERDAS Imagine, QGIS, GDAL  · Reduced total training time by more than 10% and memory requirements by 20% through optimized usage of available computational resources to balance performance vs execution time Excel Geomatics Pvt Ltd\n",
            "__label__summary Dynamic and performance driven individual with excellent interpersonal and team working skills, looking for a  challenging graduate entry level position as a Data Scientist. OTHER SKILLS AND ACHIEVEMENTS    ➢ Rank 1 in Zone 9 Delhi and represented Delhi State in Badminton.  ➢ Gold medallist in JUDO.  ➢ IT:  • Intermediate level Word, Excel, PowerPoint, and proficient in handling social media.  • Python, R: Advanced knowledge of Python and R with experience on a few projects.  • MySQL, Oracle ADF: Excellent knowledge with work experience on various projects  • C++, Java: Good knowledge of C++/Java with experience on some projects and games.  • MATLAB: Basic knowledge with experience on a few projects.  • Hadoop MRJob, PySpark, SparkSQL, mongoDB: Good knowledge of using these tools to manage  big data.\n",
            "__label__education 2018 to 2019 King's College London EenzLhpMssyXAbcw1AzfvQ MSc Data Science Hansraj College, University of Delhi Delhi, Delhi Computer Science EenzLhpMss6XAbcw1AzfvQ B.Tech 2013 to 2017\n",
            "__label__work-exp EenzLhpMsseXAbcw1AzfvQ Eastern Software Systems July 2017 to December 2017 Developer in Eastern Software System PVT LTD Good experience on working on Oracle ADF which involves front end designing & back end coding with JAVA  & PLSQL.  • Adding functionalities in the Web Application according to the client needs and writing back end codes.  • Storing the data in the Databases using PLSQL.  • Writing run time SQL queries which will fetch filtered data according to the information entered by the client.  • Testing and validating the app on different servers. June 2016 to July 2016 Worked on SAP (Business intelligence) in Databases.  • Ran company's campaigns through Databases.  • Writing SQL queries to retrieve the data of users and analysing the data.  • PowerPoint presentation on Greenplum Databases.  • The project was to run online application development campaign through Databases and retrieve data of users who have application installed on their phone. EenzLhpMssiXAbcw1AzfvQ Aircel Pvt.Ltd Receiving client queries.  • Checking the category of complaint and passing the complaints to respective departments.  PROJECTS    ➢ Have done research work on the project: OCR (optical character recognition) .. Implementation of sine  function by training datasets with the knowledge of Machine Learning.  ➢ Worked on company's project- POS (Point of Sale) . Worked with the team to meet the client requirements and helped in documenting the work. The project is currently deployed at Mehdi Global Services PVT LTD.  ➢ Text Mining and Image classification using various algorithms. The project included mining patterns in the text and deriving useful information out of it using NLP. Finding features such as edges, contours, circles,  colour detection in image.  ➢ Using Big Data technologies like SparkSQL, PySpark, Map Reduce on Big Data.  ➢ Project Pacman:  • Making the pacman win- eating food, capsules and avoiding ghosts.  • Pacman using Markov Decision Process.  • Pacman using KNN classifier.  • Pacman using reinforcement learning  ➢ Completed project at King's College London - Estimation the influence spread of social media which basically selects a seed set of users called influencers using selectTopK algorithm for viral marketing and  calculates the number of users who adopt the product from these influencers using different methods and then compares the run time complexity and value of the spread.    POSITIONS AND RESPONSIBILTIES  ➢ Software Engineer  • Helped me in learning how to build software using complex coding skills that fits the demand of the clients. Also, I realized how important is time management and punctuality in life. I  learnt various software cycles and gained experience on different platforms like Oracle ADF. Intern May 2015 to June 2015 EenzLhpMssmXAbcw1AzfvQ Videocon D2H Pvt. Ltd Captain of the school 2009 to 2012 EenzLhpMssqXAbcw1AzfvQ Being the captain of the school Badminton Team, it helped me developing leadership qualities. I  learnt how to be a good team lead and make effective decisions during stressful periods. I learnt to inspire others and realized the importance of commitment, passion and diligence.    ➢ Managed Gaming event in the society fest  • Being the manager of the gaming event, I developed leadership skills. I learnt how to be a good  team lead and make effective decisions.\n",
            "__label__key-skills Python Data Analysis C++ Machine Learning Sql R programming Microsoft Office Artificial Intelligence Java\n",
            "__label__summary Software Developer • Programmer  • Coding  • Leadership  • Confident  • Panctual  • Confident  • Hardwork\n",
            "__label__education EeoY0CeTwNeVBY-_efUaJA July 2016 to May 2019 Bachelor's Faridabad, Haryana Computer Application DAV Institute of Management\n",
            "__label__work-exp fresher job Nill EeoY0CeTwNWVBY-_efUaJA Nill January 2019 to January 2019 EeoY0DhpSvKZFZAghnERxg fresher job\n",
            "__label__key-skills DBMS (3 years) C++ (4 years) HTML (5 years) MS OFFICE (7 years) DHTML C (3 years) Sql (3 years) Java (1 year) Python (Less than 1 year)\n",
            "__label__summary Organized, results-driven individual seeks a position to execute data driven solutions to an  organization, to increase efficiency, accuracy, and deliver insights that can directly impact and  help in the growth of the organization.\n",
            "__label__education B. TECH COMPUTER SCIENCE EeoKwPZGkqSnS9K-2J9w7Q 2014 to 2018 MDU UNIVERSITY MANDI, HIMACHAL PRADESH, IN R.R.J.S DAV PUBLIC SCHOOL EeoKwPZGkqWnS9K-2J9w7Q 2011 to 2012\n",
            "__label__work-exp July 2018 to Present EeoKwPZGkqGnS9K-2J9w7Q COMMERCEX EXECUTIVE - Operations • First hand managing all the internal reports of the agency. Helped delivery team by automating all the internal reports with the help of PHP developer, further making dashboards in Tableau and Google Data studio.  • Understanding Clients needs of the performance metrics insights and delivering the reports according to that.  • Integration of SaaS Tools in internal operation of the agency.  • From Data extraction and mining to Final dashboards, streamlined the process so that delivery team has better insights of the data.  • Thoroughly understanding business requirements to build in-house products depending upon the nature of work and expectations of team and clients.  • Bringing transparency & effectively coordinating between different departments.  • Worked with Clients: PokerBaazi, RummyCircle. Mcaffiene, Tata Starquik, Eros Now, Azani EeoKwPZGkqKnS9K-2J9w7Q COMMERCEX BUSINESS ANALYST February 2018 to June 2018 • Learnt creation and impact of internal reporting, revenue reports, target and achievement reports  • Understanding all the performance metrics, client's requirements and deliverables.    Project  Title: CXtools    Role: Project Manager  Team Size: 3  Description: Internal tool for automating the process of real time reports viz. Fetching data from multiple sources and Merging them into one and sharing interactive dashboards over email. Multiple channels have been integrated such as  Google Analytics, Facebook Ads Manager, Google Adwords, Appsflyer, VNative, Imap, Gsheet, Criteo, etc. There're some  Ecommerce Automations which lets multiple UTM's to be added in multiple ads at once and few other tasks which are  automated to help Marketing team.\n",
            "__label__key-skills Languages: R, Python, MySQL, Linux  Data Visualizations: Tableau, Google Data Studio, Klipfolio  Tools: Microsoft Excel, Google Sheets, Google Analytics, Hasoffers, VNative\n",
            "__label__education NITRA Technical Campus, AKTU Ghaziabad, Uttar Pradesh EeokK8LLyMGpgkrwrwokKw Computer Science Engineering Bachelor of Technology August 2014 to August 2018\n",
            "__label__work-exp New Delhi, Delhi EeokK-oKoNesmiDlpP0Bpg Full Stack Software Engineer July 2018 to Present Buildsys October 2018 to March 2019 New Delhi, Delhi EeokLAMf1Ei2HaEq4Wx6-w RT business Solutions PHP Developer Intern\n",
            "__label__key-skills Python Php C# C Core Java Javascript p5js Sql Dart Flutter Angular React Asp Boiler Plate express node js\n",
            "__label__summary I am a quick learner with the ability to grasp new responsibilities very quickly. Not only does this make me more productive at my work but also enhances my ability to ideate and show creativity as and when required. I also bring with me some fresh ideas and hope to discuss the same with my seniors here. I am confident they will find many of them to be quite useful and innovative. If hired, I will strive to add maximum value to the company in terms of my eagerness to learn, dedication and strong work ethic. TECHNICAL SKILLS  • Python • GUI with Python  • Probability & Statics • Data Modeling & Evaluation  • Software Engineering & System Design • Applying Machine Learning Algorithms &  Libraries    SOFT SKILLS    • Communication • Teamwork  • Problem Solving • Multitasking  • Creativity • Goal Oriented  • Leadership\n",
            "__label__education November 2018 to Present GENERAL Hisar, Haryana EeoTWPKYehWSae1ZWoIHqQ GURU JAMBESHWAR UNIVERSITY BBA EeoTWPKYeheSae1ZWoIHqQ DIPLOMA IN ELECTRONICS & COMMUNICATION GOVT. POLYTECHNIC MANESAR 2014 to 2018 ELECTRONICS & COMMUNICATION DEV SAMAJ VIDVYA NICKETAN SR. SEC. SCHOOL EeoTWPKYehmSae1ZWoIHqQ March 2014 BOARD CBSE\n",
            "__label__work-exp EeoTWPKYehKSae1ZWoIHqQ WIDESCREEN VENTURES HR GENERALIST December 2018 to February 2019 Delhi, Delhi EeoTWPKYehOSae1ZWoIHqQ July 2017 to December 2018 PALUCK TECHNOLOGIES Gurugram (HR) HO TRAINEE\n",
            "__label__key-skills SOFTWARE ENGINEERING GUI PYTHON DATA MODELING MACHINE LEARNING\n",
            "__label__summary EXPERIENCE TECHNICAL SKILLS  Samsung  PHP with majento1.x, JavaScript, jQuery, html, MySQL. E-commerce portal to sell handled devices and other electronic products  online. Multistore application which has respective stores for di erent  customer groups like B2C, B2E, B2B. Portalbuilt in magento 1.9.4 and has all\n",
            "__label__education 2015 EekqdOduKQaVHWTvRpNVrQ BCA Vaish institute of management technology\n",
            "__label__work-exp Junior software developer Aspiring for a challenging career in an esteemed Junior software engineer  01/07/2017 - Pursuing  organisation scaling new heights to get a suitable position Netsmartz house  to work in an innovative and challenging environment and  to stretch the horizons of my knowledge while working for  the attainment of organisation goal.To work in the eld of EekqdOduKQSVHWTvRpNVrQ\n",
            "__label__key-skills Php,Python,jquery,mysql\n",
            "__label__summary Individual with the ability to work under little or no supervision, possessing creative and analytical skills.Presently seeking for the position of software developer in a fast-paced technical environment to utilize my skills in computer science.\n",
            "__label__education Masters of Technology Dr.A.P.J.Abdul Kalam Technical University EeofPmiToIC1DtG8vZavpw Meerut, Uttar Pradesh Radha Govind Engineering 2014 2010 Lucknow, Uttar Pradesh Bachelors of Technology Radha Govind Engineering Gautam Buddh Technical University EeofPmiToIK1DtG8vZavpw Dr.A.Inter College Meerut, Uttar Pradesh 2005 EeofPmiToIO1DtG8vZavpw 2003 Meerut, Uttar Pradesh S.S.K.Inter College EeofPmiToIS1DtG8vZavpw\n",
            "__label__work-exp EeofPp-K0mO3LCC96abfzw Lecturer Neelkanth Institute if Technology,Meerut\n",
            "__label__key-skills Javascript,jquery,html,css,bootstrap, python,data statucture,C programming\n",
            "__label__summary • Having 3+ years of experience in the IT industry as a python developer.  • Hands on experience on N-Tier architecture which includes implementation of Presentation, Business Logic and Data Access Layers.  • Good experience in Developing applications using python with django framework  • Good working experience in finance department under credit card domain and has sound knowledge on concepts.  • Have been working on a CMMi level 5 project.  • Highly ambitious to explore current technologies, keeping up to date to achieve organizational as well as personal goals.    AREA OF ACQUAINTANCE:    Language: Python  Web Technologies:, HTML5, CSS3, JavaScript  Frameworks: Django  Web Services: REST, SOAP  Databases: Oracle 10g, MySQL  Web Server: IBM Websphere App and portlet server, Apache Tomcat, Jboss Methodologies: Agile, Waterfall  Tools: GIT, Clearcase, JIRA, ClearQuest, Putty, SOAP UI, Postman\n",
            "__label__education EenCaWjYlrGaEEL8cCJ5ZQ Bachelor of business administration Rohilkhand university business administration management EenCaWjYlrOaEEL8cCJ5ZQ IT and finance icfai business school bangalore Bengaluru, Karnataka\n",
            "__label__work-exp July 2016 to Present Standard chartered Bank Analyst EenCaWjYlq-aEEL8cCJ5ZQ PROJECT #1:  Project Title: AK Opertaion and Maintenance  Organization: standard chartered bank  Team Size: 10  Role: system analyst  Environment: python, django, restfulapi, Jira, javascript  Duration: July 2016 - Till date    Responsibilities  Designed a web based system to improve business intelligence, logistics, manage inventory and sales, and forecast demand.  Programmed, tested, and implemented a user login, product registration, order placing & tracking, and statistics reporting system in eight months.    Achievements:  Received couple of spot awards for good Change Request and Defect implementation with less rework effort. Mentioned by Tech Lead during award distribution.  DECLARATION:  I hereby declare that all the above information is correct to the best of my knowledge and belief.  Ajay kumar  Place: delhi  Date Analyst EenCaYN3xk6uEBv7cGZERw\n",
            "__label__key-skills CLEARCASE (Less than 1 year) CLEARQUEST (Less than 1 year) Git (Less than 1 year) SOAP (Less than 1 year) UI (Less than 1 year)\n",
            "__label__education Eem1SLZT-V64ceuOn2-QnA Computer Science HIMALAYAN UNIVERSITY B.Tech\n",
            "__label__key-skills CSS (Less than 1 year) CYBER SECURITY (Less than 1 year) DATABASE (Less than 1 year) DJANGO (Less than 1 year) HTML (Less than 1 year) Python (Less than 1 year) Javascript (Less than 1 year) Bootstrap (Less than 1 year) MySql (Less than 1 year) C Shell Scripting Linux Mac OS\n",
            "__label__summary Looking to secure a Machine Learning Engineer position. Proficiency in Python, Machine Learning and Statistics. Looking to boost my career in the field of Artificial Intelligence. Besides data science and machine learning, I have passion in Newtork security and Operating systems.\n",
            "__label__education Master of Computer Applications EeocPkl4kj6biLuyNdOcTA University Institute of Engineering & Technology, CSJM, Kanpur\n",
            "__label__work-exp Integrating AI to geospatial systems. Computer Vision applications in drones. Garudauav soft solutions EeocPklKpG2biLuyNdOcTA Present Machine Learning Intern September 2019 to November 2019 EeocPrO6G9yz8EY75P4nWA Machine Learning Content Developer Creating AI data for websites and solving ML problems, to make concept clear to learner’s. QA Labtech Delhi, Delhi\n",
            "__label__key-skills Data Structures SQL NLP C Deep Learning Algorithms OOPs Python Machine Learning Linux\n",
            "__label__summary I had 1-year experience as a software developer. I am familiar with a lot of languages and software used in creating  projects for the web. Furthermore, i have great project management skills and also work well alone or in a team. Professional Skills  Python Intermediate  Machine learning Intermediate  Deep learning Intermediate  Php and their framework like  Laravel, Cakephp Advanced  C, C++ Advanced  Microsoft Office Advanced  MySql Advanced\n",
            "__label__education Bhopal, Madhya Pradesh May 2019 Maulana Azad National Institute of Technology EeoJPRNTaT6hj5iSbJDRgg Master's Degree Ghaziabad, Uttar Pradesh EeoJPRNTaUChj5iSbJDRgg June 2016 Maharaja Agarsain Institute of Technology Bachelor's Degree\n",
            "__label__work-exp EeoLnPOsS0ed8FspGUReiA Post Graudate Engineer Trainee Present jekson vision pvt ltd 1. Worked on QtWebChannel using C++ handle the data the between HTML , JavaScript and C++ in image processing.  2. Handling and integration of postgres Sql in C++  3. Currently working on image processing in c++.  4. Handling thresholding ,AOI Detection on images. Junior software developer • I have worked on many of project in the company like Gamification using php, and their framework like laravel with MySQL database.  • I Created and handle the portal for their competition Hackathon which is also done by using php and mysql.  Paper Publication  Paper Status Journal  Bio-inspired approaches for classification Published(in forthcoming article ) Int. J. Bioinformatics Research and of benign and malignant tumor of the skin Applications R &D dept EeoJPRNTaTyhj5iSbJDRgg June 2016 to July 2017\n",
            "__label__key-skills C++ PHP LARAVEL PYTHON MYSQL opencv image processing\n",
            "__label__summary ● A team player with good communication and interpersonal skills in producing result-oriented methodologies.  ● Quick learner and ability to grasp new technologies.    KEY STRENGTH  ● Leadership  ● Creativity  ● Responsible  ● Self-Motivated Technical Skills  ● Primary Skills - Python, Core Java.  ● Secondary Skills - HTML, CSS, MySQL, Oracle.\n"
          ],
          "name": "stdout"
        }
      ]
    },
    {
      "cell_type": "code",
      "metadata": {
        "id": "3AI4xoE7_vNP",
        "colab_type": "code",
        "outputId": "f5f28b78-2bf3-4270-9321-3e9763b63f3e",
        "colab": {
          "base_uri": "https://localhost:8080/",
          "height": 34
        }
      },
      "source": [
        "!wc fastText_cv.train"
      ],
      "execution_count": 0,
      "outputs": [
        {
          "output_type": "stream",
          "text": [
            "   38587  4797079 35765503 fastText_cv.train\n"
          ],
          "name": "stdout"
        }
      ]
    },
    {
      "cell_type": "code",
      "metadata": {
        "id": "Q_8t42TuR7Xu",
        "colab_type": "code",
        "outputId": "384e1aa2-9c94-4df8-da97-83516856d16b",
        "colab": {
          "base_uri": "https://localhost:8080/",
          "height": 69
        }
      },
      "source": [
        "import fasttext\n",
        "\n",
        "def print_results(N, p, r):\n",
        "    print(\"N\\t\" + str(N))\n",
        "    print(\"P@{}\\t{:.3f}\".format(1, p))\n",
        "    print(\"R@{}\\t{:.3f}\".format(1, r))\n",
        "\n",
        "\n",
        "model_cv_classify = fasttext.train_supervised(input=\"fastText_cv.train\", epoch=25, lr=1.0, wordNgrams=2, verbose=2, minCount=1)\n",
        "print_results(*model_cv_classify.test('fastText_cv.dev'))\n"
      ],
      "execution_count": 0,
      "outputs": [
        {
          "output_type": "stream",
          "text": [
            "N\t3650\n",
            "P@1\t0.712\n",
            "R@1\t0.712\n"
          ],
          "name": "stdout"
        }
      ]
    },
    {
      "cell_type": "code",
      "metadata": {
        "id": "kOqoyqA5PXQD",
        "colab_type": "code",
        "outputId": "afdc07a3-5181-434b-acf1-9b2cc05ef943",
        "colab": {
          "base_uri": "https://localhost:8080/",
          "height": 103
        }
      },
      "source": [
        "model_cv_classify.get_labels()"
      ],
      "execution_count": 0,
      "outputs": [
        {
          "output_type": "execute_result",
          "data": {
            "text/plain": [
              "['__label__key-skills',\n",
              " '__label__work-exp',\n",
              " '__label__education',\n",
              " '__label__summary',\n",
              " '__label__project']"
            ]
          },
          "metadata": {
            "tags": []
          },
          "execution_count": 29
        }
      ]
    },
    {
      "cell_type": "code",
      "metadata": {
        "id": "-R3577qPX-0U",
        "colab_type": "code",
        "outputId": "0998c39a-535a-460a-9a38-3158c8244649",
        "colab": {
          "base_uri": "https://localhost:8080/",
          "height": 69
        }
      },
      "source": [
        "model_cv_classify = fasttext.train_supervised(input=\"fastText_cv.train\", lr=1.0, epoch=25, wordNgrams=2, bucket=200000, dim=50, loss='hs')\n",
        "print_results(*model_cv_classify.test('fastText_cv.dev'))"
      ],
      "execution_count": 0,
      "outputs": [
        {
          "output_type": "stream",
          "text": [
            "N\t3650\n",
            "P@1\t0.659\n",
            "R@1\t0.659\n"
          ],
          "name": "stdout"
        }
      ]
    },
    {
      "cell_type": "code",
      "metadata": {
        "id": "uz5r0gJyXrQz",
        "colab_type": "code",
        "outputId": "9208d07b-2eb3-4afc-9c80-b7332a5340d0",
        "colab": {
          "base_uri": "https://localhost:8080/",
          "height": 69
        }
      },
      "source": [
        "model_cv_classify = fasttext.train_supervised(input=\"fastText_cv.train\", autotuneValidationFile='fastText_cv.dev', verbose=2)\n",
        "print_results(*model_cv_classify.test('fastText_cv.dev'))"
      ],
      "execution_count": 0,
      "outputs": [
        {
          "output_type": "stream",
          "text": [
            "N\t3650\n",
            "P@1\t0.779\n",
            "R@1\t0.779\n"
          ],
          "name": "stdout"
        }
      ]
    },
    {
      "cell_type": "code",
      "metadata": {
        "id": "vwaC_vcgFH28",
        "colab_type": "code",
        "colab": {}
      },
      "source": [
        "model.quantize(input=\"fastText_cv.train\", qnorm=True, retrain=True, cutoff=100000)\n",
        "print_results(*model.test('fastText_cv.dev'))\n",
        "\n",
        "#https://developers.google.com/machine-learning/crash-course/classification/precision-and-recall\n",
        "# https://towardsdatascience.com/precision-vs-recall-386cf9f89488"
      ],
      "execution_count": 0,
      "outputs": []
    },
    {
      "cell_type": "code",
      "metadata": {
        "id": "83ilftxBpoK_",
        "colab_type": "code",
        "outputId": "7eaa3aeb-f12d-4bd8-edfc-a7bbda790dcf",
        "colab": {
          "base_uri": "https://localhost:8080/",
          "height": 34
        }
      },
      "source": [
        "model.predict(\"working with excellence technosoft pvt limited\", k =5)"
      ],
      "execution_count": 0,
      "outputs": [
        {
          "output_type": "execute_result",
          "data": {
            "text/plain": [
              "(('__label__summary', '__label__education'), array([0.99876726, 0.00127274]))"
            ]
          },
          "metadata": {
            "tags": []
          },
          "execution_count": 35
        }
      ]
    },
    {
      "cell_type": "code",
      "metadata": {
        "id": "ijl2FDhi2Ltq",
        "colab_type": "code",
        "outputId": "4d03de61-1a9b-481d-9834-988be241803c",
        "colab": {
          "base_uri": "https://localhost:8080/",
          "height": 51
        }
      },
      "source": [
        "model.predict(\"b.tech from IIT in 2015\", k =5)"
      ],
      "execution_count": 0,
      "outputs": [
        {
          "output_type": "execute_result",
          "data": {
            "text/plain": [
              "(('__label__summary', '__label__education'),\n",
              " array([9.99548614e-01, 4.91372019e-04]))"
            ]
          },
          "metadata": {
            "tags": []
          },
          "execution_count": 36
        }
      ]
    },
    {
      "cell_type": "code",
      "metadata": {
        "id": "AmCbewT3PoAJ",
        "colab_type": "code",
        "outputId": "4aa3f16e-986c-49fb-c2e1-f3d6db3442c9",
        "colab": {
          "base_uri": "https://localhost:8080/",
          "height": 51
        }
      },
      "source": [
        "model.predict(\"software developer\", k =5)"
      ],
      "execution_count": 0,
      "outputs": [
        {
          "output_type": "execute_result",
          "data": {
            "text/plain": [
              "(('__label__education', '__label__key-skills'),\n",
              " array([9.99635994e-01, 3.93978466e-04]))"
            ]
          },
          "metadata": {
            "tags": []
          },
          "execution_count": 37
        }
      ]
    },
    {
      "cell_type": "code",
      "metadata": {
        "id": "haV2zCgMXjYf",
        "colab_type": "code",
        "outputId": "b1c15904-23ba-43da-f35b-bda0aee280e9",
        "colab": {
          "base_uri": "https://localhost:8080/",
          "height": 51
        }
      },
      "source": [
        "model.predict(\"php html css javascript nodejs\", k =5)"
      ],
      "execution_count": 0,
      "outputs": [
        {
          "output_type": "execute_result",
          "data": {
            "text/plain": [
              "(('__label__key-skills', '__label__education'),\n",
              " array([0.99859434, 0.00143563]))"
            ]
          },
          "metadata": {
            "tags": []
          },
          "execution_count": 38
        }
      ]
    },
    {
      "cell_type": "code",
      "metadata": {
        "id": "gipOudSbYfhi",
        "colab_type": "code",
        "outputId": "c0565f0b-80ee-4917-94c4-d9790771a325",
        "colab": {
          "base_uri": "https://localhost:8080/",
          "height": 34
        }
      },
      "source": [
        "!wc fastText_functional_area.text"
      ],
      "execution_count": 0,
      "outputs": [
        {
          "output_type": "stream",
          "text": [
            "   37809  8674662 64712992 fastText_functional_area.text\n"
          ],
          "name": "stdout"
        }
      ]
    },
    {
      "cell_type": "code",
      "metadata": {
        "id": "twUX-dFi_zdX",
        "colab_type": "code",
        "colab": {}
      },
      "source": [
        "!head -n 27809 fastText_functional_area.text > fastText_functional_area.train\n",
        "!tail -n 10000 fastText_functional_area.text > fastText_functional_area.dev"
      ],
      "execution_count": 0,
      "outputs": []
    },
    {
      "cell_type": "code",
      "metadata": {
        "id": "zMsVulk4ek68",
        "colab_type": "code",
        "colab": {}
      },
      "source": [
        "!head -n 20 fastText_functional_area.train"
      ],
      "execution_count": 0,
      "outputs": []
    },
    {
      "cell_type": "code",
      "metadata": {
        "id": "bmPHGwUEeopO",
        "colab_type": "code",
        "outputId": "4a08ca0a-aedd-4b3f-83b5-3dffefc7ee5b",
        "colab": {
          "base_uri": "https://localhost:8080/",
          "height": 903
        }
      },
      "source": [
        "!head -n 20 fastText_functional_area.dev"
      ],
      "execution_count": 0,
      "outputs": [
        {
          "output_type": "stream",
          "text": [
            "__label__ITES-BPO-Operations-Customer-Service-Telecalling Ensure delivery of KPIs/Sales targets including day to day service levels, customer experience, quality measures and compliance measures Keep Communication and Engagement model in place to ensure all teams understand the performance of the business and also that they understand the needs of their teams Coordinate all vendor management tasks inclusive of working with external vendors and internal employees. Perform as functional bridge amongst external vendors as well as internal stakeholders Ensure enterprise-wide needs for risk assessment and continuing vendor monitoring are being accomplished by see, touch and feel method every month. Also track and drive 100% completion of business essential training (mandatory modules) Ensure to track, measure, report and evaluate vendor performance on daily, weekly and monthly basis. Ensure daily, weekly and monthly stand-up are utilized to monitor the KPI's, process improvement and glide path to competency progress Troubleshoot all vendor problems and present to management as required. This includes downtime due to planned/unplanned outage, weather conditions/governmental events/upcoming core festival shrinkage and plan mitigation to ensure capacity available to meet customer promise Forecast yearly volume and monitor daily, weekly and monthly incoming to do strategic planning based on 8 weeks volume trend and check capacity to meet SLA's. Check and sign off weekly rosters produced by WFM team including support teams. Also create forecast and FTE requirement/capacity analysis (on 24hrs, 48hrs and 72hrs SLA) for all campaigns including plan refresher and handset launch (short and long term) First point of contact for all escalations including customer compliant, Telstra internal staff complaints and provide resolution by engaging with the relevant stake holder Senior Manager Operations Mar 2018 to Till Date Telstra India Private Limited Monitor, report SLA and KPI's target to actual and ensure we meet customer promise and reduce customer effort successfully Create Forecast, capacity planner, weekly roster and monitor adherence. Plan for the special days, holidays & events and provide mitigation plan to deliver at zero tolerance to KPI's. Forecast cost for all the campaigns including BAU business Check and approve monthly invoices for FTE, Transaction & resolution based contract for all the vendors. Track and report non billable shrinkage to ensure 100% compliance in invoices. Maintain current and accurate agent group inventory, access management requirement, Teledex profiling (addition/deletion), RSA token inventory and provide monthly view Heading a team of data analyst's managing reporting and automation using SQL. Ensure team is equipped with all the tools and remove any blockers. Provide clear requirements to the team to deliver with 100% accuracy and on time reporting. Ensure to have weekly catchups with the team members to understand the required development and coaching/provide training followed in a healthy and transparent way. Partner with site leadership and Onshore Telstra Digital team to help achieve service goals and objectives Wipro Limited Jan 2016 to Mar 2018 Operations & Vendor Manager Heading a team of 3 WFM Team Leaders & 2 MIS staff and monitor headcount (Line) planning & schedule management for 21 lines of business Always ensured delivery of Login Hours (Billable) are within +/- 0.5% for all lines for all the months Responsible for ensuring all deliverables are within defined timelines. Ability to collaborate across multiple teams to meet business goals Optimize use of tools/technology and workforce management techniques to improve efficiency and effectiveness of the supported span Responsible for people development in the team through performance management, coaching, feedbacks and action plans Established solid, positive, and productive work environment Seating up new sites and base line the Real time & reporting requirements and Maintain current and accurate agent group inventory and schedule recruitment / training Revenue projection for Mumbai site, payroll reporting and Verification and responsible for Client data maintenance Trains team members, managers and trainers on the use of work-force planning tools. Escalates contact Centre interruptions to appropriate business continuity leaders in a timely fashion Assistant Manager Tata Consultancy Services Nov 2011 to Jan 2016\n",
            "__label__Software-Development-ALLNew Machine Learning Developer(researcher). I am working as Machine Learning developer and researcher In Altech Power And Energy Systems since 3 years. My job is all related to Artificial Intelligence and Machine Learning. I have worked For Image processing related projects, Nlp projects, have enough experience in these technologies. Here I am working with new algorithm which is a non-iterative classification technique used in machine learning process. I have involved in developing of these algorithm and done research on and experiments with these algorithm .And i have also done projects related to machine learning with other algorithms like KNN, SVM, linear regression. Altech Power and Energy Systems Dec 2015 to Till Date\n",
            "__label__Purchase-SCM Result oriented professional with over 5.8 years of experience in Human Resource Management primarily Recruitment including Performance Management administration.  Hands on in handling the recruitment process of the candidates in various modes through consultancy, college campuses, and walk-in interviews. Proficiency in planning and implementing abilities with demonstrated success in handling HR issues.  Skilled in handling employees, maintaining peaceful & amicable work environment in the organization and initiating measures for the mutual benefit of the management & staff. Key skills include HR Operations,Recruitment Management,Talent Acquisition,Employee Engagement,Performance Management,Salary Administration,Exit Management,Induction,Benefits Administration,Employee Retention,Onboarding \n",
            "__label__Purchase-SCM Senior Talent Acquisition Key Result Areas: Managing major practices of Service Transformation and CIS - AutoInsights, Open Banking, Open Source, Blockchain, and Cloud Studio Sourcing active and passive candidates through networking, social media (LinkedIn, Naukri, Monster,) employee referrals and job boards Managing end-to-end recruitment life cycle and ensuring adherence to the process with involvement in vendor management, rate negotiation & finalization and monitoring of vendor performance Creating recruitment related policies & documents such as rehire policy, staffing manual, SOP's, vendor and offer checklists Designing, developing and maintaining the recruitment process in the organization including its description, recruitment measurement definitions and so on Recruiting for all emerging niche skill sets such as Blockchain, Data Science, Artificial Intelligence/Machine Learning, Cloud Skills (Azure, Google Cloud Platform, AWS, DevOps), Informatica, and Full Stack Java(Front-end and Back-end) Leading teams of recruiters on and off-site/off-shore in providing targeted talent pipelining campaigns for both national initiatives Drafting and composing the job descriptions for all department while working in sync with the head of the department Reviewing and negotiating service level agreements with vendors and partner Driving people management initiatives, curricular activities, town halls, and team party Administering the selection process to ensure best candidate experience through internal ATS (Synergy) Shortlisting CVs, categorizing the scrutinized candidates in the buckets A, B and C (basis their experience, certification, communication and interest for the opening), upgrading their ratings after every step of their interview Generating reports of the selected candidates with appropriate actions to be taken and sharing that with client on weekly basis, following up with the client for the offer releases Establishing an environment that positions direct reports to drive and own solutions with associates while developing a team of experts Assisting the Talent Acquisition Executive and other internal teams with the implementation of project work plan including pre-planning items including but not limited to: scope definition; overall strategy; resource plans; financial plans; and risk plans Determining skilled assessment capabilities, and ensuring the Talent Acquisition Team possess the right skills Jun 2019 to Till Date Wipro  Jul 2018 to Feb 2019 Senior HR Executive Q Analysts LLC Spruce Software Technology Pvt. Ltd Mar 2017 to Jul 2018 HR Lead \n",
            "__label__Software-Development-ALLNew Competent professional offering over 6 years of rich experience in Testing Proficient in Software Test Life Cycle, including Test Strategy Definition, Test Plan Creation, Test Design, Test Estimation, Test Execution, Test Data Creation & Validation, Test Review and Defect Reporting & Retesting Experience in Mobile Applications including Native, Hybrid and Mobile Web Application Expertise in analyzing business requirements to create test strategies & detailed test plans, execute test script/ test cases for new requirements Skilled at defect reporting and monitoring the status using tool like JIRA, Quality Center and Q test tool \n",
            "__label__Software-Development-ALLNew Jun 2013 to Till Date IBM India Pvt. Ltd. Growth Path: Jun'13-Jan'16 as Test Specialist (Custom Application) Feb'16-Jun'18 as Test Specialist (Technical Team Leader) Since Jul'18 as Test Specialist (Test Management) Key Result Areas: Spearheading Test Management & Automation (scripting Selenium with Visual studio (C#)) ; leading a team of 7 members Setting up test environments; developing test strategy, test plan, test cases, test suits, scenarios, test data, requirement traceability matrix; validating requirements with test cases & generating reports for the same Steering the software quality process involving review of product functions, test specifications & documentation, defect prevention, debugging & resolution of issues; fixing bugs in testing cycle Managing defect life cycle including defect creation, defect tracking and root cause analysis of defects; creating quality assurance documents like traceability matrix, defect trend charts and metric reports Guiding & mentoring the team through all phases of testing life cycle; configuring & testing the applications and developing test plans and test cases; accepting testing for released projects and allocating resources Documenting & assessing progress of test plans, test results, analysis, & unresolved problems using automation tools; delivering test artifacts like test strategy, estimations, test plans, end of test report and test quality metrics Setting performance expectations including KPIs & assessment criteria; preparing monthly Metrics for the projects handled for Test Execution and Test Preparation. Identifying underperforming resources and providing feedback to them; delivering team training sessions Monitoring project progress as per scheduled deadlines and ensuring project completion within time, budget and effort parameters; providing scope, resource and time estimates for projects presented to QA for testing and analysis Collaborating with onsite development team, QA Manager, and Project Manager Engaging in Configuration Management Audits; recommending corrective measures based on observations Highlights: Recognized and appreciated for outstanding contribution to projects by clients Test Specialist (Test Management)\n",
            "__label__Top-Management Determined and Quality Driven Developer with proven success in working efficiently and collaboratively. High Analytical and Logical skills to understand and implement the most complex business flows. Adaptive to align my work with changing requirements and technology. In Technical Side, Worked on ReactJS based UI build using Webpack and using Mocha and Chai for Testing Framework and Redux for Store management. Extensive use of Functional and HigherOrder Components along with hooks introduced in React 16.8 Worked on SpringBoot Based RESTful Backend MS. Developed a Java Based Convertor/Deconvertor(XML to JSON to XML) Application using XSD and XSLT. For deployment, used Openshift to deploy Dockerized Image of Each MS above. \n",
            "__label__Top-Management Software Developer Pune | Jul, 2017 - Present Production Support : Israel (June 2019), Gurgaon (Jul-Sep 2019) Promotions : Software Developer Experienced - Jan 2019 Appreciations : Unit - June 2018, Manager - Mar'19, Sep'19 Project Details : CatalogONE : Intuitive User Interface for defining complex Business and Technical Logic laying down foundation for Rating, Billing and Ordering for Telecom Service Providers.. Frontend : ReactJS and Redux Based UI bundled using Webpack with Mocha and Chai as Testing Framework Backend : CRUD operations for RESTful SpringBoot Based MS Java Application : XSD & XSLT Based Converter (XML to JSON) and DeConvertor (JSON to XML) Deployment : Dockerised Images Deployed on Openshift Env Jul 2017 to Till Date Amdocs Development Centre India\n",
            "__label__Software-Development-Database-Administration Comprehensive Analytical Development experience \n",
            "__label__Software-Development-Database-Administration Senior Chemist  Nov 2019 to Till Date Concord Biotech Scientist-II. Torrent Research Centre Analytical Development of NDDS products. Aug 2015 to Aug 2019 QC-Officer Quality control testing of various formulations incl. Injectables, tablets, soft gelatin and hard gelatin capsule, MDI/DPI inhalers, Inserts, PFS, SVP, LVP, Ampoules (i.e.Assay,RS, Dissolution, Dosage Uniformity, Blend Uniformity, Dose Delivery). Feb 2014 to Aug 2015 Sun Pharmaceutical Industries Ltd Method Development and validation on HPLC, Stability testing of Trial Batches, Calibration of HPLC, Review AMV Protocol,SOPs, MarckBiosciences Ltd., Kheda Aug 2012 to Feb 2014 F&D Chemist\n",
            "__label__Hotels-Restaurant-Management Head-Food n Beverage Operations,Corporate Chef Key Result Areas: Directing F&B Operations/POS, conceptual and schematic layout of various F&B outlets, F&B work flow of 8 cities of India right from pre-planning to Execution and Operation stage at PAN India level Leading a team of 253 members including Operations Manager, Unit Managers/Supervisors, Cluster Chefs, City Chefs and soon for ensuring smooth operations Creating Production plan, Food Cost Management, Inventory Management & Yield Management Strategizing plans for ensuring accomplishment of projects including pre-planning & budgeting of O.E Designing exquisite menu, Standard Recipe and planning for plate presentation Delivering effective training to the team members for improving the skill set and efficiency Ensuring adherence to ISO 22000 standards and HACCP & food safety procedures Developing and implementing procedures, control systems for maintaining hygiene and quality standards; leading efforts for streamlining processes and generating cost savings in operations Directing the entire gamut of operations, reorganizing & controlling food / beverages cost control, financial budgeting, forecasting, inventory control and MIS of the department Spearheading customer service operations for rendering and achieving quality services; providing first line customer support by answering queries & resolving their issues Forecasting expenses, controlling payroll and other relevant costs; minimizing loss and misuse in order to achieve and exceed the budgeted profitability Dec 2018 to Till Date Stanza Living Jun 2018 to Dec 2018 Fresh Menu Highlights: Managed the entire F&B operations including P&L and POS across Delhi/NCR region Led a team of 139 members including Operations Manager, Unit Managers, Supervisors, Cluster Chefs and City Chefs Director-F&B Operations Radisson Hotel Group Highlights: Controlled a large gamut of activities including openings & pre-openings of kitchen of banquet, coffee shop, specialty restaurants & in room dining Exhibited excellence in managing & controlling the budget for entire F&B Operation; engaged in designing conceptual layout of numerous F&B outlets Headed the culinary operations and other kitchen personnel; administered the allotted work for accomplishment of food production in a timely manner Valued contributor in augmenting the productivity level and govern utility/payroll costs along with optimum deployment and energy efficiency of all equipment Led a team of 92 members including Banquet Manager, Sous Chefs, Restaurant Managers and so on Jan 2014 to May 2018 Head-F&B Operations II Executive Chef\n",
            "__label__Software-Development-ALLNew Currently working in Tata consultancy Services [From Feb 2016 till date] Total 12 years of quality experience in Software Development. Presently designated as Project Lead. Completed PSM-1 from scrum.org for agile scrum master role. Worked on project planning, estimations, project plan creation and tracking of complete delivery cycle along with development. Worked on detail design finalization and architecture decisions and creating new application microservices from start including creating yaml specifications through swagger. Exceptional communication, collaboration & team building skills with proficiency at grasping new technical concepts quickly and utilize the same in a productive manner. Currently handling team of 10 members excluding testing team. \n",
            "__label__Software-Development-ALLNew Technical Project Manager -Java Project Details :- Legacy application was designed on Cold Fusion and we migrated it to new Java web application over the phases. Its logistic management domain where all the Driver, vehicle, maintenance of vehicle ,billing and reporting data is maintained and processed. Handelled team of 16 people and did development for microservices for small application migrating the functionalities from PB to Java. Role: Technical Manager System Analysis/Design: Working on creating New microservices gathering requirement, seperating domain information, creating microservice specification yaml. Programming Languages     : Programming with Java/J2EE,Sysbase SQL Framework Used                         :          Spring boot Database                                   :          Sysbase,postgress Application Servers                    :          Tomcat Operating System                    :          Windows/2000/98,XP,VISTA/2007 Infrastructure Tools                    :          Ms Visio 2003 for flow diagrams Documentation Tools               :     MS-Word, MS-PowerPoint, MS-Excel Feb 2016 to Till Date Tata Consultancy Services Tech Mahindra Ltd. Dec 2014 to Feb 2016 Skills Set: Technical System Analysis/Design     :     Project Plan Creation and Execution, Project Tracking and Status reporting, Knowledge of SDLC, Agile methodology, architecture decisions and design patterns Programming Languages     : Programming with Java/J2EE, Oracle(PL-SQL), Fair issac Capstone,BRE(Blaze Rule Engine) GUI/ Validation Scripts               :          HTML, Jquery, Javascript, JSP,servlet Framework Used                         :          Spring IOC, Spring MVC Database                                   :          Oracle Application Servers                    :          Weblogic 12c Operating System                    :          Windows/2000/98,XP,VISTA/2007 Infrastructure Tools                    :          MS project for creating MPP, Ms Visio 2003 for flow diagrams Documentation Tools               :     MS-Word, MS-PowerPoint, MS-Excel Projects Handled 01     Project Name     : AIS(Automotive Information System) Client :      United Parcel Services (UPS) Description of the Project: - The project consists of migration from existing legacy VB client application to java web based application. It Includes FMS[Fleet Management System] which includes business flows like Repair of the vehicle, Warranty associated with the fleets, Preventive maintenance of fleets and Timecard/Timesheet management along with payroll information for the mechanic working on the fleets. It includes reporting for different parts and inventory management system. Role : Project Lead /Project Manager[Technical Manager] handling team of 24 people which includes 3 java leads ,15 developer ,1 test lead and 5 tester. Responsibility : Project Effort estimation ,creation of project plan, Planning and tracking complete end to end delivery ,design and code reviews , technical solution and development. Duration : Dec 2014 till date Hardware : All Required Softwares : Core Java, Spring MVC, J2EE(HTML/Jquery), Oracle[PL-SQL] Project Lead/Project Manager Technology Analyst Skills Set: Technical System Analysis/Design     :          Knowledge of SDLC, Agile methodology for design the system. Programming Languages     : Programming with Java/J2EE, Oracle(PL-SQL), Fair issac Capstone, BRE(Blaze Rule Engine) GUI/ Validation Scripts               :          JSP Framework Used                         :          Spring IOC, Spring MVC Database                                   :          Oracle Application Servers                    :          Weblogic, tomcat Operating System                    :          Windows/2000/98,XP,VISTA/2007 Infrastructure Tools                    :          Ms Visio 2003 for flow diagrams Documentation Tools               :          ROBOHELP, MS-Word, MS-PowerPoint, MS-Excel Projects Handled 01     Project Name     : CLO(Common Loan Orignations) Client :      Capital One Bank, US Description of the Project: - The Capital One Loan Origination System (CLO) deals with the underwriting and funding processes for auto loans. An auto loan application can come into the CLO system through various ways. Split in to 2 different ways Direct and Dealer. Processes Implemented in CLO are :- Apps are submitted from various channels to LO system - directly from customer applying online or with a partner or indirectly through a dealership. Apps then get decisioned on the basis of applicant data. It uses Capstone and the Business Rules Engine (BRE) to determine if a loan should be approved or declined. The Underwriting process for the dealer business is done by associates called Relationship Managers, while direct is more automated and customers deal with us via the internet. The Funding process for all business is done by associates called funders after the contract or check arrives from the dealership. Role      :     Working on as Senior Developer/Performing lead and Handling team of 6 Responsibility     :     Coding, Unit Testing, Requirement Analysis, Created Design for complex requirements. Worked at Onsite for 1 Year as Agie Team member for development and Offshore Co-ordination Duration     :     4 Years 3 months (51 months) Hardware     :     All Required Software     :     Core Java, Spring IOC, Spring MVC, Oracle(PL-SQL), J2EE(JSP/Servlets),Capstone ,BRE, ROBOHELP tool, Multithreading. 02     Project Name     : Inbound Processing Client :      Capital One Bank(US) Description of the project: - The Project involved the Credit card services which were offered to the customer. It was web based application consisting the combination of JPD(Java process Diagram ) and Blaze adviser (Decisioning engine). Java Based Application Role      :     Developer ,Tester ,Provided System test support Responsibility     :     Coding, Impact Analysis , Testing with test case preparation, System testing Support Duration     :     1 Year (12 months) Hardware     :     All Required Software     :     Core Java, Oracle (PL-SQL),Threading, Blaze Adviser 03     Project Name     : Teller Application(BankPro Technology (Non Java)) Client :      Bank Of America Description of the Project :- The project consists of different teller transaction in a bank such as Withdrawal, Deposit, Consignments, Electronic Transaction. Role      :     Developer Responsibility     :     Coding, Analysis, Testing Duration     :     4 months Hardware     :     All Reqiured Software     :     BankPro Technology Jul 2007 to Dec 2014 Infosys Technologies Ltd.\n",
            "__label__ITES-BPO-Operations-Customer-Service-Telecalling PGDM(general management)with over 7 years experience in Strategy Management,Business Development,Strategic Planning,Product management,Project Management,Risk Management Business Finance Management,Business Intelligence,Variance Analysis \n",
            "__label__ITES-BPO-Operations-Customer-Service-Telecalling Manager Business Finance, Electronics Dec 2018 to Till Date Operations Develop Financial plans, scenario analysis, develop business plans on product and business initiative. Continuous tracking of key Financial and Business metrics, in depth variance analysis, running source of truth for key metrices, driving initiatives to achieve Topline, bottom-line, Working Capital and Inventory targets. Collaborated with the Business teams to launch new products to boost margin, increase selection and topline. Strategic Initiatives Partnered with 7 Super Categories Business and Tech team to finalize the Annual Operating Plan - FY 20 Leading initiatives in reducing returns cost, improving pricing and competitive index for the Electronics BU Flipkart Internet Private Limited, Walmart Group KEC International Limited, RPG Group Jun 2018 to Oct 2018 Young Executive Board Driving visibility into all forex and commodities exposure and leveraging the same in project quotations. Reduction of Accounts Receivables by understanding the as in process and reengineering the fault areas. Identify new areas of business considering market disruptions, identify possible candidates for MA Manager - MD Office & Strategy May 2016 to May 2018 EA to MD & CEO Business Intelligence Business Analysis monitoring and strategizing of INR 8500 Cr. business across India, SAARC, EAP, MENA and North America and South America focused on revenue generation and profit maximization Preparing monthly CEO Narrative for Chairman's Office, Board Review Presentations, Quarterly Board Presentations and MBM, provide data analytics support, develop special reports and important proposals Coordination with Business leaders, key people to find intelligence, monitoring outcomes and progress Strategic Initiatives Collaborated with 7 SBUs across the business to estimate and finalize the monthly Budget for FY 2016-17 Computed performance ratings for all VPs and above, provided analytical support for Annual Appraisal KEC International Limited Operations Manager Projects Created a Mathematical model on to estimate PBT contributions while accepting marketing orders enabling better negotiations for products. Estimated savings to be in 2 Cr for the Cables SBU. Implemented an efficient Truck Loading algorithm resulting in 10% reduction in outward freight cost Business Responsibilities Leading Export Oriented Operations team, review issues, coordinate action plan, identifying market space of export expansion and related operational improvement projects in Plant Coordinate business MIS review across 3 plants, periodic review meeting with senior management team, created and implemented MIS for Business and operational analysis. Strategic Initiatives Rejuvenated LEAN manufacturing with improved process efficiency, safety, quality, scrap management systems. Conducting workshops, training, planning and conceptualizing TPM action plan Coordinating Cost reduction Initiatives worth ?? 6 Cr across various departments, achieved 3 Cr savings till date, conducted Brainstorming sessions and formulated the action plan for future progression of the projects, regular tracking and guiding of special projects. Leading Opex Reduction in terms of 20 % reduction in current FY consumptions by renegotiation with vendors, reduction of supply chain costs, inventory reduction and vendor management. May 2015 to May 2016 KEC International Limited Tata Power Company Limited Assistant Manager Projects Improved availability of all high tension motors to 98% thereby saving 60 Lakhs by using thermography Reduced expenditure by 40,000 while implementing in house learning on motor bearing replacement Saved 42,000 by reducing 9,300 kWh/annum of energy, as a team, through installation of solar light pipes Increased availability of Compressors from 90% to 98%, being a part of team by commissioning new relay Initiatives Reduced energy waste of 1,300kWh/annum worth 67,000 by replacing fluorescent tubes with LED light Prevented expense of 45,000 and downsized carbon footprint by modifying the cooling water system. Investigated and reduced continuous motor operation, resulting in lowering auxiliary consumption. Introduced the use of Failure Mode Equipment Analysis within department to improve equipment life Achievements Top 36 out of 300 employees in Accelerated Career Enhancement Program at Tata Power Awarded Internal Auditor Certificate for IMS. Conducted internal Audits of Operations and C&I department as Internal Audit team resulting in better preparedness and improvements for final Audit 4 Certificate of Recognition for excellent contribution to Sustainability and quick emergency handling; for excellent contribution towards SDM Projects; Quick restoration of FD fan during Blackout situation. Green Hero recognition and part of Greeolution team for adopting environmental friendly measures. Responsibilities Managed workforce of 20 people as Shift in Charge for Electrical Maintenance Department on a daily basis In-charge of Preventive, Breakdown, Condition Based Maintenance ensuring uninterrupted generation Administered CBM of equipment, DGA of Transformer Oil for customers like Tata Steel, JUSCO, DVC Jul 2010 to Jun 2013\n",
            "__label__Purchase-SCM Result oriented professional with over 5 years of experience in Human Resource Management primarily Recruitment including Performance Management administration. Hands on in handling the recruitment process of the candidates in various modes through consultancy, college campuses, and walk-in interviews. Proficiency in planning and implementing abilities with demonstrated success in handling HR issues. Skilled in handling employees, maintaining peaceful & amicable work environment in the organization and initiating measures for the mutual benefit of the management & staff. Key skills include Recruitment,Talent Acquisition,Employee Engagement,Human Resource Management,Employee Relations,Sourcing Profiles,Employee Screening,Offer Generation,Joining Formalities,Employee Welfare \n",
            "__label__Purchase-SCM Technical Recruiter Key Responsibilities Handled *     Experience in international Recruiting/Staffing/Consulting Business across USA. *     Good in Sourcing, Submissions, negotiate salaries, scheduling interviews, extend offers, explain benefits, etc., Setup web-recruiting strategy, selected web search tools. *     Good experience in requirement analysis, sourcing and screening resumes, have knowledge about Boolean keywords, Time zones (EST, CST, PST & MST), US Visas (Green Card, EAD, TN, H1B), Tax terms (W2, Corp-Corp, Per-diem) and Geography *     Experience in Visas like - OPT, H1B, EAD, GC & USC *     Worked on Full-time, Permanent, Contract, Contract to Hire and Remote positions. *     Have good experience in working with direct client/ Prime vendors requirements, Work on different technical requirements of company major clients. *     Good experience in working with consultants on various visas US Citizens, Green Card holders and H1B holders, for numerous positions. *     Prepared and formatted resumes with letter head and submitted directly to hiring manager or HR and Negotiated terms of employment (e.g. hourly rates, salaries, bonuses, etc.). *     Sourcing / data mining from various Job Portals Viz. Dice, Monster, LinkedIn, Resume Bucket, and Referrals. *     Proficient at successful sourcing of candidates via Internet sources using BOOLEAN Search Strings and online resume database. *     Excellent interpersonal and applicant assessment skills. Highly organized and able to manage multiple tasks. *     Recruitment of US IT professionals for onsite US projects, involving resourcing & screening of technical resumes, taking preliminary technical interviews, resumes formatting, negotiating pay rates/contracts, arranging interviews, follow ups, offer release and joining formalities. *     Source candidates through various job portals, referrals and networking. Responsible for handling requirements from US based Direct / Indirect clients. *     Identifying the right candidates residing in US or candidates holding valid US work permit, by Searching job-sites, internal database and referrals. *     Coordinating with the clients Companies & candidates for interview scheduling. *     Proactively building resume database for upcoming/highly potential requirements. Oct 2018 to May 2019 Tek Infotree Private Limited Sequential Technology International HR Executive Key Responsibilities Handled *     Attendance and leave management *     Filing of the documents *     Scanning of the employee personnel files *     Update HRMS *     Preparing reports of HR attendance *     MIS Reporting *     Employee Communication *     Employee grievance. Jan 2018 to Aug 2018 Nov 2015 to Nov 2017 Bharti Airtel HR Associate -Involved in day to day recruitment cycle and aligning the interviews. -Understanding LOB's requirements as per HR Manager and deciding on the recruitment strategy. -Interacting with the delivery team on regular basis and prioritizing requirements as per the billable effective dates. -Sourcing CVs from various channels such as referencing, company's own sourcing team, Job Portals i.e. Monster, Naukri, etc. -Conducting Drives, Walk-ins and personal interviews. -Arranging for technical panels and coordinating at all levels of Interviews. -Conducting HR Screening to check the candidate's suitability for the requirement. -Providing timely feedback to the client on their requirements and to the candidates on their interview. -Taking care of induction for new joiners to help on-boarding team for smooth joining. -Preparing and maintaining various MIS Reports like Tracker sheet, requirement and offer reports, to be sent to Vertical heads and top management by using various company's tools like i-Learn, talent+ etc. -Recruiting people at all levels, i.e. from experience range of 2-10 years for all permanent positions in Delhi Circle. -Responsible for creating offer letters by using company's tool Airtel taleo for new joiners in Delhi Circle. -Responsible for arranging and creating Summer Internship Program for college students. -Supporting HR Manager in Campus Drive as a Campus SPOC for Delhi Circle. -Supporting HR-CSR team for employee engagement programs, employee safety, welfare, wellness and health programs. HR Executive BPO SARVA SERVICESCAPE Pvt. Ltd. Dec 2014 to Oct 2015 *Resourcing, screening and short listing resumes through various job portals or else internal reference, head hunting *Preparing offer letter, employment contract and job descriptions, completing joining Formalities and documentation. *Conducting telephone and Personal interviews in coordination with departmental heads. Aug 2013 to Oct 2014 HR Executive Amaroo Buildcon Pvt. Ltd. Worked as a HR Executive in a real estate company\n",
            "__label__Software-Development-QA-and-Testing *     Rich experience in performing risk management & security audit and ensuring adherence to 'IS Security Policies' compliance *     Skilled in developing operational policies / norms, systems & controls, motivational schemes & customer service standards *     Expertise in managing IT Security framework design & implementation and involving in framing & deploying Business Continuity Planning policies & procedures *     Hands-on experience in assessing & implementing Information & Communications Technology (ICT) / Information Security (IS) Governance best practices, recommendations & Industry Information Security (IS) requirements *     Excellence in the areas of Risk Management, IT Audits, Infra Security & Compliance, SOC 1 / SOC 2, Third Party & Client Audit Handling, Vulnerability Management and End Point Compliance \n",
            "__label__Software-Development-QA-and-Testing Cognizant Technology Solutions Aug 2015 to Till Date Key Result Areas: *     Deploying information security policies, procedures & controls in-line with ISO 27001:2005 standards *     Performing: o     Risk assessment for all operations accounts across offshore & onsite on a regular basis; assessing of firewall to maintain compliance level o     Vulnerability assessment for account-maintained network devices/systems based on client requirements o     PCI - DSS assessment and achieving 100% compliance level for the same o     Logical Penetration Test for the account for all IPs and sharing report to the client with compliance level *     Implementing Enterprise Security Strategies to safeguard information assets and ensuring compliance with regulatory mandates *     Handle security incident/violations with Business and internal stakeholders for closure and prepare a MEMO to be shared with Engagement Leads / CP / DP and Client's Security Team *     Coordinating with Client Security Team to share important engagement/organization updates in line to Information Security *     Assessing any exception request, firewall & reverse proxy requests and providing approvals based on risk analysis for engagements under purview *     Responding to Due Diligence / RFP / SIG Questionnaire on request or as per contract *     Collaborating with IT & Network Stakeholders to achieve organization threshold compliance percentage for desktops/laptops *     Carrying out internal security audits for HR, Admin & IT Departments as part of ISO audits *     Working closely with respective stakeholders to ensure closure of any non-conformances and share any improvements ideas / strategies as per the organization best practice *     Evaluating Asset Register & Risk Management Reports for the delivery/solution centre on a regular basis *     Initiating Endpoint Scan for account systems in Chennai, Bengaluru & Pune locations; ensuring 100% compliance for the same *     Conducting awareness session to Account Team on all security controls to be followed and ensuring security flyers shared to the Project Team *     Maintaining consolidated tracker for Project Team with different security compliance check activities and reviewing on a monthly basis to ensure security controls are followed *     Attending monthly client call to update on security compliance open and closed activities *     Managing exception of IRM Team and reporting the same to the management on Monthly Tracker *     Tracking on acceptable use policy, understanding privacy and core values & standards of business conduct for both Onsite & Offshore Team and maintaining 90% & above on a monthly basis *     Administering SOC & client audit; working on the closure of observations identified during the audits Sr. Security Specialist Jul 2008 to Aug 2015 Team Member joined as Team Member, promoted as IT Process Coordinator / Quality Analyst, then raised as Knowledge Transition Lead and left as Information Security Coordinator / Human Resource Catalyst / Risk Management Lead Tata Consultancy Services\n",
            "__label__Software-Development-ALLNew working as opertions analyst in lenovo india pvt limited. much intrested to build a career in sale, working hard. \n",
            "__label__Software-Development-ALLNew working as operations analyst since 1 and half an year.. opertions analyst Nov 2017 to Nov 2017 Concentrix worked as inside sales manager Concentrix Technologies Nov 2017 to Till Date senior sales consutlant\n",
            "__label__Software-Development-ALLNew 4 years of experience as a Business Analyst in Banking & Finance sector, E-Commerce Industry at Cognizant Technology Solution.      Experienced in gathering business requirements, writing user stories, conducting requirement analysis and developing functional requirement specification documents.      Experience working in an agile and waterfall development environment, well versed with principals of agile framework.      Expertise in creating user guide, Technical flow diagram and Product Summary documents. Ensuring the priority tasks to be completed on time and tackling the hindrance effortlessly.      Proficient in performing analysis of data over weekly/monthly and daily workload analysis report to team to measure their contributing along with detailed analysis on SLAs.      Expertise in Working with Web Services (Amazon Web Services). \n",
            "__label__Software-Development-ALLNew Client: Wells Fargo (Investment Banking) Aug 2017- Till Business Analyst/Scrum Master (Agile Developmental Model) Ebrokerage application is getting further enhanced for better user experience. This application takes care in maintaining client Investment portfolio, various features which advice clients about that their financial decisions. This application offers vast features based on user and account type. Currently application is in process of adding further functionality or enhancing the existing modules. Business Analyst, Scrum Master Oct 2015 to Till Date Cognizant Technology Solutions\n",
            "__label__Software-Development-ALLNew Currently working on Robotic Process Automation technology using tools like UiPath since last 16 Months. About 5.6years of IT Industry experience as Software Tester in Oracle Applications Testing Suite (OATS) which includes functional, regression and performance/Load testing. Certified as a UIPath RPA developer.      Specialized in both Manual and Automated testing of Software Applications like Oracle E-Business Suite, ATG etc. Experience in UPK Tool. Good Exposure in Performing Regression Testing, Functional Testing. Developed &executed test cases in Oracle Application Testing Suite (OATS). Excellent knowledge in automated test script development, maintenance, test execution and test results analysis. Knowledge on Oracle applications like Financials (General Ledger, Accounts Payables, Accounts Receivables, Fixed Assets, Purchase Orders), SCM (Order Management), I- Procurement etc., modules. Experience in conducting Performance / Load testing using Oracle OLT \n",
            "__label__Software-Development-ALLNew  Senior System Engineer Hitachi consulting Jun 2019 to Till Date Senior System Analyst  Dec 2013 to Jun 2019 Process Point Technologies India Private Limited\n",
            "__label__Hotels-Restaurant-Management Nov 2014 to Till Date Indigo Delicatessen ? Increasing sales by ensuring guest satisfaction and delivering a high level of hospitality ? Meeting and greeting visitors to the restaurant, overseeing breakfast, lunch and dinner shifts ? Actively marketing and promoting the business through a variety of platforms ? Completing all paperwork and then filing it accordingly ? Dealing with and responding to customer complaints, and always ensuring that the customers leave satisfied ? Planning beverage menu and training the staff on selling initiatives; assist the guests in selection of wine ? Monitoring the budgets and keeping control of food and variable costs ? Ensure Health & Safety and also hygiene procedures & standards are maintained Assistant Restaurant Manager Waterstones Hotel And Club Assistant Restaurant & Bar Manager 1. Ensure hygiene and cleanliness of the service area, side stations as well as grooming and hygiene of service team members. 2. Assign to team members their daily duties and responsibilities in accordance with the manual, which will include routine tasks as well as special tasks. Assign duties and rotate team members in a manner that will allow all team members to improve competence on all duties specified in their job description. 3. Ensure that team members adhere to the standards and procedures laid down in the Operations manual. 4. Attempt to ensure that all grievances, problems, conflicts and requests of service team members are handled and resolved speedily. If despite his best efforts, he is unable to find a satisfactory resolution, he shall seek a resolution through the Restaurant Manager. 5. Resolve guest complaints and unpleasant situation as soon as it arises and keep the Restaurant Manager informed. If however, the issue is beyond his capacity to handle, he shall escalate the same to the Restaurant Manager. 6. Analyzing Guest Comment Cards with the Restaurant Manager at the end of the day. Take remedial action, revert to the concerned guest, if required and keep all team members updated with regard to guest feedback. 7. Organize and personally supervise training of new service team members, monitor their progress and assign individual responsibilities when the new recruit is performing up to our standards. 8. Fill daily requisitions for the restaurant, in a manner that meets requirement, yet keeping costs minimum. 9. Oversee operations during service to make sure that work flow is smooth and that guests are taken care of well in consort with the Restaurant Manager. 10. Ensure that opening and closing duties for the restaurant and bar are executed as required. 11. Ensure that team members handle linen with care and that linen is exchanged as per the procedure. 12. Keep abreast with all policies and procedures related to fire, emergencies, safety, first aid and security as prescribed. 13. Officiate in the absence of the Restaurant Manager; undertake all his duties and responsibilities to the best of his ability. 14. Budgeting and responsible for the P&L performance of the outlet. May 2012 to Nov 2014 Apr 2011 to Oct 2011 Food And Beverage Supervisor Indian Zilla Restaurant Directing production sales, inventory and cost control for an award winning restaurant,Indian Zilla,London * Contributed to the restaurants overall growth and operational efficiency, working in close consultation with colleagues to deliver the highest standard of service * Was responsible for the planning and administering of recruitment at Indian Zilla * Helped in launching the award winning delivery service IndianDabba in London From website designing to a proper delivery system Built a rapport with guests at Hilton Cobham,advising on the hotels restaurants and nearby travel and demonstrating hotels superiority - resulting in excellent written feedback and repeat business * Was Responsible for the staff training for new joiners at CafÃ© Cino Hilton Cobham,UK Nov 2009 to Dec 2010 Guest Service Associate,Barman the balsams grand resort hotel worked as a server captain..taking care of guest and guest relations Aug 2008 to Jun 2009 server\n",
            "__label__Software-Development-Database-Administration Professional R&D Engineer with proven performance in Tech file remediation for MDR regulation change, DHF remediation, Test Method validation, Report writing, Regulatory compliance and documentation. Skilled CAD Drafting professional \n",
            "__label__Software-Development-Database-Administration HCL Technologies Pvt. LTD. R&D Lead Engineer Sep 2016 to Till Date R&D Engineer with proven performance in Tech file remediation for MDR regulation change, DHF remediation, Test Method validation, Report writing, Regulatory compliance and documentation. Sri Balaji Castings study the drawing and prepare a quality plan, process flow diagram, FMEA, control plan, SPC, Layout inspection ect. well knowledge in CMM Development Quality Engineer Jul 2014 to Sep 2016 quality patrol inspection in machine shop area Jun 2012 to Jul 2014 Quality Engineer TVS -Sundram Fasteners Ltd\n",
            "__label__Corporate-Planning-Consulting-Strategy Seeking position to utilize my skills and ability that offers professional growth while being resourceful innovative and flexible. \n",
            "__label__Corporate-Planning-Consulting-Strategy Jul 2016 to Till Date  Manager HDFC Bank Organization(1)     HDFC BANK, MUMBAI-( July'16- Sept'18) Job Profile:      The role exists as being a One point contact to support PAN India retail branches in ensuring compliance and adherence to KYC guidelines laid by RBI Role     Manager Skills and Responsibilities     Monitoring Daily Branch Banking Process to ensure compliance as per guidelines laid by RBI Monitoring, tracking, analyzing and reporting PAN INDIA retail branch banking performances on weekly basis to top management Mitigate the errors while opening Salary accounts and current account and proving the training to the branch authorities. Conduct branch visits to monitor compliance/Hygiene Parameters Review of PAN India branches Score card in view with their performances against benchmark. Project Undertaken:. Implementation of IP cheque return cases due to negative returns into the UAS alerts system Initiating the concept of closing the high income accounts after all audit diligence due to incomplete documents which are due more than 1 year. Initiating the concept note for incorporation of holidays while calculating the aging of pending alerts in UAS which has direct positive impact on Branch Score card. Supporting PAN INDIA branches approx. 261 Branches (West India) during demonetization with the new system Manager HDFC BANK Jul 2016 to Sep 2018 Deputy Manager Ii Organization(2)     ICICI BANK LTD, MUMBAI (October '14- April'16) Job Profile     Relationship Wealth Manager of Mumbai West-Handling a portfolio of 20 cr+ with a broad base of 200+ clients (Corporate and Retailers) namely HNI and ultra HNI for all banking and investment needs. Role     Deputy Manager II Skills and Responsibilities     Advising client on a range of investment opportunities for their financial growth, including portfolio management to the customized financial requirement. Understanding the needs of the client and offering them all the banking needs such Business Loan, investment needs, properties etc. Recommending suitable financial product, effectively handling all customer queries and end to end relationship building with client, including collaborating of specialized investment services and asset allocation for them based on their financial goals and risk profiling. Oct 2014 to Apr 2016 ICICI Bank Apr 2013 to May 2014 Genpact Software Functional Consultant Organization(3)     Genpact Software,Hyderabad Duration     April 2013- May 2014 Designation     Functional Consultant Project Undertaken     Oracle Financials Support Project- GE Healthcare *     Making proposal for implementation of the account payables with different types of forms and coordinating the process between the client and the team. *     Handling Accounts Payables & Accounts Receivables related period close exception as well as functional issues related to GL Configuration *     Performed System Integrated Technique (SIT) and User Approval Technique (UAT) testing of standard Oracle ERP forms & components\n",
            "__label__Hotels-Restaurant-Management Radha Regent Senior K.S.T. Supervisor handle k.s.t. team and kitchen department. organize the kitchen as per hygiene maintain , cleaning procedure, handle store reeving chemical. make duty schedule and and organize outdoor parties food segregationist as well as gar-beg segregation. help to chefs when they need ect. Jun 2019 to Till Date K.S.T. Supervisor Club Mahindra Emerald Palms Oct 2015 to Jan 2019  Apollo Cruise Line  Junior Utility Cleaner Jun 2014 to Jul 2015\n",
            "__label__Software-Development-Database-Administration A focused professional offering 3 years of experience in Research & Development,Method Development,Scientific Writing,Method Validation,Analytical Research,Quality Control,Formulation Development,Drug Development,Regulatory Affairs,Technology Transfer,Medical Affairs,HPLC \n",
            "__label__Software-Development-Database-Administration fdc  Jan 2018 to Till Date officer ADL Apr 2016 to Apr 2019 FDC pharma Validation,Specification,Planning,Presentation,Review Work\n",
            "__label__Software-Development-ALLNew *     Almost three years of experience in Applications Development based on Java technologies and frameworks as Senior System Engineer at Infosys Ltd. *     Defining suitable methodology to undertake the project with the available inputs for the requisite output. *     Providing support to teams based in other locations working on the same application. \n",
            "__label__Software-Development-ALLNew Consultant Project=     Chrysler Motors (December 2013 Till now) Team Size=     7 Technology=     Core Java, HTML, JavaScript, Struts, PL/SQL Project Description=     Development and maintenance of client applications dealing with tracking various activities and equipment. Role=     Maintenance and enhancement of the application involving creation of new screens and changes in existing application, modifying the application to be compatible with latest browsers, testing of application. Achievement=     Received appreciation from Chrysler Motors for quality work and before schedule completion of work. Project=     Toyota Motors Europe (June 2013 to December 2013) Team Size=     5 Technology=     RESTful Web Services, Core Java Project Description=     Development of Web Services for Post Production Application (PPO) to transfer data from one data source to another. Role=     Requirement gathering and development of RESTful Web Services for transfer of data from front-end to database and various other downstream systems consuming the data, providing support to team members and other teams located in Pune, maintenance of database Achievement=     Completion of work before the deadline was appreciated by the manager. Project=     Toyota Kirloskar Motors (Feb 2013 to June 2013) Team Size=     9 Technology=     Struts, SQL, Core Java Project Description=     Maintenance of Client?s Dealer Management System portal. Role=     Requirement gathering for enhancement of the application, Documentation, incorporating requirements provided by the client into the application. Apr 2016 to Till Date Deloitte US India  Oct 2014 to Mar 2016 Infosys Senior System Engineer  Sep 2012 to Sep 2014 Infosys System Engineer\n",
            "__label__Software-Development-System-Programming Software Engineer Feb 2019 to Sep 2019 Agreeya Solutions  Software Engineer  Spice Digital Limited Feb 2018 to Feb 2019 Jul 2014 to Till Date NA Freelancing Online trainer  Software Engineer Global Logic  Jul 2014 to Jan 2018\n",
            "__label__Software-Development-ALLNew 3.6 years of experience in developing and supporting Data Warehousing for Client. Adept in DataStage, SQL, UNIX, Control M and Salesforce. Knowledge in data warehousing concepts - Dimension modelling and slowly dimension. Comprehensive knowledge of SDLC. Writing SQL queries to extract and clean the data. Hands on experience in Developing, designing the DataStage ETL jobs using Aggregator, Join, Transformer, SFDC stages. Experience in UNIX Shell Scripting. Experience in Control M Scheduling tool. Knowing the concepts of Master Data Management. Excellent team player with problem-solving and trouble-shooting capabilities. Proven ability to quickly learn and apply new technologies and have creativity, innovation and ability to work in a paced environment highly result oriented and driven success. \n",
            "__label__Software-Development-ALLNew Oct 2015 to Till Date Accenture Services Private Limited. Oct 2015 ? till date Project ? Pharma Client This project is an encompassment of various mini projects. It consists of a couple of major Data warehouse and many data marts residing over the data warehouse. It mainly captures sales data, calls made by sales representatives, alignment of sales reps to territories and a lot of information for strategic decision making and reports and various dashboards. Role: DataStage DeveloperLeading the project individually to stability by fixing critical issues and performance tuning by automated manual ETL processes. Working as an SME for 2 critical modules which is having high visibility to Business. Handling the Master Data Management of the Health Care Professionals (HCPs) and Health Care Organizations (HCOs) of the Client. Design and development of the ETL jobs. Worked on UNIX shell scripting and incorporated the business logics in the ETL processes. Developed parallel jobs using stages like Dataset, Sequential file, Aggregator, Copy, Funnel, Join, Lookup, SDFC connector and Transformer.Worked on continuous improvements which reduced the manual effort involved on daily basis and fixed the production issues. Contributed to the team by training the new joiners and enabling the resources to accustom to the project functionality and work on the technology efficiently. Worked on High priority P2 tickets and resolved without any timeframe delay. Rewards and Recognitions: Received Star of the Month award 2 times for the contribution towards minor enhancements. Received Best Team award. Received Pinnacle award in the Individual category for the contribution to the Project. Received ACE- Accenture Excellence Award for individual contribution to the project. Received appreciation mails from clients for dedication of work done during P2 incidents and for resolving of the critical issues. Got the Recognition 2 times from the Team Lead and Project Manager. Accenture DataStage Developer\n",
            "__label__Software-Development-ALLNew 8 years of technical experience in fields of Software testing, Manual testing, OSS/BSS testing, Functional testing, Automation testing, System Integration testing, User Acceptance testing, Performance testing. \n",
            "__label__Software-Development-ALLNew Working as a module lead in in BSS/OSS telecom project. Module Lead Telus International Nov 2019 to Till Date Sep 2014 to Nov 2019 Working as a senior test engineer and test lead in OSS/BSS projects. Worked on CRM, Kenan billing, Ericsson charging, Selenium, Load runner, Jmeter etc. Ericsson India Global Services Private Ltd. Test Engineer Project Engineer Oct 2011 to Sep 2014 Had experience in testing of OSS/BSS with Siebel CRM, Kenan billing, ASAP provisioning etc. Wipro Technologies\n",
            "__label__ITES-BPO-Operations-Customer-Service-Telecalling Vivek is a management consultant with over 5 years of proven track-record of thriving in solving complex business problems. For his ability to stay client focused, deconstructing ambiguity and story-telling in communication, he has been rated as the top-performing consultant by his organization along with multiple testimonials from his clients. He is currently delivering his roles and responsibilities for a large-scale program roll-out. \n",
            "__label__ITES-BPO-Operations-Customer-Service-Telecalling Management Consultant working on a wide of range of digital strategy and transformation related engagements with clients of high repute. Management Consultant Infosys Consulting Apr 2017 to Till Date As a systems engineer, facilitated the business operations of a US based firm through functional and technical advisory for its retail and omni-channel touchpoints. Aug 2012 to May 2015 Systems Engineer Tata Consultancy Services\n",
            "__label__Software-Development-Database-Administration IP professional and a Certified Indian Patent Agent with 7+ years of experience both at in-house as well as in a client servicing firm. Extensive experience in conducting Patent Searches and IP Analytic Studies in different domains of Health Care Industry and other engineering areas. *     Consummate professional with planning, execution, monitoring, as well as ability to handle multiple tasks in high pressure environments and under tight deadlines *     Capable of delivering success in complex projects with scope for learning and challenge. *     Strong belief in continuous learning and acquiring new knowledge and skills set. *     Experience of working with global teams, virtual teams, and in a cross-cultural environment. *     Experienced in Patent Analytic Studies such as Competitive Intelligence, White Space Analysis, Patent Landscapes, Prior Art Searches, Invalidity Searches, Clearance Searches. *     Possess in-depth knowledge of commercial and freely available patent databases. Skilled in conducting \n",
            "__label__Software-Development-Database-Administration *     Partnered with Technology leaders and Legal teams to support them in making informed strategic decisions for innovation and Legal Assets *     Consultation to R&D mangers in Identifying Disruptive Technologies and Need Analysis in the Technology Space *     Support to R&D Teams at various Project Life Cycle Stages by conducting White Space Analysis, Competitive Intelligence, Technology Landscapes and other IP Analytic Studies in the Technology Domain *     Tracking Research Activities in various Technology Domain to assess futuristic and promising Technologies *     Worked and Co-ordinated with Internal and External IP Counsels for freedom-to-operate analysis and invalidation studies. *     Lead digital transformation of the IP team to expand team capabilities and increase individual and overall team productivity. *     Instrumental in Drafting IP Policies and Procedures and Processing of IP awards at Regional Level. *     Successfully Conducted seminars, workshops and orientation programs to create IP awareness *     Developed Training modules and provided coaching to Inventors on IP Policies, IP Filing Processes & Procedures. *     Managed Vendors & Quality Check for excellent delivery of services *     Successfully Imparted Session to KOLs as part of External Idea Management Process. *     Successfully Lead Site Level Innovation Program to create a culture of IP based Innovation. *     Mentored and assisted interns for their progress in IP Careers IP Engineer II Apr 2017 to Till Date Boston Scientific Johnson & Johnson Patent Engineer (R&D) May 2013 to Apr 2016 Provide IP Insights to the R&D teams at various Product Development Stages. This includes conducting Patent Analytics studies such as patent landscape, white space analysis, prior art searches, invalidity searches, and freedom to operate. Provide the IP SME & the R&D Teams Weekly Patent Alerts. Work with the IP SME to undertake Competitive Intelligence, Competitor Portfolio Analysis Projects. This includes doing non patent literature searches and looking at the marketed Product apart from searching & analyzing the patent publications Review Invention disclosures filed by the R&D Engineers and conduct background searches. Work with IP Service Providers. This includes setting up processes, providing the project requirements & scope, and ensuring the quality of the Deliverables from the Vendors. Experiences/Learnings: Deep understanding of the New Product Development Process and the IP Deliverables at the various product development stages. Experience across various Medical Device Technology areas such as Infection Control, Diabetes Care, Cardiovascular, Energy Based devices & others. Good understanding of Patent Databases such as Micropat, Thomson Innovation, Total Patents, Orbit, Espacenet, USPTO etc. and other scientific literature databases such as Science Direct, Scirus. Evalueserve.com Jan 2008 to Aug 2009 Senior Research Associate II Evalueserve, Gurgaon 1/2008 - 8/2009 Senior Research Associate 7/2008 - 8/2009 Job Responsibilities: Worked on projects related to patent landscape, portfolio analysis, competitive intelligence, prior arts, invalidation, freedom to operate, litigation analysis, technical literature analysis for different technology areas ranging from specialty chemicals, petrochemicals, electrochemical cells, power motors & in other domains of mechanical, biomedical and electrical engineering . Handling client calls, preparing project proposals, search strategies, taxonomies and project related deliverables & presentations. Conducting searches on various patent search databases and other technical literature databases. Research Associate 1/2008 - 6/2008 Job Responsibilities: Preparing good understanding of the project domain. Analyzing results obtained and presenting them based on client and project type requirement. Experiences/Learnings: Good understanding of Patent Laws, IP Treaties and Agreements, Searching Databases, Communication Skills etc. Member of IP Macro Team. System Engineer Trainee Tata Consultancy Services Aug 2007 to Oct 2007 Tata Consultancy, Hyderabad 8/2007 - 10/2007 System Engineer Trainee Undergone an initial learning program which included basics of computer application, programming language etc.\n",
            "__label__Software-Development-ALLNew 3+ years of in-depth hands on experience on SAP S/4 HANA Implementations and Migrations in vCentric Technologies. Currently working for intelligence India Pvt Ltd. as SAP Basis Consultant since November 2014. Involved in SAP implementations, Rollouts, Up-gradations, OS-DB Migrations, Unicode Conversion, Suite on HANA Migrations, S/4 Hana implementations, S/4 Hana Conversion, SAP Fiori Implementations, GST Implementations and Support projects. \n",
            "__label__Software-Development-ALLNew Itelligence SAP Basis Consultant Nov 2017 to Nov 2014  SAP Basis Consultant-ERP/CRM intelligence India Pvt Ltd Nov 2014 to Nov 2017 PROJECTS OVERVIEW Client          LUMAX Industries Pvt Ltd, Gurgoan - India Project          S4HANA 1610 FPS02 Conversion Period          Dec 2017 - Till date Position          SAP BASIS Consultant * Prepared a High Level Project Plan for S/4HANA Migration and marked the timelines. * Built Test server with latest production data backup. Responsibilities          Performed HANA Database Upgrade from Rev 110 to 122.06. * Completed technical S4Hana 1610 FP02 conversion using SUM tool and provided the test server to functional team for post-activities w.r.t finance and Logistics. OS Environment     SUSE Linux 11.3 Client          Bashundara, Dhaka, Bangladesh Project          ERP Suite on HANA Migration and BW Hana Migration Period          Aug 2017 - Nov 2017 Position          SAP BASIS Consultant Responsibilities          Migration/Upgrade of ERP system with 8 TB database from Oracle 11.2.0.3.0 to HANA1.00.122.06 /ERP 6.0 EHP7 to ERP6.0 EHP8 Migration/Upgrade of BW System from Oracle 11.2.0.3.0 to HANA 1.00.122.06 / BW 7.3 to BW 7.5 Migration/Upgrade of EP system from Oracle 11.2.0.3.0 (RHEL 6.4) to Sybase 16.0 SP02 PL05 HF1 (AIX 7.1) / Netweaver 74. To 7.5 Migration/Upgrade of PI system Oracle 11.2.0.3.0 (RHEL 6.4) to Sybase 16.0 SP02 PL05 HF1 (AIX 7.1) / Netweaver 7.4 to Netweaver 7.5 (Performed by migrating the interfaces from source system to newly installed systems to minimize the downtime) Installation of BO 4.2 SP3 Landscape SAP HANA System Replication Configuration (DR) SAP Sybase Log shipping (DR) OS Environment     RHEL 6.4 , AIX 7.1 TL04, SLES 11.4(ppc64) ACG Worldwide - Mumbai, Lumax Industries - Gurgoan, Maharaja Shree Clients          Umaid Mills Limited - Rajasthan, Aksh Optifibre Limited - New Delhi, Punjab Kesari - Punjab. Project          GST Implementation Period          Mar 2017 to June 2017 Position          SAP BASIS Consultant * Analyzed system status and prepared project plan to perform technical upgrade of Software Component SAP_APPL as per note 1175384. *Built sandbox server with production data backup and performed Responsibilities          upgrade using SUM tool to Identified timelines and technical challenges. * Performed technical upgrade on Development Server and then Production server using SUM tool. *Provided support to functional team for any technical issues. OS Environment          AIX 6.2, SLES 11.3, HP-UX 11.3i, Windows server 2012 Client          EMCO, Mumbai - India Project               SAP SUITE on HANA Migration Period               Mar 2017 - Jun 2017 Position          SAP BASIS Consultant * Performed Technical Upgrade (ERP 6.0 EhP5 to ERP 6.0 EHP 8) along with Database Migration (MS SQL SERVER to HANA 1.0 rev 122.05) with DMO option. Responsibilities               * Performed database migration of Solution Manager 7.1 from ms sql server 2012 to Sybase ASE 16.0.02.01. * Planned and executed training on HANA for system administrators. * SAP Fiori landscape implementation with Netweaver 7.5 and Sybase 16.0.02.05. OS Environment               Windows Server 2012 and Suse Linux 12.1 Client          Go AIr, Mumbai - India Project               S4HANA 1610 FPS02 Conversion Period               Oct 2016 - Mar 2017 Position          SAP BASIS Consultant * Prepared a High Level Project Plan for S/4HANA Migration and marked the timelines. * Built Test server with latest production data backup. Responsibilities               Performed Hardware Migration to TATA Cloud Performed Conversion and H/W Migration in single day with downtime Upgraded oracle DB from 10G to 12 G Prepared a High Level Project Plan for S/4HANA Migration and marked the timelines. OS Environment               Windows Server 2008 and Suse Linux 12.1 SAP Basis Consultant Nov 2014 to Till Date Itelligence SAP Basis Consultant\n",
            "__label__Software-Development-ALLNew Front-end Developer Nov 2016 to Till Date Key Result Areas: *     Working on new and existing micro-sites, landing pages, and templates and providing guidance and troubleshooting support to clients. *     Presenting completed HTML and CSS mobile and desktop mockups to clients, fixing front-end related bug issues on existing client website and HTML prototypes, and updating and creating print media and internal graphics Mindnerves Technology\n",
            "__label__Purchase-SCM Enterprising professional with over 22 years of experience across Facilities Management Operations, General Administration, P&L Administration      Presently associated with CBRE, Gurugram as Account Director - General Electric      Proven expertise in developing and implementing policies/ annual plans/ budgets to ensure smooth operational flow at all times      Developed vendors and drove negotiations for the procurement of necessary items, supplies & material for the seamless operations      Headed the renovation of a new 161K sq. ft. headquarters site & managed the shifting of 280 personnel and equipment without interruption of business      Successfully developed 4 new offices in GE, new office premises for American Express India Pvt. Ltd. (400,000 sq. ft. campus)      Generated strategic and tactical communication plans for various stakeholder segments at organizational and business unit level \n",
            "__label__Purchase-SCM CBRE India Alliance Director-General Electric Managing operations for 28 offices PAN India across 3 industrial locations while a team of 96 professionals Spearheading the overall general administration needs and management of facilities in compliance with norms Strategizing the long-term business directions of the region to ensure maximum profitability in line with organizational objectives Developing budgets & annual plans to manage facilities as per organizational needs & parameters Steering efforts towards achieving the stipulated targets for various projects as per the preset norms/ guidelines Evaluating requirements and suggesting plan of action that is best suited to the needs Producing smoothly running business channels through coordination with operations, creating efficiencies in processing through emphasis on quality & follow-up Participating in development, implementation, evaluation & modification of administrative policies & procedures to optimize resource across various functions Apr 2019 to Till Date General Electric Company May 2011 to Apr 2019 Vice President Highlights: Successfully managed 15 offices across India while managing all round compliance with the stipulated norms Directed the responsibility of managing the overall facilities & admin needs to ensure development and maintenance of high-quality office spaces, admin. services and related facilities functions Formulated and implemented occupational strategies and rendered strategic consulting on Real Estate related matters encompassing entry level strategies, occupancy planning, construction projects, space management, facility operations Drove the implementation of new workspace standards and assisted in reducing real estate footprint and operating cost Monitored and controlled budget and drove cost reductions projects in line with organization goals across locations Ensured achievement of high level of external/ internal customer satisfaction Effectuated the management of contract with IFM business partner while assuring service delivery as per committed SLA's Jones Lang LaSalle Aug 2008 to May 2011 Highlights: Spearheaded a 15 member skilled team including Operations Manager, Campus Manager, CEM, Finance Manager, Transport Lead and Strategic Planning Manager Administered operations entailing Project Management, Engineering, Catering, Housekeeping and Facilities Management Coordinated with top-level executives in client organisations and with vendors for efficient service delivery Collaborated with major accounts including Microsoft and Citibank for effective Facility Management Vice President\n",
            "__label__Software-Development-ALLNew Having 5+ Years of work experience in Software development And Software Testing with 2 years of experience in Software Development and 3+ years of experience in Automation and Manual Testing (Selenium Web Driver). Strong knowledge of software testing life cycle(STLC), Bug Life cycle and Software Development life cycle (SDLC) exposed to Agile Methodology with experience in writing & executing test cases test scenarios and Selenium Web Driver. As a tester, I designed Test cases as per the requirements that cover all the functionalities of the application. I've worked extensively on Automation Testing on Selenium, Manual Testing on Web applications and have hands on Project experience in Functional Testing, Regression Testing. Developed Data Driven Framework Using Selenium Web Driver and Java Performing Functional, Sanity, Regression and User Acceptance. \n"
          ],
          "name": "stdout"
        }
      ]
    },
    {
      "cell_type": "code",
      "metadata": {
        "id": "3JqBU7cKcc0t",
        "colab_type": "code",
        "outputId": "3fcb97f3-326e-436a-c87f-0fd69863b74e",
        "colab": {
          "base_uri": "https://localhost:8080/",
          "height": 69
        }
      },
      "source": [
        "model_job_type_classify = fasttext.train_supervised(input=\"fastText_functional_area.train\")\n",
        "print_results(*model_job_type_classify.test('fastText_functional_area.dev'))"
      ],
      "execution_count": 0,
      "outputs": [
        {
          "output_type": "stream",
          "text": [
            "N\t10000\n",
            "P@1\t0.574\n",
            "R@1\t0.574\n"
          ],
          "name": "stdout"
        }
      ]
    },
    {
      "cell_type": "code",
      "metadata": {
        "id": "wY6u7xgUeJ5c",
        "colab_type": "code",
        "outputId": "a6820925-c1d5-4533-cd1f-4427726c3a7e",
        "colab": {
          "base_uri": "https://localhost:8080/",
          "height": 69
        }
      },
      "source": [
        "model_job_type_classify = fasttext.train_supervised(input=\"fastText_functional_area.train\", autotuneValidationFile=\"fastText_functional_area.dev\")\n",
        "print_results(*model_job_type_classify.test('fastText_functional_area.dev'))"
      ],
      "execution_count": 0,
      "outputs": [
        {
          "output_type": "stream",
          "text": [
            "N\t10000\n",
            "P@1\t0.698\n",
            "R@1\t0.698\n"
          ],
          "name": "stdout"
        }
      ]
    },
    {
      "cell_type": "code",
      "metadata": {
        "id": "ZzLWKn3if3ES",
        "colab_type": "code",
        "colab": {}
      },
      "source": [
        ""
      ],
      "execution_count": 0,
      "outputs": []
    }
  ]
}