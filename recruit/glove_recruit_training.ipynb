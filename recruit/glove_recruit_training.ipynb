{
  "nbformat": 4,
  "nbformat_minor": 0,
  "metadata": {
    "colab": {
      "name": "glove -- recruit training",
      "provenance": [],
      "collapsed_sections": [],
      "include_colab_link": true
    },
    "kernelspec": {
      "name": "python3",
      "display_name": "Python 3"
    }
  },
  "cells": [
    {
      "cell_type": "markdown",
      "metadata": {
        "id": "view-in-github",
        "colab_type": "text"
      },
      "source": [
        "<a href=\"https://colab.research.google.com/github/manishiitg/ML_Experiments/blob/master/recruit/glove_recruit_training.ipynb\" target=\"_parent\"><img src=\"https://colab.research.google.com/assets/colab-badge.svg\" alt=\"Open In Colab\"/></a>"
      ]
    },
    {
      "cell_type": "code",
      "metadata": {
        "id": "V2J4XOojgAuE",
        "colab_type": "code",
        "outputId": "07aa737f-2024-4bc2-db8e-1d608135ad69",
        "colab": {
          "base_uri": "https://localhost:8080/",
          "height": 279
        }
      },
      "source": [
        "!pip install Flask\n",
        "!pip install flask_pymongo"
      ],
      "execution_count": 0,
      "outputs": [
        {
          "output_type": "stream",
          "text": [
            "Requirement already satisfied: Flask in /usr/local/lib/python3.6/dist-packages (1.1.1)\n",
            "Requirement already satisfied: Werkzeug>=0.15 in /usr/local/lib/python3.6/dist-packages (from Flask) (0.16.0)\n",
            "Requirement already satisfied: itsdangerous>=0.24 in /usr/local/lib/python3.6/dist-packages (from Flask) (1.1.0)\n",
            "Requirement already satisfied: click>=5.1 in /usr/local/lib/python3.6/dist-packages (from Flask) (7.0)\n",
            "Requirement already satisfied: Jinja2>=2.10.1 in /usr/local/lib/python3.6/dist-packages (from Flask) (2.10.3)\n",
            "Requirement already satisfied: MarkupSafe>=0.23 in /usr/local/lib/python3.6/dist-packages (from Jinja2>=2.10.1->Flask) (1.1.1)\n",
            "Requirement already satisfied: flask_pymongo in /usr/local/lib/python3.6/dist-packages (2.3.0)\n",
            "Requirement already satisfied: PyMongo>=3.3 in /usr/local/lib/python3.6/dist-packages (from flask_pymongo) (3.10.0)\n",
            "Requirement already satisfied: Flask>=0.11 in /usr/local/lib/python3.6/dist-packages (from flask_pymongo) (1.1.1)\n",
            "Requirement already satisfied: Werkzeug>=0.15 in /usr/local/lib/python3.6/dist-packages (from Flask>=0.11->flask_pymongo) (0.16.0)\n",
            "Requirement already satisfied: click>=5.1 in /usr/local/lib/python3.6/dist-packages (from Flask>=0.11->flask_pymongo) (7.0)\n",
            "Requirement already satisfied: Jinja2>=2.10.1 in /usr/local/lib/python3.6/dist-packages (from Flask>=0.11->flask_pymongo) (2.10.3)\n",
            "Requirement already satisfied: itsdangerous>=0.24 in /usr/local/lib/python3.6/dist-packages (from Flask>=0.11->flask_pymongo) (1.1.0)\n",
            "Requirement already satisfied: MarkupSafe>=0.23 in /usr/local/lib/python3.6/dist-packages (from Jinja2>=2.10.1->Flask>=0.11->flask_pymongo) (1.1.1)\n"
          ],
          "name": "stdout"
        }
      ]
    },
    {
      "cell_type": "code",
      "metadata": {
        "id": "cwkCPSd3hQ6v",
        "colab_type": "code",
        "colab": {}
      },
      "source": [
        "from flask import Flask\n",
        "from flask_pymongo import PyMongo\n",
        "from bs4 import BeautifulSoup\n",
        "from nltk.tokenize import ToktokTokenizer\n",
        "from nltk import sent_tokenize, word_tokenize"
      ],
      "execution_count": 0,
      "outputs": []
    },
    {
      "cell_type": "code",
      "metadata": {
        "id": "Wloq7XJNgIHx",
        "colab_type": "code",
        "outputId": "a99aabe4-d19f-4078-f56e-0f5a65526381",
        "colab": {
          "base_uri": "https://localhost:8080/",
          "height": 88
        }
      },
      "source": [
        "#__label__sauce __label__cheese How much does potato starch affect a cheese sauce recipe?\n",
        "# __label__food-safety __label__acidity Dangerous pathogens capable of growing in acidic environments\n",
        "# __label__cast-iron __label__stove How do I cover up the white spots on my cast iron stove?\n",
        "# __label__restaurant Michelin Three Star Restaurant; but if the chef is not there\n",
        "# sample format needed\n",
        "\n",
        "\n",
        "app = Flask(__name__)\n",
        "app.config[\"MONGO_URI\"] = \"\"\n",
        "mongo = PyMongo(app)\n",
        "\n",
        "\n",
        "def cleanMe(html):\n",
        "    # create a new bs4 object from the html data loaded\n",
        "    \n",
        "    # print(html)\n",
        "    soup = BeautifulSoup(html, \"html.parser\")\n",
        "    # remove all javascript and stylesheet code\n",
        "    for script in soup([\"script\", \"style\"]):\n",
        "        script.extract()\n",
        "    # get text\n",
        "    text = soup.get_text(separator=' ')\n",
        "\n",
        "    # break into lines and remove leading and trailing space on each\n",
        "    # lines = (line.strip() for line in text.splitlines())\n",
        "    lines = text.splitlines()\n",
        "    # break multi-headlines into a line each\n",
        "    chunks = (phrase.strip() for line in lines for phrase in line.split(\"  \"))\n",
        "    # drop blank lines\n",
        "    # text = '\\n'.join(chunk for chunk in chunks if chunk)\n",
        "    chunks = filter(None, chunks)\n",
        "    return \" \".join(chunks)\n",
        "\n",
        "ret = mongo.db.naukri_candidates.find({})\n",
        "\n",
        "all_lines = []\n",
        "\n",
        "\n",
        "for row in ret:\n",
        "  education = row[\"education\"]\n",
        "  workExperiance = row[\"workExperiance\"]\n",
        "  summary = row['summary']\n",
        "  key_skills = row[\"key_skills\"]\n",
        "  projects = row[\"projects\"]\n",
        "  # extra_data = row[\"extra_data\"]\n",
        "\n",
        "  summary_str = summary.splitlines()\n",
        "\n",
        "  education_string = []\n",
        "  for edu in education:\n",
        "      education_string.append(edu[\"type\"]  + \" \" + edu[\"degree\"] + \" \" + edu[\"specific\"] + \" \" + edu[\"university\"] + \" \" + edu[\"year\"])\n",
        "\n",
        "  work_exp_string = []\n",
        "  for work in workExperiance:\n",
        "      work_exp_string.append(work[\"company_name\"]  + \" \" + work[\"designation\"] + \" \" + work[\"date\"] + \" \" + cleanMe(work[\"desc\"]))\n",
        "\n",
        "  key_skills_str =  \" \".join(key_skills.split(\",\")).replace(\"Key Skills:\",\"\")\n",
        "\n",
        "  project_str = []\n",
        "  for project in projects:\n",
        "      project_str.append(cleanMe(project))\n",
        "\n",
        "  all_lines.extend(summary_str)\n",
        "  all_lines.extend(education_string)\n",
        "  all_lines.extend(work_exp_string)\n",
        "  all_lines.append(key_skills_str)\n",
        "  all_lines.extend(project_str)\n",
        "\n",
        "      # print(row)\n",
        "\n",
        "print(\"total lines \", len(all_lines))\n",
        "            "
      ],
      "execution_count": 0,
      "outputs": [
        {
          "output_type": "stream",
          "text": [
            "/usr/local/lib/python3.6/dist-packages/bs4/__init__.py:273: UserWarning: \"b'.'\" looks like a filename, not markup. You should probably open this file and pass the filehandle into Beautiful Soup.\n",
            "  ' Beautiful Soup.' % markup)\n"
          ],
          "name": "stderr"
        },
        {
          "output_type": "stream",
          "text": [
            "total lines  387340\n"
          ],
          "name": "stdout"
        }
      ]
    },
    {
      "cell_type": "code",
      "metadata": {
        "id": "OEeTna2GgQwD",
        "colab_type": "code",
        "outputId": "4c4de6ba-2f1a-4af5-9425-3f26a8d9a4dd",
        "colab": {
          "base_uri": "https://localhost:8080/",
          "height": 51
        }
      },
      "source": [
        "import nltk\n",
        "nltk.download('punkt')\n",
        "\n",
        "toktok = ToktokTokenizer()\n",
        "\n",
        "\n",
        "open('glove.train', 'w').close()\n",
        "\n",
        "\n",
        "with open(\"glove.train\", 'a') as the_file2:\n",
        "  for line in all_lines:\n",
        "    tokens = [toktok.tokenize(sent) for sent in sent_tokenize(line)]\n",
        "    for sent in tokens:\n",
        "      the_file2.write(\" \".join(sent) + ' ')"
      ],
      "execution_count": 0,
      "outputs": [
        {
          "output_type": "stream",
          "text": [
            "[nltk_data] Downloading package punkt to /root/nltk_data...\n",
            "[nltk_data]   Unzipping tokenizers/punkt.zip.\n"
          ],
          "name": "stdout"
        }
      ]
    },
    {
      "cell_type": "code",
      "metadata": {
        "id": "bjLEVuC0gV74",
        "colab_type": "code",
        "outputId": "4dcf2b46-887e-45cc-8f59-7d438d07558e",
        "colab": {
          "base_uri": "https://localhost:8080/",
          "height": 34
        }
      },
      "source": [
        "!head -c 20 glove.train"
      ],
      "execution_count": 0,
      "outputs": [
        {
          "output_type": "stream",
          "text": [
            "Offering 3.5 years o"
          ],
          "name": "stdout"
        }
      ]
    },
    {
      "cell_type": "code",
      "metadata": {
        "id": "JXUbcqINgYvC",
        "colab_type": "code",
        "colab": {}
      },
      "source": [
        "!pip install glove_python\n",
        "from glove import Corpus, Glove\n",
        "\n",
        "def read_corpus(filename):\n",
        "\n",
        "    delchars = [chr(c) for c in range(256)]\n",
        "    delchars = [x for x in delchars if not x.isalnum()]\n",
        "    delchars.remove(' ')\n",
        "    delchars = ''.join(delchars)\n",
        "\n",
        "    table = str.maketrans(dict.fromkeys(delchars))\n",
        "\n",
        "    with open(filename, 'r') as datafile:\n",
        "        for line in datafile:\n",
        "            yield line.lower().translate(table).split(' ')\n",
        "\n",
        "#Creating a corpus object\n",
        "corpus = Corpus() \n",
        "\n",
        "#Training the corpus to generate the co occurence matrix which is used in GloVe\n",
        "corpus.fit(read_corpus(\"fastText.train\"), window=10)\n",
        "\n",
        "glove = Glove(no_components=5, learning_rate=0.05) \n",
        "glove.fit(corpus.matrix, epochs=100, no_threads=4, verbose=True)\n",
        "glove.add_dictionary(corpus.dictionary)\n",
        "glove.save('glove.model')"
      ],
      "execution_count": 0,
      "outputs": []
    },
    {
      "cell_type": "code",
      "metadata": {
        "id": "DiFhje9lgl03",
        "colab_type": "code",
        "colab": {}
      },
      "source": [
        "glove = Glove.load('glove.model')\n",
        "\n",
        "print('Querying for php')\n",
        "print(glove.most_similar(\"node\", number=10))"
      ],
      "execution_count": 0,
      "outputs": []
    },
    {
      "cell_type": "code",
      "metadata": {
        "id": "hfv-ILfQgoAc",
        "colab_type": "code",
        "colab": {}
      },
      "source": [
        "print(glove.most_similar(\"php\", number=10))"
      ],
      "execution_count": 0,
      "outputs": []
    },
    {
      "cell_type": "code",
      "metadata": {
        "id": "_XgkKIQDgqYP",
        "colab_type": "code",
        "colab": {}
      },
      "source": [
        "print(glove.most_similar(\"reactjs\", number=10))"
      ],
      "execution_count": 0,
      "outputs": []
    },
    {
      "cell_type": "code",
      "metadata": {
        "id": "7wMKOLP7gr_s",
        "colab_type": "code",
        "outputId": "ee7993f9-dd00-445f-d351-b874067cec67",
        "colab": {
          "base_uri": "https://localhost:8080/",
          "height": 120
        }
      },
      "source": [
        "!git clone http://github.com/stanfordnlp/glove"
      ],
      "execution_count": 0,
      "outputs": [
        {
          "output_type": "stream",
          "text": [
            "Cloning into 'glove'...\n",
            "warning: redirecting to https://github.com/stanfordnlp/glove/\n",
            "remote: Enumerating objects: 436, done.\u001b[K\n",
            "Receiving objects:   0% (1/436)   \rReceiving objects:   1% (5/436)   \rReceiving objects:   2% (9/436)   \rReceiving objects:   3% (14/436)   \rReceiving objects:   4% (18/436)   \rReceiving objects:   5% (22/436)   \rReceiving objects:   6% (27/436)   \rReceiving objects:   7% (31/436)   \rReceiving objects:   8% (35/436)   \rReceiving objects:   9% (40/436)   \rReceiving objects:  10% (44/436)   \rReceiving objects:  11% (48/436)   \rReceiving objects:  12% (53/436)   \rReceiving objects:  13% (57/436)   \rReceiving objects:  14% (62/436)   \rReceiving objects:  15% (66/436)   \rReceiving objects:  16% (70/436)   \rReceiving objects:  17% (75/436)   \rReceiving objects:  18% (79/436)   \rReceiving objects:  19% (83/436)   \rReceiving objects:  20% (88/436)   \rReceiving objects:  21% (92/436)   \rReceiving objects:  22% (96/436)   \rReceiving objects:  23% (101/436)   \rReceiving objects:  24% (105/436)   \rReceiving objects:  25% (109/436)   \rReceiving objects:  26% (114/436)   \rReceiving objects:  27% (118/436)   \rReceiving objects:  28% (123/436)   \rReceiving objects:  29% (127/436)   \rReceiving objects:  30% (131/436)   \rReceiving objects:  31% (136/436)   \rReceiving objects:  32% (140/436)   \rReceiving objects:  33% (144/436)   \rReceiving objects:  34% (149/436)   \rReceiving objects:  35% (153/436)   \rReceiving objects:  36% (157/436)   \rReceiving objects:  37% (162/436)   \rReceiving objects:  38% (166/436)   \rReceiving objects:  39% (171/436)   \rReceiving objects:  40% (175/436)   \rReceiving objects:  41% (179/436)   \rReceiving objects:  42% (184/436)   \rReceiving objects:  43% (188/436)   \rReceiving objects:  44% (192/436)   \rReceiving objects:  45% (197/436)   \rReceiving objects:  46% (201/436)   \rReceiving objects:  47% (205/436)   \rReceiving objects:  48% (210/436)   \rReceiving objects:  49% (214/436)   \rReceiving objects:  50% (218/436)   \rReceiving objects:  51% (223/436)   \rReceiving objects:  52% (227/436)   \rReceiving objects:  53% (232/436)   \rReceiving objects:  54% (236/436)   \rReceiving objects:  55% (240/436)   \rReceiving objects:  56% (245/436)   \rReceiving objects:  57% (249/436)   \rReceiving objects:  58% (253/436)   \rReceiving objects:  59% (258/436)   \rReceiving objects:  60% (262/436)   \rReceiving objects:  61% (266/436)   \rReceiving objects:  62% (271/436)   \rReceiving objects:  63% (275/436)   \rReceiving objects:  64% (280/436)   \rReceiving objects:  65% (284/436)   \rReceiving objects:  66% (288/436)   \rReceiving objects:  67% (293/436)   \rReceiving objects:  68% (297/436)   \rReceiving objects:  69% (301/436)   \rReceiving objects:  70% (306/436)   \rReceiving objects:  71% (310/436)   \rremote: Total 436 (delta 0), reused 0 (delta 0), pack-reused 436\u001b[K\n",
            "Receiving objects: 100% (436/436), 179.83 KiB | 6.92 MiB/s, done.\n",
            "Resolving deltas: 100% (239/239), done.\n"
          ],
          "name": "stdout"
        }
      ]
    },
    {
      "cell_type": "code",
      "metadata": {
        "id": "DjcNseUugucc",
        "colab_type": "code",
        "outputId": "df1e6dce-68a9-4709-aded-639dfb2f2fda",
        "colab": {
          "base_uri": "https://localhost:8080/",
          "height": 483
        }
      },
      "source": [
        "!cd glove && make"
      ],
      "execution_count": 0,
      "outputs": [
        {
          "output_type": "stream",
          "text": [
            "mkdir -p build\n",
            "gcc src/glove.c -o build/glove -lm -pthread -Ofast -march=native -funroll-loops -Wall -Wextra -Wpedantic\n",
            "\u001b[01m\u001b[Ksrc/glove.c:\u001b[m\u001b[K In function ‘\u001b[01m\u001b[Kglove_thread\u001b[m\u001b[K’:\n",
            "\u001b[01m\u001b[Ksrc/glove.c:117:9:\u001b[m\u001b[K \u001b[01;35m\u001b[Kwarning: \u001b[m\u001b[Kignoring return value of ‘\u001b[01m\u001b[Kfread\u001b[m\u001b[K’, declared with attribute warn_unused_result [\u001b[01;35m\u001b[K-Wunused-result\u001b[m\u001b[K]\n",
            "         \u001b[01;35m\u001b[Kfread(&cr, sizeof(CREC), 1, fin)\u001b[m\u001b[K;\n",
            "         \u001b[01;35m\u001b[K^~~~~~~~~~~~~~~~~~~~~~~~~~~~~~~~\u001b[m\u001b[K\n",
            "gcc src/shuffle.c -o build/shuffle -lm -pthread -Ofast -march=native -funroll-loops -Wall -Wextra -Wpedantic\n",
            "\u001b[01m\u001b[Ksrc/shuffle.c:\u001b[m\u001b[K In function ‘\u001b[01m\u001b[Kshuffle_merge\u001b[m\u001b[K’:\n",
            "\u001b[01m\u001b[Ksrc/shuffle.c:106:17:\u001b[m\u001b[K \u001b[01;35m\u001b[Kwarning: \u001b[m\u001b[Kignoring return value of ‘\u001b[01m\u001b[Kfread\u001b[m\u001b[K’, declared with attribute warn_unused_result [\u001b[01;35m\u001b[K-Wunused-result\u001b[m\u001b[K]\n",
            "                 \u001b[01;35m\u001b[Kfread(&array[i], sizeof(CREC), 1, fid[j])\u001b[m\u001b[K;\n",
            "                 \u001b[01;35m\u001b[K^~~~~~~~~~~~~~~~~~~~~~~~~~~~~~~~~~~~~~~~~\u001b[m\u001b[K\n",
            "\u001b[01m\u001b[Ksrc/shuffle.c:\u001b[m\u001b[K In function ‘\u001b[01m\u001b[Kshuffle_by_chunks\u001b[m\u001b[K’:\n",
            "\u001b[01m\u001b[Ksrc/shuffle.c:163:9:\u001b[m\u001b[K \u001b[01;35m\u001b[Kwarning: \u001b[m\u001b[Kignoring return value of ‘\u001b[01m\u001b[Kfread\u001b[m\u001b[K’, declared with attribute warn_unused_result [\u001b[01;35m\u001b[K-Wunused-result\u001b[m\u001b[K]\n",
            "         \u001b[01;35m\u001b[Kfread(&array[i], sizeof(CREC), 1, fin)\u001b[m\u001b[K;\n",
            "         \u001b[01;35m\u001b[K^~~~~~~~~~~~~~~~~~~~~~~~~~~~~~~~~~~~~~\u001b[m\u001b[K\n",
            "gcc src/cooccur.c -o build/cooccur -lm -pthread -Ofast -march=native -funroll-loops -Wall -Wextra -Wpedantic\n",
            "\u001b[01m\u001b[Ksrc/cooccur.c:\u001b[m\u001b[K In function ‘\u001b[01m\u001b[Kmerge_files\u001b[m\u001b[K’:\n",
            "\u001b[01m\u001b[Ksrc/cooccur.c:267:9:\u001b[m\u001b[K \u001b[01;35m\u001b[Kwarning: \u001b[m\u001b[Kignoring return value of ‘\u001b[01m\u001b[Kfread\u001b[m\u001b[K’, declared with attribute warn_unused_result [\u001b[01;35m\u001b[K-Wunused-result\u001b[m\u001b[K]\n",
            "         \u001b[01;35m\u001b[Kfread(&new, sizeof(CREC), 1, fid[i])\u001b[m\u001b[K;\n",
            "         \u001b[01;35m\u001b[K^~~~~~~~~~~~~~~~~~~~~~~~~~~~~~~~~~~~\u001b[m\u001b[K\n",
            "\u001b[01m\u001b[Ksrc/cooccur.c:277:5:\u001b[m\u001b[K \u001b[01;35m\u001b[Kwarning: \u001b[m\u001b[Kignoring return value of ‘\u001b[01m\u001b[Kfread\u001b[m\u001b[K’, declared with attribute warn_unused_result [\u001b[01;35m\u001b[K-Wunused-result\u001b[m\u001b[K]\n",
            "     \u001b[01;35m\u001b[Kfread(&new, sizeof(CREC), 1, fid[i])\u001b[m\u001b[K;\n",
            "     \u001b[01;35m\u001b[K^~~~~~~~~~~~~~~~~~~~~~~~~~~~~~~~~~~~\u001b[m\u001b[K\n",
            "\u001b[01m\u001b[Ksrc/cooccur.c:290:9:\u001b[m\u001b[K \u001b[01;35m\u001b[Kwarning: \u001b[m\u001b[Kignoring return value of ‘\u001b[01m\u001b[Kfread\u001b[m\u001b[K’, declared with attribute warn_unused_result [\u001b[01;35m\u001b[K-Wunused-result\u001b[m\u001b[K]\n",
            "         \u001b[01;35m\u001b[Kfread(&new, sizeof(CREC), 1, fid[i])\u001b[m\u001b[K;\n",
            "         \u001b[01;35m\u001b[K^~~~~~~~~~~~~~~~~~~~~~~~~~~~~~~~~~~~\u001b[m\u001b[K\n",
            "gcc src/vocab_count.c -o build/vocab_count -lm -pthread -Ofast -march=native -funroll-loops -Wall -Wextra -Wpedantic\n"
          ],
          "name": "stdout"
        }
      ]
    },
    {
      "cell_type": "code",
      "metadata": {
        "id": "FL72UZKOiOIt",
        "colab_type": "code",
        "colab": {}
      },
      "source": [
        "# don't run this code. copy it to a file demo_recruit.sh\n",
        "\n",
        "#!/bin/bash\n",
        "set -e\n",
        "\n",
        "# Makes programs, downloads sample data, trains a GloVe model, and then evaluates it.\n",
        "# One optional argument can specify the language used for eval script: matlab, octave or [default] python\n",
        "\n",
        "make\n",
        "\n",
        "CORPUS=../glove.train\n",
        "VOCAB_FILE=vocab.txt\n",
        "COOCCURRENCE_FILE=cooccurrence.bin\n",
        "COOCCURRENCE_SHUF_FILE=cooccurrence.shuf.bin\n",
        "BUILDDIR=build\n",
        "SAVE_FILE=vectors\n",
        "VERBOSE=2\n",
        "MEMORY=4.0\n",
        "VOCAB_MIN_COUNT=5\n",
        "VECTOR_SIZE=300\n",
        "MAX_ITER=15\n",
        "WINDOW_SIZE=15\n",
        "BINARY=2\n",
        "NUM_THREADS=8\n",
        "X_MAX=10\n",
        "\n",
        "echo\n",
        "echo \"$ $BUILDDIR/vocab_count -min-count $VOCAB_MIN_COUNT -verbose $VERBOSE < $CORPUS > $VOCAB_FILE\"\n",
        "$BUILDDIR/vocab_count -min-count $VOCAB_MIN_COUNT -verbose $VERBOSE < $CORPUS > $VOCAB_FILE\n",
        "echo \"$ $BUILDDIR/cooccur -memory $MEMORY -vocab-file $VOCAB_FILE -verbose $VERBOSE -window-size $WINDOW_SIZE < $CORPUS > $COOCCURRENCE_FILE\"\n",
        "$BUILDDIR/cooccur -memory $MEMORY -vocab-file $VOCAB_FILE -verbose $VERBOSE -window-size $WINDOW_SIZE < $CORPUS > $COOCCURRENCE_FILE\n",
        "echo \"$ $BUILDDIR/shuffle -memory $MEMORY -verbose $VERBOSE < $COOCCURRENCE_FILE > $COOCCURRENCE_SHUF_FILE\"\n",
        "$BUILDDIR/shuffle -memory $MEMORY -verbose $VERBOSE < $COOCCURRENCE_FILE > $COOCCURRENCE_SHUF_FILE\n",
        "echo \"$ $BUILDDIR/glove -save-file $SAVE_FILE -threads $NUM_THREADS -input-file $COOCCURRENCE_SHUF_FILE -x-max $X_MAX -iter $MAX_ITER -vector-size $VECTOR_SIZE -binary $BINARY -vocab-file $VOCAB_FILE -verbose $VERBOSE\"\n",
        "$BUILDDIR/glove -save-file $SAVE_FILE -threads $NUM_THREADS -input-file $COOCCURRENCE_SHUF_FILE -x-max $X_MAX -iter $MAX_ITER -vector-size $VECTOR_SIZE -binary $BINARY -vocab-file $VOCAB_FILE -verbose $VERBOSE\n"
      ],
      "execution_count": 0,
      "outputs": []
    },
    {
      "cell_type": "code",
      "metadata": {
        "id": "5RCTall4gwhq",
        "colab_type": "code",
        "colab": {}
      },
      "source": [
        "!mv demo_recruit.sh glove\n",
        "!chmod +x glove/demo_recruit.sh"
      ],
      "execution_count": 0,
      "outputs": []
    },
    {
      "cell_type": "code",
      "metadata": {
        "id": "7Yp8YcH1g1G5",
        "colab_type": "code",
        "outputId": "f77d96e6-d67d-4b94-aeb6-1fbe153aba7d",
        "colab": {
          "base_uri": "https://localhost:8080/",
          "height": 1000
        }
      },
      "source": [
        "!cd glove && ./demo_recruit.sh"
      ],
      "execution_count": 0,
      "outputs": [
        {
          "output_type": "stream",
          "text": [
            "mkdir -p build\n",
            "gcc src/glove.c -o build/glove -lm -pthread -Ofast -march=native -funroll-loops -Wall -Wextra -Wpedantic\n",
            "\u001b[01m\u001b[Ksrc/glove.c:\u001b[m\u001b[K In function ‘\u001b[01m\u001b[Kglove_thread\u001b[m\u001b[K’:\n",
            "\u001b[01m\u001b[Ksrc/glove.c:117:9:\u001b[m\u001b[K \u001b[01;35m\u001b[Kwarning: \u001b[m\u001b[Kignoring return value of ‘\u001b[01m\u001b[Kfread\u001b[m\u001b[K’, declared with attribute warn_unused_result [\u001b[01;35m\u001b[K-Wunused-result\u001b[m\u001b[K]\n",
            "         \u001b[01;35m\u001b[Kfread(&cr, sizeof(CREC), 1, fin)\u001b[m\u001b[K;\n",
            "         \u001b[01;35m\u001b[K^~~~~~~~~~~~~~~~~~~~~~~~~~~~~~~~\u001b[m\u001b[K\n",
            "gcc src/shuffle.c -o build/shuffle -lm -pthread -Ofast -march=native -funroll-loops -Wall -Wextra -Wpedantic\n",
            "\u001b[01m\u001b[Ksrc/shuffle.c:\u001b[m\u001b[K In function ‘\u001b[01m\u001b[Kshuffle_merge\u001b[m\u001b[K’:\n",
            "\u001b[01m\u001b[Ksrc/shuffle.c:106:17:\u001b[m\u001b[K \u001b[01;35m\u001b[Kwarning: \u001b[m\u001b[Kignoring return value of ‘\u001b[01m\u001b[Kfread\u001b[m\u001b[K’, declared with attribute warn_unused_result [\u001b[01;35m\u001b[K-Wunused-result\u001b[m\u001b[K]\n",
            "                 \u001b[01;35m\u001b[Kfread(&array[i], sizeof(CREC), 1, fid[j])\u001b[m\u001b[K;\n",
            "                 \u001b[01;35m\u001b[K^~~~~~~~~~~~~~~~~~~~~~~~~~~~~~~~~~~~~~~~~\u001b[m\u001b[K\n",
            "\u001b[01m\u001b[Ksrc/shuffle.c:\u001b[m\u001b[K In function ‘\u001b[01m\u001b[Kshuffle_by_chunks\u001b[m\u001b[K’:\n",
            "\u001b[01m\u001b[Ksrc/shuffle.c:163:9:\u001b[m\u001b[K \u001b[01;35m\u001b[Kwarning: \u001b[m\u001b[Kignoring return value of ‘\u001b[01m\u001b[Kfread\u001b[m\u001b[K’, declared with attribute warn_unused_result [\u001b[01;35m\u001b[K-Wunused-result\u001b[m\u001b[K]\n",
            "         \u001b[01;35m\u001b[Kfread(&array[i], sizeof(CREC), 1, fin)\u001b[m\u001b[K;\n",
            "         \u001b[01;35m\u001b[K^~~~~~~~~~~~~~~~~~~~~~~~~~~~~~~~~~~~~~\u001b[m\u001b[K\n",
            "gcc src/cooccur.c -o build/cooccur -lm -pthread -Ofast -march=native -funroll-loops -Wall -Wextra -Wpedantic\n",
            "\u001b[01m\u001b[Ksrc/cooccur.c:\u001b[m\u001b[K In function ‘\u001b[01m\u001b[Kmerge_files\u001b[m\u001b[K’:\n",
            "\u001b[01m\u001b[Ksrc/cooccur.c:267:9:\u001b[m\u001b[K \u001b[01;35m\u001b[Kwarning: \u001b[m\u001b[Kignoring return value of ‘\u001b[01m\u001b[Kfread\u001b[m\u001b[K’, declared with attribute warn_unused_result [\u001b[01;35m\u001b[K-Wunused-result\u001b[m\u001b[K]\n",
            "         \u001b[01;35m\u001b[Kfread(&new, sizeof(CREC), 1, fid[i])\u001b[m\u001b[K;\n",
            "         \u001b[01;35m\u001b[K^~~~~~~~~~~~~~~~~~~~~~~~~~~~~~~~~~~~\u001b[m\u001b[K\n",
            "\u001b[01m\u001b[Ksrc/cooccur.c:277:5:\u001b[m\u001b[K \u001b[01;35m\u001b[Kwarning: \u001b[m\u001b[Kignoring return value of ‘\u001b[01m\u001b[Kfread\u001b[m\u001b[K’, declared with attribute warn_unused_result [\u001b[01;35m\u001b[K-Wunused-result\u001b[m\u001b[K]\n",
            "     \u001b[01;35m\u001b[Kfread(&new, sizeof(CREC), 1, fid[i])\u001b[m\u001b[K;\n",
            "     \u001b[01;35m\u001b[K^~~~~~~~~~~~~~~~~~~~~~~~~~~~~~~~~~~~\u001b[m\u001b[K\n",
            "\u001b[01m\u001b[Ksrc/cooccur.c:290:9:\u001b[m\u001b[K \u001b[01;35m\u001b[Kwarning: \u001b[m\u001b[Kignoring return value of ‘\u001b[01m\u001b[Kfread\u001b[m\u001b[K’, declared with attribute warn_unused_result [\u001b[01;35m\u001b[K-Wunused-result\u001b[m\u001b[K]\n",
            "         \u001b[01;35m\u001b[Kfread(&new, sizeof(CREC), 1, fid[i])\u001b[m\u001b[K;\n",
            "         \u001b[01;35m\u001b[K^~~~~~~~~~~~~~~~~~~~~~~~~~~~~~~~~~~~\u001b[m\u001b[K\n",
            "gcc src/vocab_count.c -o build/vocab_count -lm -pthread -Ofast -march=native -funroll-loops -Wall -Wextra -Wpedantic\n",
            "\n",
            "$ build/vocab_count -min-count 5 -verbose 2 < ../glove.train > vocab.txt\n",
            "BUILDING VOCABULARY\n",
            "Processed 0 tokens.\u001b[11G100000 tokens.\u001b[11G200000 tokens.\u001b[11G300000 tokens.\u001b[11G400000 tokens.\u001b[11G500000 tokens.\u001b[11G600000 tokens.\u001b[11G700000 tokens.\u001b[11G800000 tokens.\u001b[11G900000 tokens.\u001b[11G1000000 tokens.\u001b[11G1100000 tokens.\u001b[11G1200000 tokens.\u001b[11G1300000 tokens.\u001b[11G1400000 tokens.\u001b[11G1500000 tokens.\u001b[11G1600000 tokens.\u001b[11G1700000 tokens.\u001b[11G1800000 tokens.\u001b[11G1900000 tokens.\u001b[11G2000000 tokens.\u001b[11G2100000 tokens.\u001b[11G2200000 tokens.\u001b[11G2300000 tokens.\u001b[11G2400000 tokens.\u001b[11G2500000 tokens.\u001b[11G2600000 tokens.\u001b[11G2700000 tokens.\u001b[11G2800000 tokens.\u001b[11G2900000 tokens.\u001b[11G3000000 tokens.\u001b[11G3100000 tokens.\u001b[11G3200000 tokens.\u001b[11G3300000 tokens.\u001b[11G3400000 tokens.\u001b[11G3500000 tokens.\u001b[11G3600000 tokens.\u001b[11G3700000 tokens.\u001b[11G3800000 tokens.\u001b[11G3900000 tokens.\u001b[11G4000000 tokens.\u001b[11G4100000 tokens.\u001b[11G4200000 tokens.\u001b[11G4300000 tokens.\u001b[11G4400000 tokens.\u001b[11G4500000 tokens.\u001b[11G4600000 tokens.\u001b[11G4700000 tokens.\u001b[11G4800000 tokens.\u001b[11G4900000 tokens.\u001b[11G5000000 tokens.\u001b[11G5100000 tokens.\u001b[11G5200000 tokens.\u001b[11G5300000 tokens.\u001b[11G5400000 tokens.\u001b[11G5500000 tokens.\u001b[11G5600000 tokens.\u001b[11G5700000 tokens.\u001b[11G5800000 tokens.\u001b[11G5900000 tokens.\u001b[11G6000000 tokens.\u001b[11G6100000 tokens.\u001b[11G6200000 tokens.\u001b[11G6300000 tokens.\u001b[11G6400000 tokens.\u001b[11G6500000 tokens.\u001b[11G6600000 tokens.\u001b[11G6700000 tokens.\u001b[11G6800000 tokens.\u001b[11G6900000 tokens.\u001b[11G7000000 tokens.\u001b[11G7100000 tokens.\u001b[11G7200000 tokens.\u001b[11G7300000 tokens.\u001b[11G7400000 tokens.\u001b[11G7500000 tokens.\u001b[11G7600000 tokens.\u001b[11G7700000 tokens.\u001b[11G7800000 tokens.\u001b[11G7900000 tokens.\u001b[11G8000000 tokens.\u001b[11G8100000 tokens.\u001b[11G8200000 tokens.\u001b[11G8300000 tokens.\u001b[11G8400000 tokens.\u001b[11G8500000 tokens.\u001b[11G8600000 tokens.\u001b[11G8700000 tokens.\u001b[11G8800000 tokens.\u001b[11G8900000 tokens.\u001b[11G9000000 tokens.\u001b[11G9100000 tokens.\u001b[11G9200000 tokens.\u001b[11G9300000 tokens.\u001b[11G9400000 tokens.\u001b[11G9500000 tokens.\u001b[11G9600000 tokens.\u001b[11G9700000 tokens.\u001b[11G9800000 tokens.\u001b[11G9900000 tokens.\u001b[11G10000000 tokens.\u001b[11G10100000 tokens.\u001b[11G10200000 tokens.\u001b[11G10300000 tokens.\u001b[11G10400000 tokens.\u001b[11G10500000 tokens.\u001b[11G10600000 tokens.\u001b[11G10700000 tokens.\u001b[11G10800000 tokens.\u001b[11G10900000 tokens.\u001b[11G11000000 tokens.\u001b[11G11100000 tokens.\u001b[11G11200000 tokens.\u001b[11G11300000 tokens.\u001b[11G11400000 tokens.\u001b[11G11500000 tokens.\u001b[11G11600000 tokens.\u001b[11G11700000 tokens.\u001b[11G11800000 tokens.\u001b[11G11900000 tokens.\u001b[11G12000000 tokens.\u001b[11G12100000 tokens.\u001b[11G12200000 tokens.\u001b[11G12300000 tokens.\u001b[11G12400000 tokens.\u001b[11G12500000 tokens.\u001b[11G12600000 tokens.\u001b[11G12700000 tokens.\u001b[11G12800000 tokens.\u001b[11G12900000 tokens.\u001b[11G13000000 tokens.\u001b[11G13100000 tokens.\u001b[11G13200000 tokens.\u001b[11G13300000 tokens.\u001b[11G13400000 tokens.\u001b[11G13500000 tokens.\u001b[11G13600000 tokens.\u001b[11G13700000 tokens.\u001b[11G13800000 tokens.\u001b[11G13900000 tokens.\u001b[11G14000000 tokens.\u001b[11G14100000 tokens.\u001b[11G14200000 tokens.\u001b[11G14300000 tokens.\u001b[11G14400000 tokens.\u001b[11G14500000 tokens.\u001b[11G14600000 tokens.\u001b[11G14700000 tokens.\u001b[11G14800000 tokens.\u001b[11G14900000 tokens.\u001b[11G15000000 tokens.\u001b[11G15100000 tokens.\u001b[11G15200000 tokens.\u001b[11G15300000 tokens.\u001b[11G15400000 tokens.\u001b[11G15500000 tokens.\u001b[11G15600000 tokens.\u001b[11G15700000 tokens.\u001b[11G15800000 tokens.\u001b[11G15900000 tokens.\u001b[11G16000000 tokens.\u001b[11G16100000 tokens.\u001b[11G16200000 tokens.\u001b[11G16300000 tokens.\u001b[11G16400000 tokens.\u001b[11G16500000 tokens.\u001b[11G16600000 tokens.\u001b[11G16700000 tokens.\u001b[11G16800000 tokens.\u001b[11G16900000 tokens.\u001b[11G17000000 tokens.\u001b[11G17100000 tokens.\u001b[11G17200000 tokens.\u001b[11G17300000 tokens.\u001b[11G17400000 tokens.\u001b[11G17500000 tokens.\u001b[11G17600000 tokens.\u001b[11G17700000 tokens.\u001b[11G17800000 tokens.\u001b[11G17900000 tokens.\u001b[11G18000000 tokens.\u001b[11G18100000 tokens.\u001b[11G18200000 tokens.\u001b[11G18300000 tokens.\u001b[11G18400000 tokens.\u001b[11G18500000 tokens.\u001b[11G18600000 tokens.\u001b[11G18700000 tokens.\u001b[11G18800000 tokens.\u001b[11G18900000 tokens.\u001b[11G19000000 tokens.\u001b[11G19100000 tokens.\u001b[11G19200000 tokens.\u001b[11G19300000 tokens.\u001b[11G19400000 tokens.\u001b[11G19500000 tokens.\u001b[11G19600000 tokens.\u001b[11G19700000 tokens.\u001b[11G19800000 tokens.\u001b[11G19900000 tokens.\u001b[11G20000000 tokens.\u001b[11G20100000 tokens.\u001b[11G20200000 tokens.\u001b[11G20300000 tokens.\u001b[11G20400000 tokens.\u001b[11G20500000 tokens.\u001b[11G20600000 tokens.\u001b[11G20700000 tokens.\u001b[11G20800000 tokens.\u001b[11G20900000 tokens.\u001b[11G21000000 tokens.\u001b[11G21100000 tokens.\u001b[11G21200000 tokens.\u001b[11G21300000 tokens.\u001b[11G21400000 tokens.\u001b[11G21500000 tokens.\u001b[11G21600000 tokens.\u001b[11G21700000 tokens.\u001b[11G21800000 tokens.\u001b[11G21900000 tokens.\u001b[11G22000000 tokens.\u001b[11G22100000 tokens.\u001b[11G22200000 tokens.\u001b[11G22300000 tokens.\u001b[11G22400000 tokens.\u001b[11G22500000 tokens.\u001b[11G22600000 tokens.\u001b[11G22700000 tokens.\u001b[11G22800000 tokens.\u001b[11G22900000 tokens.\u001b[11G23000000 tokens.\u001b[11G23100000 tokens.\u001b[11G23200000 tokens.\u001b[11G23300000 tokens.\u001b[0GProcessed 23349304 tokens.\n",
            "Counted 346110 unique words.\n",
            "Truncating vocabulary at min count 5.\n",
            "Using vocabulary of size 66308.\n",
            "\n",
            "$ build/cooccur -memory 4.0 -vocab-file vocab.txt -verbose 2 -window-size 15 < ../glove.train > cooccurrence.bin\n",
            "COUNTING COOCCURRENCES\n",
            "window size: 15\n",
            "context: symmetric\n",
            "max product: 13752509\n",
            "overflow length: 38028356\n",
            "Reading vocab from file \"vocab.txt\"...loaded 66308 words.\n",
            "Building lookup table...table contains 93002605 elements.\n",
            "Processing token: 0\u001b[19G100000\u001b[19G200000\u001b[19G300000\u001b[19G400000\u001b[19G500000\u001b[19G600000\u001b[19G700000\u001b[19G800000\u001b[19G900000\u001b[19G1000000\u001b[19G1100000\u001b[19G1200000\u001b[19G1300000\u001b[19G1400000\u001b[19G1500000\u001b[19G1600000\u001b[19G1700000\u001b[19G1800000\u001b[19G1900000\u001b[19G2000000\u001b[19G2100000\u001b[19G2200000\u001b[19G2300000\u001b[19G2400000\u001b[19G2500000\u001b[19G2600000\u001b[19G2700000\u001b[19G2800000\u001b[19G2900000\u001b[19G3000000\u001b[19G3100000\u001b[19G3200000\u001b[19G3300000\u001b[19G3400000\u001b[19G3500000\u001b[19G3600000\u001b[19G3700000\u001b[19G3800000\u001b[19G3900000\u001b[19G4000000\u001b[19G4100000\u001b[19G4200000\u001b[19G4300000\u001b[19G4400000\u001b[19G4500000\u001b[19G4600000\u001b[19G4700000\u001b[19G4800000\u001b[19G4900000\u001b[19G5000000\u001b[19G5100000\u001b[19G5200000\u001b[19G5300000\u001b[19G5400000\u001b[19G5500000\u001b[19G5600000\u001b[19G5700000\u001b[19G5800000\u001b[19G5900000\u001b[19G6000000\u001b[19G6100000\u001b[19G6200000\u001b[19G6300000\u001b[19G6400000\u001b[19G6500000\u001b[19G6600000\u001b[19G6700000\u001b[19G6800000\u001b[19G6900000\u001b[19G7000000\u001b[19G7100000\u001b[19G7200000\u001b[19G7300000\u001b[19G7400000\u001b[19G7500000\u001b[19G7600000\u001b[19G7700000\u001b[19G7800000\u001b[19G7900000\u001b[19G8000000\u001b[19G8100000\u001b[19G8200000\u001b[19G8300000\u001b[19G8400000\u001b[19G8500000\u001b[19G8600000\u001b[19G8700000\u001b[19G8800000\u001b[19G8900000\u001b[19G9000000\u001b[19G9100000\u001b[19G9200000\u001b[19G9300000\u001b[19G9400000\u001b[19G9500000\u001b[19G9600000\u001b[19G9700000\u001b[19G9800000\u001b[19G9900000\u001b[19G10000000\u001b[19G10100000\u001b[19G10200000\u001b[19G10300000\u001b[19G10400000\u001b[19G10500000\u001b[19G10600000\u001b[19G10700000\u001b[19G10800000\u001b[19G10900000\u001b[19G11000000\u001b[19G11100000\u001b[19G11200000\u001b[19G11300000\u001b[19G11400000\u001b[19G11500000\u001b[19G11600000\u001b[19G11700000\u001b[19G11800000\u001b[19G11900000\u001b[19G12000000\u001b[19G12100000\u001b[19G12200000\u001b[19G12300000\u001b[19G12400000\u001b[19G12500000\u001b[19G12600000\u001b[19G12700000\u001b[19G12800000\u001b[19G12900000\u001b[19G13000000\u001b[19G13100000\u001b[19G13200000\u001b[19G13300000\u001b[19G13400000\u001b[19G13500000\u001b[19G13600000\u001b[19G13700000\u001b[19G13800000\u001b[19G13900000\u001b[19G14000000\u001b[19G14100000\u001b[19G14200000\u001b[19G14300000\u001b[19G14400000\u001b[19G14500000\u001b[19G14600000\u001b[19G14700000\u001b[19G14800000\u001b[19G14900000\u001b[19G15000000\u001b[19G15100000\u001b[19G15200000\u001b[19G15300000\u001b[19G15400000\u001b[19G15500000\u001b[19G15600000\u001b[19G15700000\u001b[19G15800000\u001b[19G15900000\u001b[19G16000000\u001b[19G16100000\u001b[19G16200000\u001b[19G16300000\u001b[19G16400000\u001b[19G16500000\u001b[19G16600000\u001b[19G16700000\u001b[19G16800000\u001b[19G16900000\u001b[19G17000000\u001b[19G17100000\u001b[19G17200000\u001b[19G17300000\u001b[19G17400000\u001b[19G17500000\u001b[19G17600000\u001b[19G17700000\u001b[19G17800000\u001b[19G17900000\u001b[19G18000000\u001b[19G18100000\u001b[19G18200000\u001b[19G18300000\u001b[19G18400000\u001b[19G18500000\u001b[19G18600000\u001b[19G18700000\u001b[19G18800000\u001b[19G18900000\u001b[19G19000000\u001b[19G19100000\u001b[19G19200000\u001b[19G19300000\u001b[19G19400000\u001b[19G19500000\u001b[19G19600000\u001b[19G19700000\u001b[19G19800000\u001b[19G19900000\u001b[19G20000000\u001b[19G20100000\u001b[19G20200000\u001b[19G20300000\u001b[19G20400000\u001b[19G20500000\u001b[19G20600000\u001b[19G20700000\u001b[19G20800000\u001b[19G20900000\u001b[19G21000000\u001b[19G21100000\u001b[19G21200000\u001b[19G21300000\u001b[19G21400000\u001b[19G21500000\u001b[19G21600000\u001b[19G21700000\u001b[19G21800000\u001b[19G21900000\u001b[19G22000000\u001b[19G22100000\u001b[19G22200000\u001b[19G22300000\u001b[19G22400000\u001b[19G22500000\u001b[19G22600000\u001b[19G22700000\u001b[19G22800000\u001b[19G22900000\u001b[19G23000000\u001b[19G23100000\u001b[19G23200000\u001b[19G23300000\u001b[0GProcessed 23349304 tokens.\n",
            "Writing cooccurrences to disk.........2 files in total.\n",
            "Merging cooccurrence files: processed 0 lines.\u001b[39G100000 lines.\u001b[39G200000 lines.\u001b[39G300000 lines.\u001b[39G400000 lines.\u001b[39G500000 lines.\u001b[39G600000 lines.\u001b[39G700000 lines.\u001b[39G800000 lines.\u001b[39G900000 lines.\u001b[39G1000000 lines.\u001b[39G1100000 lines.\u001b[39G1200000 lines.\u001b[39G1300000 lines.\u001b[39G1400000 lines.\u001b[39G1500000 lines.\u001b[39G1600000 lines.\u001b[39G1700000 lines.\u001b[39G1800000 lines.\u001b[39G1900000 lines.\u001b[39G2000000 lines.\u001b[39G2100000 lines.\u001b[39G2200000 lines.\u001b[39G2300000 lines.\u001b[39G2400000 lines.\u001b[39G2500000 lines.\u001b[39G2600000 lines.\u001b[39G2700000 lines.\u001b[39G2800000 lines.\u001b[39G2900000 lines.\u001b[39G3000000 lines.\u001b[39G3100000 lines.\u001b[39G3200000 lines.\u001b[39G3300000 lines.\u001b[39G3400000 lines.\u001b[39G3500000 lines.\u001b[39G3600000 lines.\u001b[39G3700000 lines.\u001b[39G3800000 lines.\u001b[39G3900000 lines.\u001b[39G4000000 lines.\u001b[39G4100000 lines.\u001b[39G4200000 lines.\u001b[39G4300000 lines.\u001b[39G4400000 lines.\u001b[39G4500000 lines.\u001b[39G4600000 lines.\u001b[39G4700000 lines.\u001b[39G4800000 lines.\u001b[39G4900000 lines.\u001b[39G5000000 lines.\u001b[39G5100000 lines.\u001b[39G5200000 lines.\u001b[39G5300000 lines.\u001b[39G5400000 lines.\u001b[39G5500000 lines.\u001b[39G5600000 lines.\u001b[39G5700000 lines.\u001b[39G5800000 lines.\u001b[39G5900000 lines.\u001b[39G6000000 lines.\u001b[39G6100000 lines.\u001b[39G6200000 lines.\u001b[39G6300000 lines.\u001b[39G6400000 lines.\u001b[39G6500000 lines.\u001b[39G6600000 lines.\u001b[39G6700000 lines.\u001b[39G6800000 lines.\u001b[39G6900000 lines.\u001b[39G7000000 lines.\u001b[39G7100000 lines.\u001b[39G7200000 lines.\u001b[39G7300000 lines.\u001b[39G7400000 lines.\u001b[39G7500000 lines.\u001b[39G7600000 lines.\u001b[39G7700000 lines.\u001b[39G7800000 lines.\u001b[39G7900000 lines.\u001b[39G8000000 lines.\u001b[39G8100000 lines.\u001b[39G8200000 lines.\u001b[39G8300000 lines.\u001b[39G8400000 lines.\u001b[39G8500000 lines.\u001b[39G8600000 lines.\u001b[39G8700000 lines.\u001b[39G8800000 lines.\u001b[39G8900000 lines.\u001b[39G9000000 lines.\u001b[39G9100000 lines.\u001b[39G9200000 lines.\u001b[39G9300000 lines.\u001b[39G9400000 lines.\u001b[39G9500000 lines.\u001b[39G9600000 lines.\u001b[39G9700000 lines.\u001b[39G9800000 lines.\u001b[39G9900000 lines.\u001b[39G10000000 lines.\u001b[39G10100000 lines.\u001b[39G10200000 lines.\u001b[39G10300000 lines.\u001b[39G10400000 lines.\u001b[39G10500000 lines.\u001b[39G10600000 lines.\u001b[39G10700000 lines.\u001b[39G10800000 lines.\u001b[39G10900000 lines.\u001b[39G11000000 lines.\u001b[39G11100000 lines.\u001b[39G11200000 lines.\u001b[39G11300000 lines.\u001b[39G11400000 lines.\u001b[39G11500000 lines.\u001b[39G11600000 lines.\u001b[39G11700000 lines.\u001b[39G11800000 lines.\u001b[39G11900000 lines.\u001b[39G12000000 lines.\u001b[39G12100000 lines.\u001b[39G12200000 lines.\u001b[39G12300000 lines.\u001b[39G12400000 lines.\u001b[39G12500000 lines.\u001b[39G12600000 lines.\u001b[39G12700000 lines.\u001b[39G12800000 lines.\u001b[39G12900000 lines.\u001b[39G13000000 lines.\u001b[39G13100000 lines.\u001b[39G13200000 lines.\u001b[39G13300000 lines.\u001b[39G13400000 lines.\u001b[39G13500000 lines.\u001b[39G13600000 lines.\u001b[39G13700000 lines.\u001b[39G13800000 lines.\u001b[39G13900000 lines.\u001b[39G14000000 lines.\u001b[39G14100000 lines.\u001b[39G14200000 lines.\u001b[39G14300000 lines.\u001b[39G14400000 lines.\u001b[39G14500000 lines.\u001b[39G14600000 lines.\u001b[39G14700000 lines.\u001b[39G14800000 lines.\u001b[39G14900000 lines.\u001b[39G15000000 lines.\u001b[39G15100000 lines.\u001b[39G15200000 lines.\u001b[39G15300000 lines.\u001b[39G15400000 lines.\u001b[39G15500000 lines.\u001b[39G15600000 lines.\u001b[39G15700000 lines.\u001b[39G15800000 lines.\u001b[39G15900000 lines.\u001b[39G16000000 lines.\u001b[39G16100000 lines.\u001b[39G16200000 lines.\u001b[39G16300000 lines.\u001b[39G16400000 lines.\u001b[39G16500000 lines.\u001b[39G16600000 lines.\u001b[39G16700000 lines.\u001b[39G16800000 lines.\u001b[39G16900000 lines.\u001b[39G17000000 lines.\u001b[39G17100000 lines.\u001b[39G17200000 lines.\u001b[39G17300000 lines.\u001b[39G17400000 lines.\u001b[39G17500000 lines.\u001b[39G17600000 lines.\u001b[39G17700000 lines.\u001b[39G17800000 lines.\u001b[39G17900000 lines.\u001b[39G18000000 lines.\u001b[39G18100000 lines.\u001b[39G18200000 lines.\u001b[39G18300000 lines.\u001b[39G18400000 lines.\u001b[39G18500000 lines.\u001b[39G18600000 lines.\u001b[39G18700000 lines.\u001b[39G18800000 lines.\u001b[39G18900000 lines.\u001b[39G19000000 lines.\u001b[39G19100000 lines.\u001b[39G19200000 lines.\u001b[39G19300000 lines.\u001b[39G19400000 lines.\u001b[39G19500000 lines.\u001b[39G19600000 lines.\u001b[39G19700000 lines.\u001b[39G19800000 lines.\u001b[39G19900000 lines.\u001b[39G20000000 lines.\u001b[39G20100000 lines.\u001b[39G20200000 lines.\u001b[39G20300000 lines.\u001b[39G20400000 lines.\u001b[39G20500000 lines.\u001b[39G20600000 lines.\u001b[39G20700000 lines.\u001b[39G20800000 lines.\u001b[39G20900000 lines.\u001b[39G21000000 lines.\u001b[39G21100000 lines.\u001b[39G21200000 lines.\u001b[39G21300000 lines.\u001b[39G21400000 lines.\u001b[39G21500000 lines.\u001b[39G21600000 lines.\u001b[39G21700000 lines.\u001b[39G21800000 lines.\u001b[39G21900000 lines.\u001b[39G22000000 lines.\u001b[39G22100000 lines.\u001b[39G22200000 lines.\u001b[39G22300000 lines.\u001b[39G22400000 lines.\u001b[39G22500000 lines.\u001b[39G22600000 lines.\u001b[39G22700000 lines.\u001b[39G22800000 lines.\u001b[39G22900000 lines.\u001b[39G23000000 lines.\u001b[39G23100000 lines.\u001b[39G23200000 lines.\u001b[39G23300000 lines.\u001b[39G23400000 lines.\u001b[39G23500000 lines.\u001b[39G23600000 lines.\u001b[39G23700000 lines.\u001b[39G23800000 lines.\u001b[39G23900000 lines.\u001b[39G24000000 lines.\u001b[39G24100000 lines.\u001b[39G24200000 lines.\u001b[39G24300000 lines.\u001b[39G24400000 lines.\u001b[39G24500000 lines.\u001b[39G24600000 lines.\u001b[39G24700000 lines.\u001b[39G24800000 lines.\u001b[39G24900000 lines.\u001b[39G25000000 lines.\u001b[39G25100000 lines.\u001b[39G25200000 lines.\u001b[39G25300000 lines.\u001b[39G25400000 lines.\u001b[39G25500000 lines.\u001b[39G25600000 lines.\u001b[39G25700000 lines.\u001b[39G25800000 lines.\u001b[39G25900000 lines.\u001b[39G26000000 lines.\u001b[39G26100000 lines.\u001b[39G26200000 lines.\u001b[39G26300000 lines.\u001b[39G26400000 lines.\u001b[39G26500000 lines.\u001b[39G26600000 lines.\u001b[39G26700000 lines.\u001b[39G26800000 lines.\u001b[39G26900000 lines.\u001b[39G27000000 lines.\u001b[39G27100000 lines.\u001b[39G27200000 lines.\u001b[39G27300000 lines.\u001b[39G27400000 lines.\u001b[39G27500000 lines.\u001b[39G27600000 lines.\u001b[39G27700000 lines.\u001b[39G27800000 lines.\u001b[39G27900000 lines.\u001b[39G28000000 lines.\u001b[39G28100000 lines.\u001b[39G28200000 lines.\u001b[39G28300000 lines.\u001b[39G28400000 lines.\u001b[39G28500000 lines.\u001b[39G28600000 lines.\u001b[39G28700000 lines.\u001b[39G28800000 lines.\u001b[39G28900000 lines.\u001b[39G29000000 lines.\u001b[39G29100000 lines.\u001b[39G29200000 lines.\u001b[39G29300000 lines.\u001b[39G29400000 lines.\u001b[39G29500000 lines.\u001b[39G29600000 lines.\u001b[39G29700000 lines.\u001b[39G29800000 lines.\u001b[39G29900000 lines.\u001b[39G30000000 lines.\u001b[39G30100000 lines.\u001b[39G30200000 lines.\u001b[39G30300000 lines.\u001b[39G30400000 lines.\u001b[39G30500000 lines.\u001b[39G30600000 lines.\u001b[39G30700000 lines.\u001b[39G30800000 lines.\u001b[39G30900000 lines.\u001b[39G31000000 lines.\u001b[39G31100000 lines.\u001b[39G31200000 lines.\u001b[39G31300000 lines.\u001b[39G31400000 lines.\u001b[39G31500000 lines.\u001b[39G31600000 lines.\u001b[39G31700000 lines.\u001b[39G31800000 lines.\u001b[39G31900000 lines.\u001b[39G32000000 lines.\u001b[39G32100000 lines.\u001b[39G32200000 lines.\u001b[39G32300000 lines.\u001b[39G32400000 lines.\u001b[39G32500000 lines.\u001b[39G32600000 lines.\u001b[39G32700000 lines.\u001b[39G32800000 lines.\u001b[39G32900000 lines.\u001b[39G33000000 lines.\u001b[39G33100000 lines.\u001b[39G33200000 lines.\u001b[39G33300000 lines.\u001b[39G33400000 lines.\u001b[39G33500000 lines.\u001b[39G33600000 lines.\u001b[39G33700000 lines.\u001b[39G33800000 lines.\u001b[39G33900000 lines.\u001b[39G34000000 lines.\u001b[39G34100000 lines.\u001b[39G34200000 lines.\u001b[39G34300000 lines.\u001b[39G34400000 lines.\u001b[39G34500000 lines.\u001b[39G34600000 lines.\u001b[39G34700000 lines.\u001b[39G34800000 lines.\u001b[39G34900000 lines.\u001b[39G35000000 lines.\u001b[39G35100000 lines.\u001b[39G35200000 lines.\u001b[39G35300000 lines.\u001b[39G35400000 lines.\u001b[39G35500000 lines.\u001b[39G35600000 lines.\u001b[39G35700000 lines.\u001b[39G35800000 lines.\u001b[39G35900000 lines.\u001b[39G36000000 lines.\u001b[39G36100000 lines.\u001b[39G36200000 lines.\u001b[39G36300000 lines.\u001b[39G36400000 lines.\u001b[39G36500000 lines.\u001b[39G36600000 lines.\u001b[39G36700000 lines.\u001b[39G36800000 lines.\u001b[39G36900000 lines.\u001b[39G37000000 lines.\u001b[39G37100000 lines.\u001b[39G37200000 lines.\u001b[39G37300000 lines.\u001b[39G37400000 lines.\u001b[39G37500000 lines.\u001b[39G37600000 lines.\u001b[39G37700000 lines.\u001b[39G37800000 lines.\u001b[39G37900000 lines.\u001b[39G38000000 lines.\u001b[39G38100000 lines.\u001b[39G38200000 lines.\u001b[39G38300000 lines.\u001b[39G38400000 lines.\u001b[39G38500000 lines.\u001b[39G38600000 lines.\u001b[39G38700000 lines.\u001b[39G38800000 lines.\u001b[39G38900000 lines.\u001b[39G39000000 lines.\u001b[39G39100000 lines.\u001b[39G39200000 lines.\u001b[39G39300000 lines.\u001b[39G39400000 lines.\u001b[39G39500000 lines.\u001b[39G39600000 lines.\u001b[39G39700000 lines.\u001b[39G39800000 lines.\u001b[39G39900000 lines.\u001b[39G40000000 lines.\u001b[39G40100000 lines.\u001b[39G40200000 lines.\u001b[39G40300000 lines.\u001b[39G40400000 lines.\u001b[39G40500000 lines.\u001b[39G40600000 lines.\u001b[39G40700000 lines.\u001b[39G40800000 lines.\u001b[39G40900000 lines.\u001b[39G41000000 lines.\u001b[39G41100000 lines.\u001b[39G41200000 lines.\u001b[39G41300000 lines.\u001b[39G41400000 lines.\u001b[39G41500000 lines.\u001b[39G41600000 lines.\u001b[39G41700000 lines.\u001b[39G41800000 lines.\u001b[39G41900000 lines.\u001b[39G42000000 lines.\u001b[39G42100000 lines.\u001b[39G42200000 lines.\u001b[39G42300000 lines.\u001b[39G42400000 lines.\u001b[39G42500000 lines.\u001b[39G42600000 lines.\u001b[39G42700000 lines.\u001b[39G42800000 lines.\u001b[39G42900000 lines.\u001b[39G43000000 lines.\u001b[39G43100000 lines.\u001b[39G43200000 lines.\u001b[39G43300000 lines.\u001b[39G43400000 lines.\u001b[39G43500000 lines.\u001b[39G43600000 lines.\u001b[39G43700000 lines.\u001b[39G43800000 lines.\u001b[39G43900000 lines.\u001b[39G44000000 lines.\u001b[39G44100000 lines.\u001b[39G44200000 lines.\u001b[39G44300000 lines.\u001b[39G44400000 lines.\u001b[39G44500000 lines.\u001b[39G44600000 lines.\u001b[39G44700000 lines.\u001b[39G44800000 lines.\u001b[39G44900000 lines.\u001b[39G45000000 lines.\u001b[39G45100000 lines.\u001b[39G45200000 lines.\u001b[39G45300000 lines.\u001b[39G45400000 lines.\u001b[39G45500000 lines.\u001b[39G45600000 lines.\u001b[39G45700000 lines.\u001b[39G45800000 lines.\u001b[39G45900000 lines.\u001b[39G46000000 lines.\u001b[39G46100000 lines.\u001b[39G46200000 lines.\u001b[39G46300000 lines.\u001b[39G46400000 lines.\u001b[39G46500000 lines.\u001b[39G46600000 lines.\u001b[39G46700000 lines.\u001b[39G46800000 lines.\u001b[39G46900000 lines.\u001b[39G47000000 lines.\u001b[39G47100000 lines.\u001b[39G47200000 lines.\u001b[39G47300000 lines.\u001b[39G47400000 lines.\u001b[39G47500000 lines.\u001b[39G47600000 lines.\u001b[39G47700000 lines.\u001b[39G47800000 lines.\u001b[39G47900000 lines.\u001b[39G48000000 lines.\u001b[39G48100000 lines.\u001b[39G48200000 lines.\u001b[39G48300000 lines.\u001b[39G48400000 lines.\u001b[39G48500000 lines.\u001b[39G48600000 lines.\u001b[39G48700000 lines.\u001b[39G48800000 lines.\u001b[39G48900000 lines.\u001b[39G49000000 lines.\u001b[39G49100000 lines.\u001b[39G49200000 lines.\u001b[39G49300000 lines.\u001b[39G49400000 lines.\u001b[39G49500000 lines.\u001b[39G49600000 lines.\u001b[39G49700000 lines.\u001b[39G49800000 lines.\u001b[39G49900000 lines.\u001b[39G50000000 lines.\u001b[39G50100000 lines.\u001b[39G50200000 lines.\u001b[39G50300000 lines.\u001b[39G50400000 lines.\u001b[39G50500000 lines.\u001b[39G50600000 lines.\u001b[39G50700000 lines.\u001b[39G50800000 lines.\u001b[39G50900000 lines.\u001b[39G51000000 lines.\u001b[39G51100000 lines.\u001b[39G51200000 lines.\u001b[39G51300000 lines.\u001b[39G51400000 lines.\u001b[39G51500000 lines.\u001b[39G51600000 lines.\u001b[39G51700000 lines.\u001b[39G51800000 lines.\u001b[39G51900000 lines.\u001b[39G52000000 lines.\u001b[39G52100000 lines.\u001b[39G52200000 lines.\u001b[39G52300000 lines.\u001b[39G52400000 lines.\u001b[39G52500000 lines.\u001b[39G52600000 lines.\u001b[39G52700000 lines.\u001b[39G52800000 lines.\u001b[39G52900000 lines.\u001b[39G53000000 lines.\u001b[39G53100000 lines.\u001b[39G53200000 lines.\u001b[39G53300000 lines.\u001b[39G53400000 lines.\u001b[39G53500000 lines.\u001b[39G53600000 lines.\u001b[39G53700000 lines.\u001b[39G53800000 lines.\u001b[39G53900000 lines.\u001b[39G54000000 lines.\u001b[39G54100000 lines.\u001b[39G54200000 lines.\u001b[39G54300000 lines.\u001b[39G54400000 lines.\u001b[39G54500000 lines.\u001b[39G54600000 lines.\u001b[39G54700000 lines.\u001b[39G54800000 lines.\u001b[39G54900000 lines.\u001b[39G55000000 lines.\u001b[39G55100000 lines.\u001b[39G55200000 lines.\u001b[39G55300000 lines.\u001b[39G55400000 lines.\u001b[39G55500000 lines.\u001b[39G55600000 lines.\u001b[39G55700000 lines.\u001b[39G55800000 lines.\u001b[39G55900000 lines.\u001b[39G56000000 lines.\u001b[39G56100000 lines.\u001b[39G56200000 lines.\u001b[39G56300000 lines.\u001b[39G56400000 lines.\u001b[39G56500000 lines.\u001b[39G56600000 lines.\u001b[39G56700000 lines.\u001b[39G56800000 lines.\u001b[39G56900000 lines.\u001b[39G57000000 lines.\u001b[39G57100000 lines.\u001b[39G57200000 lines.\u001b[39G57300000 lines.\u001b[39G57400000 lines.\u001b[39G57500000 lines.\u001b[39G57600000 lines.\u001b[39G57700000 lines.\u001b[39G57800000 lines.\u001b[39G57900000 lines.\u001b[39G58000000 lines.\u001b[39G58100000 lines.\u001b[39G58200000 lines.\u001b[39G58300000 lines.\u001b[39G58400000 lines.\u001b[39G58500000 lines.\u001b[39G58600000 lines.\u001b[39G58700000 lines.\u001b[39G58800000 lines.\u001b[39G58900000 lines.\u001b[39G59000000 lines.\u001b[39G59100000 lines.\u001b[39G59200000 lines.\u001b[39G59300000 lines.\u001b[39G59400000 lines.\u001b[39G59500000 lines.\u001b[39G59600000 lines.\u001b[39G59700000 lines.\u001b[39G59800000 lines.\u001b[39G59900000 lines.\u001b[39G60000000 lines.\u001b[39G60100000 lines.\u001b[39G60200000 lines.\u001b[39G60300000 lines.\u001b[39G60400000 lines.\u001b[39G60500000 lines.\u001b[39G60600000 lines.\u001b[39G60700000 lines.\u001b[39G60800000 lines.\u001b[39G60900000 lines.\u001b[0GMerging cooccurrence files: processed 60982557 lines.\n",
            "\n",
            "$ build/shuffle -memory 4.0 -verbose 2 < cooccurrence.bin > cooccurrence.shuf.bin\n",
            "tcmalloc: large alloc 4080222208 bytes == 0x55827aac4000 @  0x7f29354131e7 0x558278c8baa3 0x7f2935010b97 0x558278c8ad8a\n",
            "SHUFFLING COOCCURRENCES\n",
            "array size: 255013683\n",
            "Shuffling by chunks: processed 0 lines.\u001b[22Gprocessed 60982557 lines.\n",
            "Wrote 1 temporary file(s).\n",
            "tcmalloc: large alloc 4080222208 bytes == 0x55827aac4000 @  0x7f29354131e7 0x558278c8b1ab 0x558278c8c13e 0x7f2935010b97 0x558278c8ad8a\n",
            "Merging temp files: processed 0 lines.\u001b[31G60982557 lines.\u001b[0GMerging temp files: processed 60982557 lines.\n",
            "\n",
            "$ build/glove -save-file vectors -threads 8 -input-file cooccurrence.shuf.bin -x-max 10 -iter 15 -vector-size 300 -binary 2 -vocab-file vocab.txt -verbose 2\n",
            "TRAINING MODEL\n",
            "Read 60982557 lines.\n",
            "Initializing parameters...done.\n",
            "vector size: 300\n",
            "vocab size: 66308\n",
            "x_max: 10.000000\n",
            "alpha: 0.750000\n",
            "01/01/20 - 10:01.22AM, iter: 001, cost: 0.079839\n",
            "01/01/20 - 10:03.21AM, iter: 002, cost: 0.052428\n",
            "01/01/20 - 10:05.19AM, iter: 003, cost: 0.044035\n",
            "01/01/20 - 10:07.18AM, iter: 004, cost: 0.038278\n",
            "01/01/20 - 10:09.17AM, iter: 005, cost: 0.033896\n",
            "01/01/20 - 10:11.16AM, iter: 006, cost: 0.030736\n",
            "01/01/20 - 10:13.15AM, iter: 007, cost: 0.028505\n",
            "01/01/20 - 10:15.15AM, iter: 008, cost: 0.026885\n",
            "01/01/20 - 10:17.15AM, iter: 009, cost: 0.025591\n",
            "01/01/20 - 10:19.16AM, iter: 010, cost: 0.024599\n",
            "01/01/20 - 10:21.16AM, iter: 011, cost: 0.023847\n",
            "01/01/20 - 10:23.16AM, iter: 012, cost: 0.023200\n",
            "01/01/20 - 10:25.16AM, iter: 013, cost: 0.022658\n",
            "01/01/20 - 10:27.16AM, iter: 014, cost: 0.022184\n",
            "01/01/20 - 10:29.15AM, iter: 015, cost: 0.021788\n"
          ],
          "name": "stdout"
        }
      ]
    },
    {
      "cell_type": "code",
      "metadata": {
        "id": "0gt8-3vxhJWy",
        "colab_type": "code",
        "outputId": "65a66e57-f184-46c5-e32f-3e17c1383621",
        "colab": {
          "base_uri": "https://localhost:8080/",
          "height": 209
        }
      },
      "source": [
        "!pip install pymagnitude"
      ],
      "execution_count": 0,
      "outputs": [
        {
          "output_type": "stream",
          "text": [
            "Collecting pymagnitude\n",
            "\u001b[?25l  Downloading https://files.pythonhosted.org/packages/0a/a3/b9a34d22ed8c0ed59b00ff55092129641cdfa09d82f9abdc5088051a5b0c/pymagnitude-0.1.120.tar.gz (5.4MB)\n",
            "\u001b[K     |████████████████████████████████| 5.4MB 2.6MB/s \n",
            "\u001b[?25hBuilding wheels for collected packages: pymagnitude\n",
            "  Building wheel for pymagnitude (setup.py) ... \u001b[?25l\u001b[?25hdone\n",
            "  Created wheel for pymagnitude: filename=pymagnitude-0.1.120-cp36-cp36m-linux_x86_64.whl size=135918205 sha256=67d6a3468352335876ff505bd860c3237575b5b51f34003129187933a6a1b51c\n",
            "  Stored in directory: /root/.cache/pip/wheels/a2/c7/98/cb48b9db35f8d1a7827b764dc36c5515179dc116448a47c8a1\n",
            "Successfully built pymagnitude\n",
            "Installing collected packages: pymagnitude\n",
            "Successfully installed pymagnitude-0.1.120\n"
          ],
          "name": "stdout"
        }
      ]
    },
    {
      "cell_type": "code",
      "metadata": {
        "id": "yg_IqJRIg3s3",
        "colab_type": "code",
        "outputId": "d35f9a13-5815-4fc7-a3ad-a76da13bc2a8",
        "colab": {
          "base_uri": "https://localhost:8080/",
          "height": 1000
        }
      },
      "source": [
        "!python -m pymagnitude.converter -i glove/vectors.txt -o recruit_glove.magnitude"
      ],
      "execution_count": 0,
      "outputs": [
        {
          "output_type": "stream",
          "text": [
            "Detected GloVe format! Converting to word2vec format first...(this may take some time)\n",
            "/usr/local/lib/python3.6/dist-packages/smart_open/smart_open_lib.py:402: UserWarning: This function is deprecated, use smart_open.open instead. See the migration notes for details: https://github.com/RaRe-Technologies/smart_open/blob/master/README.rst#migrating-to-the-new-open-function\n",
            "  'See the migration notes for details: %s' % _MIGRATION_NOTES_URL\n",
            "Loading vectors... (this may take some time)\n",
            "Found 66309 key(s)\n",
            "Each vector has 300 dimension(s)\n",
            "Creating magnitude format...\n",
            "Writing vectors... (this may take some time)\n",
            "0% completed\n",
            "1% completed\n",
            "2% completed\n",
            "3% completed\n",
            "4% completed\n",
            "5% completed\n",
            "6% completed\n",
            "7% completed\n",
            "8% completed\n",
            "9% completed\n",
            "10% completed\n",
            "11% completed\n",
            "12% completed\n",
            "13% completed\n",
            "14% completed\n",
            "15% completed\n",
            "16% completed\n",
            "17% completed\n",
            "18% completed\n",
            "19% completed\n",
            "20% completed\n",
            "21% completed\n",
            "22% completed\n",
            "23% completed\n",
            "24% completed\n",
            "25% completed\n",
            "26% completed\n",
            "27% completed\n",
            "28% completed\n",
            "29% completed\n",
            "30% completed\n",
            "31% completed\n",
            "32% completed\n",
            "33% completed\n",
            "34% completed\n",
            "35% completed\n",
            "36% completed\n",
            "37% completed\n",
            "38% completed\n",
            "39% completed\n",
            "40% completed\n",
            "41% completed\n",
            "42% completed\n",
            "43% completed\n",
            "44% completed\n",
            "45% completed\n",
            "46% completed\n",
            "47% completed\n",
            "48% completed\n",
            "49% completed\n",
            "50% completed\n",
            "51% completed\n",
            "52% completed\n",
            "53% completed\n",
            "54% completed\n",
            "55% completed\n",
            "56% completed\n",
            "57% completed\n",
            "58% completed\n",
            "59% completed\n",
            "60% completed\n",
            "61% completed\n",
            "62% completed\n",
            "63% completed\n",
            "64% completed\n",
            "65% completed\n",
            "66% completed\n",
            "67% completed\n",
            "68% completed\n",
            "69% completed\n",
            "70% completed\n",
            "71% completed\n",
            "72% completed\n",
            "73% completed\n",
            "74% completed\n",
            "75% completed\n",
            "76% completed\n",
            "77% completed\n",
            "78% completed\n",
            "79% completed\n",
            "80% completed\n",
            "81% completed\n",
            "82% completed\n",
            "83% completed\n",
            "84% completed\n",
            "85% completed\n",
            "86% completed\n",
            "87% completed\n",
            "88% completed\n",
            "89% completed\n",
            "90% completed\n",
            "91% completed\n",
            "92% completed\n",
            "93% completed\n",
            "94% completed\n",
            "95% completed\n",
            "96% completed\n",
            "97% completed\n",
            "98% completed\n",
            "99% completed\n",
            "Committing written vectors... (this may take some time)\n",
            "Entropy of dimension 59 is 4.840719\n",
            "Entropy of dimension 135 is 4.835921\n",
            "Entropy of dimension 73 is 4.706462\n",
            "Entropy of dimension 128 is 4.685186\n",
            "Entropy of dimension 90 is 4.654612\n",
            "Entropy of dimension 211 is 4.631976\n",
            "Entropy of dimension 165 is 4.618138\n",
            "Entropy of dimension 159 is 4.609218\n",
            "Entropy of dimension 56 is 4.604279\n",
            "Entropy of dimension 203 is 4.604237\n",
            "Entropy of dimension 11 is 4.600141\n",
            "Entropy of dimension 181 is 4.597486\n",
            "Entropy of dimension 132 is 4.596461\n",
            "Entropy of dimension 268 is 4.595528\n",
            "Entropy of dimension 169 is 4.561331\n",
            "Entropy of dimension 98 is 4.555296\n",
            "Entropy of dimension 223 is 4.551674\n",
            "Entropy of dimension 81 is 4.550763\n",
            "Entropy of dimension 133 is 4.540284\n",
            "Entropy of dimension 228 is 4.538710\n",
            "Entropy of dimension 151 is 4.533147\n",
            "Entropy of dimension 243 is 4.532897\n",
            "Entropy of dimension 288 is 4.528836\n",
            "Entropy of dimension 74 is 4.522624\n",
            "Entropy of dimension 13 is 4.520173\n",
            "Entropy of dimension 50 is 4.518638\n",
            "Entropy of dimension 52 is 4.516316\n",
            "Entropy of dimension 157 is 4.508032\n",
            "Entropy of dimension 149 is 4.506593\n",
            "Entropy of dimension 10 is 4.502337\n",
            "Entropy of dimension 235 is 4.498744\n",
            "Entropy of dimension 278 is 4.495375\n",
            "Entropy of dimension 224 is 4.494201\n",
            "Entropy of dimension 170 is 4.493091\n",
            "Entropy of dimension 218 is 4.490355\n",
            "Entropy of dimension 88 is 4.489628\n",
            "Entropy of dimension 202 is 4.489528\n",
            "Entropy of dimension 217 is 4.485657\n",
            "Entropy of dimension 205 is 4.478273\n",
            "Entropy of dimension 3 is 4.475861\n",
            "Entropy of dimension 245 is 4.475499\n",
            "Entropy of dimension 293 is 4.474316\n",
            "Entropy of dimension 44 is 4.472991\n",
            "Entropy of dimension 122 is 4.471323\n",
            "Entropy of dimension 93 is 4.469870\n",
            "Entropy of dimension 158 is 4.468850\n",
            "Entropy of dimension 283 is 4.467863\n",
            "Entropy of dimension 276 is 4.467031\n",
            "Entropy of dimension 291 is 4.465999\n",
            "Entropy of dimension 229 is 4.464047\n",
            "Entropy of dimension 49 is 4.459525\n",
            "Entropy of dimension 161 is 4.458473\n",
            "Entropy of dimension 20 is 4.455718\n",
            "Entropy of dimension 57 is 4.455698\n",
            "Entropy of dimension 274 is 4.453964\n",
            "Entropy of dimension 180 is 4.453951\n",
            "Entropy of dimension 220 is 4.453680\n",
            "Entropy of dimension 46 is 4.447669\n",
            "Entropy of dimension 110 is 4.447124\n",
            "Entropy of dimension 27 is 4.446294\n",
            "Entropy of dimension 2 is 4.442502\n",
            "Entropy of dimension 222 is 4.442390\n",
            "Entropy of dimension 206 is 4.442029\n",
            "Entropy of dimension 125 is 4.441953\n",
            "Entropy of dimension 136 is 4.440666\n",
            "Entropy of dimension 15 is 4.440054\n",
            "Entropy of dimension 120 is 4.439365\n",
            "Entropy of dimension 290 is 4.436275\n",
            "Entropy of dimension 266 is 4.436026\n",
            "Entropy of dimension 85 is 4.435905\n",
            "Entropy of dimension 114 is 4.435503\n",
            "Entropy of dimension 281 is 4.434165\n",
            "Entropy of dimension 70 is 4.432885\n",
            "Entropy of dimension 112 is 4.432395\n",
            "Entropy of dimension 80 is 4.432130\n",
            "Entropy of dimension 156 is 4.430531\n",
            "Entropy of dimension 35 is 4.430068\n",
            "Entropy of dimension 227 is 4.428704\n",
            "Entropy of dimension 0 is 4.428543\n",
            "Entropy of dimension 22 is 4.428342\n",
            "Entropy of dimension 154 is 4.427863\n",
            "Entropy of dimension 8 is 4.427163\n",
            "Entropy of dimension 21 is 4.424350\n",
            "Entropy of dimension 62 is 4.424320\n",
            "Entropy of dimension 92 is 4.421118\n",
            "Entropy of dimension 295 is 4.421011\n",
            "Entropy of dimension 137 is 4.420598\n",
            "Entropy of dimension 226 is 4.417400\n",
            "Entropy of dimension 105 is 4.417012\n",
            "Entropy of dimension 39 is 4.415881\n",
            "Entropy of dimension 145 is 4.415384\n",
            "Entropy of dimension 231 is 4.415038\n",
            "Entropy of dimension 53 is 4.414998\n",
            "Entropy of dimension 238 is 4.414199\n",
            "Entropy of dimension 168 is 4.413727\n",
            "Entropy of dimension 1 is 4.413695\n",
            "Entropy of dimension 138 is 4.413321\n",
            "Entropy of dimension 119 is 4.411761\n",
            "Entropy of dimension 263 is 4.410965\n",
            "Entropy of dimension 284 is 4.410684\n",
            "Entropy of dimension 199 is 4.409961\n",
            "Entropy of dimension 37 is 4.407671\n",
            "Entropy of dimension 72 is 4.407161\n",
            "Entropy of dimension 182 is 4.407081\n",
            "Entropy of dimension 184 is 4.406178\n",
            "Entropy of dimension 251 is 4.404065\n",
            "Entropy of dimension 248 is 4.403120\n",
            "Entropy of dimension 188 is 4.402179\n",
            "Entropy of dimension 296 is 4.401906\n",
            "Entropy of dimension 71 is 4.401483\n",
            "Entropy of dimension 215 is 4.400116\n",
            "Entropy of dimension 75 is 4.399508\n",
            "Entropy of dimension 100 is 4.399499\n",
            "Entropy of dimension 177 is 4.398601\n",
            "Entropy of dimension 83 is 4.398214\n",
            "Entropy of dimension 103 is 4.397990\n",
            "Entropy of dimension 140 is 4.396619\n",
            "Entropy of dimension 204 is 4.396592\n",
            "Entropy of dimension 216 is 4.396343\n",
            "Entropy of dimension 60 is 4.395989\n",
            "Entropy of dimension 16 is 4.395620\n",
            "Entropy of dimension 91 is 4.394818\n",
            "Entropy of dimension 192 is 4.394799\n",
            "Entropy of dimension 96 is 4.394307\n",
            "Entropy of dimension 280 is 4.393631\n",
            "Entropy of dimension 141 is 4.392962\n",
            "Entropy of dimension 51 is 4.392755\n",
            "Entropy of dimension 272 is 4.392082\n",
            "Entropy of dimension 282 is 4.392039\n",
            "Entropy of dimension 58 is 4.391395\n",
            "Entropy of dimension 63 is 4.391304\n",
            "Entropy of dimension 89 is 4.390684\n",
            "Entropy of dimension 191 is 4.389969\n",
            "Entropy of dimension 258 is 4.389811\n",
            "Entropy of dimension 201 is 4.389632\n",
            "Entropy of dimension 225 is 4.389370\n",
            "Entropy of dimension 256 is 4.389076\n",
            "Entropy of dimension 131 is 4.386598\n",
            "Entropy of dimension 233 is 4.385810\n",
            "Entropy of dimension 6 is 4.385249\n",
            "Entropy of dimension 54 is 4.383623\n",
            "Entropy of dimension 79 is 4.383070\n",
            "Entropy of dimension 29 is 4.382254\n",
            "Entropy of dimension 47 is 4.382182\n",
            "Entropy of dimension 142 is 4.381657\n",
            "Entropy of dimension 97 is 4.381478\n",
            "Entropy of dimension 66 is 4.380526\n",
            "Entropy of dimension 273 is 4.380078\n",
            "Entropy of dimension 95 is 4.379327\n",
            "Entropy of dimension 101 is 4.378503\n",
            "Entropy of dimension 123 is 4.377122\n",
            "Entropy of dimension 4 is 4.376798\n",
            "Entropy of dimension 239 is 4.375971\n",
            "Entropy of dimension 254 is 4.374987\n",
            "Entropy of dimension 237 is 4.374456\n",
            "Entropy of dimension 26 is 4.373221\n",
            "Entropy of dimension 287 is 4.373097\n",
            "Entropy of dimension 259 is 4.372605\n",
            "Entropy of dimension 221 is 4.371460\n",
            "Entropy of dimension 208 is 4.370340\n",
            "Entropy of dimension 150 is 4.370117\n",
            "Entropy of dimension 144 is 4.369026\n",
            "Entropy of dimension 19 is 4.369007\n",
            "Entropy of dimension 121 is 4.368685\n",
            "Entropy of dimension 174 is 4.368548\n",
            "Entropy of dimension 69 is 4.367189\n",
            "Entropy of dimension 241 is 4.366998\n",
            "Entropy of dimension 198 is 4.366600\n",
            "Entropy of dimension 183 is 4.365180\n",
            "Entropy of dimension 197 is 4.362192\n",
            "Entropy of dimension 12 is 4.361958\n",
            "Entropy of dimension 94 is 4.361363\n",
            "Entropy of dimension 285 is 4.360775\n",
            "Entropy of dimension 25 is 4.359356\n",
            "Entropy of dimension 269 is 4.358672\n",
            "Entropy of dimension 267 is 4.358287\n",
            "Entropy of dimension 264 is 4.357939\n",
            "Entropy of dimension 153 is 4.356859\n",
            "Entropy of dimension 244 is 4.356631\n",
            "Entropy of dimension 286 is 4.355998\n",
            "Entropy of dimension 209 is 4.355964\n",
            "Entropy of dimension 250 is 4.354349\n",
            "Entropy of dimension 232 is 4.354227\n",
            "Entropy of dimension 115 is 4.351395\n",
            "Entropy of dimension 113 is 4.351143\n",
            "Entropy of dimension 64 is 4.350289\n",
            "Entropy of dimension 176 is 4.349521\n",
            "Entropy of dimension 213 is 4.349129\n",
            "Entropy of dimension 152 is 4.348557\n",
            "Entropy of dimension 7 is 4.348247\n",
            "Entropy of dimension 33 is 4.347941\n",
            "Entropy of dimension 32 is 4.347707\n",
            "Entropy of dimension 40 is 4.347706\n",
            "Entropy of dimension 260 is 4.347501\n",
            "Entropy of dimension 139 is 4.346438\n",
            "Entropy of dimension 179 is 4.345304\n",
            "Entropy of dimension 126 is 4.345048\n",
            "Entropy of dimension 271 is 4.342589\n",
            "Entropy of dimension 242 is 4.342469\n",
            "Entropy of dimension 292 is 4.342234\n",
            "Entropy of dimension 108 is 4.340444\n",
            "Entropy of dimension 289 is 4.340245\n",
            "Entropy of dimension 196 is 4.340020\n",
            "Entropy of dimension 104 is 4.339854\n",
            "Entropy of dimension 41 is 4.338619\n",
            "Entropy of dimension 193 is 4.338109\n",
            "Entropy of dimension 111 is 4.337214\n",
            "Entropy of dimension 5 is 4.336879\n",
            "Entropy of dimension 186 is 4.336187\n",
            "Entropy of dimension 18 is 4.334911\n",
            "Entropy of dimension 187 is 4.334883\n",
            "Entropy of dimension 82 is 4.334843\n",
            "Entropy of dimension 67 is 4.334843\n",
            "Entropy of dimension 86 is 4.334268\n",
            "Entropy of dimension 189 is 4.334130\n",
            "Entropy of dimension 84 is 4.333001\n",
            "Entropy of dimension 262 is 4.332895\n",
            "Entropy of dimension 160 is 4.330797\n",
            "Entropy of dimension 255 is 4.330531\n",
            "Entropy of dimension 162 is 4.329448\n",
            "Entropy of dimension 164 is 4.327516\n",
            "Entropy of dimension 200 is 4.326609\n",
            "Entropy of dimension 195 is 4.326231\n",
            "Entropy of dimension 116 is 4.325509\n",
            "Entropy of dimension 294 is 4.324705\n",
            "Entropy of dimension 214 is 4.323564\n",
            "Entropy of dimension 118 is 4.323251\n",
            "Entropy of dimension 76 is 4.322832\n",
            "Entropy of dimension 270 is 4.322286\n",
            "Entropy of dimension 298 is 4.321129\n",
            "Entropy of dimension 107 is 4.319700\n",
            "Entropy of dimension 261 is 4.319351\n",
            "Entropy of dimension 236 is 4.319256\n",
            "Entropy of dimension 146 is 4.318181\n",
            "Entropy of dimension 297 is 4.316431\n",
            "Entropy of dimension 234 is 4.315901\n",
            "Entropy of dimension 219 is 4.314620\n",
            "Entropy of dimension 14 is 4.313075\n",
            "Entropy of dimension 130 is 4.311390\n",
            "Entropy of dimension 65 is 4.310950\n",
            "Entropy of dimension 134 is 4.309374\n",
            "Entropy of dimension 147 is 4.308403\n",
            "Entropy of dimension 48 is 4.308386\n",
            "Entropy of dimension 45 is 4.307954\n",
            "Entropy of dimension 9 is 4.307558\n",
            "Entropy of dimension 246 is 4.305949\n",
            "Entropy of dimension 257 is 4.305257\n",
            "Entropy of dimension 117 is 4.303028\n",
            "Entropy of dimension 148 is 4.300344\n",
            "Entropy of dimension 190 is 4.298068\n",
            "Entropy of dimension 240 is 4.297067\n",
            "Entropy of dimension 28 is 4.290125\n",
            "Entropy of dimension 173 is 4.290039\n",
            "Entropy of dimension 166 is 4.286726\n",
            "Entropy of dimension 175 is 4.286327\n",
            "Entropy of dimension 38 is 4.285481\n",
            "Entropy of dimension 109 is 4.284841\n",
            "Entropy of dimension 167 is 4.281255\n",
            "Entropy of dimension 194 is 4.279828\n",
            "Entropy of dimension 275 is 4.279361\n",
            "Entropy of dimension 78 is 4.278925\n",
            "Entropy of dimension 212 is 4.275268\n",
            "Entropy of dimension 106 is 4.274332\n",
            "Entropy of dimension 77 is 4.271863\n",
            "Entropy of dimension 129 is 4.270278\n",
            "Entropy of dimension 279 is 4.269415\n",
            "Entropy of dimension 87 is 4.268433\n",
            "Entropy of dimension 23 is 4.267385\n",
            "Entropy of dimension 265 is 4.267311\n",
            "Entropy of dimension 42 is 4.264597\n",
            "Entropy of dimension 155 is 4.263120\n",
            "Entropy of dimension 61 is 4.261669\n",
            "Entropy of dimension 277 is 4.261598\n",
            "Entropy of dimension 34 is 4.258278\n",
            "Entropy of dimension 207 is 4.257943\n",
            "Entropy of dimension 163 is 4.257567\n",
            "Entropy of dimension 299 is 4.256500\n",
            "Entropy of dimension 185 is 4.256496\n",
            "Entropy of dimension 36 is 4.253918\n",
            "Entropy of dimension 253 is 4.251601\n",
            "Entropy of dimension 172 is 4.250356\n",
            "Entropy of dimension 24 is 4.250114\n",
            "Entropy of dimension 230 is 4.247652\n",
            "Entropy of dimension 178 is 4.244773\n",
            "Entropy of dimension 30 is 4.241740\n",
            "Entropy of dimension 171 is 4.239485\n",
            "Entropy of dimension 31 is 4.235412\n",
            "Entropy of dimension 68 is 4.232321\n",
            "Entropy of dimension 17 is 4.230490\n",
            "Entropy of dimension 143 is 4.229699\n",
            "Entropy of dimension 124 is 4.228506\n",
            "Entropy of dimension 210 is 4.226448\n",
            "Entropy of dimension 102 is 4.225974\n",
            "Entropy of dimension 247 is 4.210816\n",
            "Entropy of dimension 127 is 4.209476\n",
            "Entropy of dimension 55 is 4.203306\n",
            "Entropy of dimension 99 is 4.201379\n",
            "Entropy of dimension 249 is 4.179244\n",
            "Entropy of dimension 43 is 4.178906\n",
            "Entropy of dimension 252 is 4.144464\n",
            "Creating search index... (this may take some time)\n",
            "Creating spatial search index for dimension 59 (it has high entropy)... (this may take some time)\n",
            "Cleaning up temporary files...\n",
            "Finding duplicate keys... (this may take some time)\n",
            "Found 7 as the maximum number of duplicate key(s)\n",
            "Vacuuming to save space... (this may take some time)\n",
            "Cleaning up temporary files...\n",
            "Successfully converted '/tmp/tmp7dft1v75/vectors.txt.txt' to 'recruit_glove.magnitude'!\n"
          ],
          "name": "stdout"
        }
      ]
    },
    {
      "cell_type": "code",
      "metadata": {
        "id": "4kC_WRwuqv8K",
        "colab_type": "code",
        "colab": {}
      },
      "source": [
        "from pymagnitude import *\n",
        "vectors = Magnitude(\"recruit_glove.magnitude\")"
      ],
      "execution_count": 0,
      "outputs": []
    },
    {
      "cell_type": "code",
      "metadata": {
        "id": "3eYlawb0g5ho",
        "colab_type": "code",
        "outputId": "66b866cc-4621-4749-ee4c-3b4b27884c98",
        "colab": {
          "base_uri": "https://localhost:8080/",
          "height": 881
        }
      },
      "source": [
        "vectors.most_similar(\"smm\", topn = 50) "
      ],
      "execution_count": 0,
      "outputs": [
        {
          "output_type": "execute_result",
          "data": {
            "text/plain": [
              "[('SM', 0.6379199408741184),\n",
              " ('SMM', 0.6195703464714559),\n",
              " ('SEM', 0.4732771027362554),\n",
              " ('SEO', 0.4189628086694664),\n",
              " ('SMO', 0.36017548277818057),\n",
              " ('PPC', 0.345457565060206),\n",
              " ('AdWords', 0.33357970975705487),\n",
              " ('Email', 0.32267457920517273),\n",
              " ('Website', 0.32250730239153397),\n",
              " ('Campaigns', 0.304301868989932),\n",
              " ('Branding', 0.3041796567207067),\n",
              " ('Campaign', 0.2988727501658046),\n",
              " ('Click', 0.2980303180898769),\n",
              " ('Facebook', 0.2917772049304623),\n",
              " ('Advertising', 0.28977580606001885),\n",
              " ('Media', 0.2872901278030426),\n",
              " ('Social', 0.28427356201594167),\n",
              " ('Offline', 0.2837374917028783),\n",
              " ('Promotions', 0.28095229089095003),\n",
              " ('Affiliate', 0.27478869372188436),\n",
              " ('Online', 0.2727894067095852),\n",
              " ('Marketing', 0.2698333216743065),\n",
              " ('Product/Brand', 0.26968630961979856),\n",
              " ('Instagram', 0.26119357895598044),\n",
              " ('Google', 0.257918933270143),\n",
              " ('Per', 0.25645881966039885),\n",
              " ('Adwords', 0.2552632086978399),\n",
              " ('CAP', 0.25288099591784685),\n",
              " ('ABM', 0.25162076199451644),\n",
              " ('101', 0.24740996841184082),\n",
              " ('Promotion', 0.24403085791419216),\n",
              " ('ECU', 0.24383566958212452),\n",
              " ('Digital', 0.24303316293935545),\n",
              " ('BSE', 0.239993964019737),\n",
              " ('TEM', 0.2388335236858359),\n",
              " ('Beat', 0.23852427082366834),\n",
              " ('ASM', 0.2372222226038016),\n",
              " ('Brand', 0.23657638604177833),\n",
              " ('CONCEPT', 0.23520642660302601),\n",
              " ('Communications', 0.23511485992743647),\n",
              " ('Generation', 0.23500092649405552),\n",
              " ('EP', 0.233063897190723),\n",
              " ('DVS', 0.2328759579460109),\n",
              " ('TVC', 0.23262786335528274),\n",
              " ('Blogs', 0.23248735333948725),\n",
              " ('LinkedIn', 0.23193853049638485),\n",
              " ('PSM', 0.23186052530854245),\n",
              " ('-Sales', 0.23068744329262936),\n",
              " ('XRF', 0.2306243645754481),\n",
              " ('TISS', 0.23046532832052272)]"
            ]
          },
          "metadata": {
            "tags": []
          },
          "execution_count": 26
        }
      ]
    },
    {
      "cell_type": "code",
      "metadata": {
        "id": "sE_WJehTg7wy",
        "colab_type": "code",
        "outputId": "32c4ef01-56ea-437e-9ae0-4238a2974cb9",
        "colab": {
          "base_uri": "https://localhost:8080/",
          "height": 189
        }
      },
      "source": [
        "vectors.most_similar(\"consultant\", topn = 10) "
      ],
      "execution_count": 0,
      "outputs": [
        {
          "output_type": "execute_result",
          "data": {
            "text/plain": [
              "[('Consultant', 0.6137663),\n",
              " ('analyst', 0.533376),\n",
              " ('associate', 0.5120199),\n",
              " ('consulting', 0.5083076),\n",
              " ('consultants', 0.5042535),\n",
              " ('architect', 0.4927193),\n",
              " ('erp', 0.4802565),\n",
              " ('sap', 0.47755232),\n",
              " ('engineer', 0.47225282),\n",
              " ('manager', 0.47155866)]"
            ]
          },
          "metadata": {
            "tags": []
          },
          "execution_count": 20
        }
      ]
    },
    {
      "cell_type": "code",
      "metadata": {
        "id": "ZXrVaDnDg9hd",
        "colab_type": "code",
        "outputId": "0790161f-60d0-4016-b982-0f2b9d1b149a",
        "colab": {
          "base_uri": "https://localhost:8080/",
          "height": 362
        }
      },
      "source": [
        "vectors.most_similar(\"infosys\", topn = 20) "
      ],
      "execution_count": 0,
      "outputs": [
        {
          "output_type": "execute_result",
          "data": {
            "text/plain": [
              "[('Infosys', 0.8490976591422823),\n",
              " ('INFOSYS', 0.5975148372284107),\n",
              " ('Wipro', 0.5520590027970951),\n",
              " ('HCL', 0.5195024440467528),\n",
              " ('TCS', 0.510680427235336),\n",
              " ('Cognizant', 0.5037972894821914),\n",
              " ('Consultancy', 0.48767287626391553),\n",
              " ('Analyst', 0.4804347762588538),\n",
              " ('Associate', 0.47451889950275444),\n",
              " ('Accenture', 0.46954039206193743),\n",
              " ('Capgemini', 0.468406250714315),\n",
              " ('BPM', 0.46705215527415567),\n",
              " ('Technologies', 0.462012772911158),\n",
              " ('Senior', 0.45985927126168247),\n",
              " ('Consultant', 0.4452575155321057),\n",
              " ('TECHNOLOGIES', 0.44178186104580786),\n",
              " ('-IT', 0.43527168214017764),\n",
              " ('Engineer', 0.4315893119631141),\n",
              " ('Developer', 0.4223091144702823),\n",
              " ('BPO', 0.4222943348333804)]"
            ]
          },
          "metadata": {
            "tags": []
          },
          "execution_count": 21
        }
      ]
    },
    {
      "cell_type": "code",
      "metadata": {
        "id": "fX9R8tVKg_jb",
        "colab_type": "code",
        "outputId": "79ff1964-c9be-4815-9ffa-9a3439cb5a2d",
        "colab": {
          "base_uri": "https://localhost:8080/",
          "height": 189
        }
      },
      "source": [
        "vectors.most_similar(positive=[\"react\"], negative=[\"php\"], topn = 10) "
      ],
      "execution_count": 0,
      "outputs": [
        {
          "output_type": "execute_result",
          "data": {
            "text/plain": [
              "[('reproduce', 0.31450832),\n",
              " ('tackled', 0.31417537),\n",
              " ('transact', 0.3058074),\n",
              " ('absorb', 0.29586887),\n",
              " ('creatively', 0.29312435),\n",
              " ('Immediately', 0.28887305),\n",
              " ('Detected', 0.2838915),\n",
              " ('Adapts', 0.28123796),\n",
              " ('maternal', 0.2806481),\n",
              " ('EHP7', 0.28003758)]"
            ]
          },
          "metadata": {
            "tags": []
          },
          "execution_count": 22
        }
      ]
    },
    {
      "cell_type": "code",
      "metadata": {
        "id": "OzmH1tIRhBpq",
        "colab_type": "code",
        "outputId": "9fe4f9e6-eab5-4303-8b8a-b9dc86916946",
        "colab": {
          "base_uri": "https://localhost:8080/",
          "height": 881
        }
      },
      "source": [
        "vectors.most_similar(\"mca\", topn = 50) "
      ],
      "execution_count": 0,
      "outputs": [
        {
          "output_type": "execute_result",
          "data": {
            "text/plain": [
              "[('MCA', 0.9195315182465855),\n",
              " ('Computers', 0.701173578411215),\n",
              " ('BCA', 0.6356204838437375),\n",
              " ('Maths', 0.5372515964734721),\n",
              " ('PG', 0.5095975731164931),\n",
              " ('B.Sc', 0.5053512167743351),\n",
              " ('Osmania', 0.4989245337839388),\n",
              " ('University', 0.4903417619697067),\n",
              " ('MS/M.Sc(', 0.48413652170094135),\n",
              " ('Electronics/Telecommunication', 0.4778023215539947),\n",
              " ('Gandhi', 0.47457254232262813),\n",
              " ('Indira', 0.47298987390718217),\n",
              " ('Kakatiya', 0.47269493970914683),\n",
              " ('Kamaraj', 0.4640060043109421),\n",
              " ('IGNOU', 0.4603008341823449),\n",
              " ('Madras', 0.45932181833306807),\n",
              " ('Science', 0.4568753958560985),\n",
              " ('Jawaharlal', 0.4459748567317503),\n",
              " ('Bharathidasan', 0.4454463849069672),\n",
              " ('Computer', 0.44308367118316505),\n",
              " ('2002', 0.4410391027446936),\n",
              " ('MBA/PGDM', 0.4387918365429997),\n",
              " ('SVU', 0.4377131114682043),\n",
              " ('JNTU', 0.43737481122859634),\n",
              " ('Venkateshwara', 0.4351001412961457),\n",
              " ('B515', 0.43474935920221314),\n",
              " ('MKU', 0.4328904262145933),\n",
              " ('M.Com', 0.4321484193000711),\n",
              " ('Utkal', 0.4285095158737191),\n",
              " ('1998', 0.428369918879536),\n",
              " ('Rajiv', 0.42773542804122094),\n",
              " ('Anna', 0.42742422582917133),\n",
              " ('Physics', 0.426642122822196),\n",
              " ('UPTU', 0.42619077569820507),\n",
              " ('UG', 0.4256846714994801),\n",
              " ('M.Tech', 0.42483587891887775),\n",
              " ('HR/Industrial', 0.422464707746395),\n",
              " ('Tirupati', 0.4209830722130299),\n",
              " ('Technological', 0.4161940105331785),\n",
              " ('Nehru', 0.41292843975647076),\n",
              " ('B.Tech/B.E', 0.4123542233089961),\n",
              " ('College', 0.4121875920882879),\n",
              " ('Panjab', 0.4107329467852413),\n",
              " ('2001', 0.4101138122446172),\n",
              " ('2006', 0.40405246191608274),\n",
              " ('Bharathiar', 0.4014306023151683),\n",
              " ('2009', 0.3993366308144503),\n",
              " ('2004', 0.39872462428018896),\n",
              " ('Bio-Chemistry', 0.3972649988666702),\n",
              " ('Madurai', 0.39588807373339835)]"
            ]
          },
          "metadata": {
            "tags": []
          },
          "execution_count": 23
        }
      ]
    },
    {
      "cell_type": "code",
      "metadata": {
        "id": "w2K6YKzIhD13",
        "colab_type": "code",
        "outputId": "556ccd68-a86d-473a-a024-59f387aefd79",
        "colab": {
          "base_uri": "https://localhost:8080/",
          "height": 881
        }
      },
      "source": [
        "vectors.most_similar([\"technical\",\"writing\"], topn = 50) "
      ],
      "execution_count": 0,
      "outputs": [
        {
          "output_type": "execute_result",
          "data": {
            "text/plain": [
              "[('specifications', 0.611176),\n",
              " ('functional', 0.59229994),\n",
              " ('design', 0.5830507),\n",
              " ('requirements', 0.5806917),\n",
              " ('preparing', 0.57033736),\n",
              " ('documentation', 0.56332606),\n",
              " ('providing', 0.55973434),\n",
              " ('Involved', 0.5596165),\n",
              " ('Technical', 0.5572456),\n",
              " ('creating', 0.5518776),\n",
              " ('test', 0.55112636),\n",
              " ('gathering', 0.54319537),\n",
              " ('coding', 0.542947),\n",
              " ('requirement', 0.5416961),\n",
              " ('complex', 0.54087234),\n",
              " ('developing', 0.54025936),\n",
              " ('designing', 0.53916776),\n",
              " ('documents', 0.5374689),\n",
              " ('development', 0.53050196),\n",
              " ('support', 0.5279308),\n",
              " ('reviewing', 0.523856),\n",
              " ('detailed', 0.5196172),\n",
              " ('specification', 0.51706135),\n",
              " ('case', 0.5157835),\n",
              " ('document', 0.5111048),\n",
              " ('queries', 0.50520664),\n",
              " ('knowledge', 0.49727082),\n",
              " ('proposal', 0.49648023),\n",
              " ('cases', 0.49610817),\n",
              " ('Expertise', 0.4957046),\n",
              " ('Providing', 0.4951682),\n",
              " ('skills', 0.49436492),\n",
              " ('review', 0.49351817),\n",
              " ('Writing', 0.48898107),\n",
              " ('along', 0.48865792),\n",
              " ('including', 0.48520672),\n",
              " ('quality', 0.48441908),\n",
              " ('research', 0.4805057),\n",
              " ('presentations', 0.47996426),\n",
              " ('provide', 0.47977728),\n",
              " ('expertise', 0.47963905),\n",
              " ('Strong', 0.4794631),\n",
              " ('procedures', 0.47915944),\n",
              " ('preparation', 0.47734836),\n",
              " ('analytical', 0.47502032),\n",
              " ('execution', 0.47443292),\n",
              " ('analyzing', 0.47412583),\n",
              " ('Developing', 0.4725937),\n",
              " ('understanding', 0.4721657),\n",
              " ('well', 0.47130996)]"
            ]
          },
          "metadata": {
            "tags": []
          },
          "execution_count": 24
        }
      ]
    },
    {
      "cell_type": "code",
      "metadata": {
        "id": "JV8uVjw6nOwS",
        "colab_type": "code",
        "outputId": "ca2f5dc2-c44b-485b-8564-4e2c61a38f01",
        "colab": {
          "base_uri": "https://localhost:8080/",
          "height": 123
        }
      },
      "source": [
        "from google.colab import drive\n",
        "drive.mount('/content/drive')"
      ],
      "execution_count": 0,
      "outputs": [
        {
          "output_type": "stream",
          "text": [
            "Go to this URL in a browser: https://accounts.google.com/o/oauth2/auth?client_id=947318989803-6bn6qk8qdgf4n4g3pfee6491hc0brc4i.apps.googleusercontent.com&redirect_uri=urn%3aietf%3awg%3aoauth%3a2.0%3aoob&response_type=code&scope=email%20https%3a%2f%2fwww.googleapis.com%2fauth%2fdocs.test%20https%3a%2f%2fwww.googleapis.com%2fauth%2fdrive%20https%3a%2f%2fwww.googleapis.com%2fauth%2fdrive.photos.readonly%20https%3a%2f%2fwww.googleapis.com%2fauth%2fpeopleapi.readonly\n",
            "\n",
            "Enter your authorization code:\n",
            "··········\n",
            "Mounted at /content/drive\n"
          ],
          "name": "stdout"
        }
      ]
    },
    {
      "cell_type": "code",
      "metadata": {
        "id": "mhc4NdmLhFgt",
        "colab_type": "code",
        "colab": {}
      },
      "source": [
        "!cp -f *.magnitude /content/drive/My\\ Drive/Colab\\ Notebooks"
      ],
      "execution_count": 0,
      "outputs": []
    },
    {
      "cell_type": "code",
      "metadata": {
        "id": "uzm608F5qIhx",
        "colab_type": "code",
        "colab": {}
      },
      "source": [
        ""
      ],
      "execution_count": 0,
      "outputs": []
    }
  ]
}